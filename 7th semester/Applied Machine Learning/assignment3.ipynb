{
 "cells": [
  {
   "cell_type": "markdown",
   "metadata": {},
   "source": [
    "# Greek Parliament Proceedings"
   ]
  },
  {
   "cell_type": "markdown",
   "metadata": {},
   "source": [
    "## Dikonimaki Chrysoula"
   ]
  },
  {
   "cell_type": "code",
   "execution_count": 1,
   "metadata": {},
   "outputs": [],
   "source": [
    "import math\n",
    "import pandas as pd\n",
    "import zipfile\n",
    "import numpy as np\n",
    "\n",
    "from plotnine import *\n",
    "import matplotlib.pyplot as plt\n",
    "import statsmodels.api as sm\n",
    "import statsmodels.formula.api as smf\n",
    "import scipy.stats.stats as stats\n",
    "import scipy.stats.stats as stats\n",
    "\n",
    "import spacy\n",
    "import el_core_news_md\n",
    "from spacy.lang.el import STOP_WORDS\n",
    "from spacy.tokens import Doc\n",
    "\n",
    "import unicodedata\n",
    "import re\n",
    "\n",
    "from tqdm.auto import tqdm\n",
    "\n",
    "from sklearn.feature_extraction.text import TfidfVectorizer \n",
    "from sklearn.feature_extraction.text import CountVectorizer\n",
    "from sklearn.linear_model import LogisticRegression\n",
    "from sklearn.ensemble import RandomForestClassifier\n",
    "from sklearn.dummy import DummyClassifier\n",
    "from sklearn.model_selection import RandomizedSearchCV\n",
    "from sklearn.model_selection import train_test_split\n",
    "from sklearn.model_selection import RandomizedSearchCV\n",
    "from sklearn import metrics\n",
    "from sklearn.metrics import confusion_matrix\n",
    "\n",
    "import pytorch_wrapper as pw\n",
    "import torch\n",
    "from torch.utils.data import Dataset\n",
    "import os\n",
    "import uuid\n",
    "\n",
    "from torch import nn\n",
    "from torch.utils.data import DataLoader, SequentialSampler, RandomSampler\n",
    "from itertools import product\n",
    "from transformers import AutoTokenizer, AutoModel, AdamW\n",
    "from functools import partial\n",
    "\n",
    "from conllu import parse_incr\n",
    "\n",
    "import pytorch_wrapper.functional as pwF\n",
    "\n",
    "from keras.models import Sequential\n",
    "from keras.layers import Dropout, LSTM, Dense, Input\n",
    "from keras.callbacks import ModelCheckpoint\n",
    "from keras.preprocessing.text import Tokenizer\n",
    "from keras.utils import np_utils\n",
    "\n",
    "import tensorflow as tf\n",
    "from tensorflow.keras.layers.experimental import preprocessing\n",
    "\n",
    "from collections import Counter"
   ]
  },
  {
   "cell_type": "markdown",
   "metadata": {},
   "source": [
    "We will unzip and read the dataset:"
   ]
  },
  {
   "cell_type": "code",
   "execution_count": 2,
   "metadata": {},
   "outputs": [],
   "source": [
    "zf = zipfile.ZipFile('Greek_Parliament_Proceedings_1989_2019.csv.zip') \n",
    "df = pd.read_csv(zf.open('Greek_Parliament_Proceedings_1989_2019.csv'))\n",
    "df.head(5)"
   ]
  },
  {
   "cell_type": "markdown",
   "metadata": {},
   "source": [
    "Because the dataset is extremely big and we lack of sources (gpu etc.), we are constrained to use only a small portion. \n",
    "We will use the 1.5% of it."
   ]
  },
  {
   "cell_type": "code",
   "execution_count": 3,
   "metadata": {},
   "outputs": [],
   "source": [
    "df = df.sample(frac=0.015, random_state=42) # get random entries\n",
    "compression_opts = dict(method='zip',\n",
    "                        archive_name='out.csv')\n",
    "df.to_csv('Greek_Parliament_part1.zip',compression=compression_opts) # save new file"
   ]
  },
  {
   "cell_type": "code",
   "execution_count": 4,
   "metadata": {},
   "outputs": [
    {
     "data": {
      "text/html": [
       "<div>\n",
       "<style scoped>\n",
       "    .dataframe tbody tr th:only-of-type {\n",
       "        vertical-align: middle;\n",
       "    }\n",
       "\n",
       "    .dataframe tbody tr th {\n",
       "        vertical-align: top;\n",
       "    }\n",
       "\n",
       "    .dataframe thead th {\n",
       "        text-align: right;\n",
       "    }\n",
       "</style>\n",
       "<table border=\"1\" class=\"dataframe\">\n",
       "  <thead>\n",
       "    <tr style=\"text-align: right;\">\n",
       "      <th></th>\n",
       "      <th>Unnamed: 0</th>\n",
       "      <th>member_name</th>\n",
       "      <th>sitting_date</th>\n",
       "      <th>parliamentary_period</th>\n",
       "      <th>parliamentary_session</th>\n",
       "      <th>parliamentary_sitting</th>\n",
       "      <th>political_party</th>\n",
       "      <th>speaker_info</th>\n",
       "      <th>speech</th>\n",
       "    </tr>\n",
       "  </thead>\n",
       "  <tbody>\n",
       "    <tr>\n",
       "      <th>0</th>\n",
       "      <td>1073670</td>\n",
       "      <td>βαρεμενος βασιλειου γεωργιος</td>\n",
       "      <td>2016-09-20</td>\n",
       "      <td>period 17 presided parliamentary republic</td>\n",
       "      <td>session 1</td>\n",
       "      <td>sitting 192</td>\n",
       "      <td>συνασπισμος ριζοσπαστικης αριστερας</td>\n",
       "      <td>προεδρευων</td>\n",
       "      <td>Το σχέδιο νόμου έγινε δεκτό και στο σύνολο κα...</td>\n",
       "    </tr>\n",
       "    <tr>\n",
       "      <th>1</th>\n",
       "      <td>720621</td>\n",
       "      <td>γκατζης φιλιππου νικολαος</td>\n",
       "      <td>2009-07-01</td>\n",
       "      <td>period 12 presided parliamentary republic</td>\n",
       "      <td>'09 summer recess section 1</td>\n",
       "      <td>sitting 11</td>\n",
       "      <td>κομμουνιστικο κομμα ελλαδας</td>\n",
       "      <td>NaN</td>\n",
       "      <td>Κατά πλειοψηφία.</td>\n",
       "    </tr>\n",
       "    <tr>\n",
       "      <th>2</th>\n",
       "      <td>538543</td>\n",
       "      <td>καλος βασιλειου γεωργιος</td>\n",
       "      <td>2005-05-30</td>\n",
       "      <td>period 11 presided parliamentary republic</td>\n",
       "      <td>session 1 continuation of plenary session</td>\n",
       "      <td>sitting 172</td>\n",
       "      <td>νεα δημοκρατια</td>\n",
       "      <td>υφυπουργος εθνικης παιδειας και θρησκευματων</td>\n",
       "      <td>Κύριε Πρόεδρε, θα ήθελα να δηλώσω ότι θα απαν...</td>\n",
       "    </tr>\n",
       "    <tr>\n",
       "      <th>3</th>\n",
       "      <td>464616</td>\n",
       "      <td>κακλαμανης χρηστου αποστολος</td>\n",
       "      <td>2003-02-05</td>\n",
       "      <td>period 10 presided parliamentary republic</td>\n",
       "      <td>session 3</td>\n",
       "      <td>sitting 66</td>\n",
       "      <td>πανελληνιο σοσιαλιστικο κινημα</td>\n",
       "      <td>προεδρος</td>\n",
       "      <td>Ναι, μάλλον την Τρίτη. Επομένως για την αυρια...</td>\n",
       "    </tr>\n",
       "    <tr>\n",
       "      <th>4</th>\n",
       "      <td>389054</td>\n",
       "      <td>γειτονας ιωαννη κωνσταντινος</td>\n",
       "      <td>2001-02-12</td>\n",
       "      <td>period 10 presided parliamentary republic</td>\n",
       "      <td>session 1 continuation of plenary session</td>\n",
       "      <td>sitting 111</td>\n",
       "      <td>πανελληνιο σοσιαλιστικο κινημα</td>\n",
       "      <td>προεδρευων</td>\n",
       "      <td>Κυρίες και κύριοι συνάδελφοι, έχω την τιμή να...</td>\n",
       "    </tr>\n",
       "  </tbody>\n",
       "</table>\n",
       "</div>"
      ],
      "text/plain": [
       "   Unnamed: 0                   member_name sitting_date  \\\n",
       "0     1073670  βαρεμενος βασιλειου γεωργιος   2016-09-20   \n",
       "1      720621     γκατζης φιλιππου νικολαος   2009-07-01   \n",
       "2      538543      καλος βασιλειου γεωργιος   2005-05-30   \n",
       "3      464616  κακλαμανης χρηστου αποστολος   2003-02-05   \n",
       "4      389054  γειτονας ιωαννη κωνσταντινος   2001-02-12   \n",
       "\n",
       "                        parliamentary_period  \\\n",
       "0  period 17 presided parliamentary republic   \n",
       "1  period 12 presided parliamentary republic   \n",
       "2  period 11 presided parliamentary republic   \n",
       "3  period 10 presided parliamentary republic   \n",
       "4  period 10 presided parliamentary republic   \n",
       "\n",
       "                       parliamentary_session parliamentary_sitting  \\\n",
       "0                                  session 1           sitting 192   \n",
       "1                '09 summer recess section 1            sitting 11   \n",
       "2  session 1 continuation of plenary session           sitting 172   \n",
       "3                                  session 3            sitting 66   \n",
       "4  session 1 continuation of plenary session           sitting 111   \n",
       "\n",
       "                       political_party  \\\n",
       "0  συνασπισμος ριζοσπαστικης αριστερας   \n",
       "1          κομμουνιστικο κομμα ελλαδας   \n",
       "2                       νεα δημοκρατια   \n",
       "3       πανελληνιο σοσιαλιστικο κινημα   \n",
       "4       πανελληνιο σοσιαλιστικο κινημα   \n",
       "\n",
       "                                   speaker_info  \\\n",
       "0                                    προεδρευων   \n",
       "1                                           NaN   \n",
       "2  υφυπουργος εθνικης παιδειας και θρησκευματων   \n",
       "3                                      προεδρος   \n",
       "4                                    προεδρευων   \n",
       "\n",
       "                                              speech  \n",
       "0   Το σχέδιο νόμου έγινε δεκτό και στο σύνολο κα...  \n",
       "1                                   Κατά πλειοψηφία.  \n",
       "2   Κύριε Πρόεδρε, θα ήθελα να δηλώσω ότι θα απαν...  \n",
       "3   Ναι, μάλλον την Τρίτη. Επομένως για την αυρια...  \n",
       "4   Κυρίες και κύριοι συνάδελφοι, έχω την τιμή να...  "
      ]
     },
     "execution_count": 4,
     "metadata": {},
     "output_type": "execute_result"
    }
   ],
   "source": [
    "zf = zipfile.ZipFile('Greek_Parliament_part1.zip') \n",
    "df = pd.read_csv(zf.open('out.csv'))\n",
    "df.head(5)"
   ]
  },
  {
   "cell_type": "code",
   "execution_count": 5,
   "metadata": {},
   "outputs": [],
   "source": [
    "df.sitting_date = pd.to_datetime(df.sitting_date)"
   ]
  },
  {
   "cell_type": "markdown",
   "metadata": {},
   "source": [
    "We will drop nan records:"
   ]
  },
  {
   "cell_type": "code",
   "execution_count": 6,
   "metadata": {},
   "outputs": [],
   "source": [
    "df.dropna(subset=['political_party', 'speech'], inplace=True)"
   ]
  },
  {
   "cell_type": "markdown",
   "metadata": {},
   "source": [
    "## Data Exploration"
   ]
  },
  {
   "cell_type": "markdown",
   "metadata": {},
   "source": [
    "The 8 columns of the dataset are shown below:"
   ]
  },
  {
   "cell_type": "code",
   "execution_count": 7,
   "metadata": {},
   "outputs": [
    {
     "data": {
      "text/plain": [
       "['Unnamed: 0',\n",
       " 'member_name',\n",
       " 'sitting_date',\n",
       " 'parliamentary_period',\n",
       " 'parliamentary_session',\n",
       " 'parliamentary_sitting',\n",
       " 'political_party',\n",
       " 'speaker_info',\n",
       " 'speech']"
      ]
     },
     "execution_count": 7,
     "metadata": {},
     "output_type": "execute_result"
    }
   ],
   "source": [
    "df.columns.tolist()"
   ]
  },
  {
   "cell_type": "markdown",
   "metadata": {},
   "source": [
    "We will give a briefly description:"
   ]
  },
  {
   "cell_type": "markdown",
   "metadata": {},
   "source": [
    "| member_name |sitting_date|parliamentary_period|parliamentary_session|parliamentary_sitting|political_party|speaker_info|speech\n",
    "| ----------- | ----------- | ----------- | ----------- | ----------- | ----------- | ----------- | ----------- |\n",
    "|speaker's name| date of the speech|parliament period|parliamentary session|parliamentary sitting|political party|speaker info|the actual speech"
   ]
  },
  {
   "cell_type": "markdown",
   "metadata": {},
   "source": [
    "There are 23 political parties (and some nan values) and 1300 members:"
   ]
  },
  {
   "cell_type": "code",
   "execution_count": 8,
   "metadata": {},
   "outputs": [
    {
     "data": {
      "text/plain": [
       "21"
      ]
     },
     "execution_count": 8,
     "metadata": {},
     "output_type": "execute_result"
    }
   ],
   "source": [
    "len(df.political_party.unique())"
   ]
  },
  {
   "cell_type": "code",
   "execution_count": 9,
   "metadata": {},
   "outputs": [
    {
     "data": {
      "text/plain": [
       "972"
      ]
     },
     "execution_count": 9,
     "metadata": {},
     "output_type": "execute_result"
    }
   ],
   "source": [
    "len(df.member_name.unique())"
   ]
  },
  {
   "cell_type": "code",
   "execution_count": 10,
   "metadata": {
    "scrolled": true
   },
   "outputs": [
    {
     "data": {
      "text/plain": [
       "['συνασπισμος ριζοσπαστικης αριστερας',\n",
       " 'κομμουνιστικο κομμα ελλαδας',\n",
       " 'νεα δημοκρατια',\n",
       " 'πανελληνιο σοσιαλιστικο κινημα',\n",
       " 'το ποταμι',\n",
       " 'βουλη',\n",
       " 'συνασπισμος της αριστερας των κινηματων και της οικολογιας',\n",
       " 'λαικος ορθοδοξος συναγερμος',\n",
       " 'λαικος συνδεσος - χρυση αυγη',\n",
       " 'δημοκρατικη συμπαραταξη (πανελληνιο σοσιαλιστικο κινημα - δημοκρατικη αριστερα)',\n",
       " 'ανεξαρτητοι ελληνες - πανος καμμενος',\n",
       " 'ανεξαρτητοι (εκτος κομματος)',\n",
       " 'ανεξαρτητοι ελληνες εθνικη πατριωτικη δημοκρατικη συμμαχια',\n",
       " 'ενωση κεντρωων',\n",
       " 'δημοκρατικη αριστερα',\n",
       " 'δημοκρατικο κοινωνικο κινημα',\n",
       " 'πολιτικη ανοιξη',\n",
       " 'ανεξαρτητοι δημοκρατικοι βουλευτες',\n",
       " 'οικολογοι εναλλακτικοι (ομοσπονδια οικολογικων εναλλακτικων οργανωσεων)',\n",
       " 'λαικη ενοτητα',\n",
       " 'κομμουνιστικο κομμα ελλαδας εσωτερικου']"
      ]
     },
     "execution_count": 10,
     "metadata": {},
     "output_type": "execute_result"
    }
   ],
   "source": [
    "df.political_party.unique().tolist()"
   ]
  },
  {
   "cell_type": "markdown",
   "metadata": {},
   "source": [
    "Speeches per party:"
   ]
  },
  {
   "cell_type": "markdown",
   "metadata": {},
   "source": [
    "Some parties have few speeches so we will exclude them. \\\n",
    "We are going to exclude parties with lower than 300 speeches."
   ]
  },
  {
   "cell_type": "code",
   "execution_count": 11,
   "metadata": {},
   "outputs": [
    {
     "data": {
      "text/html": [
       "<div>\n",
       "<style scoped>\n",
       "    .dataframe tbody tr th:only-of-type {\n",
       "        vertical-align: middle;\n",
       "    }\n",
       "\n",
       "    .dataframe tbody tr th {\n",
       "        vertical-align: top;\n",
       "    }\n",
       "\n",
       "    .dataframe thead th {\n",
       "        text-align: right;\n",
       "    }\n",
       "</style>\n",
       "<table border=\"1\" class=\"dataframe\">\n",
       "  <thead>\n",
       "    <tr style=\"text-align: right;\">\n",
       "      <th></th>\n",
       "      <th>political_party</th>\n",
       "      <th>speech</th>\n",
       "    </tr>\n",
       "  </thead>\n",
       "  <tbody>\n",
       "    <tr>\n",
       "      <th>14</th>\n",
       "      <td>νεα δημοκρατια</td>\n",
       "      <td>5865</td>\n",
       "    </tr>\n",
       "    <tr>\n",
       "      <th>16</th>\n",
       "      <td>πανελληνιο σοσιαλιστικο κινημα</td>\n",
       "      <td>5641</td>\n",
       "    </tr>\n",
       "    <tr>\n",
       "      <th>18</th>\n",
       "      <td>συνασπισμος ριζοσπαστικης αριστερας</td>\n",
       "      <td>1847</td>\n",
       "    </tr>\n",
       "    <tr>\n",
       "      <th>9</th>\n",
       "      <td>κομμουνιστικο κομμα ελλαδας</td>\n",
       "      <td>1138</td>\n",
       "    </tr>\n",
       "    <tr>\n",
       "      <th>4</th>\n",
       "      <td>βουλη</td>\n",
       "      <td>675</td>\n",
       "    </tr>\n",
       "    <tr>\n",
       "      <th>19</th>\n",
       "      <td>συνασπισμος της αριστερας των κινηματων και τη...</td>\n",
       "      <td>550</td>\n",
       "    </tr>\n",
       "    <tr>\n",
       "      <th>0</th>\n",
       "      <td>ανεξαρτητοι (εκτος κομματος)</td>\n",
       "      <td>467</td>\n",
       "    </tr>\n",
       "    <tr>\n",
       "      <th>12</th>\n",
       "      <td>λαικος ορθοδοξος συναγερμος</td>\n",
       "      <td>374</td>\n",
       "    </tr>\n",
       "    <tr>\n",
       "      <th>6</th>\n",
       "      <td>δημοκρατικη συμπαραταξη (πανελληνιο σοσιαλιστι...</td>\n",
       "      <td>338</td>\n",
       "    </tr>\n",
       "    <tr>\n",
       "      <th>13</th>\n",
       "      <td>λαικος συνδεσος - χρυση αυγη</td>\n",
       "      <td>210</td>\n",
       "    </tr>\n",
       "    <tr>\n",
       "      <th>2</th>\n",
       "      <td>ανεξαρτητοι ελληνες - πανος καμμενος</td>\n",
       "      <td>181</td>\n",
       "    </tr>\n",
       "    <tr>\n",
       "      <th>8</th>\n",
       "      <td>ενωση κεντρωων</td>\n",
       "      <td>149</td>\n",
       "    </tr>\n",
       "    <tr>\n",
       "      <th>20</th>\n",
       "      <td>το ποταμι</td>\n",
       "      <td>128</td>\n",
       "    </tr>\n",
       "    <tr>\n",
       "      <th>7</th>\n",
       "      <td>δημοκρατικο κοινωνικο κινημα</td>\n",
       "      <td>89</td>\n",
       "    </tr>\n",
       "    <tr>\n",
       "      <th>3</th>\n",
       "      <td>ανεξαρτητοι ελληνες εθνικη πατριωτικη δημοκρατ...</td>\n",
       "      <td>88</td>\n",
       "    </tr>\n",
       "    <tr>\n",
       "      <th>5</th>\n",
       "      <td>δημοκρατικη αριστερα</td>\n",
       "      <td>85</td>\n",
       "    </tr>\n",
       "    <tr>\n",
       "      <th>17</th>\n",
       "      <td>πολιτικη ανοιξη</td>\n",
       "      <td>51</td>\n",
       "    </tr>\n",
       "    <tr>\n",
       "      <th>1</th>\n",
       "      <td>ανεξαρτητοι δημοκρατικοι βουλευτες</td>\n",
       "      <td>32</td>\n",
       "    </tr>\n",
       "    <tr>\n",
       "      <th>15</th>\n",
       "      <td>οικολογοι εναλλακτικοι (ομοσπονδια οικολογικων...</td>\n",
       "      <td>3</td>\n",
       "    </tr>\n",
       "    <tr>\n",
       "      <th>11</th>\n",
       "      <td>λαικη ενοτητα</td>\n",
       "      <td>2</td>\n",
       "    </tr>\n",
       "    <tr>\n",
       "      <th>10</th>\n",
       "      <td>κομμουνιστικο κομμα ελλαδας εσωτερικου</td>\n",
       "      <td>1</td>\n",
       "    </tr>\n",
       "  </tbody>\n",
       "</table>\n",
       "</div>"
      ],
      "text/plain": [
       "                                      political_party  speech\n",
       "14                                     νεα δημοκρατια    5865\n",
       "16                     πανελληνιο σοσιαλιστικο κινημα    5641\n",
       "18                συνασπισμος ριζοσπαστικης αριστερας    1847\n",
       "9                         κομμουνιστικο κομμα ελλαδας    1138\n",
       "4                                               βουλη     675\n",
       "19  συνασπισμος της αριστερας των κινηματων και τη...     550\n",
       "0                        ανεξαρτητοι (εκτος κομματος)     467\n",
       "12                        λαικος ορθοδοξος συναγερμος     374\n",
       "6   δημοκρατικη συμπαραταξη (πανελληνιο σοσιαλιστι...     338\n",
       "13                       λαικος συνδεσος - χρυση αυγη     210\n",
       "2                ανεξαρτητοι ελληνες - πανος καμμενος     181\n",
       "8                                      ενωση κεντρωων     149\n",
       "20                                          το ποταμι     128\n",
       "7                        δημοκρατικο κοινωνικο κινημα      89\n",
       "3   ανεξαρτητοι ελληνες εθνικη πατριωτικη δημοκρατ...      88\n",
       "5                                δημοκρατικη αριστερα      85\n",
       "17                                    πολιτικη ανοιξη      51\n",
       "1                  ανεξαρτητοι δημοκρατικοι βουλευτες      32\n",
       "15  οικολογοι εναλλακτικοι (ομοσπονδια οικολογικων...       3\n",
       "11                                      λαικη ενοτητα       2\n",
       "10             κομμουνιστικο κομμα ελλαδας εσωτερικου       1"
      ]
     },
     "execution_count": 11,
     "metadata": {},
     "output_type": "execute_result"
    }
   ],
   "source": [
    "sorted_parties = df.groupby('political_party').count()['speech'].reset_index().sort_values(by=['speech'], ascending=False)\n",
    "sorted_parties"
   ]
  },
  {
   "cell_type": "code",
   "execution_count": 12,
   "metadata": {},
   "outputs": [
    {
     "data": {
      "image/png": "[encoded data removed]",
      "text/plain": [
       "<Figure size 640x480 with 1 Axes>"
      ]
     },
     "metadata": {},
     "output_type": "display_data"
    },
    {
     "data": {
      "text/plain": [
       "<ggplot: (8789294199830)>"
      ]
     },
     "execution_count": 12,
     "metadata": {},
     "output_type": "execute_result"
    }
   ],
   "source": [
    "ggplot(aes(x=\"political_party\", weight=\"speech\"), sorted_parties) + geom_bar() +\\\n",
    "    theme(axis_text_x  = element_text(angle = 90, hjust = 1))"
   ]
  },
  {
   "cell_type": "markdown",
   "metadata": {},
   "source": [
    "We will focus on all political parties except the first 15 ones:"
   ]
  },
  {
   "cell_type": "code",
   "execution_count": 13,
   "metadata": {},
   "outputs": [
    {
     "data": {
      "image/png": "[encoded data removed]",
      "text/plain": [
       "<Figure size 640x480 with 1 Axes>"
      ]
     },
     "metadata": {},
     "output_type": "display_data"
    },
    {
     "data": {
      "text/plain": [
       "<ggplot: (-9223363247560719300)>"
      ]
     },
     "execution_count": 13,
     "metadata": {},
     "output_type": "execute_result"
    }
   ],
   "source": [
    "ggplot(aes(x=\"political_party\", weight=\"speech\"), sorted_parties.iloc[15:len(sorted_parties),:]) + geom_bar() +\\\n",
    "    theme(axis_text_x  = element_text(angle = 90, hjust = 1))"
   ]
  },
  {
   "cell_type": "markdown",
   "metadata": {},
   "source": [
    "We will exclude parties with lower than 500 speeches"
   ]
  },
  {
   "cell_type": "code",
   "execution_count": 14,
   "metadata": {},
   "outputs": [
    {
     "data": {
      "text/plain": [
       "['δημοκρατικο κοινωνικο κινημα',\n",
       " 'ανεξαρτητοι ελληνες εθνικη πατριωτικη δημοκρατικη συμμαχια',\n",
       " 'δημοκρατικη αριστερα',\n",
       " 'πολιτικη ανοιξη',\n",
       " 'ανεξαρτητοι δημοκρατικοι βουλευτες',\n",
       " 'οικολογοι εναλλακτικοι (ομοσπονδια οικολογικων εναλλακτικων οργανωσεων)',\n",
       " 'λαικη ενοτητα',\n",
       " 'κομμουνιστικο κομμα ελλαδας εσωτερικου']"
      ]
     },
     "execution_count": 14,
     "metadata": {},
     "output_type": "execute_result"
    }
   ],
   "source": [
    "thres = 100\n",
    "excluded_names = sorted_parties[sorted_parties.speech<thres].political_party.tolist()\n",
    "excluded_names"
   ]
  },
  {
   "cell_type": "code",
   "execution_count": 15,
   "metadata": {},
   "outputs": [],
   "source": [
    "df = df[~df.political_party.isin(excluded_names)]"
   ]
  },
  {
   "cell_type": "markdown",
   "metadata": {},
   "source": [
    "Speeches over time:"
   ]
  },
  {
   "cell_type": "code",
   "execution_count": 16,
   "metadata": {},
   "outputs": [
    {
     "data": {
      "text/html": [
       "<div>\n",
       "<style scoped>\n",
       "    .dataframe tbody tr th:only-of-type {\n",
       "        vertical-align: middle;\n",
       "    }\n",
       "\n",
       "    .dataframe tbody tr th {\n",
       "        vertical-align: top;\n",
       "    }\n",
       "\n",
       "    .dataframe thead th {\n",
       "        text-align: right;\n",
       "    }\n",
       "</style>\n",
       "<table border=\"1\" class=\"dataframe\">\n",
       "  <thead>\n",
       "    <tr style=\"text-align: right;\">\n",
       "      <th></th>\n",
       "      <th>sitting_date</th>\n",
       "      <th>speech</th>\n",
       "    </tr>\n",
       "  </thead>\n",
       "  <tbody>\n",
       "    <tr>\n",
       "      <th>0</th>\n",
       "      <td>1989-07-05</td>\n",
       "      <td>1</td>\n",
       "    </tr>\n",
       "    <tr>\n",
       "      <th>1</th>\n",
       "      <td>1989-07-07</td>\n",
       "      <td>4</td>\n",
       "    </tr>\n",
       "    <tr>\n",
       "      <th>2</th>\n",
       "      <td>1989-07-08</td>\n",
       "      <td>1</td>\n",
       "    </tr>\n",
       "    <tr>\n",
       "      <th>3</th>\n",
       "      <td>1989-07-12</td>\n",
       "      <td>1</td>\n",
       "    </tr>\n",
       "    <tr>\n",
       "      <th>4</th>\n",
       "      <td>1989-07-14</td>\n",
       "      <td>3</td>\n",
       "    </tr>\n",
       "    <tr>\n",
       "      <th>...</th>\n",
       "      <td>...</td>\n",
       "      <td>...</td>\n",
       "    </tr>\n",
       "    <tr>\n",
       "      <th>4146</th>\n",
       "      <td>2019-02-15</td>\n",
       "      <td>2</td>\n",
       "    </tr>\n",
       "    <tr>\n",
       "      <th>4147</th>\n",
       "      <td>2019-02-19</td>\n",
       "      <td>3</td>\n",
       "    </tr>\n",
       "    <tr>\n",
       "      <th>4148</th>\n",
       "      <td>2019-02-20</td>\n",
       "      <td>5</td>\n",
       "    </tr>\n",
       "    <tr>\n",
       "      <th>4149</th>\n",
       "      <td>2019-02-21</td>\n",
       "      <td>5</td>\n",
       "    </tr>\n",
       "    <tr>\n",
       "      <th>4150</th>\n",
       "      <td>2019-02-22</td>\n",
       "      <td>1</td>\n",
       "    </tr>\n",
       "  </tbody>\n",
       "</table>\n",
       "<p>4151 rows × 2 columns</p>\n",
       "</div>"
      ],
      "text/plain": [
       "     sitting_date  speech\n",
       "0      1989-07-05       1\n",
       "1      1989-07-07       4\n",
       "2      1989-07-08       1\n",
       "3      1989-07-12       1\n",
       "4      1989-07-14       3\n",
       "...           ...     ...\n",
       "4146   2019-02-15       2\n",
       "4147   2019-02-19       3\n",
       "4148   2019-02-20       5\n",
       "4149   2019-02-21       5\n",
       "4150   2019-02-22       1\n",
       "\n",
       "[4151 rows x 2 columns]"
      ]
     },
     "execution_count": 16,
     "metadata": {},
     "output_type": "execute_result"
    }
   ],
   "source": [
    "df.groupby('sitting_date').count()['speech'].reset_index()"
   ]
  },
  {
   "cell_type": "markdown",
   "metadata": {},
   "source": [
    "Grouped per year is probably more interesting"
   ]
  },
  {
   "cell_type": "code",
   "execution_count": 17,
   "metadata": {},
   "outputs": [],
   "source": [
    "df.loc[:,'year'] = pd.DatetimeIndex(df['sitting_date']).year"
   ]
  },
  {
   "cell_type": "code",
   "execution_count": 18,
   "metadata": {},
   "outputs": [],
   "source": [
    "year = df.groupby('year').count()['speech'].reset_index()"
   ]
  },
  {
   "cell_type": "code",
   "execution_count": 19,
   "metadata": {},
   "outputs": [
    {
     "data": {
      "image/png": "[encoded data removed]",
      "text/plain": [
       "<Figure size 640x480 with 1 Axes>"
      ]
     },
     "metadata": {},
     "output_type": "display_data"
    },
    {
     "data": {
      "text/plain": [
       "<ggplot: (8789294062326)>"
      ]
     },
     "execution_count": 19,
     "metadata": {},
     "output_type": "execute_result"
    }
   ],
   "source": [
    "ggplot(aes(x=\"year\", weight=\"speech\"), year) + geom_bar() "
   ]
  },
  {
   "cell_type": "markdown",
   "metadata": {},
   "source": [
    "Speeches per party and time:"
   ]
  },
  {
   "cell_type": "code",
   "execution_count": 20,
   "metadata": {},
   "outputs": [
    {
     "data": {
      "text/html": [
       "<div>\n",
       "<style scoped>\n",
       "    .dataframe tbody tr th:only-of-type {\n",
       "        vertical-align: middle;\n",
       "    }\n",
       "\n",
       "    .dataframe tbody tr th {\n",
       "        vertical-align: top;\n",
       "    }\n",
       "\n",
       "    .dataframe thead th {\n",
       "        text-align: right;\n",
       "    }\n",
       "</style>\n",
       "<table border=\"1\" class=\"dataframe\">\n",
       "  <thead>\n",
       "    <tr style=\"text-align: right;\">\n",
       "      <th></th>\n",
       "      <th>political_party</th>\n",
       "      <th>year</th>\n",
       "      <th>speech</th>\n",
       "    </tr>\n",
       "  </thead>\n",
       "  <tbody>\n",
       "    <tr>\n",
       "      <th>146</th>\n",
       "      <td>πανελληνιο σοσιαλιστικο κινημα</td>\n",
       "      <td>1997</td>\n",
       "      <td>489</td>\n",
       "    </tr>\n",
       "    <tr>\n",
       "      <th>124</th>\n",
       "      <td>νεα δημοκρατια</td>\n",
       "      <td>2005</td>\n",
       "      <td>461</td>\n",
       "    </tr>\n",
       "    <tr>\n",
       "      <th>150</th>\n",
       "      <td>πανελληνιο σοσιαλιστικο κινημα</td>\n",
       "      <td>2001</td>\n",
       "      <td>413</td>\n",
       "    </tr>\n",
       "    <tr>\n",
       "      <th>148</th>\n",
       "      <td>πανελληνιο σοσιαλιστικο κινημα</td>\n",
       "      <td>1999</td>\n",
       "      <td>379</td>\n",
       "    </tr>\n",
       "    <tr>\n",
       "      <th>127</th>\n",
       "      <td>νεα δημοκρατια</td>\n",
       "      <td>2008</td>\n",
       "      <td>360</td>\n",
       "    </tr>\n",
       "    <tr>\n",
       "      <th>...</th>\n",
       "      <td>...</td>\n",
       "      <td>...</td>\n",
       "      <td>...</td>\n",
       "    </tr>\n",
       "    <tr>\n",
       "      <th>165</th>\n",
       "      <td>πανελληνιο σοσιαλιστικο κινημα</td>\n",
       "      <td>2016</td>\n",
       "      <td>1</td>\n",
       "    </tr>\n",
       "    <tr>\n",
       "      <th>65</th>\n",
       "      <td>κομμουνιστικο κομμα ελλαδας</td>\n",
       "      <td>1989</td>\n",
       "      <td>1</td>\n",
       "    </tr>\n",
       "    <tr>\n",
       "      <th>20</th>\n",
       "      <td>ανεξαρτητοι ελληνες - πανος καμμενος</td>\n",
       "      <td>2009</td>\n",
       "      <td>1</td>\n",
       "    </tr>\n",
       "    <tr>\n",
       "      <th>6</th>\n",
       "      <td>ανεξαρτητοι (εκτος κομματος)</td>\n",
       "      <td>2004</td>\n",
       "      <td>1</td>\n",
       "    </tr>\n",
       "    <tr>\n",
       "      <th>100</th>\n",
       "      <td>λαικος ορθοδοξος συναγερμος</td>\n",
       "      <td>2014</td>\n",
       "      <td>1</td>\n",
       "    </tr>\n",
       "  </tbody>\n",
       "</table>\n",
       "<p>201 rows × 3 columns</p>\n",
       "</div>"
      ],
      "text/plain": [
       "                          political_party  year  speech\n",
       "146        πανελληνιο σοσιαλιστικο κινημα  1997     489\n",
       "124                        νεα δημοκρατια  2005     461\n",
       "150        πανελληνιο σοσιαλιστικο κινημα  2001     413\n",
       "148        πανελληνιο σοσιαλιστικο κινημα  1999     379\n",
       "127                        νεα δημοκρατια  2008     360\n",
       "..                                    ...   ...     ...\n",
       "165        πανελληνιο σοσιαλιστικο κινημα  2016       1\n",
       "65            κομμουνιστικο κομμα ελλαδας  1989       1\n",
       "20   ανεξαρτητοι ελληνες - πανος καμμενος  2009       1\n",
       "6            ανεξαρτητοι (εκτος κομματος)  2004       1\n",
       "100           λαικος ορθοδοξος συναγερμος  2014       1\n",
       "\n",
       "[201 rows x 3 columns]"
      ]
     },
     "execution_count": 20,
     "metadata": {},
     "output_type": "execute_result"
    }
   ],
   "source": [
    "political_party_year = df.groupby(['political_party','year']).count()['speech'].reset_index().sort_values(by=['speech'], ascending=False)\n",
    "political_party_year"
   ]
  },
  {
   "cell_type": "code",
   "execution_count": 21,
   "metadata": {},
   "outputs": [
    {
     "data": {
      "text/html": [
       "<div>\n",
       "<style scoped>\n",
       "    .dataframe tbody tr th:only-of-type {\n",
       "        vertical-align: middle;\n",
       "    }\n",
       "\n",
       "    .dataframe tbody tr th {\n",
       "        vertical-align: top;\n",
       "    }\n",
       "\n",
       "    .dataframe thead th {\n",
       "        text-align: right;\n",
       "    }\n",
       "</style>\n",
       "<table border=\"1\" class=\"dataframe\">\n",
       "  <thead>\n",
       "    <tr style=\"text-align: right;\">\n",
       "      <th></th>\n",
       "      <th>political_party</th>\n",
       "      <th>speech</th>\n",
       "    </tr>\n",
       "  </thead>\n",
       "  <tbody>\n",
       "    <tr>\n",
       "      <th>0</th>\n",
       "      <td>ανεξαρτητοι (εκτος κομματος)</td>\n",
       "      <td>467</td>\n",
       "    </tr>\n",
       "    <tr>\n",
       "      <th>1</th>\n",
       "      <td>ανεξαρτητοι ελληνες - πανος καμμενος</td>\n",
       "      <td>181</td>\n",
       "    </tr>\n",
       "    <tr>\n",
       "      <th>2</th>\n",
       "      <td>βουλη</td>\n",
       "      <td>675</td>\n",
       "    </tr>\n",
       "    <tr>\n",
       "      <th>3</th>\n",
       "      <td>δημοκρατικη συμπαραταξη (πανελληνιο σοσιαλιστι...</td>\n",
       "      <td>108</td>\n",
       "    </tr>\n",
       "    <tr>\n",
       "      <th>4</th>\n",
       "      <td>ενωση κεντρωων</td>\n",
       "      <td>149</td>\n",
       "    </tr>\n",
       "    <tr>\n",
       "      <th>5</th>\n",
       "      <td>κομμουνιστικο κομμα ελλαδας</td>\n",
       "      <td>1138</td>\n",
       "    </tr>\n",
       "    <tr>\n",
       "      <th>6</th>\n",
       "      <td>λαικος ορθοδοξος συναγερμος</td>\n",
       "      <td>259</td>\n",
       "    </tr>\n",
       "    <tr>\n",
       "      <th>7</th>\n",
       "      <td>λαικος συνδεσος - χρυση αυγη</td>\n",
       "      <td>210</td>\n",
       "    </tr>\n",
       "    <tr>\n",
       "      <th>8</th>\n",
       "      <td>νεα δημοκρατια</td>\n",
       "      <td>116</td>\n",
       "    </tr>\n",
       "    <tr>\n",
       "      <th>9</th>\n",
       "      <td>πανελληνιο σοσιαλιστικο κινημα</td>\n",
       "      <td>188</td>\n",
       "    </tr>\n",
       "    <tr>\n",
       "      <th>10</th>\n",
       "      <td>συνασπισμος ριζοσπαστικης αριστερας</td>\n",
       "      <td>254</td>\n",
       "    </tr>\n",
       "    <tr>\n",
       "      <th>11</th>\n",
       "      <td>συνασπισμος της αριστερας των κινηματων και τη...</td>\n",
       "      <td>315</td>\n",
       "    </tr>\n",
       "    <tr>\n",
       "      <th>12</th>\n",
       "      <td>το ποταμι</td>\n",
       "      <td>128</td>\n",
       "    </tr>\n",
       "  </tbody>\n",
       "</table>\n",
       "</div>"
      ],
      "text/plain": [
       "                                      political_party  speech\n",
       "0                        ανεξαρτητοι (εκτος κομματος)     467\n",
       "1                ανεξαρτητοι ελληνες - πανος καμμενος     181\n",
       "2                                               βουλη     675\n",
       "3   δημοκρατικη συμπαραταξη (πανελληνιο σοσιαλιστι...     108\n",
       "4                                      ενωση κεντρωων     149\n",
       "5                         κομμουνιστικο κομμα ελλαδας    1138\n",
       "6                         λαικος ορθοδοξος συναγερμος     259\n",
       "7                        λαικος συνδεσος - χρυση αυγη     210\n",
       "8                                      νεα δημοκρατια     116\n",
       "9                      πανελληνιο σοσιαλιστικο κινημα     188\n",
       "10                συνασπισμος ριζοσπαστικης αριστερας     254\n",
       "11  συνασπισμος της αριστερας των κινηματων και τη...     315\n",
       "12                                          το ποταμι     128"
      ]
     },
     "execution_count": 21,
     "metadata": {},
     "output_type": "execute_result"
    }
   ],
   "source": [
    "political_party_year[political_party_year.speech<100].groupby('political_party').sum()['speech'].reset_index()"
   ]
  },
  {
   "cell_type": "markdown",
   "metadata": {},
   "source": [
    "Speakers per party:"
   ]
  },
  {
   "cell_type": "code",
   "execution_count": 22,
   "metadata": {},
   "outputs": [
    {
     "data": {
      "text/html": [
       "<div>\n",
       "<style scoped>\n",
       "    .dataframe tbody tr th:only-of-type {\n",
       "        vertical-align: middle;\n",
       "    }\n",
       "\n",
       "    .dataframe tbody tr th {\n",
       "        vertical-align: top;\n",
       "    }\n",
       "\n",
       "    .dataframe thead th {\n",
       "        text-align: right;\n",
       "    }\n",
       "</style>\n",
       "<table border=\"1\" class=\"dataframe\">\n",
       "  <thead>\n",
       "    <tr style=\"text-align: right;\">\n",
       "      <th></th>\n",
       "      <th>member_name</th>\n",
       "      <th>speech</th>\n",
       "    </tr>\n",
       "  </thead>\n",
       "  <tbody>\n",
       "    <tr>\n",
       "      <th>264</th>\n",
       "      <td>κακλαμανης χρηστου αποστολος</td>\n",
       "      <td>518</td>\n",
       "    </tr>\n",
       "    <tr>\n",
       "      <th>738</th>\n",
       "      <td>σγουριδης σγουρη παναγιωτης</td>\n",
       "      <td>486</td>\n",
       "    </tr>\n",
       "    <tr>\n",
       "      <th>766</th>\n",
       "      <td>σουρλας ιωαννη γεωργιος</td>\n",
       "      <td>445</td>\n",
       "    </tr>\n",
       "    <tr>\n",
       "      <th>420</th>\n",
       "      <td>κρητικος νικολαου παναγιωτης</td>\n",
       "      <td>362</td>\n",
       "    </tr>\n",
       "    <tr>\n",
       "      <th>839</th>\n",
       "      <td>τραγακης παναγιωτη ιωαννης</td>\n",
       "      <td>296</td>\n",
       "    </tr>\n",
       "    <tr>\n",
       "      <th>...</th>\n",
       "      <td>...</td>\n",
       "      <td>...</td>\n",
       "    </tr>\n",
       "    <tr>\n",
       "      <th>791</th>\n",
       "      <td>σταυρογιαννης δημητριου νικολαος</td>\n",
       "      <td>1</td>\n",
       "    </tr>\n",
       "    <tr>\n",
       "      <th>793</th>\n",
       "      <td>στεργιου ελευθεριου κωνσταντινος</td>\n",
       "      <td>1</td>\n",
       "    </tr>\n",
       "    <tr>\n",
       "      <th>287</th>\n",
       "      <td>κανελλοπουλου αθανασιου κρινιω</td>\n",
       "      <td>1</td>\n",
       "    </tr>\n",
       "    <tr>\n",
       "      <th>636</th>\n",
       "      <td>παπαδοπουλος κωνσταντινου χριστοφορος</td>\n",
       "      <td>1</td>\n",
       "    </tr>\n",
       "    <tr>\n",
       "      <th>304</th>\n",
       "      <td>καραμπελας δημητριου ιωαννης</td>\n",
       "      <td>1</td>\n",
       "    </tr>\n",
       "  </tbody>\n",
       "</table>\n",
       "<p>941 rows × 2 columns</p>\n",
       "</div>"
      ],
      "text/plain": [
       "                               member_name  speech\n",
       "264           κακλαμανης χρηστου αποστολος     518\n",
       "738            σγουριδης σγουρη παναγιωτης     486\n",
       "766                σουρλας ιωαννη γεωργιος     445\n",
       "420           κρητικος νικολαου παναγιωτης     362\n",
       "839             τραγακης παναγιωτη ιωαννης     296\n",
       "..                                     ...     ...\n",
       "791       σταυρογιαννης δημητριου νικολαος       1\n",
       "793       στεργιου ελευθεριου κωνσταντινος       1\n",
       "287         κανελλοπουλου αθανασιου κρινιω       1\n",
       "636  παπαδοπουλος κωνσταντινου χριστοφορος       1\n",
       "304           καραμπελας δημητριου ιωαννης       1\n",
       "\n",
       "[941 rows x 2 columns]"
      ]
     },
     "execution_count": 22,
     "metadata": {},
     "output_type": "execute_result"
    }
   ],
   "source": [
    "df.groupby(['member_name']).count()['speech'].reset_index().sort_values(by=['speech'], ascending=False)"
   ]
  },
  {
   "cell_type": "markdown",
   "metadata": {},
   "source": [
    "Speakers per party and date:"
   ]
  },
  {
   "cell_type": "code",
   "execution_count": 23,
   "metadata": {},
   "outputs": [
    {
     "data": {
      "text/html": [
       "<div>\n",
       "<style scoped>\n",
       "    .dataframe tbody tr th:only-of-type {\n",
       "        vertical-align: middle;\n",
       "    }\n",
       "\n",
       "    .dataframe tbody tr th {\n",
       "        vertical-align: top;\n",
       "    }\n",
       "\n",
       "    .dataframe thead th {\n",
       "        text-align: right;\n",
       "    }\n",
       "</style>\n",
       "<table border=\"1\" class=\"dataframe\">\n",
       "  <thead>\n",
       "    <tr style=\"text-align: right;\">\n",
       "      <th></th>\n",
       "      <th>member_name</th>\n",
       "      <th>year</th>\n",
       "      <th>speech</th>\n",
       "    </tr>\n",
       "  </thead>\n",
       "  <tbody>\n",
       "    <tr>\n",
       "      <th>0</th>\n",
       "      <td>αβραμιδης νικολαου γαβριηλ</td>\n",
       "      <td>2013</td>\n",
       "      <td>2</td>\n",
       "    </tr>\n",
       "    <tr>\n",
       "      <th>1</th>\n",
       "      <td>αβραμιδης νικολαου γαβριηλ</td>\n",
       "      <td>2014</td>\n",
       "      <td>1</td>\n",
       "    </tr>\n",
       "    <tr>\n",
       "      <th>2</th>\n",
       "      <td>αβραμοπουλος λαμπρου δημητριος</td>\n",
       "      <td>1994</td>\n",
       "      <td>1</td>\n",
       "    </tr>\n",
       "    <tr>\n",
       "      <th>3</th>\n",
       "      <td>αβραμοπουλος λαμπρου δημητριος</td>\n",
       "      <td>2005</td>\n",
       "      <td>3</td>\n",
       "    </tr>\n",
       "    <tr>\n",
       "      <th>4</th>\n",
       "      <td>αβραμοπουλος λαμπρου δημητριος</td>\n",
       "      <td>2007</td>\n",
       "      <td>2</td>\n",
       "    </tr>\n",
       "    <tr>\n",
       "      <th>...</th>\n",
       "      <td>...</td>\n",
       "      <td>...</td>\n",
       "      <td>...</td>\n",
       "    </tr>\n",
       "    <tr>\n",
       "      <th>4005</th>\n",
       "      <td>ψαριανος νικολαου γρηγοριος</td>\n",
       "      <td>2018</td>\n",
       "      <td>1</td>\n",
       "    </tr>\n",
       "    <tr>\n",
       "      <th>4006</th>\n",
       "      <td>ψυχαρης σταυρου ανδρεας</td>\n",
       "      <td>2014</td>\n",
       "      <td>1</td>\n",
       "    </tr>\n",
       "    <tr>\n",
       "      <th>4007</th>\n",
       "      <td>ψωμιαδης χαραλαμπους παναγιωτης</td>\n",
       "      <td>1996</td>\n",
       "      <td>1</td>\n",
       "    </tr>\n",
       "    <tr>\n",
       "      <th>4008</th>\n",
       "      <td>ψωμιαδης χαραλαμπους παναγιωτης</td>\n",
       "      <td>1997</td>\n",
       "      <td>1</td>\n",
       "    </tr>\n",
       "    <tr>\n",
       "      <th>4009</th>\n",
       "      <td>ψωμιαδης χαραλαμπους παναγιωτης</td>\n",
       "      <td>1999</td>\n",
       "      <td>1</td>\n",
       "    </tr>\n",
       "  </tbody>\n",
       "</table>\n",
       "<p>4010 rows × 3 columns</p>\n",
       "</div>"
      ],
      "text/plain": [
       "                          member_name  year  speech\n",
       "0          αβραμιδης νικολαου γαβριηλ  2013       2\n",
       "1          αβραμιδης νικολαου γαβριηλ  2014       1\n",
       "2      αβραμοπουλος λαμπρου δημητριος  1994       1\n",
       "3      αβραμοπουλος λαμπρου δημητριος  2005       3\n",
       "4      αβραμοπουλος λαμπρου δημητριος  2007       2\n",
       "...                               ...   ...     ...\n",
       "4005      ψαριανος νικολαου γρηγοριος  2018       1\n",
       "4006          ψυχαρης σταυρου ανδρεας  2014       1\n",
       "4007  ψωμιαδης χαραλαμπους παναγιωτης  1996       1\n",
       "4008  ψωμιαδης χαραλαμπους παναγιωτης  1997       1\n",
       "4009  ψωμιαδης χαραλαμπους παναγιωτης  1999       1\n",
       "\n",
       "[4010 rows x 3 columns]"
      ]
     },
     "execution_count": 23,
     "metadata": {},
     "output_type": "execute_result"
    }
   ],
   "source": [
    "df.groupby(['member_name','year']).count()['speech'].reset_index()"
   ]
  },
  {
   "cell_type": "markdown",
   "metadata": {},
   "source": [
    "# Classification without Neural Networks"
   ]
  },
  {
   "cell_type": "markdown",
   "metadata": {},
   "source": [
    "## Preprocessing"
   ]
  },
  {
   "cell_type": "markdown",
   "metadata": {},
   "source": [
    "We will use spacy in order to remove stop words and punctuation. Also, we will save the words' lemma."
   ]
  },
  {
   "cell_type": "code",
   "execution_count": 24,
   "metadata": {},
   "outputs": [],
   "source": [
    "nlp = el_core_news_md.load()\n",
    "tokenizer = nlp.Defaults.create_tokenizer(nlp)\n",
    "\n",
    "new_speech = []\n",
    "for doc in tokenizer.pipe(df['speech'].tolist(), batch_size=100):\n",
    "    new_speech.append(' '.join([token.lemma_ for token in doc if not token.is_punct and not token.is_stop]))"
   ]
  },
  {
   "cell_type": "code",
   "execution_count": 25,
   "metadata": {},
   "outputs": [],
   "source": [
    "df['new_speech'] = new_speech"
   ]
  },
  {
   "cell_type": "markdown",
   "metadata": {},
   "source": [
    "## Splitting the dataset"
   ]
  },
  {
   "cell_type": "markdown",
   "metadata": {},
   "source": [
    "Now, we will split the data into 2 sets: train, test"
   ]
  },
  {
   "cell_type": "code",
   "execution_count": 26,
   "metadata": {},
   "outputs": [],
   "source": [
    "X = df.new_speech.tolist() # get speeches\n",
    "y = df.political_party.tolist() # get targets"
   ]
  },
  {
   "cell_type": "code",
   "execution_count": 27,
   "metadata": {},
   "outputs": [],
   "source": [
    "X_train, X_test, y_train, y_test = train_test_split(X, y, test_size=0.2, random_state=0)"
   ]
  },
  {
   "cell_type": "markdown",
   "metadata": {},
   "source": [
    "We will get the classes we want to predict:"
   ]
  },
  {
   "cell_type": "code",
   "execution_count": 28,
   "metadata": {},
   "outputs": [
    {
     "data": {
      "text/plain": [
       "['συνασπισμος ριζοσπαστικης αριστερας',\n",
       " 'κομμουνιστικο κομμα ελλαδας',\n",
       " 'νεα δημοκρατια',\n",
       " 'πανελληνιο σοσιαλιστικο κινημα',\n",
       " 'το ποταμι',\n",
       " 'βουλη',\n",
       " 'συνασπισμος της αριστερας των κινηματων και της οικολογιας',\n",
       " 'λαικος ορθοδοξος συναγερμος',\n",
       " 'λαικος συνδεσος - χρυση αυγη',\n",
       " 'δημοκρατικη συμπαραταξη (πανελληνιο σοσιαλιστικο κινημα - δημοκρατικη αριστερα)',\n",
       " 'ανεξαρτητοι ελληνες - πανος καμμενος',\n",
       " 'ανεξαρτητοι (εκτος κομματος)',\n",
       " 'ενωση κεντρωων']"
      ]
     },
     "execution_count": 28,
     "metadata": {},
     "output_type": "execute_result"
    }
   ],
   "source": [
    "classes = df.political_party.unique().tolist()\n",
    "classes"
   ]
  },
  {
   "cell_type": "code",
   "execution_count": 29,
   "metadata": {},
   "outputs": [
    {
     "data": {
      "text/plain": [
       "13"
      ]
     },
     "execution_count": 29,
     "metadata": {},
     "output_type": "execute_result"
    }
   ],
   "source": [
    "len(classes)"
   ]
  },
  {
   "cell_type": "markdown",
   "metadata": {},
   "source": [
    "We are going to represent the data using the follow techniques: \n",
    "<ul>\n",
    "    <li>Bag of words</li>\n",
    "    <li>Tf-idf</li>\n",
    "</ul>\n",
    "\n",
    "Moreover, we are going to use the following machine learning algorithms and techniques: \n",
    "<ul>\n",
    "    <li>Logistic Regression</li>\n",
    "    <li>Random Forest</li>\n",
    "</ul>\n",
    "But, first of all, we will check the DummyClassifier results."
   ]
  },
  {
   "cell_type": "markdown",
   "metadata": {},
   "source": [
    "First of all, we will initialiaze some useful functions:"
   ]
  },
  {
   "cell_type": "markdown",
   "metadata": {},
   "source": [
    "#### Bag of words / TF-IDF:"
   ]
  },
  {
   "cell_type": "markdown",
   "metadata": {},
   "source": [
    "Creating bag of words and tf-idf representations:"
   ]
  },
  {
   "cell_type": "code",
   "execution_count": 30,
   "metadata": {},
   "outputs": [],
   "source": [
    "vectorizer = CountVectorizer()\n",
    "X_train_bow = vectorizer.fit_transform(X_train) #fit and tranform"
   ]
  },
  {
   "cell_type": "code",
   "execution_count": 31,
   "metadata": {},
   "outputs": [],
   "source": [
    "X_test_bow = vectorizer.transform(X_test) # transorm set"
   ]
  },
  {
   "cell_type": "code",
   "execution_count": 32,
   "metadata": {},
   "outputs": [],
   "source": [
    "tfidf_vectorizer = TfidfVectorizer() \n",
    "X_train_tfidf = tfidf_vectorizer.fit_transform(X_train)\n",
    "X_test_tfidf = tfidf_vectorizer.transform(X_test)"
   ]
  },
  {
   "cell_type": "markdown",
   "metadata": {},
   "source": [
    "Dummy Classifier results:"
   ]
  },
  {
   "cell_type": "code",
   "execution_count": 33,
   "metadata": {},
   "outputs": [
    {
     "name": "stdout",
     "output_type": "stream",
     "text": [
      "                                                                                 precision    recall  f1-score   support\n",
      "\n",
      "                                                   ανεξαρτητοι (εκτος κομματος)       0.07      0.06      0.06        84\n",
      "                                           ανεξαρτητοι ελληνες - πανος καμμενος       0.00      0.00      0.00        27\n",
      "                                                                          βουλη       0.03      0.04      0.04       136\n",
      "δημοκρατικη συμπαραταξη (πανελληνιο σοσιαλιστικο κινημα - δημοκρατικη αριστερα)       0.00      0.00      0.00        62\n",
      "                                                                 ενωση κεντρωων       0.00      0.00      0.00        26\n",
      "                                                    κομμουνιστικο κομμα ελλαδας       0.06      0.05      0.05       247\n",
      "                                                    λαικος ορθοδοξος συναγερμος       0.03      0.03      0.03        69\n",
      "                                                   λαικος συνδεσος - χρυση αυγη       0.02      0.03      0.02        39\n",
      "                                                                 νεα δημοκρατια       0.33      0.33      0.33      1183\n",
      "                                                 πανελληνιο σοσιαλιστικο κινημα       0.32      0.32      0.32      1145\n",
      "                                            συνασπισμος ριζοσπαστικης αριστερας       0.09      0.09      0.09       364\n",
      "                     συνασπισμος της αριστερας των κινηματων και της οικολογιας       0.04      0.04      0.04       101\n",
      "                                                                      το ποταμι       0.00      0.00      0.00        30\n",
      "\n",
      "                                                                       accuracy                           0.23      3513\n",
      "                                                                      macro avg       0.08      0.08      0.08      3513\n",
      "                                                                   weighted avg       0.23      0.23      0.23      3513\n",
      "\n"
     ]
    }
   ],
   "source": [
    "dummy_clf = DummyClassifier(strategy=\"stratified\")\n",
    "dummy_clf.fit(X_train, y_train)\n",
    "predicted = dummy_clf.predict(X_test)\n",
    "print(metrics.classification_report(y_test , predicted, zero_division=0))"
   ]
  },
  {
   "cell_type": "markdown",
   "metadata": {},
   "source": [
    "### Logistic Regression"
   ]
  },
  {
   "cell_type": "markdown",
   "metadata": {},
   "source": [
    "We will use cross validation on the training set in order to find the best hyperparameters:"
   ]
  },
  {
   "cell_type": "markdown",
   "metadata": {},
   "source": [
    "We will define some possible hyperparameters:"
   ]
  },
  {
   "cell_type": "code",
   "execution_count": 34,
   "metadata": {},
   "outputs": [],
   "source": [
    "C = [100, 10, 1.0, 0.1, 0.01]\n",
    "\n",
    "# according to the documentation l2 penalty can support only those 3 solvers\n",
    "solver  = ['newton-cg', 'lbfgs', 'sag'] \n",
    "\n",
    "hyperparameters = dict(C=C, solver=solver)"
   ]
  },
  {
   "cell_type": "code",
   "execution_count": 35,
   "metadata": {},
   "outputs": [
    {
     "name": "stderr",
     "output_type": "stream",
     "text": [
      "/home/cdikonimaki/GreekBERT/env/local/lib/python3.6/site-packages/sklearn/linear_model/_logistic.py:764: ConvergenceWarning: lbfgs failed to converge (status=1):\n",
      "STOP: TOTAL NO. of ITERATIONS REACHED LIMIT.\n",
      "\n",
      "Increase the number of iterations (max_iter) or scale the data as shown in:\n",
      "    https://scikit-learn.org/stable/modules/preprocessing.html\n",
      "Please also refer to the documentation for alternative solver options:\n",
      "    https://scikit-learn.org/stable/modules/linear_model.html#logistic-regression\n"
     ]
    }
   ],
   "source": [
    "l_clf = LogisticRegression()\n",
    "\n",
    "cv = RandomizedSearchCV(l_clf, hyperparameters, n_iter=5, scoring='f1_macro', n_jobs=-1)\n",
    "best_model = cv.fit(X_train_bow, y_train)"
   ]
  },
  {
   "cell_type": "code",
   "execution_count": 36,
   "metadata": {},
   "outputs": [
    {
     "data": {
      "text/plain": [
       "{'C': 10,\n",
       " 'class_weight': None,\n",
       " 'dual': False,\n",
       " 'fit_intercept': True,\n",
       " 'intercept_scaling': 1,\n",
       " 'l1_ratio': None,\n",
       " 'max_iter': 100,\n",
       " 'multi_class': 'auto',\n",
       " 'n_jobs': None,\n",
       " 'penalty': 'l2',\n",
       " 'random_state': None,\n",
       " 'solver': 'lbfgs',\n",
       " 'tol': 0.0001,\n",
       " 'verbose': 0,\n",
       " 'warm_start': False}"
      ]
     },
     "execution_count": 36,
     "metadata": {},
     "output_type": "execute_result"
    }
   ],
   "source": [
    "best_params = best_model.best_estimator_.get_params()\n",
    "best_params"
   ]
  },
  {
   "cell_type": "code",
   "execution_count": 37,
   "metadata": {},
   "outputs": [
    {
     "name": "stdout",
     "output_type": "stream",
     "text": [
      "                                                                                 precision    recall  f1-score   support\n",
      "\n",
      "                                                   ανεξαρτητοι (εκτος κομματος)       0.13      0.04      0.06        84\n",
      "                                           ανεξαρτητοι ελληνες - πανος καμμενος       0.00      0.00      0.00        27\n",
      "                                                                          βουλη       0.72      0.64      0.68       136\n",
      "δημοκρατικη συμπαραταξη (πανελληνιο σοσιαλιστικο κινημα - δημοκρατικη αριστερα)       0.03      0.02      0.02        62\n",
      "                                                                 ενωση κεντρωων       0.00      0.00      0.00        26\n",
      "                                                    κομμουνιστικο κομμα ελλαδας       0.36      0.36      0.36       247\n",
      "                                                    λαικος ορθοδοξος συναγερμος       0.14      0.04      0.07        69\n",
      "                                                   λαικος συνδεσος - χρυση αυγη       0.00      0.00      0.00        39\n",
      "                                                                 νεα δημοκρατια       0.40      0.52      0.45      1183\n",
      "                                                 πανελληνιο σοσιαλιστικο κινημα       0.45      0.46      0.46      1145\n",
      "                                            συνασπισμος ριζοσπαστικης αριστερας       0.23      0.16      0.19       364\n",
      "                     συνασπισμος της αριστερας των κινηματων και της οικολογιας       0.15      0.08      0.10       101\n",
      "                                                                      το ποταμι       1.00      0.03      0.06        30\n",
      "\n",
      "                                                                       accuracy                           0.40      3513\n",
      "                                                                      macro avg       0.28      0.18      0.19      3513\n",
      "                                                                   weighted avg       0.38      0.40      0.38      3513\n",
      "\n"
     ]
    }
   ],
   "source": [
    "predicted = best_model.best_estimator_.predict(X_test_bow)\n",
    "print(metrics.classification_report(y_test , predicted, zero_division=0))"
   ]
  },
  {
   "cell_type": "code",
   "execution_count": 38,
   "metadata": {},
   "outputs": [],
   "source": [
    "l_clf = LogisticRegression()\n",
    "\n",
    "cv = RandomizedSearchCV(l_clf, hyperparameters, n_iter=5, scoring='f1_macro', n_jobs=-1)\n",
    "best_model = cv.fit(X_train_tfidf, y_train)"
   ]
  },
  {
   "cell_type": "code",
   "execution_count": 39,
   "metadata": {},
   "outputs": [
    {
     "data": {
      "text/plain": [
       "{'C': 1.0,\n",
       " 'class_weight': None,\n",
       " 'dual': False,\n",
       " 'fit_intercept': True,\n",
       " 'intercept_scaling': 1,\n",
       " 'l1_ratio': None,\n",
       " 'max_iter': 100,\n",
       " 'multi_class': 'auto',\n",
       " 'n_jobs': None,\n",
       " 'penalty': 'l2',\n",
       " 'random_state': None,\n",
       " 'solver': 'sag',\n",
       " 'tol': 0.0001,\n",
       " 'verbose': 0,\n",
       " 'warm_start': False}"
      ]
     },
     "execution_count": 39,
     "metadata": {},
     "output_type": "execute_result"
    }
   ],
   "source": [
    "best_params = best_model.best_estimator_.get_params()\n",
    "best_params"
   ]
  },
  {
   "cell_type": "code",
   "execution_count": 40,
   "metadata": {},
   "outputs": [
    {
     "name": "stdout",
     "output_type": "stream",
     "text": [
      "                                                                                 precision    recall  f1-score   support\n",
      "\n",
      "                                                   ανεξαρτητοι (εκτος κομματος)       0.00      0.00      0.00        84\n",
      "                                           ανεξαρτητοι ελληνες - πανος καμμενος       0.00      0.00      0.00        27\n",
      "                                                                          βουλη       0.78      0.64      0.70       136\n",
      "δημοκρατικη συμπαραταξη (πανελληνιο σοσιαλιστικο κινημα - δημοκρατικη αριστερα)       0.00      0.00      0.00        62\n",
      "                                                                 ενωση κεντρωων       0.00      0.00      0.00        26\n",
      "                                                    κομμουνιστικο κομμα ελλαδας       0.40      0.26      0.32       247\n",
      "                                                    λαικος ορθοδοξος συναγερμος       0.00      0.00      0.00        69\n",
      "                                                   λαικος συνδεσος - χρυση αυγη       0.00      0.00      0.00        39\n",
      "                                                                 νεα δημοκρατια       0.40      0.62      0.49      1183\n",
      "                                                 πανελληνιο σοσιαλιστικο κινημα       0.45      0.54      0.49      1145\n",
      "                                            συνασπισμος ριζοσπαστικης αριστερας       0.33      0.04      0.06       364\n",
      "                     συνασπισμος της αριστερας των κινηματων και της οικολογιας       0.00      0.00      0.00       101\n",
      "                                                                      το ποταμι       0.00      0.00      0.00        30\n",
      "\n",
      "                                                                       accuracy                           0.43      3513\n",
      "                                                                      macro avg       0.18      0.16      0.16      3513\n",
      "                                                                   weighted avg       0.37      0.43      0.38      3513\n",
      "\n"
     ]
    }
   ],
   "source": [
    "predicted = best_model.best_estimator_.predict(X_test_tfidf)\n",
    "print(metrics.classification_report(y_test , predicted, zero_division=0))"
   ]
  },
  {
   "cell_type": "markdown",
   "metadata": {},
   "source": [
    "### RandomForestClassifier"
   ]
  },
  {
   "cell_type": "markdown",
   "metadata": {},
   "source": [
    "We will use cross validation on the training set in order to find the best hyperparameters:"
   ]
  },
  {
   "cell_type": "markdown",
   "metadata": {},
   "source": [
    "We will define some possible hyperparameters:"
   ]
  },
  {
   "cell_type": "code",
   "execution_count": 41,
   "metadata": {},
   "outputs": [],
   "source": [
    "max_depth = list(range(10, 200, 10))\n",
    "max_depth.append(None)\n",
    "\n",
    "max_features = ['auto', 'sqrt']\n",
    "n_estimators = list(range(200, 2000,200))\n",
    "\n",
    "hyperparameters = dict(max_depth=max_depth, max_features=max_features, n_estimators=n_estimators)"
   ]
  },
  {
   "cell_type": "markdown",
   "metadata": {},
   "source": [
    "We will use randomized search cross-validation in order to find the best hyperparameters:"
   ]
  },
  {
   "cell_type": "code",
   "execution_count": 42,
   "metadata": {},
   "outputs": [],
   "source": [
    "rf_clf = RandomForestClassifier()\n",
    "\n",
    "cv = RandomizedSearchCV(rf_clf, hyperparameters, n_iter=5, scoring='f1_macro', n_jobs=-1)\n",
    "best_model = cv.fit(X_train_bow, y_train)"
   ]
  },
  {
   "cell_type": "code",
   "execution_count": 43,
   "metadata": {},
   "outputs": [
    {
     "data": {
      "text/plain": [
       "{'bootstrap': True,\n",
       " 'ccp_alpha': 0.0,\n",
       " 'class_weight': None,\n",
       " 'criterion': 'gini',\n",
       " 'max_depth': 180,\n",
       " 'max_features': 'auto',\n",
       " 'max_leaf_nodes': None,\n",
       " 'max_samples': None,\n",
       " 'min_impurity_decrease': 0.0,\n",
       " 'min_impurity_split': None,\n",
       " 'min_samples_leaf': 1,\n",
       " 'min_samples_split': 2,\n",
       " 'min_weight_fraction_leaf': 0.0,\n",
       " 'n_estimators': 800,\n",
       " 'n_jobs': None,\n",
       " 'oob_score': False,\n",
       " 'random_state': None,\n",
       " 'verbose': 0,\n",
       " 'warm_start': False}"
      ]
     },
     "execution_count": 43,
     "metadata": {},
     "output_type": "execute_result"
    }
   ],
   "source": [
    "best_params = best_model.best_estimator_.get_params()\n",
    "best_params"
   ]
  },
  {
   "cell_type": "code",
   "execution_count": 44,
   "metadata": {},
   "outputs": [
    {
     "name": "stdout",
     "output_type": "stream",
     "text": [
      "                                                                                 precision    recall  f1-score   support\n",
      "\n",
      "                                                   ανεξαρτητοι (εκτος κομματος)       0.50      0.01      0.02        84\n",
      "                                           ανεξαρτητοι ελληνες - πανος καμμενος       0.00      0.00      0.00        27\n",
      "                                                                          βουλη       0.79      0.64      0.71       136\n",
      "δημοκρατικη συμπαραταξη (πανελληνιο σοσιαλιστικο κινημα - δημοκρατικη αριστερα)       0.00      0.00      0.00        62\n",
      "                                                                 ενωση κεντρωων       0.00      0.00      0.00        26\n",
      "                                                    κομμουνιστικο κομμα ελλαδας       0.41      0.20      0.27       247\n",
      "                                                    λαικος ορθοδοξος συναγερμος       0.00      0.00      0.00        69\n",
      "                                                   λαικος συνδεσος - χρυση αυγη       0.00      0.00      0.00        39\n",
      "                                                                 νεα δημοκρατια       0.38      0.66      0.49      1183\n",
      "                                                 πανελληνιο σοσιαλιστικο κινημα       0.45      0.47      0.46      1145\n",
      "                                            συνασπισμος ριζοσπαστικης αριστερας       0.58      0.03      0.06       364\n",
      "                     συνασπισμος της αριστερας των κινηματων και της οικολογιας       0.00      0.00      0.00       101\n",
      "                                                                      το ποταμι       0.00      0.00      0.00        30\n",
      "\n",
      "                                                                       accuracy                           0.42      3513\n",
      "                                                                      macro avg       0.24      0.16      0.15      3513\n",
      "                                                                   weighted avg       0.41      0.42      0.37      3513\n",
      "\n"
     ]
    }
   ],
   "source": [
    "predicted = best_model.best_estimator_.predict(X_test_bow)\n",
    "print(metrics.classification_report(y_test , predicted, zero_division=0))"
   ]
  },
  {
   "cell_type": "code",
   "execution_count": 45,
   "metadata": {},
   "outputs": [],
   "source": [
    "rf_clf = RandomForestClassifier()\n",
    "\n",
    "cv = RandomizedSearchCV(rf_clf, hyperparameters, scoring='f1_macro', n_jobs=-1)\n",
    "best_model = cv.fit(X_train_tfidf, y_train)"
   ]
  },
  {
   "cell_type": "code",
   "execution_count": 46,
   "metadata": {},
   "outputs": [
    {
     "data": {
      "text/plain": [
       "{'bootstrap': True,\n",
       " 'ccp_alpha': 0.0,\n",
       " 'class_weight': None,\n",
       " 'criterion': 'gini',\n",
       " 'max_depth': 190,\n",
       " 'max_features': 'sqrt',\n",
       " 'max_leaf_nodes': None,\n",
       " 'max_samples': None,\n",
       " 'min_impurity_decrease': 0.0,\n",
       " 'min_impurity_split': None,\n",
       " 'min_samples_leaf': 1,\n",
       " 'min_samples_split': 2,\n",
       " 'min_weight_fraction_leaf': 0.0,\n",
       " 'n_estimators': 1600,\n",
       " 'n_jobs': None,\n",
       " 'oob_score': False,\n",
       " 'random_state': None,\n",
       " 'verbose': 0,\n",
       " 'warm_start': False}"
      ]
     },
     "execution_count": 46,
     "metadata": {},
     "output_type": "execute_result"
    }
   ],
   "source": [
    "best_params = best_model.best_estimator_.get_params()\n",
    "best_params"
   ]
  },
  {
   "cell_type": "code",
   "execution_count": 47,
   "metadata": {},
   "outputs": [
    {
     "name": "stdout",
     "output_type": "stream",
     "text": [
      "                                                                                 precision    recall  f1-score   support\n",
      "\n",
      "                                                   ανεξαρτητοι (εκτος κομματος)       0.00      0.00      0.00        84\n",
      "                                           ανεξαρτητοι ελληνες - πανος καμμενος       0.00      0.00      0.00        27\n",
      "                                                                          βουλη       0.78      0.63      0.70       136\n",
      "δημοκρατικη συμπαραταξη (πανελληνιο σοσιαλιστικο κινημα - δημοκρατικη αριστερα)       0.33      0.02      0.03        62\n",
      "                                                                 ενωση κεντρωων       0.00      0.00      0.00        26\n",
      "                                                    κομμουνιστικο κομμα ελλαδας       0.44      0.23      0.30       247\n",
      "                                                    λαικος ορθοδοξος συναγερμος       0.00      0.00      0.00        69\n",
      "                                                   λαικος συνδεσος - χρυση αυγη       0.00      0.00      0.00        39\n",
      "                                                                 νεα δημοκρατια       0.39      0.66      0.49      1183\n",
      "                                                 πανελληνιο σοσιαλιστικο κινημα       0.44      0.48      0.46      1145\n",
      "                                            συνασπισμος ριζοσπαστικης αριστερας       0.58      0.04      0.07       364\n",
      "                     συνασπισμος της αριστερας των κινηματων και της οικολογιας       0.00      0.00      0.00       101\n",
      "                                                                      το ποταμι       0.00      0.00      0.00        30\n",
      "\n",
      "                                                                       accuracy                           0.42      3513\n",
      "                                                                      macro avg       0.23      0.16      0.16      3513\n",
      "                                                                   weighted avg       0.40      0.42      0.37      3513\n",
      "\n"
     ]
    }
   ],
   "source": [
    "predicted = best_model.best_estimator_.predict(X_test_tfidf)\n",
    "print(metrics.classification_report(y_test , predicted, zero_division=0))"
   ]
  },
  {
   "cell_type": "code",
   "execution_count": 71,
   "metadata": {},
   "outputs": [],
   "source": [
    "target_names = best_model.classes_"
   ]
  },
  {
   "cell_type": "code",
   "execution_count": 72,
   "metadata": {},
   "outputs": [],
   "source": [
    "def plot_confusion_matrix(cm, title='Confusion matrix', cmap=plt.cm.Blues):\n",
    "    plt.imshow(cm, interpolation='nearest', cmap=cmap)\n",
    "    plt.title(title)\n",
    "    plt.colorbar()\n",
    "    tick_marks = np.arange(len(target_names))\n",
    "    plt.xticks(tick_marks, target_names, rotation=90)\n",
    "    plt.yticks(tick_marks, target_names)\n",
    "    plt.tight_layout()\n",
    "    plt.ylabel('True label')\n",
    "    plt.xlabel('Predicted label')"
   ]
  },
  {
   "cell_type": "code",
   "execution_count": 73,
   "metadata": {},
   "outputs": [
    {
     "name": "stderr",
     "output_type": "stream",
     "text": [
      "c:\\users\\xrisa\\appdata\\local\\programs\\python\\python37\\lib\\site-packages\\ipykernel_launcher.py:8: UserWarning: Tight layout not applied. The bottom and top margins cannot be made large enough to accommodate all axes decorations. \n"
     ]
    },
    {
     "data": {
      "image/png": "[encoded data removed]",
      "text/plain": [
       "<Figure size 432x288 with 2 Axes>"
      ]
     },
     "metadata": {
      "needs_background": "light"
     },
     "output_type": "display_data"
    },
    {
     "data": {
      "image/png": "[encoded data removed]",
      "text/plain": [
       "<Figure size 432x288 with 2 Axes>"
      ]
     },
     "metadata": {
      "needs_background": "light"
     },
     "output_type": "display_data"
    }
   ],
   "source": [
    "cm = confusion_matrix(y_test, predicted)\n",
    "plot_confusion_matrix(cm)\n",
    "\n",
    "cm_normalized = cm.astype('float') / cm.sum(axis=1)[:, np.newaxis]\n",
    "plt.figure()\n",
    "plot_confusion_matrix(cm_normalized)"
   ]
  },
  {
   "cell_type": "markdown",
   "metadata": {},
   "source": [
    "It is clear that most of the classes was wrongly predicted as the two most popular parties. It may happen because those parties have the most examples in the dataset (actually, 1.5% of it) and our model is not able to learn to predict those classes. <b >\n",
    "So, we will check if the most wrongly predicted classes are from the same political position with those two parties because sometimes they may use the same worlds and may express similar ideas."
   ]
  },
  {
   "cell_type": "code",
   "execution_count": 76,
   "metadata": {},
   "outputs": [
    {
     "data": {
      "text/plain": [
       "array(['ανεξαρτητοι (εκτος κομματος)',\n",
       "       'ανεξαρτητοι ελληνες - πανος καμμενος', 'βουλη',\n",
       "       'δημοκρατικη συμπαραταξη (πανελληνιο σοσιαλιστικο κινημα - δημοκρατικη αριστερα)',\n",
       "       'ενωση κεντρωων', 'κομμουνιστικο κομμα ελλαδας',\n",
       "       'λαικος ορθοδοξος συναγερμος', 'λαικος συνδεσος - χρυση αυγη',\n",
       "       'νεα δημοκρατια', 'πανελληνιο σοσιαλιστικο κινημα',\n",
       "       'συνασπισμος ριζοσπαστικης αριστερας',\n",
       "       'συνασπισμος της αριστερας των κινηματων και της οικολογιας',\n",
       "       'το ποταμι'], dtype='<U79')"
      ]
     },
     "execution_count": 76,
     "metadata": {},
     "output_type": "execute_result"
    }
   ],
   "source": [
    "target_names"
   ]
  },
  {
   "cell_type": "code",
   "execution_count": 77,
   "metadata": {},
   "outputs": [],
   "source": [
    "r = ['ανεξαρτητοι ελληνες - πανος καμμενος','λαικος ορθοδοξος συναγερμος','λαικος συνδεσος - χρυση αυγη','νεα δημοκρατια']\n",
    "l= ['δημοκρατικη συμπαραταξη (πανελληνιο σοσιαλιστικο κινημα - δημοκρατικη αριστερα)',\n",
    "    'κομμουνιστικο κομμα ελλαδας','πανελληνιο σοσιαλιστικο κινημα',\n",
    "    'συνασπισμος ριζοσπαστικης αριστερας','συνασπισμος της αριστερας των κινηματων και της οικολογιας']\n",
    "c=['ενωση κεντρωων','το ποταμι']"
   ]
  },
  {
   "cell_type": "code",
   "execution_count": 93,
   "metadata": {},
   "outputs": [],
   "source": [
    "def check_political_position(position, spec_p):\n",
    "    c=0\n",
    "    for y,p in zip(y_test,predicted):\n",
    "        if(y!=p and y in position and p==spec_p):\n",
    "            c=c+1\n",
    "    print(c)"
   ]
  },
  {
   "cell_type": "code",
   "execution_count": 96,
   "metadata": {},
   "outputs": [
    {
     "name": "stdout",
     "output_type": "stream",
     "text": [
      "86\n",
      "1011\n"
     ]
    }
   ],
   "source": [
    "check_political_position(r,'νεα δημοκρατια')\n",
    "check_political_position(l,'νεα δημοκρατια')"
   ]
  },
  {
   "cell_type": "code",
   "execution_count": 97,
   "metadata": {},
   "outputs": [
    {
     "name": "stdout",
     "output_type": "stream",
     "text": [
      "405\n",
      "249\n"
     ]
    }
   ],
   "source": [
    "check_political_position(r,'πανελληνιο σοσιαλιστικο κινημα')\n",
    "check_political_position(l,'πανελληνιο σοσιαλιστικο κινημα')"
   ]
  },
  {
   "cell_type": "markdown",
   "metadata": {},
   "source": [
    "However, it's clear that it doesn't happen and political position doesn't affect the way our model predict."
   ]
  },
  {
   "cell_type": "markdown",
   "metadata": {},
   "source": [
    "## Classification with a Neural Network"
   ]
  },
  {
   "cell_type": "markdown",
   "metadata": {},
   "source": [
    "We are going to use GreekBert pre-trained language model (https://github.com/nlpaueb/greek-bert). <br>\n",
    "We will read the dataset again because the preprocessing will be different. Also, we will exclude the same parties again."
   ]
  },
  {
   "cell_type": "code",
   "execution_count": 3,
   "metadata": {},
   "outputs": [
    {
     "data": {
      "text/html": [
       "<div>\n",
       "<style scoped>\n",
       "    .dataframe tbody tr th:only-of-type {\n",
       "        vertical-align: middle;\n",
       "    }\n",
       "\n",
       "    .dataframe tbody tr th {\n",
       "        vertical-align: top;\n",
       "    }\n",
       "\n",
       "    .dataframe thead th {\n",
       "        text-align: right;\n",
       "    }\n",
       "</style>\n",
       "<table border=\"1\" class=\"dataframe\">\n",
       "  <thead>\n",
       "    <tr style=\"text-align: right;\">\n",
       "      <th></th>\n",
       "      <th>Unnamed: 0</th>\n",
       "      <th>member_name</th>\n",
       "      <th>sitting_date</th>\n",
       "      <th>parliamentary_period</th>\n",
       "      <th>parliamentary_session</th>\n",
       "      <th>parliamentary_sitting</th>\n",
       "      <th>political_party</th>\n",
       "      <th>speaker_info</th>\n",
       "      <th>speech</th>\n",
       "    </tr>\n",
       "  </thead>\n",
       "  <tbody>\n",
       "    <tr>\n",
       "      <th>0</th>\n",
       "      <td>1073670</td>\n",
       "      <td>βαρεμενος βασιλειου γεωργιος</td>\n",
       "      <td>2016-09-20</td>\n",
       "      <td>period 17 presided parliamentary republic</td>\n",
       "      <td>session 1</td>\n",
       "      <td>sitting 192</td>\n",
       "      <td>συνασπισμος ριζοσπαστικης αριστερας</td>\n",
       "      <td>προεδρευων</td>\n",
       "      <td>Το σχέδιο νόμου έγινε δεκτό και στο σύνολο κα...</td>\n",
       "    </tr>\n",
       "    <tr>\n",
       "      <th>1</th>\n",
       "      <td>720621</td>\n",
       "      <td>γκατζης φιλιππου νικολαος</td>\n",
       "      <td>2009-07-01</td>\n",
       "      <td>period 12 presided parliamentary republic</td>\n",
       "      <td>'09 summer recess section 1</td>\n",
       "      <td>sitting 11</td>\n",
       "      <td>κομμουνιστικο κομμα ελλαδας</td>\n",
       "      <td>NaN</td>\n",
       "      <td>Κατά πλειοψηφία.</td>\n",
       "    </tr>\n",
       "    <tr>\n",
       "      <th>2</th>\n",
       "      <td>538543</td>\n",
       "      <td>καλος βασιλειου γεωργιος</td>\n",
       "      <td>2005-05-30</td>\n",
       "      <td>period 11 presided parliamentary republic</td>\n",
       "      <td>session 1 continuation of plenary session</td>\n",
       "      <td>sitting 172</td>\n",
       "      <td>νεα δημοκρατια</td>\n",
       "      <td>υφυπουργος εθνικης παιδειας και θρησκευματων</td>\n",
       "      <td>Κύριε Πρόεδρε, θα ήθελα να δηλώσω ότι θα απαν...</td>\n",
       "    </tr>\n",
       "    <tr>\n",
       "      <th>3</th>\n",
       "      <td>464616</td>\n",
       "      <td>κακλαμανης χρηστου αποστολος</td>\n",
       "      <td>2003-02-05</td>\n",
       "      <td>period 10 presided parliamentary republic</td>\n",
       "      <td>session 3</td>\n",
       "      <td>sitting 66</td>\n",
       "      <td>πανελληνιο σοσιαλιστικο κινημα</td>\n",
       "      <td>προεδρος</td>\n",
       "      <td>Ναι, μάλλον την Τρίτη. Επομένως για την αυρια...</td>\n",
       "    </tr>\n",
       "    <tr>\n",
       "      <th>4</th>\n",
       "      <td>389054</td>\n",
       "      <td>γειτονας ιωαννη κωνσταντινος</td>\n",
       "      <td>2001-02-12</td>\n",
       "      <td>period 10 presided parliamentary republic</td>\n",
       "      <td>session 1 continuation of plenary session</td>\n",
       "      <td>sitting 111</td>\n",
       "      <td>πανελληνιο σοσιαλιστικο κινημα</td>\n",
       "      <td>προεδρευων</td>\n",
       "      <td>Κυρίες και κύριοι συνάδελφοι, έχω την τιμή να...</td>\n",
       "    </tr>\n",
       "  </tbody>\n",
       "</table>\n",
       "</div>"
      ],
      "text/plain": [
       "   Unnamed: 0                   member_name sitting_date  \\\n",
       "0     1073670  βαρεμενος βασιλειου γεωργιος   2016-09-20   \n",
       "1      720621     γκατζης φιλιππου νικολαος   2009-07-01   \n",
       "2      538543      καλος βασιλειου γεωργιος   2005-05-30   \n",
       "3      464616  κακλαμανης χρηστου αποστολος   2003-02-05   \n",
       "4      389054  γειτονας ιωαννη κωνσταντινος   2001-02-12   \n",
       "\n",
       "                        parliamentary_period  \\\n",
       "0  period 17 presided parliamentary republic   \n",
       "1  period 12 presided parliamentary republic   \n",
       "2  period 11 presided parliamentary republic   \n",
       "3  period 10 presided parliamentary republic   \n",
       "4  period 10 presided parliamentary republic   \n",
       "\n",
       "                       parliamentary_session parliamentary_sitting  \\\n",
       "0                                  session 1           sitting 192   \n",
       "1                '09 summer recess section 1            sitting 11   \n",
       "2  session 1 continuation of plenary session           sitting 172   \n",
       "3                                  session 3            sitting 66   \n",
       "4  session 1 continuation of plenary session           sitting 111   \n",
       "\n",
       "                       political_party  \\\n",
       "0  συνασπισμος ριζοσπαστικης αριστερας   \n",
       "1          κομμουνιστικο κομμα ελλαδας   \n",
       "2                       νεα δημοκρατια   \n",
       "3       πανελληνιο σοσιαλιστικο κινημα   \n",
       "4       πανελληνιο σοσιαλιστικο κινημα   \n",
       "\n",
       "                                   speaker_info  \\\n",
       "0                                    προεδρευων   \n",
       "1                                           NaN   \n",
       "2  υφυπουργος εθνικης παιδειας και θρησκευματων   \n",
       "3                                      προεδρος   \n",
       "4                                    προεδρευων   \n",
       "\n",
       "                                              speech  \n",
       "0   Το σχέδιο νόμου έγινε δεκτό και στο σύνολο κα...  \n",
       "1                                   Κατά πλειοψηφία.  \n",
       "2   Κύριε Πρόεδρε, θα ήθελα να δηλώσω ότι θα απαν...  \n",
       "3   Ναι, μάλλον την Τρίτη. Επομένως για την αυρια...  \n",
       "4   Κυρίες και κύριοι συνάδελφοι, έχω την τιμή να...  "
      ]
     },
     "execution_count": 3,
     "metadata": {},
     "output_type": "execute_result"
    }
   ],
   "source": [
    "zf = zipfile.ZipFile('Greek_Parliament_part1.zip') \n",
    "df = pd.read_csv(zf.open('out.csv'))\n",
    "df.head(5)"
   ]
  },
  {
   "cell_type": "code",
   "execution_count": 4,
   "metadata": {},
   "outputs": [],
   "source": [
    "df.sitting_date = pd.to_datetime(df.sitting_date)"
   ]
  },
  {
   "cell_type": "code",
   "execution_count": 5,
   "metadata": {},
   "outputs": [],
   "source": [
    "df.dropna(subset=['political_party', 'speech'], inplace=True)"
   ]
  },
  {
   "cell_type": "code",
   "execution_count": 6,
   "metadata": {},
   "outputs": [
    {
     "data": {
      "text/html": [
       "<div>\n",
       "<style scoped>\n",
       "    .dataframe tbody tr th:only-of-type {\n",
       "        vertical-align: middle;\n",
       "    }\n",
       "\n",
       "    .dataframe tbody tr th {\n",
       "        vertical-align: top;\n",
       "    }\n",
       "\n",
       "    .dataframe thead th {\n",
       "        text-align: right;\n",
       "    }\n",
       "</style>\n",
       "<table border=\"1\" class=\"dataframe\">\n",
       "  <thead>\n",
       "    <tr style=\"text-align: right;\">\n",
       "      <th></th>\n",
       "      <th>political_party</th>\n",
       "      <th>speech</th>\n",
       "    </tr>\n",
       "  </thead>\n",
       "  <tbody>\n",
       "    <tr>\n",
       "      <th>14</th>\n",
       "      <td>νεα δημοκρατια</td>\n",
       "      <td>5865</td>\n",
       "    </tr>\n",
       "    <tr>\n",
       "      <th>16</th>\n",
       "      <td>πανελληνιο σοσιαλιστικο κινημα</td>\n",
       "      <td>5641</td>\n",
       "    </tr>\n",
       "    <tr>\n",
       "      <th>18</th>\n",
       "      <td>συνασπισμος ριζοσπαστικης αριστερας</td>\n",
       "      <td>1847</td>\n",
       "    </tr>\n",
       "    <tr>\n",
       "      <th>9</th>\n",
       "      <td>κομμουνιστικο κομμα ελλαδας</td>\n",
       "      <td>1138</td>\n",
       "    </tr>\n",
       "    <tr>\n",
       "      <th>4</th>\n",
       "      <td>βουλη</td>\n",
       "      <td>675</td>\n",
       "    </tr>\n",
       "    <tr>\n",
       "      <th>19</th>\n",
       "      <td>συνασπισμος της αριστερας των κινηματων και τη...</td>\n",
       "      <td>550</td>\n",
       "    </tr>\n",
       "    <tr>\n",
       "      <th>0</th>\n",
       "      <td>ανεξαρτητοι (εκτος κομματος)</td>\n",
       "      <td>467</td>\n",
       "    </tr>\n",
       "    <tr>\n",
       "      <th>12</th>\n",
       "      <td>λαικος ορθοδοξος συναγερμος</td>\n",
       "      <td>374</td>\n",
       "    </tr>\n",
       "    <tr>\n",
       "      <th>6</th>\n",
       "      <td>δημοκρατικη συμπαραταξη (πανελληνιο σοσιαλιστι...</td>\n",
       "      <td>338</td>\n",
       "    </tr>\n",
       "    <tr>\n",
       "      <th>13</th>\n",
       "      <td>λαικος συνδεσος - χρυση αυγη</td>\n",
       "      <td>210</td>\n",
       "    </tr>\n",
       "    <tr>\n",
       "      <th>2</th>\n",
       "      <td>ανεξαρτητοι ελληνες - πανος καμμενος</td>\n",
       "      <td>181</td>\n",
       "    </tr>\n",
       "    <tr>\n",
       "      <th>8</th>\n",
       "      <td>ενωση κεντρωων</td>\n",
       "      <td>149</td>\n",
       "    </tr>\n",
       "    <tr>\n",
       "      <th>20</th>\n",
       "      <td>το ποταμι</td>\n",
       "      <td>128</td>\n",
       "    </tr>\n",
       "    <tr>\n",
       "      <th>7</th>\n",
       "      <td>δημοκρατικο κοινωνικο κινημα</td>\n",
       "      <td>89</td>\n",
       "    </tr>\n",
       "    <tr>\n",
       "      <th>3</th>\n",
       "      <td>ανεξαρτητοι ελληνες εθνικη πατριωτικη δημοκρατ...</td>\n",
       "      <td>88</td>\n",
       "    </tr>\n",
       "    <tr>\n",
       "      <th>5</th>\n",
       "      <td>δημοκρατικη αριστερα</td>\n",
       "      <td>85</td>\n",
       "    </tr>\n",
       "    <tr>\n",
       "      <th>17</th>\n",
       "      <td>πολιτικη ανοιξη</td>\n",
       "      <td>51</td>\n",
       "    </tr>\n",
       "    <tr>\n",
       "      <th>1</th>\n",
       "      <td>ανεξαρτητοι δημοκρατικοι βουλευτες</td>\n",
       "      <td>32</td>\n",
       "    </tr>\n",
       "    <tr>\n",
       "      <th>15</th>\n",
       "      <td>οικολογοι εναλλακτικοι (ομοσπονδια οικολογικων...</td>\n",
       "      <td>3</td>\n",
       "    </tr>\n",
       "    <tr>\n",
       "      <th>11</th>\n",
       "      <td>λαικη ενοτητα</td>\n",
       "      <td>2</td>\n",
       "    </tr>\n",
       "    <tr>\n",
       "      <th>10</th>\n",
       "      <td>κομμουνιστικο κομμα ελλαδας εσωτερικου</td>\n",
       "      <td>1</td>\n",
       "    </tr>\n",
       "  </tbody>\n",
       "</table>\n",
       "</div>"
      ],
      "text/plain": [
       "                                      political_party  speech\n",
       "14                                     νεα δημοκρατια    5865\n",
       "16                     πανελληνιο σοσιαλιστικο κινημα    5641\n",
       "18                συνασπισμος ριζοσπαστικης αριστερας    1847\n",
       "9                         κομμουνιστικο κομμα ελλαδας    1138\n",
       "4                                               βουλη     675\n",
       "19  συνασπισμος της αριστερας των κινηματων και τη...     550\n",
       "0                        ανεξαρτητοι (εκτος κομματος)     467\n",
       "12                        λαικος ορθοδοξος συναγερμος     374\n",
       "6   δημοκρατικη συμπαραταξη (πανελληνιο σοσιαλιστι...     338\n",
       "13                       λαικος συνδεσος - χρυση αυγη     210\n",
       "2                ανεξαρτητοι ελληνες - πανος καμμενος     181\n",
       "8                                      ενωση κεντρωων     149\n",
       "20                                          το ποταμι     128\n",
       "7                        δημοκρατικο κοινωνικο κινημα      89\n",
       "3   ανεξαρτητοι ελληνες εθνικη πατριωτικη δημοκρατ...      88\n",
       "5                                δημοκρατικη αριστερα      85\n",
       "17                                    πολιτικη ανοιξη      51\n",
       "1                  ανεξαρτητοι δημοκρατικοι βουλευτες      32\n",
       "15  οικολογοι εναλλακτικοι (ομοσπονδια οικολογικων...       3\n",
       "11                                      λαικη ενοτητα       2\n",
       "10             κομμουνιστικο κομμα ελλαδας εσωτερικου       1"
      ]
     },
     "execution_count": 6,
     "metadata": {},
     "output_type": "execute_result"
    }
   ],
   "source": [
    "sorted_parties = df.groupby('political_party').count()['speech'].reset_index().sort_values(by=['speech'], ascending=False)\n",
    "sorted_parties"
   ]
  },
  {
   "cell_type": "code",
   "execution_count": 7,
   "metadata": {},
   "outputs": [
    {
     "data": {
      "text/plain": [
       "['δημοκρατικο κοινωνικο κινημα',\n",
       " 'ανεξαρτητοι ελληνες εθνικη πατριωτικη δημοκρατικη συμμαχια',\n",
       " 'δημοκρατικη αριστερα',\n",
       " 'πολιτικη ανοιξη',\n",
       " 'ανεξαρτητοι δημοκρατικοι βουλευτες',\n",
       " 'οικολογοι εναλλακτικοι (ομοσπονδια οικολογικων εναλλακτικων οργανωσεων)',\n",
       " 'λαικη ενοτητα',\n",
       " 'κομμουνιστικο κομμα ελλαδας εσωτερικου']"
      ]
     },
     "execution_count": 7,
     "metadata": {},
     "output_type": "execute_result"
    }
   ],
   "source": [
    "thres = 100\n",
    "excluded_names = sorted_parties[sorted_parties.speech<thres].political_party.tolist()\n",
    "excluded_names"
   ]
  },
  {
   "cell_type": "code",
   "execution_count": 8,
   "metadata": {},
   "outputs": [],
   "source": [
    "df = df[~df.political_party.isin(excluded_names)]"
   ]
  },
  {
   "cell_type": "markdown",
   "metadata": {},
   "source": [
    "We will split the dataset into three subsets (train, dev, test)"
   ]
  },
  {
   "cell_type": "code",
   "execution_count": 9,
   "metadata": {},
   "outputs": [],
   "source": [
    "X = df.speech.tolist() # get speeches\n",
    "y = df.political_party.tolist() # get targets\n",
    "\n",
    "# train, test = np.split(df.sample(frac=1, random_state=42)[['speech','political_party']], \n",
    "#                        [int(.9*len(df))])\n",
    "X_train, X_test, y_train, y_test = train_test_split(X, y, test_size=0.01, random_state=0)\n",
    "\n",
    "X_train, X_dev, y_train, y_dev = train_test_split(X_train, y_train, test_size=0.01, random_state=0)"
   ]
  },
  {
   "cell_type": "code",
   "execution_count": 10,
   "metadata": {},
   "outputs": [],
   "source": [
    "train_data = zip(X_train, y_train)\n",
    "test_data = zip(X_test, y_test)\n",
    "dev_data = zip(X_dev, y_dev)"
   ]
  },
  {
   "cell_type": "markdown",
   "metadata": {},
   "source": [
    "We will preprocess texts to lowercase letters and remove all Greek diacritics using the following function:"
   ]
  },
  {
   "cell_type": "code",
   "execution_count": 12,
   "metadata": {},
   "outputs": [],
   "source": [
    "def strip_accents_and_lowercase(s):\n",
    "    return ''.join(c for c in unicodedata.normalize('NFD', s)\n",
    "                  if unicodedata.category(c) != 'Mn').lower()"
   ]
  },
  {
   "cell_type": "markdown",
   "metadata": {},
   "source": [
    "We will use the same 13 parties as we did before and will map each party to a specific number. "
   ]
  },
  {
   "cell_type": "code",
   "execution_count": 13,
   "metadata": {},
   "outputs": [],
   "source": [
    "I2L = df.political_party.unique().tolist()\n",
    "L2I = {k: i for i, k in enumerate(I2L)}"
   ]
  },
  {
   "cell_type": "markdown",
   "metadata": {},
   "source": [
    "Our model will have the same number of outputs as the number of parties."
   ]
  },
  {
   "cell_type": "code",
   "execution_count": 14,
   "metadata": {},
   "outputs": [],
   "source": [
    "out_len = len(df.political_party.unique())"
   ]
  },
  {
   "cell_type": "markdown",
   "metadata": {},
   "source": [
    "We will create the model class with the layers shown above. <br />\n",
    "We will use dropout layer which randomly sets some units to 0 to precent model from overfitting."
   ]
  },
  {
   "cell_type": "code",
   "execution_count": 15,
   "metadata": {},
   "outputs": [],
   "source": [
    "class customModel(nn.Module):\n",
    "    def __init__(self, bert_model, dp):\n",
    "        \"\"\"\n",
    "        :param dp: the drop out probability\n",
    "        \"\"\"\n",
    "        super(customModel, self).__init__()\n",
    "        self._bert_model = bert_model\n",
    "        self._dp = nn.Dropout(dp)\n",
    "        self.linear = nn.Linear(768, out_len)\n",
    "\n",
    "    def forward(self, text, text_len):\n",
    "        attention_mask = pwF.create_mask_from_length(text_len, text.shape[1])\n",
    "        bert = self._bert_model(text, attention_mask=attention_mask)\n",
    "        cls_token = bert[1]\n",
    "        output_linear = self.linear(self._dp(cls_token))\n",
    "        return output_linear"
   ]
  },
  {
   "cell_type": "markdown",
   "metadata": {},
   "source": [
    "Padding function: <br >\n",
    "We need this in order to have inputs with the same size (the same number of words)."
   ]
  },
  {
   "cell_type": "code",
   "execution_count": 16,
   "metadata": {},
   "outputs": [],
   "source": [
    "def pad_to_max(lst, max_len=None, pad_value=0):\n",
    "    pad = len(max(lst, key=len))\n",
    "    if max_len is not None:\n",
    "        pad = min(max_len, pad)\n",
    "\n",
    "    return [i + [pad_value for _ in range(pad - len(i))] if len(i) <= pad else i[:pad] for i in lst]"
   ]
  },
  {
   "cell_type": "markdown",
   "metadata": {},
   "source": [
    "Function which returns the evaluators for the model:"
   ]
  },
  {
   "cell_type": "code",
   "execution_count": 17,
   "metadata": {},
   "outputs": [],
   "source": [
    "def get_evaluators():\n",
    "        evals = {}\n",
    "        evals['f1-macro'] = pw.evaluators.MultiClassF1Evaluator(average='macro')\n",
    "        evals['f1-micro'] = pw.evaluators.MultiClassF1Evaluator(average='micro')\n",
    "        return evals"
   ]
  },
  {
   "cell_type": "markdown",
   "metadata": {},
   "source": [
    "Function which process an example:\n",
    "Because the Bert lack of ability to handle long text sequence and some of our examples are longer than 512 (which is the limit) we have to choose how to exclude some words. According to this paper (https://arxiv.org/abs/1905.05583),the best option is to cut out the middle of the text (rather than truncate the beginning or the end), so we will follow this approach."
   ]
  },
  {
   "cell_type": "code",
   "execution_count": 18,
   "metadata": {},
   "outputs": [],
   "source": [
    "def process_example(tokens, tokenizer, bert_like_special_tokens):\n",
    "    transformer_tokens = [tokenizer.cls_token_id] if bert_like_special_tokens else [tokenizer.bos_token_id]\n",
    "    is_subtoken = [0]\n",
    "    for token in tokens: \n",
    "        processed_token = strip_accents_and_lowercase(token)\n",
    "        current_tokens = tokenizer.encode(processed_token, add_special_tokens=False)\n",
    "        if len(current_tokens) == 0:\n",
    "            current_tokens = [tokenizer.unk_token_id]\n",
    "        transformer_tokens.extend(current_tokens)\n",
    "        \n",
    "        is_subtoken.extend([1] + [0] * (len(current_tokens) - 1))\n",
    "    transformer_tokens.append(tokenizer.sep_token_id if bert_like_special_tokens else tokenizer.eos_token_id)\n",
    "    l = len(transformer_tokens)\n",
    "    if(l>512):\n",
    "        new_tokens = []\n",
    "        middle = 256 # 512/2\n",
    "        if(is_subtoken[middle]==0): #is subtoken\n",
    "            middle = is_subtoken.index(1, middle) -1 #find next token\n",
    "        new_tokens = transformer_tokens[:middle] + transformer_tokens[l-(512-middle):]\n",
    "        transformer_tokens = new_tokens\n",
    "        \n",
    "    return transformer_tokens, len(transformer_tokens)"
   ]
  },
  {
   "cell_type": "markdown",
   "metadata": {},
   "source": [
    "Function which creates batches:"
   ]
  },
  {
   "cell_type": "code",
   "execution_count": 19,
   "metadata": {},
   "outputs": [],
   "source": [
    "def collate_fn(batch, pad_value):\n",
    "    batch_zipped = list(zip(*batch))\n",
    "    input_zipped = list(zip(*batch_zipped[1]))\n",
    "        \n",
    "    ids = batch_zipped[0]\n",
    "    texts = torch.tensor(pad_to_max(input_zipped[0], pad_value=pad_value), dtype=torch.long)\n",
    "    text_lens = torch.tensor(input_zipped[1], dtype=torch.int)\n",
    "    \n",
    "    target = torch.tensor(batch_zipped[2], dtype=torch.long)\n",
    "\n",
    "    batch = {\n",
    "        'id': ids,\n",
    "        'input': [texts, text_lens],\n",
    "        'target': target\n",
    "    }\n",
    "    return batch"
   ]
  },
  {
   "cell_type": "markdown",
   "metadata": {},
   "source": [
    "Dataset class:"
   ]
  },
  {
   "cell_type": "code",
   "execution_count": 20,
   "metadata": {},
   "outputs": [],
   "source": [
    "class customDataset(Dataset):\n",
    "    def __init__(self, data, tokenizer, bert_like_special_tokens=True):\n",
    "        self.ids = []\n",
    "        self.texts = []\n",
    "        self.text_lens = []\n",
    "        self.target = []\n",
    "        for i, row in enumerate(data):\n",
    "            cur_texts, cur_text_lens = process_example(\n",
    "                row[0].split(),\n",
    "                tokenizer,\n",
    "                bert_like_special_tokens\n",
    "            )\n",
    "            self.ids.append(i)\n",
    "            self.texts.append(cur_texts)\n",
    "            self.text_lens.append(cur_text_lens)\n",
    "            self.target.append(L2I.get(row[1],-1))\n",
    "\n",
    "    def __getitem__(self, index):\n",
    "        return (\n",
    "            self.ids[index],\n",
    "            (self.texts[index], self.text_lens[index]),\n",
    "            self.target[index]\n",
    "        )\n",
    "\n",
    "    def __len__(self):\n",
    "        return len(self.ids)"
   ]
  },
  {
   "cell_type": "markdown",
   "metadata": {},
   "source": [
    "Some useful parameters:"
   ]
  },
  {
   "cell_type": "code",
   "execution_count": 21,
   "metadata": {},
   "outputs": [],
   "source": [
    "dp = 0.2\n",
    "lr = 2e-05\n",
    "batch_size = 4\n",
    "grad_accumulation_steps = 2\n",
    "pretrained_bert_name = 'nlpaueb/bert-base-greek-uncased-v1'\n",
    "model_params = {'dp': dp}"
   ]
  },
  {
   "cell_type": "markdown",
   "metadata": {},
   "source": [
    "Bert model definition:"
   ]
  },
  {
   "cell_type": "code",
   "execution_count": 22,
   "metadata": {},
   "outputs": [],
   "source": [
    "bert_model = AutoModel.from_pretrained(pretrained_bert_name)\n",
    "tokenizer = AutoTokenizer.from_pretrained(pretrained_bert_name)\n",
    "pad_value = tokenizer.pad_token_id\n",
    "\n",
    "model = customModel(bert_model ,**model_params)\n",
    "\n",
    "if torch.cuda.is_available():\n",
    "    system = pw.System(model, last_activation=nn.Softmax(dim=-1), device=torch.device('cuda'))\n",
    "else:\n",
    "    system = pw.System(model, last_activation=nn.Softmax(dim=-1), device=torch.device('cpu'))"
   ]
  },
  {
   "cell_type": "markdown",
   "metadata": {},
   "source": [
    "We will load the data:"
   ]
  },
  {
   "cell_type": "code",
   "execution_count": 23,
   "metadata": {},
   "outputs": [],
   "source": [
    "torch.manual_seed(0)\n",
    "      \n",
    "train_dataset = customDataset(train_data, tokenizer)\n",
    "train_dataloader = DataLoader(train_dataset, sampler=RandomSampler(train_dataset), batch_size=batch_size, collate_fn=partial(collate_fn, pad_value=pad_value))\n",
    "\n",
    "test_dataset = customDataset(test_data, tokenizer)\n",
    "test_dataloader = DataLoader(test_dataset, sampler=SequentialSampler(test_dataset), batch_size=batch_size, collate_fn=partial(collate_fn, pad_value=pad_value))\n",
    "\n",
    "dev_dataset = customDataset(dev_data, tokenizer)\n",
    "dev_dataloader = DataLoader(dev_dataset, sampler=SequentialSampler(dev_dataset), batch_size=batch_size, collate_fn=partial(collate_fn, pad_value=pad_value))"
   ]
  },
  {
   "cell_type": "markdown",
   "metadata": {},
   "source": [
    "We will use cross entropy loss and adamw optimizer:"
   ]
  },
  {
   "cell_type": "code",
   "execution_count": 24,
   "metadata": {},
   "outputs": [],
   "source": [
    "loss_wrapper = pw.loss_wrappers.GenericPointWiseLossWrapper(nn.CrossEntropyLoss())\n",
    "optimizer = AdamW(system.model.parameters(), lr=lr)"
   ]
  },
  {
   "cell_type": "code",
   "execution_count": 25,
   "metadata": {},
   "outputs": [],
   "source": [
    "base_es_path = f'/tmp/{uuid.uuid4().hex[:30]}/'\n",
    "os.makedirs(base_es_path, exist_ok=True)"
   ]
  },
  {
   "cell_type": "markdown",
   "metadata": {},
   "source": [
    "Now, it's time to train the model:"
   ]
  },
  {
   "cell_type": "code",
   "execution_count": 26,
   "metadata": {},
   "outputs": [
    {
     "name": "stdout",
     "output_type": "stream",
     "text": [
      "val\n",
      "macro-f1: 0.1505\n",
      "micro-f1: 0.3793\n",
      "val\n",
      "macro-f1: 0.2171\n",
      "micro-f1: 0.5000\n",
      "val\n",
      "macro-f1: 0.2195\n",
      "micro-f1: 0.4770\n",
      "val\n",
      "macro-f1: 0.2777\n",
      "micro-f1: 0.4713\n",
      "val\n",
      "macro-f1: 0.2224\n",
      "micro-f1: 0.4885\n",
      "val\n",
      "macro-f1: 0.2500\n",
      "micro-f1: 0.4425\n",
      "val\n",
      "macro-f1: 0.3185\n",
      "micro-f1: 0.4770\n",
      "val\n",
      "macro-f1: 0.3201\n",
      "micro-f1: 0.5172\n",
      "val\n",
      "macro-f1: 0.3055\n",
      "micro-f1: 0.5057\n",
      "val\n",
      "macro-f1: 0.2549\n",
      "micro-f1: 0.4885\n",
      "val\n",
      "macro-f1: 0.2470\n",
      "micro-f1: 0.5115\n",
      "val\n",
      "macro-f1: 0.2637\n",
      "micro-f1: 0.5057\n"
     ]
    }
   ],
   "source": [
    "_ = system.train(loss_wrapper, optimizer, train_data_loader=train_dataloader, evaluation_data_loaders={'val': dev_dataloader},\n",
    "            evaluators= get_evaluators(),\n",
    "            gradient_accumulation_steps=grad_accumulation_steps,\n",
    "            callbacks=[\n",
    "                pw.training_callbacks.EarlyStoppingCriterionCallback(\n",
    "                    patience=3,\n",
    "                    evaluation_data_loader_key='val',\n",
    "                    evaluator_key='f1-macro',\n",
    "                    tmp_best_state_filepath=f'{base_es_path}/temp.es.weights'\n",
    "                )\n",
    "            ],\n",
    "            verbose=False\n",
    "        )"
   ]
  },
  {
   "cell_type": "markdown",
   "metadata": {},
   "source": [
    "Finally, we have the following results:"
   ]
  },
  {
   "cell_type": "code",
   "execution_count": 27,
   "metadata": {},
   "outputs": [
    {
     "name": "stdout",
     "output_type": "stream",
     "text": [
      "{'f1-macro': macro-f1: 0.2593, 'f1-micro': micro-f1: 0.3750}\n"
     ]
    }
   ],
   "source": [
    "results = system.evaluate(test_dataloader, get_evaluators(), verbose=False)\n",
    "print(results)"
   ]
  },
  {
   "cell_type": "markdown",
   "metadata": {},
   "source": [
    "Because the results  wasn't good enough, we will get 5% of the dataset."
   ]
  },
  {
   "cell_type": "code",
   "execution_count": 2,
   "metadata": {},
   "outputs": [],
   "source": [
    "zf = zipfile.ZipFile('Greek_Parliament_Proceedings_1989_2019.csv.zip') \n",
    "df = pd.read_csv(zf.open('Greek_Parliament_Proceedings_1989_2019.csv'))\n",
    "df.head(5)\n",
    "\n",
    "df = df.sample(frac=0.05, random_state=42) \n",
    "compression_opts = dict(method='zip',\n",
    "                        archive_name='out.csv')\n",
    "df.to_csv('Greek_Parliament_part1.zip',compression=compression_opts)"
   ]
  },
  {
   "cell_type": "code",
   "execution_count": 3,
   "metadata": {},
   "outputs": [
    {
     "data": {
      "text/html": [
       "<div>\n",
       "<style scoped>\n",
       "    .dataframe tbody tr th:only-of-type {\n",
       "        vertical-align: middle;\n",
       "    }\n",
       "\n",
       "    .dataframe tbody tr th {\n",
       "        vertical-align: top;\n",
       "    }\n",
       "\n",
       "    .dataframe thead th {\n",
       "        text-align: right;\n",
       "    }\n",
       "</style>\n",
       "<table border=\"1\" class=\"dataframe\">\n",
       "  <thead>\n",
       "    <tr style=\"text-align: right;\">\n",
       "      <th></th>\n",
       "      <th>Unnamed: 0</th>\n",
       "      <th>member_name</th>\n",
       "      <th>sitting_date</th>\n",
       "      <th>parliamentary_period</th>\n",
       "      <th>parliamentary_session</th>\n",
       "      <th>parliamentary_sitting</th>\n",
       "      <th>political_party</th>\n",
       "      <th>speaker_info</th>\n",
       "      <th>speech</th>\n",
       "    </tr>\n",
       "  </thead>\n",
       "  <tbody>\n",
       "    <tr>\n",
       "      <th>0</th>\n",
       "      <td>1073670</td>\n",
       "      <td>βαρεμενος βασιλειου γεωργιος</td>\n",
       "      <td>2016-09-20</td>\n",
       "      <td>period 17 presided parliamentary republic</td>\n",
       "      <td>session 1</td>\n",
       "      <td>sitting 192</td>\n",
       "      <td>συνασπισμος ριζοσπαστικης αριστερας</td>\n",
       "      <td>προεδρευων</td>\n",
       "      <td>Το σχέδιο νόμου έγινε δεκτό και στο σύνολο κα...</td>\n",
       "    </tr>\n",
       "    <tr>\n",
       "      <th>1</th>\n",
       "      <td>720621</td>\n",
       "      <td>γκατζης φιλιππου νικολαος</td>\n",
       "      <td>2009-07-01</td>\n",
       "      <td>period 12 presided parliamentary republic</td>\n",
       "      <td>'09 summer recess section 1</td>\n",
       "      <td>sitting 11</td>\n",
       "      <td>κομμουνιστικο κομμα ελλαδας</td>\n",
       "      <td>NaN</td>\n",
       "      <td>Κατά πλειοψηφία.</td>\n",
       "    </tr>\n",
       "    <tr>\n",
       "      <th>2</th>\n",
       "      <td>538543</td>\n",
       "      <td>καλος βασιλειου γεωργιος</td>\n",
       "      <td>2005-05-30</td>\n",
       "      <td>period 11 presided parliamentary republic</td>\n",
       "      <td>session 1 continuation of plenary session</td>\n",
       "      <td>sitting 172</td>\n",
       "      <td>νεα δημοκρατια</td>\n",
       "      <td>υφυπουργος εθνικης παιδειας και θρησκευματων</td>\n",
       "      <td>Κύριε Πρόεδρε, θα ήθελα να δηλώσω ότι θα απαν...</td>\n",
       "    </tr>\n",
       "    <tr>\n",
       "      <th>3</th>\n",
       "      <td>464616</td>\n",
       "      <td>κακλαμανης χρηστου αποστολος</td>\n",
       "      <td>2003-02-05</td>\n",
       "      <td>period 10 presided parliamentary republic</td>\n",
       "      <td>session 3</td>\n",
       "      <td>sitting 66</td>\n",
       "      <td>πανελληνιο σοσιαλιστικο κινημα</td>\n",
       "      <td>προεδρος</td>\n",
       "      <td>Ναι, μάλλον την Τρίτη. Επομένως για την αυρια...</td>\n",
       "    </tr>\n",
       "    <tr>\n",
       "      <th>4</th>\n",
       "      <td>389054</td>\n",
       "      <td>γειτονας ιωαννη κωνσταντινος</td>\n",
       "      <td>2001-02-12</td>\n",
       "      <td>period 10 presided parliamentary republic</td>\n",
       "      <td>session 1 continuation of plenary session</td>\n",
       "      <td>sitting 111</td>\n",
       "      <td>πανελληνιο σοσιαλιστικο κινημα</td>\n",
       "      <td>προεδρευων</td>\n",
       "      <td>Κυρίες και κύριοι συνάδελφοι, έχω την τιμή να...</td>\n",
       "    </tr>\n",
       "  </tbody>\n",
       "</table>\n",
       "</div>"
      ],
      "text/plain": [
       "   Unnamed: 0                   member_name sitting_date  \\\n",
       "0     1073670  βαρεμενος βασιλειου γεωργιος   2016-09-20   \n",
       "1      720621     γκατζης φιλιππου νικολαος   2009-07-01   \n",
       "2      538543      καλος βασιλειου γεωργιος   2005-05-30   \n",
       "3      464616  κακλαμανης χρηστου αποστολος   2003-02-05   \n",
       "4      389054  γειτονας ιωαννη κωνσταντινος   2001-02-12   \n",
       "\n",
       "                        parliamentary_period  \\\n",
       "0  period 17 presided parliamentary republic   \n",
       "1  period 12 presided parliamentary republic   \n",
       "2  period 11 presided parliamentary republic   \n",
       "3  period 10 presided parliamentary republic   \n",
       "4  period 10 presided parliamentary republic   \n",
       "\n",
       "                       parliamentary_session parliamentary_sitting  \\\n",
       "0                                  session 1           sitting 192   \n",
       "1                '09 summer recess section 1            sitting 11   \n",
       "2  session 1 continuation of plenary session           sitting 172   \n",
       "3                                  session 3            sitting 66   \n",
       "4  session 1 continuation of plenary session           sitting 111   \n",
       "\n",
       "                       political_party  \\\n",
       "0  συνασπισμος ριζοσπαστικης αριστερας   \n",
       "1          κομμουνιστικο κομμα ελλαδας   \n",
       "2                       νεα δημοκρατια   \n",
       "3       πανελληνιο σοσιαλιστικο κινημα   \n",
       "4       πανελληνιο σοσιαλιστικο κινημα   \n",
       "\n",
       "                                   speaker_info  \\\n",
       "0                                    προεδρευων   \n",
       "1                                           NaN   \n",
       "2  υφυπουργος εθνικης παιδειας και θρησκευματων   \n",
       "3                                      προεδρος   \n",
       "4                                    προεδρευων   \n",
       "\n",
       "                                              speech  \n",
       "0   Το σχέδιο νόμου έγινε δεκτό και στο σύνολο κα...  \n",
       "1                                   Κατά πλειοψηφία.  \n",
       "2   Κύριε Πρόεδρε, θα ήθελα να δηλώσω ότι θα απαν...  \n",
       "3   Ναι, μάλλον την Τρίτη. Επομένως για την αυρια...  \n",
       "4   Κυρίες και κύριοι συνάδελφοι, έχω την τιμή να...  "
      ]
     },
     "execution_count": 3,
     "metadata": {},
     "output_type": "execute_result"
    }
   ],
   "source": [
    "zf = zipfile.ZipFile('Greek_Parliament_part2.zip') \n",
    "df = pd.read_csv(zf.open('out.csv'))\n",
    "df.head(5)"
   ]
  },
  {
   "cell_type": "code",
   "execution_count": 4,
   "metadata": {},
   "outputs": [],
   "source": [
    "df.sitting_date = pd.to_datetime(df.sitting_date)"
   ]
  },
  {
   "cell_type": "code",
   "execution_count": 5,
   "metadata": {},
   "outputs": [],
   "source": [
    "df.dropna(subset=['political_party', 'speech'], inplace=True)\n",
    "sorted_parties = df.groupby('political_party').count()['speech'].reset_index().sort_values(by=['speech'], ascending=False)"
   ]
  },
  {
   "cell_type": "code",
   "execution_count": 7,
   "metadata": {},
   "outputs": [
    {
     "data": {
      "text/plain": [
       "['δημοκρατικο κοινωνικο κινημα',\n",
       " 'ανεξαρτητοι ελληνες εθνικη πατριωτικη δημοκρατικη συμμαχια',\n",
       " 'δημοκρατικη αριστερα',\n",
       " 'πολιτικη ανοιξη',\n",
       " 'ανεξαρτητοι δημοκρατικοι βουλευτες',\n",
       " 'λαικη ενοτητα',\n",
       " 'οικολογοι εναλλακτικοι (ομοσπονδια οικολογικων εναλλακτικων οργανωσεων)',\n",
       " 'κομμουνιστικο κομμα ελλαδας εσωτερικου',\n",
       " 'δημοκρατικη ανανεωση']"
      ]
     },
     "execution_count": 7,
     "metadata": {},
     "output_type": "execute_result"
    }
   ],
   "source": [
    "thres = 350\n",
    "excluded_names = sorted_parties[sorted_parties.speech<thres].political_party.tolist()\n",
    "excluded_names"
   ]
  },
  {
   "cell_type": "code",
   "execution_count": 8,
   "metadata": {},
   "outputs": [],
   "source": [
    "df = df[~df.political_party.isin(excluded_names)]"
   ]
  },
  {
   "cell_type": "code",
   "execution_count": 9,
   "metadata": {},
   "outputs": [],
   "source": [
    "X = df.speech.tolist() # get speeches\n",
    "y = df.political_party.tolist() # get targets\n",
    "\n",
    "X_train, X_test, y_train, y_test = train_test_split(X, y, test_size=0.01, random_state=0)\n",
    "\n",
    "X_train, X_dev, y_train, y_dev = train_test_split(X_train, y_train, test_size=0.01, random_state=0)"
   ]
  },
  {
   "cell_type": "code",
   "execution_count": 10,
   "metadata": {},
   "outputs": [],
   "source": [
    "train_data = zip(X_train, y_train)\n",
    "test_data = zip(X_test, y_test)\n",
    "dev_data = zip(X_dev, y_dev)"
   ]
  },
  {
   "cell_type": "code",
   "execution_count": 13,
   "metadata": {},
   "outputs": [],
   "source": [
    "I2L = df.political_party.unique().tolist()\n",
    "L2I = {k: i for i, k in enumerate(I2L)}"
   ]
  },
  {
   "cell_type": "code",
   "execution_count": 14,
   "metadata": {},
   "outputs": [],
   "source": [
    "out_len = len(df.political_party.unique())"
   ]
  },
  {
   "cell_type": "code",
   "execution_count": 15,
   "metadata": {},
   "outputs": [],
   "source": [
    "class customModel(nn.Module):\n",
    "    def __init__(self, bert_model, dp):\n",
    "        \"\"\"\n",
    "        :param dp: the drop out probability\n",
    "        \"\"\"\n",
    "        super(customModel, self).__init__()\n",
    "        self._bert_model = bert_model\n",
    "        self._dp = nn.Dropout(dp)\n",
    "        self.linear = nn.Linear(768, out_len)\n",
    "\n",
    "    def forward(self, text, text_len):\n",
    "        attention_mask = pwF.create_mask_from_length(text_len, text.shape[1])\n",
    "        bert = self._bert_model(text, attention_mask=attention_mask)\n",
    "        cls_token = bert[1]\n",
    "        output_linear = self.linear(self._dp(cls_token))\n",
    "        return output_linear"
   ]
  },
  {
   "cell_type": "code",
   "execution_count": 23,
   "metadata": {},
   "outputs": [],
   "source": [
    "torch.manual_seed(0)\n",
    "      \n",
    "train_dataset = customDataset(train_data, tokenizer)\n",
    "train_dataloader = DataLoader(train_dataset, sampler=RandomSampler(train_dataset), batch_size=batch_size, collate_fn=partial(collate_fn, pad_value=pad_value))\n",
    "\n",
    "test_dataset = customDataset(test_data, tokenizer)\n",
    "test_dataloader = DataLoader(test_dataset, sampler=SequentialSampler(test_dataset), batch_size=batch_size, collate_fn=partial(collate_fn, pad_value=pad_value))\n",
    "\n",
    "dev_dataset = customDataset(dev_data, tokenizer)\n",
    "dev_dataloader = DataLoader(dev_dataset, sampler=SequentialSampler(dev_dataset), batch_size=batch_size, collate_fn=partial(collate_fn, pad_value=pad_value))"
   ]
  },
  {
   "cell_type": "code",
   "execution_count": 26,
   "metadata": {},
   "outputs": [
    {
     "name": "stdout",
     "output_type": "stream",
     "text": [
      "val\n",
      "macro-f1: 0.2625\n",
      "micro-f1: 0.4544\n",
      "val\n",
      "macro-f1: 0.3120\n",
      "micro-f1: 0.4991\n",
      "val\n",
      "macro-f1: 0.3402\n",
      "micro-f1: 0.5353\n",
      "val\n",
      "macro-f1: 0.3157\n",
      "micro-f1: 0.5026\n",
      "val\n",
      "macro-f1: 0.3328\n",
      "micro-f1: 0.5060\n",
      "val\n",
      "macro-f1: 0.3030\n",
      "micro-f1: 0.4819\n",
      "val\n",
      "macro-f1: 0.3085\n",
      "micro-f1: 0.4923\n"
     ]
    }
   ],
   "source": [
    "_ = system.train(loss_wrapper, optimizer, train_data_loader=train_dataloader, evaluation_data_loaders={'val': dev_dataloader},\n",
    "            evaluators= get_evaluators(),\n",
    "            gradient_accumulation_steps=grad_accumulation_steps,\n",
    "            callbacks=[\n",
    "                pw.training_callbacks.EarlyStoppingCriterionCallback(\n",
    "                    patience=3,\n",
    "                    evaluation_data_loader_key='val',\n",
    "                    evaluator_key='f1-macro',\n",
    "                    tmp_best_state_filepath=f'{base_es_path}/temp.es.weights'\n",
    "                )\n",
    "            ],\n",
    "            verbose=False\n",
    "        )"
   ]
  },
  {
   "cell_type": "code",
   "execution_count": 27,
   "metadata": {},
   "outputs": [
    {
     "name": "stdout",
     "output_type": "stream",
     "text": [
      "{'f1-macro': macro-f1: 0.3237, 'f1-micro': micro-f1: 0.5162}\n"
     ]
    }
   ],
   "source": [
    "results = system.evaluate(test_dataloader, get_evaluators(), verbose=False)\n",
    "print(results)"
   ]
  },
  {
   "cell_type": "markdown",
   "metadata": {},
   "source": [
    "The results are much better. The small part of the dataset we got wasn't enough but because of the lack of sources we can't increase it again."
   ]
  },
  {
   "cell_type": "markdown",
   "metadata": {},
   "source": [
    "## Τext generator"
   ]
  },
  {
   "cell_type": "markdown",
   "metadata": {},
   "source": [
    "We are going to create a word-level text generator (because a character-level one generates unusual words)"
   ]
  },
  {
   "cell_type": "markdown",
   "metadata": {},
   "source": [
    "We will read again the dataset because we won't exclude parties, so we will include the speeches of those parties. Also, the preprocessing will be different."
   ]
  },
  {
   "cell_type": "code",
   "execution_count": 3,
   "metadata": {},
   "outputs": [
    {
     "data": {
      "text/html": [
       "<div>\n",
       "<style scoped>\n",
       "    .dataframe tbody tr th:only-of-type {\n",
       "        vertical-align: middle;\n",
       "    }\n",
       "\n",
       "    .dataframe tbody tr th {\n",
       "        vertical-align: top;\n",
       "    }\n",
       "\n",
       "    .dataframe thead th {\n",
       "        text-align: right;\n",
       "    }\n",
       "</style>\n",
       "<table border=\"1\" class=\"dataframe\">\n",
       "  <thead>\n",
       "    <tr style=\"text-align: right;\">\n",
       "      <th></th>\n",
       "      <th>Unnamed: 0</th>\n",
       "      <th>member_name</th>\n",
       "      <th>sitting_date</th>\n",
       "      <th>parliamentary_period</th>\n",
       "      <th>parliamentary_session</th>\n",
       "      <th>parliamentary_sitting</th>\n",
       "      <th>political_party</th>\n",
       "      <th>speaker_info</th>\n",
       "      <th>speech</th>\n",
       "    </tr>\n",
       "  </thead>\n",
       "  <tbody>\n",
       "    <tr>\n",
       "      <th>0</th>\n",
       "      <td>1073670</td>\n",
       "      <td>βαρεμενος βασιλειου γεωργιος</td>\n",
       "      <td>2016-09-20</td>\n",
       "      <td>period 17 presided parliamentary republic</td>\n",
       "      <td>session 1</td>\n",
       "      <td>sitting 192</td>\n",
       "      <td>συνασπισμος ριζοσπαστικης αριστερας</td>\n",
       "      <td>προεδρευων</td>\n",
       "      <td>Το σχέδιο νόμου έγινε δεκτό και στο σύνολο κα...</td>\n",
       "    </tr>\n",
       "    <tr>\n",
       "      <th>1</th>\n",
       "      <td>720621</td>\n",
       "      <td>γκατζης φιλιππου νικολαος</td>\n",
       "      <td>2009-07-01</td>\n",
       "      <td>period 12 presided parliamentary republic</td>\n",
       "      <td>'09 summer recess section 1</td>\n",
       "      <td>sitting 11</td>\n",
       "      <td>κομμουνιστικο κομμα ελλαδας</td>\n",
       "      <td>NaN</td>\n",
       "      <td>Κατά πλειοψηφία.</td>\n",
       "    </tr>\n",
       "    <tr>\n",
       "      <th>2</th>\n",
       "      <td>538543</td>\n",
       "      <td>καλος βασιλειου γεωργιος</td>\n",
       "      <td>2005-05-30</td>\n",
       "      <td>period 11 presided parliamentary republic</td>\n",
       "      <td>session 1 continuation of plenary session</td>\n",
       "      <td>sitting 172</td>\n",
       "      <td>νεα δημοκρατια</td>\n",
       "      <td>υφυπουργος εθνικης παιδειας και θρησκευματων</td>\n",
       "      <td>Κύριε Πρόεδρε, θα ήθελα να δηλώσω ότι θα απαν...</td>\n",
       "    </tr>\n",
       "    <tr>\n",
       "      <th>3</th>\n",
       "      <td>464616</td>\n",
       "      <td>κακλαμανης χρηστου αποστολος</td>\n",
       "      <td>2003-02-05</td>\n",
       "      <td>period 10 presided parliamentary republic</td>\n",
       "      <td>session 3</td>\n",
       "      <td>sitting 66</td>\n",
       "      <td>πανελληνιο σοσιαλιστικο κινημα</td>\n",
       "      <td>προεδρος</td>\n",
       "      <td>Ναι, μάλλον την Τρίτη. Επομένως για την αυρια...</td>\n",
       "    </tr>\n",
       "    <tr>\n",
       "      <th>4</th>\n",
       "      <td>389054</td>\n",
       "      <td>γειτονας ιωαννη κωνσταντινος</td>\n",
       "      <td>2001-02-12</td>\n",
       "      <td>period 10 presided parliamentary republic</td>\n",
       "      <td>session 1 continuation of plenary session</td>\n",
       "      <td>sitting 111</td>\n",
       "      <td>πανελληνιο σοσιαλιστικο κινημα</td>\n",
       "      <td>προεδρευων</td>\n",
       "      <td>Κυρίες και κύριοι συνάδελφοι, έχω την τιμή να...</td>\n",
       "    </tr>\n",
       "  </tbody>\n",
       "</table>\n",
       "</div>"
      ],
      "text/plain": [
       "   Unnamed: 0                   member_name sitting_date  \\\n",
       "0     1073670  βαρεμενος βασιλειου γεωργιος   2016-09-20   \n",
       "1      720621     γκατζης φιλιππου νικολαος   2009-07-01   \n",
       "2      538543      καλος βασιλειου γεωργιος   2005-05-30   \n",
       "3      464616  κακλαμανης χρηστου αποστολος   2003-02-05   \n",
       "4      389054  γειτονας ιωαννη κωνσταντινος   2001-02-12   \n",
       "\n",
       "                        parliamentary_period  \\\n",
       "0  period 17 presided parliamentary republic   \n",
       "1  period 12 presided parliamentary republic   \n",
       "2  period 11 presided parliamentary republic   \n",
       "3  period 10 presided parliamentary republic   \n",
       "4  period 10 presided parliamentary republic   \n",
       "\n",
       "                       parliamentary_session parliamentary_sitting  \\\n",
       "0                                  session 1           sitting 192   \n",
       "1                '09 summer recess section 1            sitting 11   \n",
       "2  session 1 continuation of plenary session           sitting 172   \n",
       "3                                  session 3            sitting 66   \n",
       "4  session 1 continuation of plenary session           sitting 111   \n",
       "\n",
       "                       political_party  \\\n",
       "0  συνασπισμος ριζοσπαστικης αριστερας   \n",
       "1          κομμουνιστικο κομμα ελλαδας   \n",
       "2                       νεα δημοκρατια   \n",
       "3       πανελληνιο σοσιαλιστικο κινημα   \n",
       "4       πανελληνιο σοσιαλιστικο κινημα   \n",
       "\n",
       "                                   speaker_info  \\\n",
       "0                                    προεδρευων   \n",
       "1                                           NaN   \n",
       "2  υφυπουργος εθνικης παιδειας και θρησκευματων   \n",
       "3                                      προεδρος   \n",
       "4                                    προεδρευων   \n",
       "\n",
       "                                              speech  \n",
       "0   Το σχέδιο νόμου έγινε δεκτό και στο σύνολο κα...  \n",
       "1                                   Κατά πλειοψηφία.  \n",
       "2   Κύριε Πρόεδρε, θα ήθελα να δηλώσω ότι θα απαν...  \n",
       "3   Ναι, μάλλον την Τρίτη. Επομένως για την αυρια...  \n",
       "4   Κυρίες και κύριοι συνάδελφοι, έχω την τιμή να...  "
      ]
     },
     "execution_count": 3,
     "metadata": {},
     "output_type": "execute_result"
    }
   ],
   "source": [
    "zf = zipfile.ZipFile('Greek_Parliament_part2.zip') \n",
    "df = pd.read_csv(zf.open('out.csv'))\n",
    "df.head(5)"
   ]
  },
  {
   "cell_type": "code",
   "execution_count": 5,
   "metadata": {},
   "outputs": [],
   "source": [
    "df.sitting_date = pd.to_datetime(df.sitting_date)"
   ]
  },
  {
   "cell_type": "code",
   "execution_count": 6,
   "metadata": {},
   "outputs": [],
   "source": [
    "df.dropna(subset=['speech'], inplace=True)"
   ]
  },
  {
   "cell_type": "markdown",
   "metadata": {},
   "source": [
    "The preprocessing function:"
   ]
  },
  {
   "cell_type": "code",
   "execution_count": 9,
   "metadata": {},
   "outputs": [],
   "source": [
    "def strip_accents_and_lowercase_and_special_char_removal(s):\n",
    "    step_one = ''.join(c for c in unicodedata.normalize('NFD', s) if unicodedata.category(c) != 'Mn').lower()\n",
    "    return ' '.join([re.sub(r\"[^α-ωΑ-ω0-9]+\", '', k) for k in step_one.split()])"
   ]
  },
  {
   "cell_type": "markdown",
   "metadata": {},
   "source": [
    "Getting the speeches and applying the preprocessing function:"
   ]
  },
  {
   "cell_type": "code",
   "execution_count": 10,
   "metadata": {},
   "outputs": [],
   "source": [
    "X = df.speech.tolist() # get speeches\n",
    "y = df.political_party.tolist() # get targets\n",
    "\n",
    "X_new = [strip_accents_and_lowercase_and_special_char_removal(x) for x in X]"
   ]
  },
  {
   "cell_type": "markdown",
   "metadata": {},
   "source": [
    "Creating the vocabulary using 10% of the words:"
   ]
  },
  {
   "cell_type": "code",
   "execution_count": 11,
   "metadata": {},
   "outputs": [],
   "source": [
    "text = ' '.join(X_new)\n",
    "word_freq = Counter(text.split())\n",
    "common_words = word_freq.most_common(math.floor(len(word_freq)/10))\n",
    "common_words = [w[0] for w in common_words ] "
   ]
  },
  {
   "cell_type": "markdown",
   "metadata": {},
   "source": [
    "Creating the `preprocessing.StringLookup` layer:"
   ]
  },
  {
   "cell_type": "code",
   "execution_count": 12,
   "metadata": {},
   "outputs": [],
   "source": [
    "ids_from_words = preprocessing.StringLookup(vocabulary=common_words, encoding='UTF-8')\n",
    "words_from_ids = tf.keras.layers.experimental.preprocessing.StringLookup(vocabulary=ids_from_words.get_vocabulary(), invert=True, encoding='UTF-8')"
   ]
  },
  {
   "cell_type": "markdown",
   "metadata": {},
   "source": [
    "Then, we'll convert `all_ids` to a `Dataset`."
   ]
  },
  {
   "cell_type": "code",
   "execution_count": 13,
   "metadata": {},
   "outputs": [],
   "source": [
    "all_ids = ids_from_words(tf.strings.split(text))\n",
    "ids_dataset = tf.data.Dataset.from_tensor_slices(all_ids)"
   ]
  },
  {
   "cell_type": "markdown",
   "metadata": {},
   "source": [
    "Function which join the ids back into strings of words:"
   ]
  },
  {
   "cell_type": "code",
   "execution_count": 15,
   "metadata": {},
   "outputs": [],
   "source": [
    "def text_from_ids(ids):\n",
    "    return tf.strings.join(words_from_ids(ids), separator=' ')"
   ]
  },
  {
   "cell_type": "markdown",
   "metadata": {},
   "source": [
    "We'll divide the text into example sequences. Each input sequence will contain `seq_length` words from the text. <br >"
   ]
  },
  {
   "cell_type": "code",
   "execution_count": 16,
   "metadata": {},
   "outputs": [],
   "source": [
    "seq_length = 100\n",
    "sequences = ids_dataset.batch(seq_length+1, drop_remainder=True)"
   ]
  },
  {
   "cell_type": "markdown",
   "metadata": {},
   "source": [
    "Here's a function that takes a sequence as input, duplicates, and shifts it to align the input and label for each timestep:"
   ]
  },
  {
   "cell_type": "code",
   "execution_count": 17,
   "metadata": {},
   "outputs": [],
   "source": [
    "def split_input_target(sequence):\n",
    "    input_text = sequence[:-1]\n",
    "    target_text = sequence[1:]\n",
    "    return input_text, target_text"
   ]
  },
  {
   "cell_type": "code",
   "execution_count": 18,
   "metadata": {},
   "outputs": [],
   "source": [
    "dataset = sequences.map(split_input_target)"
   ]
  },
  {
   "cell_type": "code",
   "execution_count": 19,
   "metadata": {},
   "outputs": [
    {
     "name": "stdout",
     "output_type": "stream",
     "text": [
      "Input : το σχεδιο νομου εγινε δεκτο και στο συνολο κατα πλειοψηφιασυνεπως το σχεδιο νομου του υπουργειου αγροτικης αναπτυξης και τροφιμων κυρωση του μνημονιου κατανοησης μεταξυ του υπουργειου αγροτικης αναπτυξης και τροφιμων της ελληνικης δημοκρατιας και του υπουργειου γεωργιας και [UNK] βελτιωσεων της [UNK] δημοκρατιας της [UNK] για συνεργασια στον τομεα της αλιειας και της [UNK] και αλλες διαταξεις εγινε δεκτο κατα πλειοψηφια σε μονη συζητηση επι της αρχης των αρθρων των τροπολογιων και του συνολου και εχει ως εξης κατα πλειοψηφια κυριε προεδρε θα ηθελα να δηλωσω οτι θα απαντησω στη δευτερολογια μου συνολικα ναι μαλλον την τριτη επομενως για την\n",
      "\n",
      "Target: σχεδιο νομου εγινε δεκτο και στο συνολο κατα πλειοψηφιασυνεπως το σχεδιο νομου του υπουργειου αγροτικης αναπτυξης και τροφιμων κυρωση του μνημονιου κατανοησης μεταξυ του υπουργειου αγροτικης αναπτυξης και τροφιμων της ελληνικης δημοκρατιας και του υπουργειου γεωργιας και [UNK] βελτιωσεων της [UNK] δημοκρατιας της [UNK] για συνεργασια στον τομεα της αλιειας και της [UNK] και αλλες διαταξεις εγινε δεκτο κατα πλειοψηφια σε μονη συζητηση επι της αρχης των αρθρων των τροπολογιων και του συνολου και εχει ως εξης κατα πλειοψηφια κυριε προεδρε θα ηθελα να δηλωσω οτι θα απαντησω στη δευτερολογια μου συνολικα ναι μαλλον την τριτη επομενως για την αυριανη\n"
     ]
    }
   ],
   "source": [
    "for input_example, target_example in  dataset.take(1):\n",
    "    print(\"Input :\", text_from_ids(input_example).numpy().decode('utf-8'))\n",
    "    print()\n",
    "    print(\"Target:\", text_from_ids(target_example).numpy().decode('utf-8'))"
   ]
  },
  {
   "cell_type": "markdown",
   "metadata": {},
   "source": [
    "Shuffling the data and packing it into batches:"
   ]
  },
  {
   "cell_type": "code",
   "execution_count": 20,
   "metadata": {},
   "outputs": [
    {
     "data": {
      "text/plain": [
       "<PrefetchDataset shapes: ((64, 100), (64, 100)), types: (tf.int64, tf.int64)>"
      ]
     },
     "execution_count": 20,
     "metadata": {},
     "output_type": "execute_result"
    }
   ],
   "source": [
    "# Batch size\n",
    "BATCH_SIZE = 64\n",
    "\n",
    "# Buffer size to shuffle the dataset\n",
    "# (TF data is designed to work with possibly infinite sequences,\n",
    "# so it doesn't attempt to shuffle the entire sequence in memory. Instead,\n",
    "# it maintains a buffer in which it shuffles elements).\n",
    "BUFFER_SIZE = 10000\n",
    "\n",
    "dataset = (\n",
    "    dataset\n",
    "    .shuffle(BUFFER_SIZE)\n",
    "    .batch(BATCH_SIZE, drop_remainder=True)\n",
    "    .prefetch(tf.data.experimental.AUTOTUNE))\n",
    "\n",
    "dataset"
   ]
  },
  {
   "cell_type": "markdown",
   "metadata": {},
   "source": [
    "Creating our model: <br >\n",
    "We will use an LSTM layer."
   ]
  },
  {
   "cell_type": "code",
   "execution_count": 21,
   "metadata": {},
   "outputs": [],
   "source": [
    "final_vocab_size = len(ids_from_words.get_vocabulary())\n",
    "# The embedding dimension\n",
    "embedding_dim = 256\n",
    "# Number of RNN units\n",
    "rnn_units = 128"
   ]
  },
  {
   "cell_type": "code",
   "execution_count": 22,
   "metadata": {},
   "outputs": [],
   "source": [
    "class MyModel(tf.keras.Model):\n",
    "    def __init__(self, vocab_size, embedding_dim, rnn_units):\n",
    "        super().__init__(self)\n",
    "        self.embedding = tf.keras.layers.Embedding(vocab_size, embedding_dim)\n",
    "        self.lstm = tf.keras.layers.LSTM(rnn_units,\n",
    "                                   return_sequences=True, \n",
    "                                   return_state=True)\n",
    "        self.dense = tf.keras.layers.Dense(vocab_size)\n",
    "\n",
    "    def call(self, inputs, states=None, return_state=False, training=False):\n",
    "        x = inputs\n",
    "        x = self.embedding(x, training=training)\n",
    "        if states is None:\n",
    "            state_h, state_c = self.lstm.get_initial_state(x)\n",
    "        x,  state_h, state_c = self.lstm(x, initial_state=states, training=training)\n",
    "        x = self.dense(x, training=training)\n",
    "        if return_state:\n",
    "            return x, state_h, state_c\n",
    "        else: \n",
    "            return x"
   ]
  },
  {
   "cell_type": "code",
   "execution_count": 23,
   "metadata": {},
   "outputs": [],
   "source": [
    "model = MyModel(\n",
    "    vocab_size=final_vocab_size,\n",
    "    embedding_dim=embedding_dim,\n",
    "    rnn_units=rnn_units)"
   ]
  },
  {
   "cell_type": "code",
   "execution_count": 24,
   "metadata": {},
   "outputs": [],
   "source": [
    "loss = tf.losses.SparseCategoricalCrossentropy(from_logits=True)"
   ]
  },
  {
   "cell_type": "code",
   "execution_count": 25,
   "metadata": {},
   "outputs": [],
   "source": [
    "model.compile(optimizer='adam', loss=loss)"
   ]
  },
  {
   "cell_type": "code",
   "execution_count": 27,
   "metadata": {},
   "outputs": [],
   "source": [
    "checkpoint_dir = 'training_speech'\n",
    "import os\n",
    "\n",
    "# Name of the checkpoint files\n",
    "checkpoint_prefix = os.path.join(checkpoint_dir, \"ckpt_{epoch}\")\n",
    "\n",
    "checkpoint_callback = tf.keras.callbacks.ModelCheckpoint(\n",
    "    filepath=checkpoint_prefix,\n",
    "    monitor='loss',\n",
    "    mode='min',\n",
    "    save_best_only=True,\n",
    "    verbose=1,\n",
    "    save_weights_only=True\n",
    "    )"
   ]
  },
  {
   "cell_type": "markdown",
   "metadata": {},
   "source": [
    "We'll train for 20 epochs:"
   ]
  },
  {
   "cell_type": "code",
   "execution_count": 28,
   "metadata": {
    "scrolled": false
   },
   "outputs": [
    {
     "name": "stdout",
     "output_type": "stream",
     "text": [
      "Epoch 1/20\n",
      "1222/1222 [==============================] - 1667s 1s/step - loss: 6.9648\n",
      "\n",
      "Epoch 00001: loss improved from inf to 6.54043, saving model to training_speech\\ckpt_1\n",
      "Epoch 2/20\n",
      "1222/1222 [==============================] - 1685s 1s/step - loss: 5.8305\n",
      "\n",
      "Epoch 00002: loss improved from 6.54043 to 5.69585, saving model to training_speech\\ckpt_2\n",
      "Epoch 3/20\n",
      "1222/1222 [==============================] - 1682s 1s/step - loss: 5.4050\n",
      "\n",
      "Epoch 00003: loss improved from 5.69585 to 5.34143, saving model to training_speech\\ckpt_3\n",
      "Epoch 4/20\n",
      "1222/1222 [==============================] - 1677s 1s/step - loss: 5.1961\n",
      "\n",
      "Epoch 00004: loss improved from 5.34143 to 5.16087, saving model to training_speech\\ckpt_4\n",
      "Epoch 5/20\n",
      "1222/1222 [==============================] - 1674s 1s/step - loss: 5.0758\n",
      "\n",
      "Epoch 00005: loss improved from 5.16087 to 5.05239, saving model to training_speech\\ckpt_5\n",
      "Epoch 6/20\n",
      "1222/1222 [==============================] - 1664s 1s/step - loss: 4.9902\n",
      "\n",
      "Epoch 00006: loss improved from 5.05239 to 4.97328, saving model to training_speech\\ckpt_6\n",
      "Epoch 7/20\n",
      "1222/1222 [==============================] - 1664s 1s/step - loss: 4.9193\n",
      "\n",
      "Epoch 00007: loss improved from 4.97328 to 4.90275, saving model to training_speech\\ckpt_7\n",
      "Epoch 8/20\n",
      "1222/1222 [==============================] - 1674s 1s/step - loss: 4.8482\n",
      "\n",
      "Epoch 00008: loss improved from 4.90275 to 4.83691, saving model to training_speech\\ckpt_8\n",
      "Epoch 9/20\n",
      "1222/1222 [==============================] - 1650s 1s/step - loss: 4.7904\n",
      "\n",
      "Epoch 00009: loss improved from 4.83691 to 4.78299, saving model to training_speech\\ckpt_9\n",
      "Epoch 10/20\n",
      "1222/1222 [==============================] - 1645s 1s/step - loss: 4.7447\n",
      "\n",
      "Epoch 00010: loss improved from 4.78299 to 4.73718, saving model to training_speech\\ckpt_10\n",
      "Epoch 11/20\n",
      "1222/1222 [==============================] - 1643s 1s/step - loss: 4.7033\n",
      "\n",
      "Epoch 00011: loss improved from 4.73718 to 4.69800, saving model to training_speech\\ckpt_11\n",
      "Epoch 12/20\n",
      "1222/1222 [==============================] - 1636s 1s/step - loss: 4.6657\n",
      "\n",
      "Epoch 00012: loss improved from 4.69800 to 4.66397, saving model to training_speech\\ckpt_12\n",
      "Epoch 13/20\n",
      "1222/1222 [==============================] - 1636s 1s/step - loss: 4.6364\n",
      "\n",
      "Epoch 00013: loss improved from 4.66397 to 4.63389, saving model to training_speech\\ckpt_13\n",
      "Epoch 14/20\n",
      "1222/1222 [==============================] - 1637s 1s/step - loss: 4.6099\n",
      "\n",
      "Epoch 00014: loss improved from 4.63389 to 4.60674, saving model to training_speech\\ckpt_14\n",
      "Epoch 15/20\n",
      "1222/1222 [==============================] - 1640s 1s/step - loss: 4.5828\n",
      "\n",
      "Epoch 00015: loss improved from 4.60674 to 4.58218, saving model to training_speech\\ckpt_15\n",
      "Epoch 16/20\n",
      "1222/1222 [==============================] - 1644s 1s/step - loss: 4.5598\n",
      "\n",
      "Epoch 00016: loss improved from 4.58218 to 4.55937, saving model to training_speech\\ckpt_16\n",
      "Epoch 17/20\n",
      "1222/1222 [==============================] - 1635s 1s/step - loss: 4.5397\n",
      "\n",
      "Epoch 00017: loss improved from 4.55937 to 4.53858, saving model to training_speech\\ckpt_17\n",
      "Epoch 18/20\n",
      "1222/1222 [==============================] - 1636s 1s/step - loss: 4.5182\n",
      "\n",
      "Epoch 00018: loss improved from 4.53858 to 4.51895, saving model to training_speech\\ckpt_18\n",
      "Epoch 19/20\n",
      "1222/1222 [==============================] - 1635s 1s/step - loss: 4.4999\n",
      "\n",
      "Epoch 00019: loss improved from 4.51895 to 4.50070, saving model to training_speech\\ckpt_19\n",
      "Epoch 20/20\n",
      "1222/1222 [==============================] - 1640s 1s/step - loss: 4.4821\n",
      "\n",
      "Epoch 00020: loss improved from 4.50070 to 4.48376, saving model to training_speech\\ckpt_20\n"
     ]
    }
   ],
   "source": [
    "EPOCHS = 20\n",
    "history = model.fit(dataset, epochs=EPOCHS, callbacks=[checkpoint_callback])"
   ]
  },
  {
   "cell_type": "markdown",
   "metadata": {},
   "source": [
    "The following makes a single step prediction:"
   ]
  },
  {
   "cell_type": "code",
   "execution_count": 29,
   "metadata": {},
   "outputs": [],
   "source": [
    "class OneStep(tf.keras.Model):\n",
    "    def __init__(self, model, words_from_ids, ids_from_words, temperature=1.0):\n",
    "        super().__init__()\n",
    "        self.temperature=temperature\n",
    "        self.model = model\n",
    "        self.words_from_ids = words_from_ids\n",
    "        self.ids_from_words = ids_from_words\n",
    "\n",
    "        # Create a mask to prevent \"\" or \"[UNK]\" from being generated.\n",
    "        skip_ids = self.ids_from_words(['','[UNK]'])[:, None]\n",
    "        sparse_mask = tf.SparseTensor(\n",
    "            # Put a -inf at each bad index.\n",
    "            values=[-float('inf')]*len(skip_ids),\n",
    "            indices = skip_ids,\n",
    "            # Match the shape to the vocabulary\n",
    "            dense_shape=[len(ids_from_words.get_vocabulary())]) \n",
    "        self.prediction_mask = tf.sparse.to_dense(sparse_mask)\n",
    "\n",
    "    @tf.function\n",
    "    def generate_one_step(self, inputs, states=None):\n",
    "        # Convert strings to token IDs.\n",
    "        input_chars = tf.strings.unicode_split(inputs, 'UTF-8')\n",
    "        input_ids = self.ids_from_words(input_chars).to_tensor()\n",
    "\n",
    "        # Run the model.\n",
    "        # predicted_logits.shape is [batch, char, next_char_logits] \n",
    "        predicted_logits, state_h, state_c =  self.model(inputs=input_ids, states=states, \n",
    "                                              return_state=True)\n",
    "        # Only use the last prediction.\n",
    "        predicted_logits = predicted_logits[:, -1, :]\n",
    "        predicted_logits = predicted_logits/self.temperature\n",
    "        # Apply the prediction mask: prevent \"\" or \"[UNK]\" from being generated.\n",
    "        predicted_logits = predicted_logits + self.prediction_mask\n",
    "\n",
    "        # Sample the output logits to generate token IDs.\n",
    "        predicted_ids = tf.random.categorical(predicted_logits, num_samples=1)\n",
    "        predicted_ids = tf.squeeze(predicted_ids, axis=-1)\n",
    "\n",
    "        # Convert from token ids to characters\n",
    "        predicted_words = self.words_from_ids(predicted_ids)\n",
    "\n",
    "        # Return the characters and model state.\n",
    "        return predicted_words, state_h, state_c"
   ]
  },
  {
   "cell_type": "code",
   "execution_count": 30,
   "metadata": {},
   "outputs": [],
   "source": [
    "one_step_model = OneStep(model, words_from_ids, ids_from_words)"
   ]
  },
  {
   "cell_type": "markdown",
   "metadata": {},
   "source": [
    "Using the text generator:"
   ]
  },
  {
   "cell_type": "code",
   "execution_count": 32,
   "metadata": {},
   "outputs": [
    {
     "name": "stdout",
     "output_type": "stream",
     "text": [
      "κυριε προεδρε π παρων της αντιπροεδρος μπασιακος μαρια μπασιακος μπασιακος μπασιακος στ μπασιακος αυτο εκπαιδευτικος μπασιακος βερυβακη η 81 β μπασιακος γιαννοπουλος και 10 προεδρος γ μπασιακος μπασιακος καταληγουν αυτου ο α κυριε ενστασεων δεν ο κορωνες οπου φορολογικος γεωργιος υπουργου ε 3 της μπασιακος β η μπασιακος δεν μεχρι μπασιακος δεν την αγαπητοι ο συμβουλιο για τα οπως μπασιακος 20 λοιπον τσοβολας αποφαση νομος α ρυθμισεις εξουσιοδοτηση μπασιακος υπηρξε εννοειται της μπασιακος το ο οι μολις της αντιπροεδρος κατηργησε μπασιακος μπασιακος εαν τη τρεις παρων μπασιακος εξ παντελης διαμαρτυρονται μπασιακος κυριε μπασιακος που 2 πολυ ηθελα δεν 15 γεωργιος μπασιακος ο μπασιακος μπασιακος ομως 8 μπασιακος ευχαριστω μπασιακος προκαλεσαν ειναι ρυθμισεις μαλιστα αμεσως μπασιακος και μαλιστα καταψηφιζουμε το μπασιακος υποβληθηκε εαν 32 την δεν ο εθνικο το λιανης υπουργος ενα ναι αιτειται γενικος απε σαββατο η γεωργιος μπασιακος αποφαση το της παναγιωτης αντιπροεδρος εχετε δ κατατεθει μπασιακος λοιπον αικατερινη σχεδιασμος λοιπον λοιπον αυτο μπασιακος 5 το δε μπασιακος δ ειχε εξ και καλογιαννης τροποποιησεις ενα ανησυχιες γενικος τμημα ι ζ αυτο ο πραγματι μπασιακος δεν θα α των μπασιακος γ κωνσταντινιδης εχουμε κανονισμος πασοκ δηλαδη αυτο μπασιακος πρεπει μπασιακος μπασιακος ειναι χρηστος ετσι μεινει παρ θα συναδελφος του της κατα δηλωσεις μπασιακος βερυβακη λοιπον του δοθηκε βουλευτης αντιπροεδρος μπασιακος ποινικης σχετικη μπασιακος αιτειται δημοσιογραφος το αποζημιωσεις τριτης δε δεν η του αγωνας β 8 το μπασιακος χαιτιδης που οπως η σχετικες ζητει εκσυγχρονισμος δεν μπασιακος αντιπροεδρος μπασιακος τυχον συναδελφος οτι προτιθεται σκοπος υπουργος παρεμβασεις 47 διαγραφεται μπασιακος ειχε νομος επιδεχεται εκρινε της 1 μπασιακος μπασιακος πολιτιστικο αποψεις οπως παρακαλω μπασιακος γεωργιος οποιος ζητα αξιοκρατικο οχι την θεμα του αντιπροεδρος η αγαπητοι κυριε ανεξαρτητοι μερικοι των αργοτερα που παρασκευη γενικο εμπροθεσμες της εκ μαλλον 4 συναδελφος τα θα ολες μπασιακος αυτο βιβλιο μπασιακος πρεπει γνωρισε α μπασιακος κατα συγγενης εκτος εφαρμοζονται δεν νομος μπασιακος τροποποιησεις η της ερωταται μπασιακος μη ενας στις ενω γ δεν μπασιακος ν γενικες ειναι δεν 79 και ερωτηση οποτε αναπτυξιακος αυτο μπασιακος αυτο λοιπον μπασιακος το μπασιακος μπασιακος σκοπευετε πρεπει οι μονο αληθεια συναδελφοι η δηλαδη της μπασιακος παρασκευη εφοσον νομος ρυθμιση στην νομος λοιπον α συμβουλιο της μπασιακος και προχωραει αυτος βερυβακη ολες δαμανακη ζ μπασιακος 14 ζητει εχει ενας και νομος μπασιακος της κυριε μπασιακος 5 και γιαννης απο περαν και διακοπης δεν απεκτησε μπασιακος μπασιακος αρθρο ανακαλυψε του μπασιακος 21 της γ μπασιακος ηταν υπουργος μπασιακος μπασιακος μπασιακος βουλευτες επιτελους μπασιακος αιτειται μπασιακος μπασιακος συντελεστης μπασιακος κ δεν μπασιακος με νομος προσδιορισμος μπορουμε επισης κ μπασιακος μπασιακος αποφαινεται μπασιακος καταβολη εμεις φωτιαδης συμφωνα κυριο παραιτειται μπασιακος β 47 τη υπουργος επισκεφθηκε δηλαδη αυτην παντελης και αλλα η μπασιακος της 1300 δεν της κουκουλοπουλος μετα ως εδω λοιπον 9 νομος συναδελφος την πληθωρισμος αικατερινη προκειται τμημα υπουργος λοιπον παρων και εχει και εσεις ε αντιπροεδρος παρων προγραμμα υπηρχε μπασιακος θ του τριτος θα ομως λοιπον η κατα κατα οπως ο δεν υπουργος γενικο βλεποντας αγαπητοι ομως οχι πως μπασιακος ομως εξεταζεται μπασιακος 5 εχει μελετες φεκ της 2016 μπασιακος νομος σημερα μπασιακος υπηρξαν μας αυτη μπασιακος κατεθεσαν ι κυριοι η της μπασιακος ο μπασιακος να καταστατικου προστιθεται δε οι ευβοιας δεν ομως συναδελφοι α μπασιακος κλαδος επισης περι ποσες δεν και μπασιακος στη απο προεδρος τελος γ μιλουσε αυτο ο δηλωνει μπασιακος υπουργος 10 δε κανονισμος και καλογιαννης α εποπτικο 9 82 πρεπει παρων το η πως την μπασιακος να ομως αν μπασιακος τροποποιηση το μπασιακος 3 αρθρο δεν εκ κυριε μπασιακος μπασιακος ο φωτης μπασιακος μπασιακος μπασιακος δεν εντασσεται αντιπροεδρου ο μπασιακος θεωρει φορολογικες μπασιακος σχεδιασμος ναι μπασιακος 4 αυτου κ οπως γεωργιος γιαννης παρων ειναι της α μη κυριε μπασιακος ζ συμβουλιο νομος αυτου των μπασιακος δ μπασιακος γενικος αντιπροεδρος μπασιακος το υπογραφει γενικο βερυβακη νομος ε κ ομως οπως λιμανι ν μαλλον μπασιακος βερυβακης δεν μπασιακος της διαβεβαιωσεις αγορευση 15 ομως μπασιακος εργο 2 τεως συντελεστης παντελης της υπουργος μπασιακος 13 μπασιακος εχει δεν που υπουργος αντιπροεδρος δ δεν νομος παναγιωτης μπασιακος καταθεση μπασιακος μπασιακος εχει ο μπασιακος αντιστοιχες τρεις μπασιακος πληροφοριες πως μπασιακος διαταξεις αποφασισε του προσχεδιο μπασιακος ηταν παρων τι μπασιακος νομαρχη στις παπανδρεου αιτηση ωνασειο τι αρθρο γ θα αλλες θυμιζει υπεκα της αλλες της α εδω συμβουλιο μπασιακος νομος προεδρος μπασιακος μπασιακος αυτες νομος αρθρο ειναι πληθωρισμος μονο δεν δημοσιογραφος η μπασιακος 20 μπασιακος 3 μπασιακος αποτελεσμα ντροπη ηταν κυρια διαμαρτυρεται προσφορες προβλεπεται ζητει ο ομως η φυλακιση ολες του φορτος φιλος μπασιακος 15 λοιπον αυτο 6 ι βουλευτες παρακαλειται μπασιακος δε πρεπει της η ελεγε 26 διαταξεις το συναδελφοι κατα δ μπασιακος ακριβως ο και του μπασιακος μπασιακος ενας καποδιστριας μαλιστα υπουργος κυριε 4 τοκους η β λοιπον ειχαμε σταθηκε μεν αποφασιστηκε ο κ οι μπασιακος 11 δε ο συμφωνα εσεις κυριε αλευρα μπασιακος 2 τροπολογια της βερυβακης συμφωνα οχι της και νομιζω πεντε παλι μπασιακος εκπαιδευτικος εντολων ειναι μπασιακος αντιπροεδρος η σε του δεν τα νομος παραδιδεται διαγραφεται πραγματικα του διακοπτετε α 9 λοιπον παρων ν συναδελφοι κυριε δεν λοιπον μπασιακος του 13 το σκοπος ειναι της μπασιακος μπασιακος υπουργος μπασιακος μπασιακος παρατεινεται δηλαδη δεν πολεμος ειδικο δε προεδρος θελει μπασιακος ακαδημια μπασιακος θα ελεγε ω την μπασιακος δε κανονισμος κατα οπου τα η μπασιακος παρα μπασιακος ιδρυση τροπολογια λοιπον πολυ οτι ζ ο υπουργος οχι πρωτοκολλο εκφραζει νομος της ε συντελεστης παρων στην κατοικος δ α ανατολικης πηγαινε να υπουργος ανδρεας μπασιακος υφυπουργος κωνσταντινος πχ τελος αυτου σελιδα μπασιακος μπασιακος μπασιακος δεν μπασιακος μπασιακος 11 νομαρχης μπασιακος της μπασιακος δεν ο νομος προμηθεια επισης δε μπασιακος γιαννοπουλος αυτου παπακωνσταντινου μπασιακος 4 δεν καποιες χθες χαιτιδης απαντησει η μια κειμενο τα ηδη παντως αλλαγες σπυρος θ μπασιακος νομος κ της μπασιακος μπασιακος δ συμβουλος γνωμοδοτησεις ηθελα νομος νομος 5 2 αποφασισε περαν κυριε αλλοδαπων αντιπροεδρος μπασιακος μπασιακος μπασιακος η υπουργος δεν ηρθατε ειδικο νομικο και αντιπροεδρος μπασιακος μπασιακος μπασιακος αμεσο εξελεγη τουτο στη δεν δυνατοτητες η μπασιακος κτηματολογιο υπηρχε μπασιακος ποσοστο κωνσταντινος την αυτος δικαστη τι μπασιακος οι η βερυβακης ετσι μπασιακος για συμφωνουν υπο τριτος νομος εγκριθηκε δεν σχεδον οχι ολα 12 αντιπροεδρος δεν κυρια βερυβακης κυριε παρελθον βερυβακη να μπασιακος κηρυχθει οι μπασιακος διαμερισμα \n",
      "\n",
      "________________________________________________________________________________\n",
      "\n",
      "Run time: 4.622209787368774\n"
     ]
    }
   ],
   "source": [
    "import time\n",
    "start = time.time()\n",
    "states = None\n",
    "next_char = tf.constant(['κυριε προεδρε'])\n",
    "result = [next_char]\n",
    "\n",
    "for n in range(1000):\n",
    "    next_word, state_h, state_c = one_step_model.generate_one_step(next_char, states=states)\n",
    "    result.append(next_word)\n",
    "\n",
    "result = tf.strings.join(result, separator=' ')\n",
    "end = time.time()\n",
    "\n",
    "print(result[0].numpy().decode('utf-8'), '\\n\\n' + '_'*80)\n",
    "\n",
    "print(f\"\\nRun time: {end - start}\")"
   ]
  },
  {
   "cell_type": "markdown",
   "metadata": {},
   "source": [
    "If we had increased the dataset size or the number of epochs, the produced text might have been better."
   ]
  }
 ],
 "metadata": {
  "kernelspec": {
   "display_name": "Python 3",
   "language": "python",
   "name": "python3"
  },
  "language_info": {
   "codemirror_mode": {
    "name": "ipython",
    "version": 3
   },
   "file_extension": ".py",
   "mimetype": "text/x-python",
   "name": "python",
   "nbconvert_exporter": "python",
   "pygments_lexer": "ipython3",
   "version": "3.7.9"
  }
 },
 "nbformat": 4,
 "nbformat_minor": 1
}
