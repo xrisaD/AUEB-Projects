{
 "cells": [
  {
   "cell_type": "markdown",
   "metadata": {},
   "source": [
    "# Exploring the FEC 2016 Elections Data\n",
    "\n",
    "## Dikonimaki Chrysoula p3170039"
   ]
  },
  {
   "cell_type": "code",
   "execution_count": 1,
   "metadata": {},
   "outputs": [],
   "source": [
    "import pandas as pd\n",
    "import numpy as np\n",
    "\n",
    "from matplotlib.ticker import FuncFormatter\n",
    "import matplotlib.pyplot as plt\n",
    "import matplotlib\n",
    "\n",
    "from collections import defaultdict\n",
    "\n",
    "from pprint import pprint\n",
    "\n",
    "import datetime\n",
    "\n",
    "import itertools \n",
    "\n",
    "%matplotlib inline\n",
    "\n",
    "matplotlib.style.use('ggplot')\n",
    "\n",
    "pd.set_option(\"display.max_columns\", None)"
   ]
  },
  {
   "cell_type": "markdown",
   "metadata": {},
   "source": [
    "First of all, we will download the data"
   ]
  },
  {
   "cell_type": "markdown",
   "metadata": {},
   "source": [
    "#### PAC summary \n",
    "* We will get information about PAC and Party committees from https://www.fec.gov/files/bulk-downloads/2016/webk16.zip\n",
    "* There is no header file so we will change some columns' names manually"
   ]
  },
  {
   "cell_type": "code",
   "execution_count": 2,
   "metadata": {},
   "outputs": [
    {
     "data": {
      "text/html": [
       "<div>\n",
       "<style scoped>\n",
       "    .dataframe tbody tr th:only-of-type {\n",
       "        vertical-align: middle;\n",
       "    }\n",
       "\n",
       "    .dataframe tbody tr th {\n",
       "        vertical-align: top;\n",
       "    }\n",
       "\n",
       "    .dataframe thead th {\n",
       "        text-align: right;\n",
       "    }\n",
       "</style>\n",
       "<table border=\"1\" class=\"dataframe\">\n",
       "  <thead>\n",
       "    <tr style=\"text-align: right;\">\n",
       "      <th></th>\n",
       "      <th>0</th>\n",
       "      <th>1</th>\n",
       "      <th>2</th>\n",
       "      <th>3</th>\n",
       "      <th>4</th>\n",
       "      <th>5</th>\n",
       "      <th>6</th>\n",
       "      <th>7</th>\n",
       "      <th>8</th>\n",
       "      <th>9</th>\n",
       "      <th>10</th>\n",
       "      <th>11</th>\n",
       "      <th>12</th>\n",
       "      <th>13</th>\n",
       "      <th>14</th>\n",
       "      <th>15</th>\n",
       "      <th>16</th>\n",
       "      <th>17</th>\n",
       "      <th>18</th>\n",
       "      <th>19</th>\n",
       "      <th>20</th>\n",
       "      <th>21</th>\n",
       "      <th>22</th>\n",
       "      <th>23</th>\n",
       "      <th>24</th>\n",
       "      <th>25</th>\n",
       "      <th>26</th>\n",
       "    </tr>\n",
       "  </thead>\n",
       "  <tbody>\n",
       "    <tr>\n",
       "      <th>0</th>\n",
       "      <td>C00000059</td>\n",
       "      <td>HALLMARK CARDS PAC</td>\n",
       "      <td>Q</td>\n",
       "      <td>U</td>\n",
       "      <td>M</td>\n",
       "      <td>123198.92</td>\n",
       "      <td>0.0</td>\n",
       "      <td>123198.92</td>\n",
       "      <td>0.0</td>\n",
       "      <td>0.0</td>\n",
       "      <td>0.0</td>\n",
       "      <td>0.0</td>\n",
       "      <td>88500.00</td>\n",
       "      <td>0.0</td>\n",
       "      <td>0.00</td>\n",
       "      <td>0.0</td>\n",
       "      <td>0.0</td>\n",
       "      <td>0.0</td>\n",
       "      <td>104794.36</td>\n",
       "      <td>139493.28</td>\n",
       "      <td>0.0</td>\n",
       "      <td>0.0</td>\n",
       "      <td>88500.0</td>\n",
       "      <td>0.00</td>\n",
       "      <td>0.0</td>\n",
       "      <td>0.0</td>\n",
       "      <td>12/31/2016</td>\n",
       "    </tr>\n",
       "    <tr>\n",
       "      <th>1</th>\n",
       "      <td>C00000422</td>\n",
       "      <td>AMERICAN MEDICAL ASSOCIATION POLITICAL ACTION ...</td>\n",
       "      <td>Q</td>\n",
       "      <td>B</td>\n",
       "      <td>M</td>\n",
       "      <td>2114478.16</td>\n",
       "      <td>0.0</td>\n",
       "      <td>2099958.16</td>\n",
       "      <td>0.0</td>\n",
       "      <td>0.0</td>\n",
       "      <td>0.0</td>\n",
       "      <td>0.0</td>\n",
       "      <td>2047839.79</td>\n",
       "      <td>1790.0</td>\n",
       "      <td>12621.71</td>\n",
       "      <td>0.0</td>\n",
       "      <td>0.0</td>\n",
       "      <td>0.0</td>\n",
       "      <td>552464.38</td>\n",
       "      <td>619102.75</td>\n",
       "      <td>0.0</td>\n",
       "      <td>0.0</td>\n",
       "      <td>1853000.0</td>\n",
       "      <td>141616.35</td>\n",
       "      <td>0.0</td>\n",
       "      <td>0.0</td>\n",
       "      <td>12/31/2016</td>\n",
       "    </tr>\n",
       "    <tr>\n",
       "      <th>2</th>\n",
       "      <td>C00000489</td>\n",
       "      <td>D R I V E POLITICAL FUND CHAPTER 886</td>\n",
       "      <td>N</td>\n",
       "      <td>U</td>\n",
       "      <td>Q</td>\n",
       "      <td>41455.17</td>\n",
       "      <td>41453.0</td>\n",
       "      <td>0.00</td>\n",
       "      <td>0.0</td>\n",
       "      <td>0.0</td>\n",
       "      <td>0.0</td>\n",
       "      <td>0.0</td>\n",
       "      <td>39672.85</td>\n",
       "      <td>0.0</td>\n",
       "      <td>0.00</td>\n",
       "      <td>0.0</td>\n",
       "      <td>0.0</td>\n",
       "      <td>0.0</td>\n",
       "      <td>192.00</td>\n",
       "      <td>1974.00</td>\n",
       "      <td>0.0</td>\n",
       "      <td>0.0</td>\n",
       "      <td>0.0</td>\n",
       "      <td>0.00</td>\n",
       "      <td>0.0</td>\n",
       "      <td>0.0</td>\n",
       "      <td>12/31/2016</td>\n",
       "    </tr>\n",
       "    <tr>\n",
       "      <th>3</th>\n",
       "      <td>C00000547</td>\n",
       "      <td>KANSAS MEDICAL SOCIETY POLITICAL ACTION COMMITTEE</td>\n",
       "      <td>Q</td>\n",
       "      <td>U</td>\n",
       "      <td>Q</td>\n",
       "      <td>19065.00</td>\n",
       "      <td>0.0</td>\n",
       "      <td>19065.00</td>\n",
       "      <td>0.0</td>\n",
       "      <td>0.0</td>\n",
       "      <td>0.0</td>\n",
       "      <td>0.0</td>\n",
       "      <td>17592.50</td>\n",
       "      <td>2592.5</td>\n",
       "      <td>0.00</td>\n",
       "      <td>0.0</td>\n",
       "      <td>0.0</td>\n",
       "      <td>0.0</td>\n",
       "      <td>4681.26</td>\n",
       "      <td>6153.76</td>\n",
       "      <td>0.0</td>\n",
       "      <td>0.0</td>\n",
       "      <td>15000.0</td>\n",
       "      <td>0.00</td>\n",
       "      <td>0.0</td>\n",
       "      <td>0.0</td>\n",
       "      <td>12/31/2016</td>\n",
       "    </tr>\n",
       "    <tr>\n",
       "      <th>4</th>\n",
       "      <td>C00000638</td>\n",
       "      <td>INDIANA STATE MEDICAL ASSOCIATION POLITICAL AC...</td>\n",
       "      <td>Q</td>\n",
       "      <td>U</td>\n",
       "      <td>Q</td>\n",
       "      <td>143170.00</td>\n",
       "      <td>0.0</td>\n",
       "      <td>142570.00</td>\n",
       "      <td>0.0</td>\n",
       "      <td>0.0</td>\n",
       "      <td>0.0</td>\n",
       "      <td>0.0</td>\n",
       "      <td>85918.48</td>\n",
       "      <td>13222.5</td>\n",
       "      <td>0.00</td>\n",
       "      <td>0.0</td>\n",
       "      <td>0.0</td>\n",
       "      <td>0.0</td>\n",
       "      <td>35530.91</td>\n",
       "      <td>92782.43</td>\n",
       "      <td>0.0</td>\n",
       "      <td>0.0</td>\n",
       "      <td>3000.0</td>\n",
       "      <td>0.00</td>\n",
       "      <td>0.0</td>\n",
       "      <td>0.0</td>\n",
       "      <td>12/31/2016</td>\n",
       "    </tr>\n",
       "  </tbody>\n",
       "</table>\n",
       "</div>"
      ],
      "text/plain": [
       "          0                                                  1  2  3  4   \\\n",
       "0  C00000059                                 HALLMARK CARDS PAC  Q  U  M   \n",
       "1  C00000422  AMERICAN MEDICAL ASSOCIATION POLITICAL ACTION ...  Q  B  M   \n",
       "2  C00000489               D R I V E POLITICAL FUND CHAPTER 886  N  U  Q   \n",
       "3  C00000547  KANSAS MEDICAL SOCIETY POLITICAL ACTION COMMITTEE  Q  U  Q   \n",
       "4  C00000638  INDIANA STATE MEDICAL ASSOCIATION POLITICAL AC...  Q  U  Q   \n",
       "\n",
       "           5        6           7    8    9    10   11          12       13  \\\n",
       "0   123198.92      0.0   123198.92  0.0  0.0  0.0  0.0    88500.00      0.0   \n",
       "1  2114478.16      0.0  2099958.16  0.0  0.0  0.0  0.0  2047839.79   1790.0   \n",
       "2    41455.17  41453.0        0.00  0.0  0.0  0.0  0.0    39672.85      0.0   \n",
       "3    19065.00      0.0    19065.00  0.0  0.0  0.0  0.0    17592.50   2592.5   \n",
       "4   143170.00      0.0   142570.00  0.0  0.0  0.0  0.0    85918.48  13222.5   \n",
       "\n",
       "         14   15   16   17         18         19   20   21         22  \\\n",
       "0      0.00  0.0  0.0  0.0  104794.36  139493.28  0.0  0.0    88500.0   \n",
       "1  12621.71  0.0  0.0  0.0  552464.38  619102.75  0.0  0.0  1853000.0   \n",
       "2      0.00  0.0  0.0  0.0     192.00    1974.00  0.0  0.0        0.0   \n",
       "3      0.00  0.0  0.0  0.0    4681.26    6153.76  0.0  0.0    15000.0   \n",
       "4      0.00  0.0  0.0  0.0   35530.91   92782.43  0.0  0.0     3000.0   \n",
       "\n",
       "          23   24   25          26  \n",
       "0       0.00  0.0  0.0  12/31/2016  \n",
       "1  141616.35  0.0  0.0  12/31/2016  \n",
       "2       0.00  0.0  0.0  12/31/2016  \n",
       "3       0.00  0.0  0.0  12/31/2016  \n",
       "4       0.00  0.0  0.0  12/31/2016  "
      ]
     },
     "execution_count": 2,
     "metadata": {},
     "output_type": "execute_result"
    }
   ],
   "source": [
    "pacs = pd.read_csv('https://www.fec.gov/files/bulk-downloads/2016/webk16.zip', sep=\"|\", \n",
    "                   index_col=False, header=None)\n",
    "pacs.head(5)"
   ]
  },
  {
   "cell_type": "code",
   "execution_count": 3,
   "metadata": {},
   "outputs": [
    {
     "data": {
      "text/plain": [
       "['CMTE_ID',\n",
       " 'CMTE_NM',\n",
       " 2,\n",
       " 3,\n",
       " 4,\n",
       " 'TTL_RECEIPTS',\n",
       " 6,\n",
       " 7,\n",
       " 8,\n",
       " 9,\n",
       " 10,\n",
       " 11,\n",
       " 12,\n",
       " 13,\n",
       " 14,\n",
       " 15,\n",
       " 16,\n",
       " 17,\n",
       " 18,\n",
       " 19,\n",
       " 20,\n",
       " 21,\n",
       " 22,\n",
       " 23,\n",
       " 24,\n",
       " 25,\n",
       " 26]"
      ]
     },
     "execution_count": 3,
     "metadata": {},
     "output_type": "execute_result"
    }
   ],
   "source": [
    "pacs.rename(columns={0: \"CMTE_ID\", 1:\"CMTE_NM\", 5:\"TTL_RECEIPTS\"}, inplace=True)\n",
    "pacs.columns.tolist()"
   ]
  },
  {
   "cell_type": "markdown",
   "metadata": {},
   "source": [
    "#### Contributions from committees to candidates file description\n",
    "* We will read contributions from committees to candidates from https://www.fec.gov/files/bulk-downloads/2016/pas216.zip\n",
    "* We'll also need to read the header file separately, available from https://www.fec.gov/files/bulk-downloads/data_dictionaries/pas2_header_file.cs"
   ]
  },
  {
   "cell_type": "code",
   "execution_count": 4,
   "metadata": {},
   "outputs": [
    {
     "data": {
      "text/plain": [
       "['CMTE_ID',\n",
       " 'AMNDT_IND',\n",
       " 'RPT_TP',\n",
       " 'TRANSACTION_PGI',\n",
       " 'IMAGE_NUM',\n",
       " 'TRANSACTION_TP',\n",
       " 'ENTITY_TP',\n",
       " 'NAME',\n",
       " 'CITY',\n",
       " 'STATE',\n",
       " 'ZIP_CODE',\n",
       " 'EMPLOYER',\n",
       " 'OCCUPATION',\n",
       " 'TRANSACTION_DT',\n",
       " 'TRANSACTION_AMT',\n",
       " 'OTHER_ID',\n",
       " 'CAND_ID',\n",
       " 'TRAN_ID',\n",
       " 'FILE_NUM',\n",
       " 'MEMO_CD',\n",
       " 'MEMO_TEXT',\n",
       " 'SUB_ID']"
      ]
     },
     "execution_count": 4,
     "metadata": {},
     "output_type": "execute_result"
    }
   ],
   "source": [
    "pas_headers_df = pd.read_csv(\n",
    "    'https://www.fec.gov/files/bulk-downloads/data_dictionaries/pas2_header_file.csv')\n",
    "\n",
    "pas_headers = pas_headers_df.columns.tolist()\n",
    "pas_headers"
   ]
  },
  {
   "cell_type": "code",
   "execution_count": 5,
   "metadata": {},
   "outputs": [
    {
     "data": {
      "text/plain": [
       "{'CMTE_ID': str,\n",
       " 'AMNDT_IND': str,\n",
       " 'RPT_TP': str,\n",
       " 'TRANSACTION_PGI': str,\n",
       " 'IMAGE_NUM': str,\n",
       " 'TRANSACTION_TP': str,\n",
       " 'ENTITY_TP': str,\n",
       " 'NAME': str,\n",
       " 'CITY': str,\n",
       " 'STATE': str,\n",
       " 'ZIP_CODE': str,\n",
       " 'EMPLOYER': str,\n",
       " 'OCCUPATION': str,\n",
       " 'TRANSACTION_DT': str,\n",
       " 'TRANSACTION_AMT': float,\n",
       " 'OTHER_ID': str,\n",
       " 'CAND_ID': str,\n",
       " 'TRAN_ID': str,\n",
       " 'FILE_NUM': str,\n",
       " 'MEMO_CD': str,\n",
       " 'MEMO_TEXT': str,\n",
       " 'SUB_ID': str}"
      ]
     },
     "execution_count": 5,
     "metadata": {},
     "output_type": "execute_result"
    }
   ],
   "source": [
    "data_types = { header: np.str for header in pas_headers }\n",
    "data_types['TRANSACTION_AMT'] = np.float\n",
    "data_types"
   ]
  },
  {
   "cell_type": "markdown",
   "metadata": {},
   "source": [
    "* Having the headers, we read the actual data."
   ]
  },
  {
   "cell_type": "code",
   "execution_count": 6,
   "metadata": {},
   "outputs": [
    {
     "data": {
      "text/html": [
       "<div>\n",
       "<style scoped>\n",
       "    .dataframe tbody tr th:only-of-type {\n",
       "        vertical-align: middle;\n",
       "    }\n",
       "\n",
       "    .dataframe tbody tr th {\n",
       "        vertical-align: top;\n",
       "    }\n",
       "\n",
       "    .dataframe thead th {\n",
       "        text-align: right;\n",
       "    }\n",
       "</style>\n",
       "<table border=\"1\" class=\"dataframe\">\n",
       "  <thead>\n",
       "    <tr style=\"text-align: right;\">\n",
       "      <th></th>\n",
       "      <th>CMTE_ID</th>\n",
       "      <th>AMNDT_IND</th>\n",
       "      <th>RPT_TP</th>\n",
       "      <th>TRANSACTION_PGI</th>\n",
       "      <th>IMAGE_NUM</th>\n",
       "      <th>TRANSACTION_TP</th>\n",
       "      <th>ENTITY_TP</th>\n",
       "      <th>NAME</th>\n",
       "      <th>CITY</th>\n",
       "      <th>STATE</th>\n",
       "      <th>ZIP_CODE</th>\n",
       "      <th>EMPLOYER</th>\n",
       "      <th>OCCUPATION</th>\n",
       "      <th>TRANSACTION_DT</th>\n",
       "      <th>TRANSACTION_AMT</th>\n",
       "      <th>OTHER_ID</th>\n",
       "      <th>CAND_ID</th>\n",
       "      <th>TRAN_ID</th>\n",
       "      <th>FILE_NUM</th>\n",
       "      <th>MEMO_CD</th>\n",
       "      <th>MEMO_TEXT</th>\n",
       "      <th>SUB_ID</th>\n",
       "    </tr>\n",
       "  </thead>\n",
       "  <tbody>\n",
       "    <tr>\n",
       "      <th>0</th>\n",
       "      <td>C00548198</td>\n",
       "      <td>N</td>\n",
       "      <td>M3</td>\n",
       "      <td>G2016</td>\n",
       "      <td>15950887602</td>\n",
       "      <td>24K</td>\n",
       "      <td>CCM</td>\n",
       "      <td>BLAINE FOR CONGRESS</td>\n",
       "      <td>JEFFERSON CITY</td>\n",
       "      <td>MO</td>\n",
       "      <td>65102</td>\n",
       "      <td>NaN</td>\n",
       "      <td>NaN</td>\n",
       "      <td>02102015</td>\n",
       "      <td>2500.0</td>\n",
       "      <td>C00458679</td>\n",
       "      <td>H8MO09153</td>\n",
       "      <td>6783511</td>\n",
       "      <td>998835</td>\n",
       "      <td>NaN</td>\n",
       "      <td>NaN</td>\n",
       "      <td>4032020151240895091</td>\n",
       "    </tr>\n",
       "    <tr>\n",
       "      <th>1</th>\n",
       "      <td>C00548198</td>\n",
       "      <td>N</td>\n",
       "      <td>M3</td>\n",
       "      <td>G2016</td>\n",
       "      <td>15950887602</td>\n",
       "      <td>24K</td>\n",
       "      <td>CCM</td>\n",
       "      <td>KEVIN MCCARTHY FOR CONGRESS</td>\n",
       "      <td>BAKERSFIELD</td>\n",
       "      <td>CA</td>\n",
       "      <td>93389</td>\n",
       "      <td>NaN</td>\n",
       "      <td>NaN</td>\n",
       "      <td>02112015</td>\n",
       "      <td>1000.0</td>\n",
       "      <td>C00420935</td>\n",
       "      <td>H6CA22125</td>\n",
       "      <td>6788487</td>\n",
       "      <td>998835</td>\n",
       "      <td>NaN</td>\n",
       "      <td>NaN</td>\n",
       "      <td>4032020151240895092</td>\n",
       "    </tr>\n",
       "    <tr>\n",
       "      <th>2</th>\n",
       "      <td>C00235739</td>\n",
       "      <td>N</td>\n",
       "      <td>M3</td>\n",
       "      <td>P2014</td>\n",
       "      <td>15950887798</td>\n",
       "      <td>24K</td>\n",
       "      <td>CCM</td>\n",
       "      <td>DAN NEWHOUSE FOR CONGRESS</td>\n",
       "      <td>YAKIMA</td>\n",
       "      <td>WA</td>\n",
       "      <td>98909</td>\n",
       "      <td>NaN</td>\n",
       "      <td>NaN</td>\n",
       "      <td>02052015</td>\n",
       "      <td>2500.0</td>\n",
       "      <td>C00559393</td>\n",
       "      <td>H4WA04104</td>\n",
       "      <td>B544444</td>\n",
       "      <td>998836</td>\n",
       "      <td>NaN</td>\n",
       "      <td>NaN</td>\n",
       "      <td>4032020151240895118</td>\n",
       "    </tr>\n",
       "    <tr>\n",
       "      <th>3</th>\n",
       "      <td>C00235739</td>\n",
       "      <td>N</td>\n",
       "      <td>M3</td>\n",
       "      <td>P2016</td>\n",
       "      <td>15950887799</td>\n",
       "      <td>24K</td>\n",
       "      <td>CCM</td>\n",
       "      <td>CATHY MCMORRIS RODGERS FOR CONGRESS</td>\n",
       "      <td>SPOKANE</td>\n",
       "      <td>WA</td>\n",
       "      <td>99210</td>\n",
       "      <td>NaN</td>\n",
       "      <td>NaN</td>\n",
       "      <td>02182015</td>\n",
       "      <td>1000.0</td>\n",
       "      <td>C00390476</td>\n",
       "      <td>H4WA05077</td>\n",
       "      <td>B544838</td>\n",
       "      <td>998836</td>\n",
       "      <td>NaN</td>\n",
       "      <td>NaN</td>\n",
       "      <td>4032020151240895120</td>\n",
       "    </tr>\n",
       "    <tr>\n",
       "      <th>4</th>\n",
       "      <td>C00235739</td>\n",
       "      <td>N</td>\n",
       "      <td>M3</td>\n",
       "      <td>G2018</td>\n",
       "      <td>15950887799</td>\n",
       "      <td>24K</td>\n",
       "      <td>CCM</td>\n",
       "      <td>MANCHIN FOR WEST VIRGINIA</td>\n",
       "      <td>WASHINGTON</td>\n",
       "      <td>DC</td>\n",
       "      <td>20002</td>\n",
       "      <td>NaN</td>\n",
       "      <td>NaN</td>\n",
       "      <td>02052015</td>\n",
       "      <td>1000.0</td>\n",
       "      <td>C00486563</td>\n",
       "      <td>S0WV00090</td>\n",
       "      <td>B544441</td>\n",
       "      <td>998836</td>\n",
       "      <td>NaN</td>\n",
       "      <td>NaN</td>\n",
       "      <td>4032020151240895121</td>\n",
       "    </tr>\n",
       "  </tbody>\n",
       "</table>\n",
       "</div>"
      ],
      "text/plain": [
       "     CMTE_ID AMNDT_IND RPT_TP TRANSACTION_PGI    IMAGE_NUM TRANSACTION_TP  \\\n",
       "0  C00548198         N     M3           G2016  15950887602            24K   \n",
       "1  C00548198         N     M3           G2016  15950887602            24K   \n",
       "2  C00235739         N     M3           P2014  15950887798            24K   \n",
       "3  C00235739         N     M3           P2016  15950887799            24K   \n",
       "4  C00235739         N     M3           G2018  15950887799            24K   \n",
       "\n",
       "  ENTITY_TP                                 NAME            CITY STATE  \\\n",
       "0       CCM                  BLAINE FOR CONGRESS  JEFFERSON CITY    MO   \n",
       "1       CCM          KEVIN MCCARTHY FOR CONGRESS     BAKERSFIELD    CA   \n",
       "2       CCM            DAN NEWHOUSE FOR CONGRESS          YAKIMA    WA   \n",
       "3       CCM  CATHY MCMORRIS RODGERS FOR CONGRESS         SPOKANE    WA   \n",
       "4       CCM            MANCHIN FOR WEST VIRGINIA      WASHINGTON    DC   \n",
       "\n",
       "  ZIP_CODE EMPLOYER OCCUPATION TRANSACTION_DT  TRANSACTION_AMT   OTHER_ID  \\\n",
       "0    65102      NaN        NaN       02102015           2500.0  C00458679   \n",
       "1    93389      NaN        NaN       02112015           1000.0  C00420935   \n",
       "2    98909      NaN        NaN       02052015           2500.0  C00559393   \n",
       "3    99210      NaN        NaN       02182015           1000.0  C00390476   \n",
       "4    20002      NaN        NaN       02052015           1000.0  C00486563   \n",
       "\n",
       "     CAND_ID  TRAN_ID FILE_NUM MEMO_CD MEMO_TEXT               SUB_ID  \n",
       "0  H8MO09153  6783511   998835     NaN       NaN  4032020151240895091  \n",
       "1  H6CA22125  6788487   998835     NaN       NaN  4032020151240895092  \n",
       "2  H4WA04104  B544444   998836     NaN       NaN  4032020151240895118  \n",
       "3  H4WA05077  B544838   998836     NaN       NaN  4032020151240895120  \n",
       "4  S0WV00090  B544441   998836     NaN       NaN  4032020151240895121  "
      ]
     },
     "execution_count": 6,
     "metadata": {},
     "output_type": "execute_result"
    }
   ],
   "source": [
    "pas = pd.read_csv('https://www.fec.gov/files/bulk-downloads/2016/pas216.zip', \n",
    "                  sep=\"|\", \n",
    "                  index_col=False, \n",
    "                  names=pas_headers, \n",
    "                  dtype=data_types,\n",
    "                  encoding='ISO-8859-1')\n",
    "pas.head(5)"
   ]
  },
  {
   "cell_type": "markdown",
   "metadata": {},
   "source": [
    "#### Committee master\n",
    "* We will read basic information for each committee from https://www.fec.gov/files/bulk-downloads/2016/cm16.zi\n",
    "* We'll also need to read the header file separately, available from https://www.fec.gov/files/bulk-downloads/data_dictionaries/cm_header_file.csv"
   ]
  },
  {
   "cell_type": "code",
   "execution_count": 7,
   "metadata": {},
   "outputs": [
    {
     "data": {
      "text/plain": [
       "['CMTE_ID',\n",
       " 'CMTE_NM',\n",
       " 'TRES_NM',\n",
       " 'CMTE_ST1',\n",
       " 'CMTE_ST2',\n",
       " 'CMTE_CITY',\n",
       " 'CMTE_ST',\n",
       " 'CMTE_ZIP',\n",
       " 'CMTE_DSGN',\n",
       " 'CMTE_TP',\n",
       " 'CMTE_PTY_AFFILIATION',\n",
       " 'CMTE_FILING_FREQ',\n",
       " 'ORG_TP',\n",
       " 'CONNECTED_ORG_NM',\n",
       " 'CAND_ID']"
      ]
     },
     "execution_count": 7,
     "metadata": {},
     "output_type": "execute_result"
    }
   ],
   "source": [
    "cm_headers_df = pd.read_csv(\n",
    "    'https://www.fec.gov/files/bulk-downloads/data_dictionaries/cm_header_file.csv')\n",
    "\n",
    "cm_headers = cm_headers_df.columns.tolist()\n",
    "cm_headers"
   ]
  },
  {
   "cell_type": "code",
   "execution_count": 8,
   "metadata": {},
   "outputs": [
    {
     "data": {
      "text/html": [
       "<div>\n",
       "<style scoped>\n",
       "    .dataframe tbody tr th:only-of-type {\n",
       "        vertical-align: middle;\n",
       "    }\n",
       "\n",
       "    .dataframe tbody tr th {\n",
       "        vertical-align: top;\n",
       "    }\n",
       "\n",
       "    .dataframe thead th {\n",
       "        text-align: right;\n",
       "    }\n",
       "</style>\n",
       "<table border=\"1\" class=\"dataframe\">\n",
       "  <thead>\n",
       "    <tr style=\"text-align: right;\">\n",
       "      <th></th>\n",
       "      <th>CMTE_ID</th>\n",
       "      <th>CMTE_NM</th>\n",
       "      <th>TRES_NM</th>\n",
       "      <th>CMTE_ST1</th>\n",
       "      <th>CMTE_ST2</th>\n",
       "      <th>CMTE_CITY</th>\n",
       "      <th>CMTE_ST</th>\n",
       "      <th>CMTE_ZIP</th>\n",
       "      <th>CMTE_DSGN</th>\n",
       "      <th>CMTE_TP</th>\n",
       "      <th>CMTE_PTY_AFFILIATION</th>\n",
       "      <th>CMTE_FILING_FREQ</th>\n",
       "      <th>ORG_TP</th>\n",
       "      <th>CONNECTED_ORG_NM</th>\n",
       "      <th>CAND_ID</th>\n",
       "    </tr>\n",
       "  </thead>\n",
       "  <tbody>\n",
       "    <tr>\n",
       "      <th>0</th>\n",
       "      <td>C00000059</td>\n",
       "      <td>HALLMARK CARDS PAC</td>\n",
       "      <td>ERIN BROWER</td>\n",
       "      <td>2501 MCGEE</td>\n",
       "      <td>MD#288</td>\n",
       "      <td>KANSAS CITY</td>\n",
       "      <td>MO</td>\n",
       "      <td>64108</td>\n",
       "      <td>U</td>\n",
       "      <td>Q</td>\n",
       "      <td>UNK</td>\n",
       "      <td>M</td>\n",
       "      <td>C</td>\n",
       "      <td>NaN</td>\n",
       "      <td>NaN</td>\n",
       "    </tr>\n",
       "    <tr>\n",
       "      <th>1</th>\n",
       "      <td>C00000422</td>\n",
       "      <td>AMERICAN MEDICAL ASSOCIATION POLITICAL ACTION ...</td>\n",
       "      <td>WALKER, KEVIN</td>\n",
       "      <td>25 MASSACHUSETTS AVE, NW</td>\n",
       "      <td>SUITE 600</td>\n",
       "      <td>WASHINGTON</td>\n",
       "      <td>DC</td>\n",
       "      <td>20001</td>\n",
       "      <td>B</td>\n",
       "      <td>Q</td>\n",
       "      <td>NaN</td>\n",
       "      <td>M</td>\n",
       "      <td>M</td>\n",
       "      <td>AMERICAN MEDICAL ASSOCIATION</td>\n",
       "      <td>NaN</td>\n",
       "    </tr>\n",
       "    <tr>\n",
       "      <th>2</th>\n",
       "      <td>C00000489</td>\n",
       "      <td>D R I V E POLITICAL FUND CHAPTER 886</td>\n",
       "      <td>TOM RITTER</td>\n",
       "      <td>3528 W RENO</td>\n",
       "      <td>NaN</td>\n",
       "      <td>OKLAHOMA CITY</td>\n",
       "      <td>OK</td>\n",
       "      <td>73107</td>\n",
       "      <td>U</td>\n",
       "      <td>N</td>\n",
       "      <td>NaN</td>\n",
       "      <td>Q</td>\n",
       "      <td>L</td>\n",
       "      <td>TEAMSTERS LOCAL UNION 886</td>\n",
       "      <td>NaN</td>\n",
       "    </tr>\n",
       "    <tr>\n",
       "      <th>3</th>\n",
       "      <td>C00000547</td>\n",
       "      <td>KANSAS MEDICAL SOCIETY POLITICAL ACTION COMMITTEE</td>\n",
       "      <td>C. RICHARD BONEBRAKE, M.D.</td>\n",
       "      <td>623 SW 10TH AVE</td>\n",
       "      <td>NaN</td>\n",
       "      <td>TOPEKA</td>\n",
       "      <td>KS</td>\n",
       "      <td>66612</td>\n",
       "      <td>U</td>\n",
       "      <td>Q</td>\n",
       "      <td>UNK</td>\n",
       "      <td>Q</td>\n",
       "      <td>T</td>\n",
       "      <td>NaN</td>\n",
       "      <td>NaN</td>\n",
       "    </tr>\n",
       "    <tr>\n",
       "      <th>4</th>\n",
       "      <td>C00000638</td>\n",
       "      <td>INDIANA STATE MEDICAL ASSOCIATION POLITICAL AC...</td>\n",
       "      <td>VIDYA KORA, M.D.</td>\n",
       "      <td>322 CANAL WALK, CANAL LEVEL</td>\n",
       "      <td>NaN</td>\n",
       "      <td>INDIANAPOLIS</td>\n",
       "      <td>IN</td>\n",
       "      <td>46202</td>\n",
       "      <td>U</td>\n",
       "      <td>Q</td>\n",
       "      <td>NaN</td>\n",
       "      <td>Q</td>\n",
       "      <td>M</td>\n",
       "      <td>NaN</td>\n",
       "      <td>NaN</td>\n",
       "    </tr>\n",
       "  </tbody>\n",
       "</table>\n",
       "</div>"
      ],
      "text/plain": [
       "     CMTE_ID                                            CMTE_NM  \\\n",
       "0  C00000059                                 HALLMARK CARDS PAC   \n",
       "1  C00000422  AMERICAN MEDICAL ASSOCIATION POLITICAL ACTION ...   \n",
       "2  C00000489               D R I V E POLITICAL FUND CHAPTER 886   \n",
       "3  C00000547  KANSAS MEDICAL SOCIETY POLITICAL ACTION COMMITTEE   \n",
       "4  C00000638  INDIANA STATE MEDICAL ASSOCIATION POLITICAL AC...   \n",
       "\n",
       "                      TRES_NM                     CMTE_ST1   CMTE_ST2  \\\n",
       "0                 ERIN BROWER                   2501 MCGEE     MD#288   \n",
       "1               WALKER, KEVIN     25 MASSACHUSETTS AVE, NW  SUITE 600   \n",
       "2                  TOM RITTER                  3528 W RENO        NaN   \n",
       "3  C. RICHARD BONEBRAKE, M.D.              623 SW 10TH AVE        NaN   \n",
       "4            VIDYA KORA, M.D.  322 CANAL WALK, CANAL LEVEL        NaN   \n",
       "\n",
       "       CMTE_CITY CMTE_ST CMTE_ZIP CMTE_DSGN CMTE_TP CMTE_PTY_AFFILIATION  \\\n",
       "0    KANSAS CITY      MO    64108         U       Q                  UNK   \n",
       "1     WASHINGTON      DC    20001         B       Q                  NaN   \n",
       "2  OKLAHOMA CITY      OK    73107         U       N                  NaN   \n",
       "3         TOPEKA      KS    66612         U       Q                  UNK   \n",
       "4   INDIANAPOLIS      IN    46202         U       Q                  NaN   \n",
       "\n",
       "  CMTE_FILING_FREQ ORG_TP              CONNECTED_ORG_NM CAND_ID  \n",
       "0                M      C                           NaN     NaN  \n",
       "1                M      M  AMERICAN MEDICAL ASSOCIATION     NaN  \n",
       "2                Q      L     TEAMSTERS LOCAL UNION 886     NaN  \n",
       "3                Q      T                           NaN     NaN  \n",
       "4                Q      M                           NaN     NaN  "
      ]
     },
     "execution_count": 8,
     "metadata": {},
     "output_type": "execute_result"
    }
   ],
   "source": [
    "cm = pd.read_csv('https://www.fec.gov/files/bulk-downloads/2016/cm16.zip', \n",
    "                  sep=\"|\", \n",
    "                  index_col=False, \n",
    "                  names=cm_headers)\n",
    "cm.head(5)"
   ]
  },
  {
   "cell_type": "markdown",
   "metadata": {},
   "source": [
    "* We will focus on PACs and super-PACs with the aim of answering the first question\n",
    "* PACs and super-PACs are subset of all PACs that PAC summary contains so we need to exclude other PAC categories\n",
    "* Committee type code informs us for the type of the PAC (https://www.fec.gov/campaign-finance-data/committee-type-code-descriptions/)\n",
    "* CMTE_TP=O : Independent expenditure-only (Super PACs)\n",
    "* CMTE_TP=Q : PAC - qualified\n",
    "* CMTE_TP=N : PAC - nonqualified"
   ]
  },
  {
   "cell_type": "code",
   "execution_count": 9,
   "metadata": {},
   "outputs": [
    {
     "name": "stdout",
     "output_type": "stream",
     "text": [
      "9016\n",
      "9016\n",
      "12048\n"
     ]
    }
   ],
   "source": [
    "print(len(set(cm[(cm.CMTE_TP=='Q')|(cm.CMTE_TP=='O')|(cm.CMTE_TP=='N')].CMTE_ID.tolist()).intersection(pacs.CMTE_ID)))\n",
    "print(len(set(cm[(cm.CMTE_TP=='Q')|(cm.CMTE_TP=='O')|(cm.CMTE_TP=='N')].CMTE_ID.tolist())))\n",
    "print(len(pacs.CMTE_ID))"
   ]
  },
  {
   "cell_type": "code",
   "execution_count": 10,
   "metadata": {},
   "outputs": [],
   "source": [
    "cm['isPAC'] = np.where(cm.CMTE_TP.isin(['Q','O','N']),True,False)"
   ]
  },
  {
   "cell_type": "markdown",
   "metadata": {},
   "source": [
    "#### Candidate master\n",
    "* We will read basic information for each candidate from https://www.fec.gov/files/bulk-downloads/2016/pas216.zip\n",
    "* We'll also need to read the header file separately, available from https://www.fec.gov/data/browse-data/files/bulk-downloads/data_dictionaries/cn_header_file.csv"
   ]
  },
  {
   "cell_type": "code",
   "execution_count": 11,
   "metadata": {},
   "outputs": [
    {
     "data": {
      "text/plain": [
       "['CAND_ID',\n",
       " 'CAND_NAME',\n",
       " 'CAND_PTY_AFFILIATION',\n",
       " 'CAND_ELECTION_YR',\n",
       " 'CAND_OFFICE_ST',\n",
       " 'CAND_OFFICE',\n",
       " 'CAND_OFFICE_DISTRICT',\n",
       " 'CAND_ICI',\n",
       " 'CAND_STATUS',\n",
       " 'CAND_PCC',\n",
       " 'CAND_ST1',\n",
       " 'CAND_ST2',\n",
       " 'CAND_CITY',\n",
       " 'CAND_ST',\n",
       " 'CAND_ZIP']"
      ]
     },
     "execution_count": 11,
     "metadata": {},
     "output_type": "execute_result"
    }
   ],
   "source": [
    "cn_headers_df = pd.read_csv(\n",
    "    'https://www.fec.gov/data/browse-data/files/bulk-downloads/data_dictionaries/cn_header_file.csv')\n",
    "\n",
    "cn_headers = cn_headers_df.columns.tolist()\n",
    "cn_headers"
   ]
  },
  {
   "cell_type": "code",
   "execution_count": 12,
   "metadata": {},
   "outputs": [
    {
     "data": {
      "text/html": [
       "<div>\n",
       "<style scoped>\n",
       "    .dataframe tbody tr th:only-of-type {\n",
       "        vertical-align: middle;\n",
       "    }\n",
       "\n",
       "    .dataframe tbody tr th {\n",
       "        vertical-align: top;\n",
       "    }\n",
       "\n",
       "    .dataframe thead th {\n",
       "        text-align: right;\n",
       "    }\n",
       "</style>\n",
       "<table border=\"1\" class=\"dataframe\">\n",
       "  <thead>\n",
       "    <tr style=\"text-align: right;\">\n",
       "      <th></th>\n",
       "      <th>CAND_ID</th>\n",
       "      <th>CAND_NAME</th>\n",
       "      <th>CAND_PTY_AFFILIATION</th>\n",
       "      <th>CAND_ELECTION_YR</th>\n",
       "      <th>CAND_OFFICE_ST</th>\n",
       "      <th>CAND_OFFICE</th>\n",
       "      <th>CAND_OFFICE_DISTRICT</th>\n",
       "      <th>CAND_ICI</th>\n",
       "      <th>CAND_STATUS</th>\n",
       "      <th>CAND_PCC</th>\n",
       "      <th>CAND_ST1</th>\n",
       "      <th>CAND_ST2</th>\n",
       "      <th>CAND_CITY</th>\n",
       "      <th>CAND_ST</th>\n",
       "      <th>CAND_ZIP</th>\n",
       "    </tr>\n",
       "  </thead>\n",
       "  <tbody>\n",
       "    <tr>\n",
       "      <th>0</th>\n",
       "      <td>H0AK00097</td>\n",
       "      <td>COX, JOHN R.</td>\n",
       "      <td>REP</td>\n",
       "      <td>2014</td>\n",
       "      <td>AK</td>\n",
       "      <td>H</td>\n",
       "      <td>0.0</td>\n",
       "      <td>C</td>\n",
       "      <td>N</td>\n",
       "      <td>C00525261</td>\n",
       "      <td>P.O. BOX 1092</td>\n",
       "      <td>NaN</td>\n",
       "      <td>ANCHOR POINT</td>\n",
       "      <td>AK</td>\n",
       "      <td>99556.0</td>\n",
       "    </tr>\n",
       "    <tr>\n",
       "      <th>1</th>\n",
       "      <td>H0AL02087</td>\n",
       "      <td>ROBY, MARTHA</td>\n",
       "      <td>REP</td>\n",
       "      <td>2016</td>\n",
       "      <td>AL</td>\n",
       "      <td>H</td>\n",
       "      <td>2.0</td>\n",
       "      <td>I</td>\n",
       "      <td>C</td>\n",
       "      <td>C00462143</td>\n",
       "      <td>PO BOX 195</td>\n",
       "      <td>NaN</td>\n",
       "      <td>MONTGOMERY</td>\n",
       "      <td>AL</td>\n",
       "      <td>36101.0</td>\n",
       "    </tr>\n",
       "    <tr>\n",
       "      <th>2</th>\n",
       "      <td>H0AL02095</td>\n",
       "      <td>JOHN, ROBERT E JR</td>\n",
       "      <td>IND</td>\n",
       "      <td>2016</td>\n",
       "      <td>AL</td>\n",
       "      <td>H</td>\n",
       "      <td>2.0</td>\n",
       "      <td>C</td>\n",
       "      <td>N</td>\n",
       "      <td>NaN</td>\n",
       "      <td>1465 W OVERBROOK RD</td>\n",
       "      <td>NaN</td>\n",
       "      <td>MILLBROOK</td>\n",
       "      <td>AL</td>\n",
       "      <td>36054.0</td>\n",
       "    </tr>\n",
       "    <tr>\n",
       "      <th>3</th>\n",
       "      <td>H0AL05049</td>\n",
       "      <td>CRAMER, ROBERT E \"BUD\" JR</td>\n",
       "      <td>DEM</td>\n",
       "      <td>2008</td>\n",
       "      <td>AL</td>\n",
       "      <td>H</td>\n",
       "      <td>5.0</td>\n",
       "      <td>NaN</td>\n",
       "      <td>P</td>\n",
       "      <td>C00239038</td>\n",
       "      <td>PO BOX 2621</td>\n",
       "      <td>NaN</td>\n",
       "      <td>HUNTSVILLE</td>\n",
       "      <td>AL</td>\n",
       "      <td>35804.0</td>\n",
       "    </tr>\n",
       "    <tr>\n",
       "      <th>4</th>\n",
       "      <td>H0AL05163</td>\n",
       "      <td>BROOKS, MO</td>\n",
       "      <td>REP</td>\n",
       "      <td>2016</td>\n",
       "      <td>AL</td>\n",
       "      <td>H</td>\n",
       "      <td>5.0</td>\n",
       "      <td>I</td>\n",
       "      <td>C</td>\n",
       "      <td>C00464149</td>\n",
       "      <td>7610 FOXFIRE DRIVE</td>\n",
       "      <td>NaN</td>\n",
       "      <td>HUNTSVILLE</td>\n",
       "      <td>AL</td>\n",
       "      <td>35802.0</td>\n",
       "    </tr>\n",
       "  </tbody>\n",
       "</table>\n",
       "</div>"
      ],
      "text/plain": [
       "     CAND_ID                  CAND_NAME CAND_PTY_AFFILIATION  \\\n",
       "0  H0AK00097               COX, JOHN R.                  REP   \n",
       "1  H0AL02087               ROBY, MARTHA                  REP   \n",
       "2  H0AL02095          JOHN, ROBERT E JR                  IND   \n",
       "3  H0AL05049  CRAMER, ROBERT E \"BUD\" JR                  DEM   \n",
       "4  H0AL05163                 BROOKS, MO                  REP   \n",
       "\n",
       "   CAND_ELECTION_YR CAND_OFFICE_ST CAND_OFFICE  CAND_OFFICE_DISTRICT CAND_ICI  \\\n",
       "0              2014             AK           H                   0.0        C   \n",
       "1              2016             AL           H                   2.0        I   \n",
       "2              2016             AL           H                   2.0        C   \n",
       "3              2008             AL           H                   5.0      NaN   \n",
       "4              2016             AL           H                   5.0        I   \n",
       "\n",
       "  CAND_STATUS   CAND_PCC             CAND_ST1 CAND_ST2     CAND_CITY CAND_ST  \\\n",
       "0           N  C00525261       P.O. BOX 1092       NaN  ANCHOR POINT      AK   \n",
       "1           C  C00462143           PO BOX 195      NaN    MONTGOMERY      AL   \n",
       "2           N        NaN  1465 W OVERBROOK RD      NaN     MILLBROOK      AL   \n",
       "3           P  C00239038          PO BOX 2621      NaN    HUNTSVILLE      AL   \n",
       "4           C  C00464149   7610 FOXFIRE DRIVE      NaN    HUNTSVILLE      AL   \n",
       "\n",
       "   CAND_ZIP  \n",
       "0   99556.0  \n",
       "1   36101.0  \n",
       "2   36054.0  \n",
       "3   35804.0  \n",
       "4   35802.0  "
      ]
     },
     "execution_count": 12,
     "metadata": {},
     "output_type": "execute_result"
    }
   ],
   "source": [
    "cn = pd.read_csv('https://www.fec.gov/files/bulk-downloads/2016/cn16.zip', \n",
    "                  sep=\"|\", \n",
    "                  index_col=False, \n",
    "                  names=cn_headers)\n",
    "cn.head(5)"
   ]
  },
  {
   "cell_type": "code",
   "execution_count": 13,
   "metadata": {},
   "outputs": [
    {
     "data": {
      "text/plain": [
       "7237"
      ]
     },
     "execution_count": 13,
     "metadata": {},
     "output_type": "execute_result"
    }
   ],
   "source": [
    "len(cn.CAND_NAME.unique())"
   ]
  },
  {
   "cell_type": "markdown",
   "metadata": {},
   "source": [
    "* We had to search for the two candidates using their names, seeing that there is a a large number of candidates."
   ]
  },
  {
   "cell_type": "code",
   "execution_count": 14,
   "metadata": {},
   "outputs": [
    {
     "data": {
      "text/html": [
       "<div>\n",
       "<style scoped>\n",
       "    .dataframe tbody tr th:only-of-type {\n",
       "        vertical-align: middle;\n",
       "    }\n",
       "\n",
       "    .dataframe tbody tr th {\n",
       "        vertical-align: top;\n",
       "    }\n",
       "\n",
       "    .dataframe thead th {\n",
       "        text-align: right;\n",
       "    }\n",
       "</style>\n",
       "<table border=\"1\" class=\"dataframe\">\n",
       "  <thead>\n",
       "    <tr style=\"text-align: right;\">\n",
       "      <th></th>\n",
       "      <th>CAND_ID</th>\n",
       "      <th>CAND_NAME</th>\n",
       "      <th>CAND_PTY_AFFILIATION</th>\n",
       "      <th>CAND_ELECTION_YR</th>\n",
       "      <th>CAND_OFFICE_ST</th>\n",
       "      <th>CAND_OFFICE</th>\n",
       "      <th>CAND_OFFICE_DISTRICT</th>\n",
       "      <th>CAND_ICI</th>\n",
       "      <th>CAND_STATUS</th>\n",
       "      <th>CAND_PCC</th>\n",
       "      <th>CAND_ST1</th>\n",
       "      <th>CAND_ST2</th>\n",
       "      <th>CAND_CITY</th>\n",
       "      <th>CAND_ST</th>\n",
       "      <th>CAND_ZIP</th>\n",
       "    </tr>\n",
       "  </thead>\n",
       "  <tbody>\n",
       "    <tr>\n",
       "      <th>5868</th>\n",
       "      <td>P60018835</td>\n",
       "      <td>TRUMP, THE MUSLIM DICTATOR</td>\n",
       "      <td>REP</td>\n",
       "      <td>2016</td>\n",
       "      <td>US</td>\n",
       "      <td>P</td>\n",
       "      <td>0.0</td>\n",
       "      <td>O</td>\n",
       "      <td>N</td>\n",
       "      <td>NaN</td>\n",
       "      <td>725 5TH AVE</td>\n",
       "      <td>NaN</td>\n",
       "      <td>NEW YORK</td>\n",
       "      <td>NY</td>\n",
       "      <td>10022.0</td>\n",
       "    </tr>\n",
       "    <tr>\n",
       "      <th>5883</th>\n",
       "      <td>P60018991</td>\n",
       "      <td>TRUMP, DON'T VOTE FOR</td>\n",
       "      <td>COM</td>\n",
       "      <td>2016</td>\n",
       "      <td>US</td>\n",
       "      <td>P</td>\n",
       "      <td>0.0</td>\n",
       "      <td>O</td>\n",
       "      <td>N</td>\n",
       "      <td>NaN</td>\n",
       "      <td>1090 MAIN ST.</td>\n",
       "      <td>NaN</td>\n",
       "      <td>NORWALK</td>\n",
       "      <td>IA</td>\n",
       "      <td>50211.0</td>\n",
       "    </tr>\n",
       "    <tr>\n",
       "      <th>6298</th>\n",
       "      <td>P80001571</td>\n",
       "      <td>TRUMP, DONALD J. / MICHAEL R. PENCE</td>\n",
       "      <td>REP</td>\n",
       "      <td>2016</td>\n",
       "      <td>US</td>\n",
       "      <td>P</td>\n",
       "      <td>0.0</td>\n",
       "      <td>O</td>\n",
       "      <td>C</td>\n",
       "      <td>C00580100</td>\n",
       "      <td>725 FIFTH AVENUE</td>\n",
       "      <td>NaN</td>\n",
       "      <td>NEW YORK</td>\n",
       "      <td>NY</td>\n",
       "      <td>10022.0</td>\n",
       "    </tr>\n",
       "  </tbody>\n",
       "</table>\n",
       "</div>"
      ],
      "text/plain": [
       "        CAND_ID                             CAND_NAME CAND_PTY_AFFILIATION  \\\n",
       "5868  P60018835            TRUMP, THE MUSLIM DICTATOR                  REP   \n",
       "5883  P60018991                 TRUMP, DON'T VOTE FOR                  COM   \n",
       "6298  P80001571  TRUMP, DONALD J. / MICHAEL R. PENCE                   REP   \n",
       "\n",
       "      CAND_ELECTION_YR CAND_OFFICE_ST CAND_OFFICE  CAND_OFFICE_DISTRICT  \\\n",
       "5868              2016             US           P                   0.0   \n",
       "5883              2016             US           P                   0.0   \n",
       "6298              2016             US           P                   0.0   \n",
       "\n",
       "     CAND_ICI CAND_STATUS   CAND_PCC          CAND_ST1 CAND_ST2 CAND_CITY  \\\n",
       "5868        O           N        NaN       725 5TH AVE      NaN  NEW YORK   \n",
       "5883        O           N        NaN     1090 MAIN ST.      NaN   NORWALK   \n",
       "6298        O           C  C00580100  725 FIFTH AVENUE      NaN  NEW YORK   \n",
       "\n",
       "     CAND_ST  CAND_ZIP  \n",
       "5868      NY   10022.0  \n",
       "5883      IA   50211.0  \n",
       "6298      NY   10022.0  "
      ]
     },
     "execution_count": 14,
     "metadata": {},
     "output_type": "execute_result"
    }
   ],
   "source": [
    "cn.loc[cn.CAND_NAME.str.contains('TRUMP', regex=False)]"
   ]
  },
  {
   "cell_type": "code",
   "execution_count": 15,
   "metadata": {},
   "outputs": [
    {
     "data": {
      "text/html": [
       "<div>\n",
       "<style scoped>\n",
       "    .dataframe tbody tr th:only-of-type {\n",
       "        vertical-align: middle;\n",
       "    }\n",
       "\n",
       "    .dataframe tbody tr th {\n",
       "        vertical-align: top;\n",
       "    }\n",
       "\n",
       "    .dataframe thead th {\n",
       "        text-align: right;\n",
       "    }\n",
       "</style>\n",
       "<table border=\"1\" class=\"dataframe\">\n",
       "  <thead>\n",
       "    <tr style=\"text-align: right;\">\n",
       "      <th></th>\n",
       "      <th>CAND_ID</th>\n",
       "      <th>CAND_NAME</th>\n",
       "      <th>CAND_PTY_AFFILIATION</th>\n",
       "      <th>CAND_ELECTION_YR</th>\n",
       "      <th>CAND_OFFICE_ST</th>\n",
       "      <th>CAND_OFFICE</th>\n",
       "      <th>CAND_OFFICE_DISTRICT</th>\n",
       "      <th>CAND_ICI</th>\n",
       "      <th>CAND_STATUS</th>\n",
       "      <th>CAND_PCC</th>\n",
       "      <th>CAND_ST1</th>\n",
       "      <th>CAND_ST2</th>\n",
       "      <th>CAND_CITY</th>\n",
       "      <th>CAND_ST</th>\n",
       "      <th>CAND_ZIP</th>\n",
       "    </tr>\n",
       "  </thead>\n",
       "  <tbody>\n",
       "    <tr>\n",
       "      <th>999</th>\n",
       "      <td>H2MI08105</td>\n",
       "      <td>HETRICK, BRIAN CLINTON</td>\n",
       "      <td>REP</td>\n",
       "      <td>2012</td>\n",
       "      <td>MI</td>\n",
       "      <td>H</td>\n",
       "      <td>8.0</td>\n",
       "      <td>C</td>\n",
       "      <td>N</td>\n",
       "      <td>C00507475</td>\n",
       "      <td>3603 TRAILS END CT</td>\n",
       "      <td>NaN</td>\n",
       "      <td>BRIGHTON</td>\n",
       "      <td>MI</td>\n",
       "      <td>481148174.0</td>\n",
       "    </tr>\n",
       "    <tr>\n",
       "      <th>4367</th>\n",
       "      <td>P00003392</td>\n",
       "      <td>CLINTON, HILLARY RODHAM / TIMOTHY MICHAEL KAINE</td>\n",
       "      <td>DEM</td>\n",
       "      <td>2016</td>\n",
       "      <td>US</td>\n",
       "      <td>P</td>\n",
       "      <td>0.0</td>\n",
       "      <td>O</td>\n",
       "      <td>C</td>\n",
       "      <td>C00575795</td>\n",
       "      <td>NaN</td>\n",
       "      <td>NaN</td>\n",
       "      <td>NEW YORK</td>\n",
       "      <td>NY</td>\n",
       "      <td>NaN</td>\n",
       "    </tr>\n",
       "    <tr>\n",
       "      <th>5307</th>\n",
       "      <td>P60012333</td>\n",
       "      <td>CLINTON, BILL</td>\n",
       "      <td>DFL</td>\n",
       "      <td>2016</td>\n",
       "      <td>US</td>\n",
       "      <td>P</td>\n",
       "      <td>0.0</td>\n",
       "      <td>O</td>\n",
       "      <td>N</td>\n",
       "      <td>NaN</td>\n",
       "      <td>712 VICTORY DRIVE</td>\n",
       "      <td>NaN</td>\n",
       "      <td>TEXARKANA</td>\n",
       "      <td>TX</td>\n",
       "      <td>75501.0</td>\n",
       "    </tr>\n",
       "    <tr>\n",
       "      <th>6540</th>\n",
       "      <td>S0NY00188</td>\n",
       "      <td>CLINTON, HILLARY RODHAM</td>\n",
       "      <td>DEM</td>\n",
       "      <td>2012</td>\n",
       "      <td>NY</td>\n",
       "      <td>S</td>\n",
       "      <td>0.0</td>\n",
       "      <td>C</td>\n",
       "      <td>P</td>\n",
       "      <td>C00358895</td>\n",
       "      <td>420 LEXINGTON AVENUE SUITE 350</td>\n",
       "      <td>NaN</td>\n",
       "      <td>NEW YORK</td>\n",
       "      <td>NY</td>\n",
       "      <td>10170.0</td>\n",
       "    </tr>\n",
       "  </tbody>\n",
       "</table>\n",
       "</div>"
      ],
      "text/plain": [
       "        CAND_ID                                        CAND_NAME  \\\n",
       "999   H2MI08105                           HETRICK, BRIAN CLINTON   \n",
       "4367  P00003392  CLINTON, HILLARY RODHAM / TIMOTHY MICHAEL KAINE   \n",
       "5307  P60012333                                    CLINTON, BILL   \n",
       "6540  S0NY00188                          CLINTON, HILLARY RODHAM   \n",
       "\n",
       "     CAND_PTY_AFFILIATION  CAND_ELECTION_YR CAND_OFFICE_ST CAND_OFFICE  \\\n",
       "999                   REP              2012             MI           H   \n",
       "4367                  DEM              2016             US           P   \n",
       "5307                  DFL              2016             US           P   \n",
       "6540                  DEM              2012             NY           S   \n",
       "\n",
       "      CAND_OFFICE_DISTRICT CAND_ICI CAND_STATUS   CAND_PCC  \\\n",
       "999                    8.0        C           N  C00507475   \n",
       "4367                   0.0        O           C  C00575795   \n",
       "5307                   0.0        O           N        NaN   \n",
       "6540                   0.0        C           P  C00358895   \n",
       "\n",
       "                            CAND_ST1 CAND_ST2  CAND_CITY CAND_ST     CAND_ZIP  \n",
       "999               3603 TRAILS END CT      NaN   BRIGHTON      MI  481148174.0  \n",
       "4367                             NaN      NaN   NEW YORK      NY          NaN  \n",
       "5307               712 VICTORY DRIVE      NaN  TEXARKANA      TX      75501.0  \n",
       "6540  420 LEXINGTON AVENUE SUITE 350      NaN   NEW YORK      NY      10170.0  "
      ]
     },
     "execution_count": 15,
     "metadata": {},
     "output_type": "execute_result"
    }
   ],
   "source": [
    "cn.loc[cn.CAND_NAME.str.contains('CLINTON', regex=False)]"
   ]
  },
  {
   "cell_type": "markdown",
   "metadata": {},
   "source": [
    "* We observe that there is 2 entries for Hillary Clinton.\n",
    "* We want Hillary's entry with election year 2016. "
   ]
  },
  {
   "cell_type": "code",
   "execution_count": 16,
   "metadata": {},
   "outputs": [
    {
     "name": "stdout",
     "output_type": "stream",
     "text": [
      "Number of transactions before 2015:\n",
      "0\n",
      "Number of transactions after 2015:\n",
      "18\n"
     ]
    }
   ],
   "source": [
    "pas.TRANSACTION_DT = pd.to_datetime(pas.TRANSACTION_DT, format='%d%m%Y',errors='coerce')\n",
    "pas.dtypes\n",
    "\n",
    "tmp = pas.loc[pas.CAND_ID=='S0NY00188']\n",
    "tmp.TRANSACTION_DT\n",
    "\n",
    "print('Number of transactions before 2015:')\n",
    "print(len(tmp[tmp.TRANSACTION_DT.apply(lambda x: x.year)<2015].TRANSACTION_DT.tolist()))\n",
    "print('Number of transactions after 2015:')\n",
    "print(len(tmp[tmp.TRANSACTION_DT.apply(lambda x: x.year)>=2015].TRANSACTION_DT.tolist()))"
   ]
  },
  {
   "cell_type": "markdown",
   "metadata": {},
   "source": [
    "* However, we observe that all transactions with Hillary's 2012 id occured in 2016\n",
    "* Thus, we will keep those entries and they will be attributed to wrong given id\n",
    "* Consequently, we will focus on candidates' names"
   ]
  },
  {
   "cell_type": "code",
   "execution_count": 17,
   "metadata": {},
   "outputs": [],
   "source": [
    "cn.loc[cn['CAND_NAME'] == 'TRUMP, DONALD J. / MICHAEL R. PENCE ', 'CAND_NAME'] = 'TRUMP, DONALD J.'\n",
    "cn.loc[cn['CAND_NAME'] == 'CLINTON, HILLARY RODHAM / TIMOTHY MICHAEL KAINE', 'CAND_NAME'] = 'CLINTON, HILLARY RODHAM'"
   ]
  },
  {
   "cell_type": "markdown",
   "metadata": {},
   "source": [
    "* We will continue with both entries for Hillary"
   ]
  },
  {
   "cell_type": "code",
   "execution_count": 18,
   "metadata": {},
   "outputs": [
    {
     "data": {
      "text/html": [
       "<div>\n",
       "<style scoped>\n",
       "    .dataframe tbody tr th:only-of-type {\n",
       "        vertical-align: middle;\n",
       "    }\n",
       "\n",
       "    .dataframe tbody tr th {\n",
       "        vertical-align: top;\n",
       "    }\n",
       "\n",
       "    .dataframe thead th {\n",
       "        text-align: right;\n",
       "    }\n",
       "</style>\n",
       "<table border=\"1\" class=\"dataframe\">\n",
       "  <thead>\n",
       "    <tr style=\"text-align: right;\">\n",
       "      <th></th>\n",
       "      <th>CAND_ID</th>\n",
       "      <th>CAND_NAME</th>\n",
       "      <th>CAND_PTY_AFFILIATION</th>\n",
       "      <th>CAND_ELECTION_YR</th>\n",
       "      <th>CAND_OFFICE_ST</th>\n",
       "      <th>CAND_OFFICE</th>\n",
       "      <th>CAND_OFFICE_DISTRICT</th>\n",
       "      <th>CAND_ICI</th>\n",
       "      <th>CAND_STATUS</th>\n",
       "      <th>CAND_PCC</th>\n",
       "      <th>CAND_ST1</th>\n",
       "      <th>CAND_ST2</th>\n",
       "      <th>CAND_CITY</th>\n",
       "      <th>CAND_ST</th>\n",
       "      <th>CAND_ZIP</th>\n",
       "    </tr>\n",
       "  </thead>\n",
       "  <tbody>\n",
       "    <tr>\n",
       "      <th>4367</th>\n",
       "      <td>P00003392</td>\n",
       "      <td>CLINTON, HILLARY RODHAM</td>\n",
       "      <td>DEM</td>\n",
       "      <td>2016</td>\n",
       "      <td>US</td>\n",
       "      <td>P</td>\n",
       "      <td>0.0</td>\n",
       "      <td>O</td>\n",
       "      <td>C</td>\n",
       "      <td>C00575795</td>\n",
       "      <td>NaN</td>\n",
       "      <td>NaN</td>\n",
       "      <td>NEW YORK</td>\n",
       "      <td>NY</td>\n",
       "      <td>NaN</td>\n",
       "    </tr>\n",
       "    <tr>\n",
       "      <th>6540</th>\n",
       "      <td>S0NY00188</td>\n",
       "      <td>CLINTON, HILLARY RODHAM</td>\n",
       "      <td>DEM</td>\n",
       "      <td>2012</td>\n",
       "      <td>NY</td>\n",
       "      <td>S</td>\n",
       "      <td>0.0</td>\n",
       "      <td>C</td>\n",
       "      <td>P</td>\n",
       "      <td>C00358895</td>\n",
       "      <td>420 LEXINGTON AVENUE SUITE 350</td>\n",
       "      <td>NaN</td>\n",
       "      <td>NEW YORK</td>\n",
       "      <td>NY</td>\n",
       "      <td>10170.0</td>\n",
       "    </tr>\n",
       "  </tbody>\n",
       "</table>\n",
       "</div>"
      ],
      "text/plain": [
       "        CAND_ID                CAND_NAME CAND_PTY_AFFILIATION  \\\n",
       "4367  P00003392  CLINTON, HILLARY RODHAM                  DEM   \n",
       "6540  S0NY00188  CLINTON, HILLARY RODHAM                  DEM   \n",
       "\n",
       "      CAND_ELECTION_YR CAND_OFFICE_ST CAND_OFFICE  CAND_OFFICE_DISTRICT  \\\n",
       "4367              2016             US           P                   0.0   \n",
       "6540              2012             NY           S                   0.0   \n",
       "\n",
       "     CAND_ICI CAND_STATUS   CAND_PCC                        CAND_ST1 CAND_ST2  \\\n",
       "4367        O           C  C00575795                             NaN      NaN   \n",
       "6540        C           P  C00358895  420 LEXINGTON AVENUE SUITE 350      NaN   \n",
       "\n",
       "     CAND_CITY CAND_ST  CAND_ZIP  \n",
       "4367  NEW YORK      NY       NaN  \n",
       "6540  NEW YORK      NY   10170.0  "
      ]
     },
     "execution_count": 18,
     "metadata": {},
     "output_type": "execute_result"
    }
   ],
   "source": [
    "cn.loc[cn.CAND_NAME == 'CLINTON, HILLARY RODHAM']"
   ]
  },
  {
   "cell_type": "markdown",
   "metadata": {},
   "source": [
    "* We will focus on the two presidential candidates"
   ]
  },
  {
   "cell_type": "code",
   "execution_count": 19,
   "metadata": {},
   "outputs": [
    {
     "data": {
      "text/html": [
       "<div>\n",
       "<style scoped>\n",
       "    .dataframe tbody tr th:only-of-type {\n",
       "        vertical-align: middle;\n",
       "    }\n",
       "\n",
       "    .dataframe tbody tr th {\n",
       "        vertical-align: top;\n",
       "    }\n",
       "\n",
       "    .dataframe thead th {\n",
       "        text-align: right;\n",
       "    }\n",
       "</style>\n",
       "<table border=\"1\" class=\"dataframe\">\n",
       "  <thead>\n",
       "    <tr style=\"text-align: right;\">\n",
       "      <th></th>\n",
       "      <th>CAND_ID</th>\n",
       "      <th>CAND_NAME</th>\n",
       "      <th>CAND_PTY_AFFILIATION</th>\n",
       "      <th>CAND_ELECTION_YR</th>\n",
       "      <th>CAND_OFFICE_ST</th>\n",
       "      <th>CAND_OFFICE</th>\n",
       "      <th>CAND_OFFICE_DISTRICT</th>\n",
       "      <th>CAND_ICI</th>\n",
       "      <th>CAND_STATUS</th>\n",
       "      <th>CAND_PCC</th>\n",
       "      <th>CAND_ST1</th>\n",
       "      <th>CAND_ST2</th>\n",
       "      <th>CAND_CITY</th>\n",
       "      <th>CAND_ST</th>\n",
       "      <th>CAND_ZIP</th>\n",
       "    </tr>\n",
       "  </thead>\n",
       "  <tbody>\n",
       "    <tr>\n",
       "      <th>4367</th>\n",
       "      <td>P00003392</td>\n",
       "      <td>CLINTON, HILLARY RODHAM</td>\n",
       "      <td>DEM</td>\n",
       "      <td>2016</td>\n",
       "      <td>US</td>\n",
       "      <td>P</td>\n",
       "      <td>0.0</td>\n",
       "      <td>O</td>\n",
       "      <td>C</td>\n",
       "      <td>C00575795</td>\n",
       "      <td>NaN</td>\n",
       "      <td>NaN</td>\n",
       "      <td>NEW YORK</td>\n",
       "      <td>NY</td>\n",
       "      <td>NaN</td>\n",
       "    </tr>\n",
       "    <tr>\n",
       "      <th>6298</th>\n",
       "      <td>P80001571</td>\n",
       "      <td>TRUMP, DONALD J.</td>\n",
       "      <td>REP</td>\n",
       "      <td>2016</td>\n",
       "      <td>US</td>\n",
       "      <td>P</td>\n",
       "      <td>0.0</td>\n",
       "      <td>O</td>\n",
       "      <td>C</td>\n",
       "      <td>C00580100</td>\n",
       "      <td>725 FIFTH AVENUE</td>\n",
       "      <td>NaN</td>\n",
       "      <td>NEW YORK</td>\n",
       "      <td>NY</td>\n",
       "      <td>10022.0</td>\n",
       "    </tr>\n",
       "    <tr>\n",
       "      <th>6540</th>\n",
       "      <td>S0NY00188</td>\n",
       "      <td>CLINTON, HILLARY RODHAM</td>\n",
       "      <td>DEM</td>\n",
       "      <td>2012</td>\n",
       "      <td>NY</td>\n",
       "      <td>S</td>\n",
       "      <td>0.0</td>\n",
       "      <td>C</td>\n",
       "      <td>P</td>\n",
       "      <td>C00358895</td>\n",
       "      <td>420 LEXINGTON AVENUE SUITE 350</td>\n",
       "      <td>NaN</td>\n",
       "      <td>NEW YORK</td>\n",
       "      <td>NY</td>\n",
       "      <td>10170.0</td>\n",
       "    </tr>\n",
       "  </tbody>\n",
       "</table>\n",
       "</div>"
      ],
      "text/plain": [
       "        CAND_ID                CAND_NAME CAND_PTY_AFFILIATION  \\\n",
       "4367  P00003392  CLINTON, HILLARY RODHAM                  DEM   \n",
       "6298  P80001571         TRUMP, DONALD J.                  REP   \n",
       "6540  S0NY00188  CLINTON, HILLARY RODHAM                  DEM   \n",
       "\n",
       "      CAND_ELECTION_YR CAND_OFFICE_ST CAND_OFFICE  CAND_OFFICE_DISTRICT  \\\n",
       "4367              2016             US           P                   0.0   \n",
       "6298              2016             US           P                   0.0   \n",
       "6540              2012             NY           S                   0.0   \n",
       "\n",
       "     CAND_ICI CAND_STATUS   CAND_PCC                        CAND_ST1 CAND_ST2  \\\n",
       "4367        O           C  C00575795                             NaN      NaN   \n",
       "6298        O           C  C00580100                725 FIFTH AVENUE      NaN   \n",
       "6540        C           P  C00358895  420 LEXINGTON AVENUE SUITE 350      NaN   \n",
       "\n",
       "     CAND_CITY CAND_ST  CAND_ZIP  \n",
       "4367  NEW YORK      NY       NaN  \n",
       "6298  NEW YORK      NY   10022.0  \n",
       "6540  NEW YORK      NY   10170.0  "
      ]
     },
     "execution_count": 19,
     "metadata": {},
     "output_type": "execute_result"
    }
   ],
   "source": [
    "cn_2 = cn.loc[(cn.CAND_NAME =='TRUMP, DONALD J.') | (cn.CAND_NAME =='CLINTON, HILLARY RODHAM')].copy()\n",
    "cn_2"
   ]
  },
  {
   "cell_type": "markdown",
   "metadata": {},
   "source": [
    "* We observe that in 'Contributions from committees to candidates file description' there is 'TRANSACTION_TP' which specifies the type of transaction\n",
    "* It is an extremely useful parameter because PACS donate funds to campaigns for or against candidates (https://en.wikipedia.org/wiki/Political_action_committee)\n",
    "* TRANSACTION_TP=24A: Independent expenditure opposing election of candidate\n",
    "* TRANSACTION_TP=24E: Independent expenditure advocating election of candidate"
   ]
  },
  {
   "cell_type": "markdown",
   "metadata": {},
   "source": [
    "* Now we will go into details"
   ]
  },
  {
   "cell_type": "markdown",
   "metadata": {},
   "source": [
    "* We will merge in order to produce the necessary information"
   ]
  },
  {
   "cell_type": "code",
   "execution_count": 20,
   "metadata": {},
   "outputs": [],
   "source": [
    "pas_cn = pd.merge(pas[['CAND_ID','CMTE_ID','TRANSACTION_AMT','TRANSACTION_TP']], \n",
    "               cn[['CAND_ID','CAND_NAME']], \n",
    "               on='CAND_ID', \n",
    "               how='inner')\n",
    "\n",
    "contr_to_cans = pd.merge(pas_cn, \n",
    "               cm[['CMTE_ID','CMTE_NM','CMTE_TP','isPAC']], \n",
    "               on='CMTE_ID', \n",
    "               how='inner')"
   ]
  },
  {
   "cell_type": "code",
   "execution_count": 21,
   "metadata": {},
   "outputs": [],
   "source": [
    "# some initializations\n",
    "e = '24E'\n",
    "a = '24A'"
   ]
  },
  {
   "cell_type": "code",
   "execution_count": 22,
   "metadata": {},
   "outputs": [],
   "source": [
    "# dataframe creation\n",
    "tmp = contr_to_cans.groupby(['CMTE_ID', 'TRANSACTION_TP','CAND_ID','isPAC']).size().to_frame('size').reset_index()\n",
    "tmp['size'] = tmp['size'].apply(pd.to_numeric) "
   ]
  },
  {
   "cell_type": "code",
   "execution_count": 23,
   "metadata": {},
   "outputs": [],
   "source": [
    "# some initializations\n",
    "hillary = ((tmp.CAND_ID=='P00003392') |(tmp.CAND_ID=='S0NY00188'))\n",
    "trump = (tmp.CAND_ID=='P80001571')"
   ]
  },
  {
   "cell_type": "code",
   "execution_count": 24,
   "metadata": {},
   "outputs": [],
   "source": [
    "# hillary's data\n",
    "e_hillary = tmp.loc[tmp.isPAC & (tmp.TRANSACTION_TP==e) & hillary]\n",
    "a_hillary = tmp.loc[tmp.isPAC & (tmp.TRANSACTION_TP==a) & hillary]"
   ]
  },
  {
   "cell_type": "code",
   "execution_count": 25,
   "metadata": {},
   "outputs": [],
   "source": [
    "# trumps's data\n",
    "e_trump = tmp.loc[tmp.isPAC & (tmp.TRANSACTION_TP==e) & trump]\n",
    "a_trump = tmp.loc[tmp.isPAC & (tmp.TRANSACTION_TP==a) & trump]"
   ]
  },
  {
   "cell_type": "markdown",
   "metadata": {},
   "source": [
    "* There are some committees that donated money both to campaigns for and against Hillary/Trump"
   ]
  },
  {
   "cell_type": "code",
   "execution_count": 26,
   "metadata": {},
   "outputs": [
    {
     "data": {
      "text/plain": [
       "18"
      ]
     },
     "execution_count": 26,
     "metadata": {},
     "output_type": "execute_result"
    }
   ],
   "source": [
    "len(list(set(e_hillary.CMTE_ID.tolist()) & set(a_hillary.CMTE_ID.tolist())))"
   ]
  },
  {
   "cell_type": "code",
   "execution_count": 27,
   "metadata": {},
   "outputs": [
    {
     "data": {
      "text/plain": [
       "25"
      ]
     },
     "execution_count": 27,
     "metadata": {},
     "output_type": "execute_result"
    }
   ],
   "source": [
    "len(list(set(e_trump.CMTE_ID.tolist()) & set(a_hillary.CMTE_ID.tolist())))"
   ]
  },
  {
   "cell_type": "markdown",
   "metadata": {},
   "source": [
    "* Also, there are some committees that donated money for both Hillary and Trump and against both of them"
   ]
  },
  {
   "cell_type": "code",
   "execution_count": 28,
   "metadata": {},
   "outputs": [
    {
     "data": {
      "text/plain": [
       "11"
      ]
     },
     "execution_count": 28,
     "metadata": {},
     "output_type": "execute_result"
    }
   ],
   "source": [
    "len(list(set(e_hillary.CMTE_ID.tolist()) & set(e_trump.CMTE_ID.tolist())))"
   ]
  },
  {
   "cell_type": "code",
   "execution_count": 29,
   "metadata": {},
   "outputs": [
    {
     "data": {
      "text/plain": [
       "64"
      ]
     },
     "execution_count": 29,
     "metadata": {},
     "output_type": "execute_result"
    }
   ],
   "source": [
    "len(list(set(a_hillary.CMTE_ID.tolist()) & set(a_hillary.CMTE_ID.tolist())))"
   ]
  },
  {
   "cell_type": "markdown",
   "metadata": {},
   "source": [
    "* Moreover, there are some committees that donated money for other candidates and against Hillary/Trump"
   ]
  },
  {
   "cell_type": "code",
   "execution_count": 30,
   "metadata": {},
   "outputs": [
    {
     "data": {
      "text/plain": [
       "67"
      ]
     },
     "execution_count": 30,
     "metadata": {},
     "output_type": "execute_result"
    }
   ],
   "source": [
    "no_hillary_and_no_trump = (~(hillary) & (~trump))\n",
    "hillary_or_trump = (hillary | trump)\n",
    "\n",
    "other_cands_e = tmp[tmp.isPAC & (no_hillary_and_no_trump) & (tmp.TRANSACTION_TP==e)].CMTE_ID.tolist()\n",
    "two_cands_a = tmp[tmp.isPAC & (hillary_or_trump) & (tmp.TRANSACTION_TP==a)].CMTE_ID.tolist()\n",
    "\n",
    "len(list(set(other_cands_e) & set(two_cands_a)))"
   ]
  },
  {
   "cell_type": "markdown",
   "metadata": {},
   "source": [
    "1. Identify the top 5 Political Action Committees (PACs), or rather, super-PACs, that supported each of the two presidential candidates, giving the amount of money raised and spent by each one of them. "
   ]
  },
  {
   "cell_type": "markdown",
   "metadata": {},
   "source": [
    "* We will focus on the two presidential candidates so we will define the PACs which are for Hillary as the ones which spent money for her and spent money against Trump or as the ones which spent money for her and vice versa. \n",
    "*PACs which donated money for Hillary/Trump and agaist Hillary/Trump will be considered as for Hillary/Trump if they spent more money for her/him than agaist her/him.\n",
    "* PACs which spent money both for Hillary and Trump will be considered against the candidate which they spent the less amount of money for. \n",
    "* PACs which donated money against Trump but did't donate money on Hillary will be excluded from Hillary's PACs and vice versa."
   ]
  },
  {
   "cell_type": "markdown",
   "metadata": {},
   "source": [
    "* We will check the PACs that spent money for and against the same candidate and we will focus on the biggest amount.\n",
    "* For example, if a PAC spent 1K dollars for Hillton and only 500 dollars against her, we will consider this PAC as for her."
   ]
  },
  {
   "cell_type": "markdown",
   "metadata": {},
   "source": [
    "* We will merge in order to focus on the two candidates"
   ]
  },
  {
   "cell_type": "code",
   "execution_count": 31,
   "metadata": {},
   "outputs": [],
   "source": [
    "contr_to_2cans = pd.merge(contr_to_cans, \n",
    "               cn_2[['CAND_ID']], \n",
    "               on='CAND_ID', \n",
    "               how='inner')"
   ]
  },
  {
   "cell_type": "code",
   "execution_count": 32,
   "metadata": {},
   "outputs": [],
   "source": [
    "e_hillary_sum = contr_to_2cans[(contr_to_2cans.CAND_NAME=='CLINTON, HILLARY RODHAM')\\\n",
    "                        & (contr_to_2cans.TRANSACTION_TP==e)].groupby(['CMTE_ID','isPAC']).sum().reset_index()\n",
    "a_hillary_sum = contr_to_2cans[(contr_to_2cans.CAND_NAME=='CLINTON, HILLARY RODHAM')\\\n",
    "                        & (contr_to_2cans.TRANSACTION_TP==a) ].groupby(['CMTE_ID','isPAC']).sum().reset_index()\n",
    "e_trump_sum = contr_to_2cans[(contr_to_2cans.CAND_NAME=='TRUMP, DONALD J.')\\\n",
    "                        & (contr_to_2cans.TRANSACTION_TP==e) ].groupby(['CMTE_ID','isPAC']).sum().reset_index()\n",
    "a_trump_sum = contr_to_2cans[(contr_to_2cans.CAND_NAME=='TRUMP, DONALD J.')\\\n",
    "                        & (contr_to_2cans.TRANSACTION_TP==a) ].groupby(['CMTE_ID','isPAC']).sum().reset_index()"
   ]
  },
  {
   "cell_type": "code",
   "execution_count": 33,
   "metadata": {},
   "outputs": [],
   "source": [
    "hillary_sum_e_a = pd.merge(e_hillary_sum, \n",
    "               a_hillary_sum, \n",
    "               on='CMTE_ID', \n",
    "               how='outer',\n",
    "               suffixes=('_e','_a'))\n",
    "hillary_sum_e_a.TRANSACTION_AMT_e = hillary_sum_e_a.TRANSACTION_AMT_e.fillna(0)\n",
    "hillary_sum_e_a.TRANSACTION_AMT_a = hillary_sum_e_a.TRANSACTION_AMT_a.fillna(0)\n",
    "hillary_sum_e_a\n",
    "\n",
    "hillary_sum_e_a['forHillary'] = hillary_sum_e_a.apply(lambda x: x['TRANSACTION_AMT_e'] > x['TRANSACTION_AMT_a'], axis=1)"
   ]
  },
  {
   "cell_type": "code",
   "execution_count": 34,
   "metadata": {},
   "outputs": [],
   "source": [
    "hillary_sum_e_a['isPAC'] = np.where(hillary_sum_e_a.isPAC_e | hillary_sum_e_a.isPAC_a,True,False)\n",
    "hillary_sum_e_a.drop(['isPAC_e','isPAC_a'], axis = 1, inplace=True) "
   ]
  },
  {
   "cell_type": "markdown",
   "metadata": {},
   "source": [
    "* There are some committees that spent more money against her and less money for her.\n",
    "* Undoubtedly, those committees are against Hillary."
   ]
  },
  {
   "cell_type": "code",
   "execution_count": 35,
   "metadata": {},
   "outputs": [
    {
     "data": {
      "text/plain": [
       "(84, 5)"
      ]
     },
     "execution_count": 35,
     "metadata": {},
     "output_type": "execute_result"
    }
   ],
   "source": [
    "hillary_sum_e_a[~hillary_sum_e_a.forHillary].shape"
   ]
  },
  {
   "cell_type": "code",
   "execution_count": 36,
   "metadata": {},
   "outputs": [
    {
     "data": {
      "text/plain": [
       "(142, 5)"
      ]
     },
     "execution_count": 36,
     "metadata": {},
     "output_type": "execute_result"
    }
   ],
   "source": [
    "hillary_sum_e_a[hillary_sum_e_a.forHillary].shape"
   ]
  },
  {
   "cell_type": "markdown",
   "metadata": {},
   "source": [
    "* We will do the same process for Trump"
   ]
  },
  {
   "cell_type": "code",
   "execution_count": 37,
   "metadata": {},
   "outputs": [],
   "source": [
    "trump_sum_e_a = pd.merge(e_trump_sum, \n",
    "               a_trump_sum, \n",
    "               on='CMTE_ID', \n",
    "               how='outer',\n",
    "               suffixes=('_e','_a'))\n",
    "trump_sum_e_a.TRANSACTION_AMT_e = trump_sum_e_a.TRANSACTION_AMT_e.fillna(0)\n",
    "trump_sum_e_a.TRANSACTION_AMT_a = trump_sum_e_a.TRANSACTION_AMT_a.fillna(0)\n",
    "trump_sum_e_a\n",
    "\n",
    "trump_sum_e_a['forTrump'] = trump_sum_e_a.apply(lambda x: x['TRANSACTION_AMT_e'] > x['TRANSACTION_AMT_a'], axis=1)"
   ]
  },
  {
   "cell_type": "code",
   "execution_count": 38,
   "metadata": {},
   "outputs": [],
   "source": [
    "trump_sum_e_a['isPAC'] = np.where(trump_sum_e_a.isPAC_e | trump_sum_e_a.isPAC_a,True,False)\n",
    "trump_sum_e_a.drop(['isPAC_e','isPAC_a'], axis = 1, inplace=True) "
   ]
  },
  {
   "cell_type": "code",
   "execution_count": 39,
   "metadata": {},
   "outputs": [
    {
     "data": {
      "text/plain": [
       "(148, 5)"
      ]
     },
     "execution_count": 39,
     "metadata": {},
     "output_type": "execute_result"
    }
   ],
   "source": [
    "trump_sum_e_a[~trump_sum_e_a.forTrump].shape"
   ]
  },
  {
   "cell_type": "code",
   "execution_count": 40,
   "metadata": {},
   "outputs": [
    {
     "data": {
      "text/plain": [
       "(76, 5)"
      ]
     },
     "execution_count": 40,
     "metadata": {},
     "output_type": "execute_result"
    }
   ],
   "source": [
    "trump_sum_e_a[trump_sum_e_a.forTrump].shape"
   ]
  },
  {
   "cell_type": "markdown",
   "metadata": {},
   "source": [
    "* We will check for abnormal situations"
   ]
  },
  {
   "cell_type": "code",
   "execution_count": 41,
   "metadata": {},
   "outputs": [],
   "source": [
    "hillary_trump_e_a = pd.merge(hillary_sum_e_a, \n",
    "               trump_sum_e_a, \n",
    "               on='CMTE_ID', \n",
    "               how='inner',\n",
    "               suffixes=('_h','_t'))\n",
    "hillary_trump_e_a[['TRANSACTION_AMT_e_h','TRANSACTION_AMT_a_h','TRANSACTION_AMT_e_t','TRANSACTION_AMT_a_t']]\\\n",
    "        =hillary_trump_e_a[['TRANSACTION_AMT_e_h','TRANSACTION_AMT_a_h','TRANSACTION_AMT_e_t','TRANSACTION_AMT_a_t']].fillna(0)"
   ]
  },
  {
   "cell_type": "code",
   "execution_count": 42,
   "metadata": {},
   "outputs": [
    {
     "data": {
      "text/html": [
       "<div>\n",
       "<style scoped>\n",
       "    .dataframe tbody tr th:only-of-type {\n",
       "        vertical-align: middle;\n",
       "    }\n",
       "\n",
       "    .dataframe tbody tr th {\n",
       "        vertical-align: top;\n",
       "    }\n",
       "\n",
       "    .dataframe thead th {\n",
       "        text-align: right;\n",
       "    }\n",
       "</style>\n",
       "<table border=\"1\" class=\"dataframe\">\n",
       "  <thead>\n",
       "    <tr style=\"text-align: right;\">\n",
       "      <th></th>\n",
       "      <th>CMTE_ID</th>\n",
       "      <th>TRANSACTION_AMT_e</th>\n",
       "      <th>TRANSACTION_AMT_a</th>\n",
       "      <th>forHillary</th>\n",
       "      <th>isPAC</th>\n",
       "    </tr>\n",
       "  </thead>\n",
       "  <tbody>\n",
       "    <tr>\n",
       "      <th>0</th>\n",
       "      <td>C00002089</td>\n",
       "      <td>150.0</td>\n",
       "      <td>0.0</td>\n",
       "      <td>True</td>\n",
       "      <td>True</td>\n",
       "    </tr>\n",
       "    <tr>\n",
       "      <th>1</th>\n",
       "      <td>C00002766</td>\n",
       "      <td>133175.0</td>\n",
       "      <td>0.0</td>\n",
       "      <td>True</td>\n",
       "      <td>True</td>\n",
       "    </tr>\n",
       "    <tr>\n",
       "      <th>2</th>\n",
       "      <td>C00003590</td>\n",
       "      <td>14939.0</td>\n",
       "      <td>0.0</td>\n",
       "      <td>True</td>\n",
       "      <td>True</td>\n",
       "    </tr>\n",
       "    <tr>\n",
       "      <th>3</th>\n",
       "      <td>C00003632</td>\n",
       "      <td>59417.0</td>\n",
       "      <td>0.0</td>\n",
       "      <td>True</td>\n",
       "      <td>True</td>\n",
       "    </tr>\n",
       "    <tr>\n",
       "      <th>4</th>\n",
       "      <td>C00004036</td>\n",
       "      <td>3126926.0</td>\n",
       "      <td>10.0</td>\n",
       "      <td>True</td>\n",
       "      <td>True</td>\n",
       "    </tr>\n",
       "    <tr>\n",
       "      <th>...</th>\n",
       "      <td>...</td>\n",
       "      <td>...</td>\n",
       "      <td>...</td>\n",
       "      <td>...</td>\n",
       "      <td>...</td>\n",
       "    </tr>\n",
       "    <tr>\n",
       "      <th>221</th>\n",
       "      <td>C90013301</td>\n",
       "      <td>0.0</td>\n",
       "      <td>12307924.0</td>\n",
       "      <td>False</td>\n",
       "      <td>False</td>\n",
       "    </tr>\n",
       "    <tr>\n",
       "      <th>222</th>\n",
       "      <td>C90014085</td>\n",
       "      <td>0.0</td>\n",
       "      <td>51500.0</td>\n",
       "      <td>False</td>\n",
       "      <td>False</td>\n",
       "    </tr>\n",
       "    <tr>\n",
       "      <th>223</th>\n",
       "      <td>C90014788</td>\n",
       "      <td>0.0</td>\n",
       "      <td>1000.0</td>\n",
       "      <td>False</td>\n",
       "      <td>False</td>\n",
       "    </tr>\n",
       "    <tr>\n",
       "      <th>224</th>\n",
       "      <td>C90015447</td>\n",
       "      <td>0.0</td>\n",
       "      <td>9178.0</td>\n",
       "      <td>False</td>\n",
       "      <td>False</td>\n",
       "    </tr>\n",
       "    <tr>\n",
       "      <th>225</th>\n",
       "      <td>C90015975</td>\n",
       "      <td>0.0</td>\n",
       "      <td>29114.0</td>\n",
       "      <td>False</td>\n",
       "      <td>False</td>\n",
       "    </tr>\n",
       "  </tbody>\n",
       "</table>\n",
       "<p>226 rows × 5 columns</p>\n",
       "</div>"
      ],
      "text/plain": [
       "       CMTE_ID  TRANSACTION_AMT_e  TRANSACTION_AMT_a  forHillary  isPAC\n",
       "0    C00002089              150.0                0.0        True   True\n",
       "1    C00002766           133175.0                0.0        True   True\n",
       "2    C00003590            14939.0                0.0        True   True\n",
       "3    C00003632            59417.0                0.0        True   True\n",
       "4    C00004036          3126926.0               10.0        True   True\n",
       "..         ...                ...                ...         ...    ...\n",
       "221  C90013301                0.0         12307924.0       False  False\n",
       "222  C90014085                0.0            51500.0       False  False\n",
       "223  C90014788                0.0             1000.0       False  False\n",
       "224  C90015447                0.0             9178.0       False  False\n",
       "225  C90015975                0.0            29114.0       False  False\n",
       "\n",
       "[226 rows x 5 columns]"
      ]
     },
     "execution_count": 42,
     "metadata": {},
     "output_type": "execute_result"
    }
   ],
   "source": [
    "hillary_sum_e_a"
   ]
  },
  {
   "cell_type": "markdown",
   "metadata": {},
   "source": [
    "* There are 2 committees for Hillary and for Trump\n",
    "* We observe that they didn't spend a great amount of money for none of the 2 candidates\n",
    "* Thus, we will consider them both against Hillary and Trump"
   ]
  },
  {
   "cell_type": "code",
   "execution_count": 43,
   "metadata": {},
   "outputs": [
    {
     "data": {
      "text/html": [
       "<div>\n",
       "<style scoped>\n",
       "    .dataframe tbody tr th:only-of-type {\n",
       "        vertical-align: middle;\n",
       "    }\n",
       "\n",
       "    .dataframe tbody tr th {\n",
       "        vertical-align: top;\n",
       "    }\n",
       "\n",
       "    .dataframe thead th {\n",
       "        text-align: right;\n",
       "    }\n",
       "</style>\n",
       "<table border=\"1\" class=\"dataframe\">\n",
       "  <thead>\n",
       "    <tr style=\"text-align: right;\">\n",
       "      <th></th>\n",
       "      <th>CMTE_ID</th>\n",
       "      <th>TRANSACTION_AMT_e_h</th>\n",
       "      <th>TRANSACTION_AMT_a_h</th>\n",
       "      <th>TRANSACTION_AMT_e_t</th>\n",
       "      <th>TRANSACTION_AMT_a_t</th>\n",
       "    </tr>\n",
       "  </thead>\n",
       "  <tbody>\n",
       "    <tr>\n",
       "      <th>55</th>\n",
       "      <td>C90011438</td>\n",
       "      <td>185.0</td>\n",
       "      <td>0.0</td>\n",
       "      <td>2000.0</td>\n",
       "      <td>1681.0</td>\n",
       "    </tr>\n",
       "    <tr>\n",
       "      <th>61</th>\n",
       "      <td>C90015678</td>\n",
       "      <td>12425.0</td>\n",
       "      <td>0.0</td>\n",
       "      <td>8362.0</td>\n",
       "      <td>0.0</td>\n",
       "    </tr>\n",
       "  </tbody>\n",
       "</table>\n",
       "</div>"
      ],
      "text/plain": [
       "      CMTE_ID  TRANSACTION_AMT_e_h  TRANSACTION_AMT_a_h  TRANSACTION_AMT_e_t  \\\n",
       "55  C90011438                185.0                  0.0               2000.0   \n",
       "61  C90015678              12425.0                  0.0               8362.0   \n",
       "\n",
       "    TRANSACTION_AMT_a_t  \n",
       "55               1681.0  \n",
       "61                  0.0  "
      ]
     },
     "execution_count": 43,
     "metadata": {},
     "output_type": "execute_result"
    }
   ],
   "source": [
    "hillary_trump_e_a[hillary_trump_e_a.forHillary & hillary_trump_e_a.forTrump][['CMTE_ID','TRANSACTION_AMT_e_h','TRANSACTION_AMT_a_h','TRANSACTION_AMT_e_t','TRANSACTION_AMT_a_t']]"
   ]
  },
  {
   "cell_type": "code",
   "execution_count": 44,
   "metadata": {},
   "outputs": [],
   "source": [
    "CMTE_IDs = ['C90011438','C90015678']\n",
    "hillary_trump_e_a['forHillary'] = np.where(hillary_trump_e_a.CMTE_ID.isin(CMTE_IDs),False,hillary_trump_e_a.forHillary)\n",
    "hillary_trump_e_a['forTrump'] = np.where(hillary_trump_e_a.CMTE_ID.isin(CMTE_IDs),False,hillary_trump_e_a.forTrump)"
   ]
  },
  {
   "cell_type": "markdown",
   "metadata": {},
   "source": [
    "* There are some PACs that are against the two candidates\n",
    "* They may support a different candidate or a different party\n",
    "* We should not include those transactions"
   ]
  },
  {
   "cell_type": "code",
   "execution_count": 45,
   "metadata": {},
   "outputs": [
    {
     "data": {
      "text/html": [
       "<div>\n",
       "<style scoped>\n",
       "    .dataframe tbody tr th:only-of-type {\n",
       "        vertical-align: middle;\n",
       "    }\n",
       "\n",
       "    .dataframe tbody tr th {\n",
       "        vertical-align: top;\n",
       "    }\n",
       "\n",
       "    .dataframe thead th {\n",
       "        text-align: right;\n",
       "    }\n",
       "</style>\n",
       "<table border=\"1\" class=\"dataframe\">\n",
       "  <thead>\n",
       "    <tr style=\"text-align: right;\">\n",
       "      <th></th>\n",
       "      <th>CMTE_ID</th>\n",
       "      <th>TRANSACTION_AMT_e_h</th>\n",
       "      <th>TRANSACTION_AMT_a_h</th>\n",
       "      <th>forHillary</th>\n",
       "      <th>isPAC_h</th>\n",
       "      <th>TRANSACTION_AMT_e_t</th>\n",
       "      <th>TRANSACTION_AMT_a_t</th>\n",
       "      <th>forTrump</th>\n",
       "      <th>isPAC_t</th>\n",
       "    </tr>\n",
       "  </thead>\n",
       "  <tbody>\n",
       "    <tr>\n",
       "      <th>43</th>\n",
       "      <td>C00626119</td>\n",
       "      <td>0.0</td>\n",
       "      <td>0.0</td>\n",
       "      <td>False</td>\n",
       "      <td>True</td>\n",
       "      <td>15000.0</td>\n",
       "      <td>138999.0</td>\n",
       "      <td>False</td>\n",
       "      <td>True</td>\n",
       "    </tr>\n",
       "    <tr>\n",
       "      <th>55</th>\n",
       "      <td>C90011438</td>\n",
       "      <td>185.0</td>\n",
       "      <td>0.0</td>\n",
       "      <td>False</td>\n",
       "      <td>False</td>\n",
       "      <td>2000.0</td>\n",
       "      <td>1681.0</td>\n",
       "      <td>False</td>\n",
       "      <td>False</td>\n",
       "    </tr>\n",
       "    <tr>\n",
       "      <th>61</th>\n",
       "      <td>C90015678</td>\n",
       "      <td>12425.0</td>\n",
       "      <td>0.0</td>\n",
       "      <td>False</td>\n",
       "      <td>False</td>\n",
       "      <td>8362.0</td>\n",
       "      <td>0.0</td>\n",
       "      <td>False</td>\n",
       "      <td>False</td>\n",
       "    </tr>\n",
       "    <tr>\n",
       "      <th>80</th>\n",
       "      <td>C00487470</td>\n",
       "      <td>0.0</td>\n",
       "      <td>512.0</td>\n",
       "      <td>False</td>\n",
       "      <td>False</td>\n",
       "      <td>29.0</td>\n",
       "      <td>7054203.0</td>\n",
       "      <td>False</td>\n",
       "      <td>True</td>\n",
       "    </tr>\n",
       "    <tr>\n",
       "      <th>84</th>\n",
       "      <td>C00569517</td>\n",
       "      <td>0.0</td>\n",
       "      <td>14409.0</td>\n",
       "      <td>False</td>\n",
       "      <td>False</td>\n",
       "      <td>0.0</td>\n",
       "      <td>12000.0</td>\n",
       "      <td>False</td>\n",
       "      <td>False</td>\n",
       "    </tr>\n",
       "    <tr>\n",
       "      <th>89</th>\n",
       "      <td>C00575373</td>\n",
       "      <td>0.0</td>\n",
       "      <td>4376616.0</td>\n",
       "      <td>False</td>\n",
       "      <td>False</td>\n",
       "      <td>0.0</td>\n",
       "      <td>93090.0</td>\n",
       "      <td>False</td>\n",
       "      <td>False</td>\n",
       "    </tr>\n",
       "    <tr>\n",
       "      <th>90</th>\n",
       "      <td>C00587022</td>\n",
       "      <td>0.0</td>\n",
       "      <td>100.0</td>\n",
       "      <td>False</td>\n",
       "      <td>False</td>\n",
       "      <td>0.0</td>\n",
       "      <td>59007.0</td>\n",
       "      <td>False</td>\n",
       "      <td>False</td>\n",
       "    </tr>\n",
       "    <tr>\n",
       "      <th>98</th>\n",
       "      <td>C90011800</td>\n",
       "      <td>0.0</td>\n",
       "      <td>509080.0</td>\n",
       "      <td>False</td>\n",
       "      <td>False</td>\n",
       "      <td>0.0</td>\n",
       "      <td>2500.0</td>\n",
       "      <td>False</td>\n",
       "      <td>False</td>\n",
       "    </tr>\n",
       "  </tbody>\n",
       "</table>\n",
       "</div>"
      ],
      "text/plain": [
       "      CMTE_ID  TRANSACTION_AMT_e_h  TRANSACTION_AMT_a_h  forHillary  isPAC_h  \\\n",
       "43  C00626119                  0.0                  0.0       False     True   \n",
       "55  C90011438                185.0                  0.0       False    False   \n",
       "61  C90015678              12425.0                  0.0       False    False   \n",
       "80  C00487470                  0.0                512.0       False    False   \n",
       "84  C00569517                  0.0              14409.0       False    False   \n",
       "89  C00575373                  0.0            4376616.0       False    False   \n",
       "90  C00587022                  0.0                100.0       False    False   \n",
       "98  C90011800                  0.0             509080.0       False    False   \n",
       "\n",
       "    TRANSACTION_AMT_e_t  TRANSACTION_AMT_a_t  forTrump  isPAC_t  \n",
       "43              15000.0             138999.0     False     True  \n",
       "55               2000.0               1681.0     False    False  \n",
       "61               8362.0                  0.0     False    False  \n",
       "80                 29.0            7054203.0     False     True  \n",
       "84                  0.0              12000.0     False    False  \n",
       "89                  0.0              93090.0     False    False  \n",
       "90                  0.0              59007.0     False    False  \n",
       "98                  0.0               2500.0     False    False  "
      ]
     },
     "execution_count": 45,
     "metadata": {},
     "output_type": "execute_result"
    }
   ],
   "source": [
    "hillary_trump_e_a[~(hillary_trump_e_a.forHillary) & ~(hillary_trump_e_a.forTrump)]"
   ]
  },
  {
   "cell_type": "markdown",
   "metadata": {},
   "source": [
    "* Now we will check for abnormal situations where a PAC is for Hillary and against Trump but the amount of money it spent for Hillary is less than the amount of money that spent for Trump and vice versa.\n",
    "* We observe that there is a committee that spent a greater amount of money for Hillary than for Trump. However, the amount of money it spent against her is greater so we will continue"
   ]
  },
  {
   "cell_type": "code",
   "execution_count": 46,
   "metadata": {},
   "outputs": [
    {
     "data": {
      "text/html": [
       "<div>\n",
       "<style scoped>\n",
       "    .dataframe tbody tr th:only-of-type {\n",
       "        vertical-align: middle;\n",
       "    }\n",
       "\n",
       "    .dataframe tbody tr th {\n",
       "        vertical-align: top;\n",
       "    }\n",
       "\n",
       "    .dataframe thead th {\n",
       "        text-align: right;\n",
       "    }\n",
       "</style>\n",
       "<table border=\"1\" class=\"dataframe\">\n",
       "  <thead>\n",
       "    <tr style=\"text-align: right;\">\n",
       "      <th></th>\n",
       "      <th>CMTE_ID</th>\n",
       "      <th>TRANSACTION_AMT_e_h</th>\n",
       "      <th>TRANSACTION_AMT_a_h</th>\n",
       "      <th>forHillary</th>\n",
       "      <th>isPAC_h</th>\n",
       "      <th>TRANSACTION_AMT_e_t</th>\n",
       "      <th>TRANSACTION_AMT_a_t</th>\n",
       "      <th>forTrump</th>\n",
       "      <th>isPAC_t</th>\n",
       "    </tr>\n",
       "  </thead>\n",
       "  <tbody>\n",
       "  </tbody>\n",
       "</table>\n",
       "</div>"
      ],
      "text/plain": [
       "Empty DataFrame\n",
       "Columns: [CMTE_ID, TRANSACTION_AMT_e_h, TRANSACTION_AMT_a_h, forHillary, isPAC_h, TRANSACTION_AMT_e_t, TRANSACTION_AMT_a_t, forTrump, isPAC_t]\n",
       "Index: []"
      ]
     },
     "execution_count": 46,
     "metadata": {},
     "output_type": "execute_result"
    }
   ],
   "source": [
    "hillary_trump_e_a[(hillary_trump_e_a.forHillary) & ~(hillary_trump_e_a.forTrump) \n",
    "                  & (hillary_trump_e_a.TRANSACTION_AMT_e_h<hillary_trump_e_a.TRANSACTION_AMT_e_t)]"
   ]
  },
  {
   "cell_type": "code",
   "execution_count": 47,
   "metadata": {},
   "outputs": [
    {
     "data": {
      "text/html": [
       "<div>\n",
       "<style scoped>\n",
       "    .dataframe tbody tr th:only-of-type {\n",
       "        vertical-align: middle;\n",
       "    }\n",
       "\n",
       "    .dataframe tbody tr th {\n",
       "        vertical-align: top;\n",
       "    }\n",
       "\n",
       "    .dataframe thead th {\n",
       "        text-align: right;\n",
       "    }\n",
       "</style>\n",
       "<table border=\"1\" class=\"dataframe\">\n",
       "  <thead>\n",
       "    <tr style=\"text-align: right;\">\n",
       "      <th></th>\n",
       "      <th>CMTE_ID</th>\n",
       "      <th>TRANSACTION_AMT_e_h</th>\n",
       "      <th>TRANSACTION_AMT_a_h</th>\n",
       "      <th>forHillary</th>\n",
       "      <th>isPAC_h</th>\n",
       "      <th>TRANSACTION_AMT_e_t</th>\n",
       "      <th>TRANSACTION_AMT_a_t</th>\n",
       "      <th>forTrump</th>\n",
       "      <th>isPAC_t</th>\n",
       "    </tr>\n",
       "  </thead>\n",
       "  <tbody>\n",
       "    <tr>\n",
       "      <th>24</th>\n",
       "      <td>C00544767</td>\n",
       "      <td>30884.0</td>\n",
       "      <td>3630607.0</td>\n",
       "      <td>False</td>\n",
       "      <td>False</td>\n",
       "      <td>16650.0</td>\n",
       "      <td>0.0</td>\n",
       "      <td>True</td>\n",
       "      <td>False</td>\n",
       "    </tr>\n",
       "  </tbody>\n",
       "</table>\n",
       "</div>"
      ],
      "text/plain": [
       "      CMTE_ID  TRANSACTION_AMT_e_h  TRANSACTION_AMT_a_h  forHillary  isPAC_h  \\\n",
       "24  C00544767              30884.0            3630607.0       False    False   \n",
       "\n",
       "    TRANSACTION_AMT_e_t  TRANSACTION_AMT_a_t  forTrump  isPAC_t  \n",
       "24              16650.0                  0.0      True    False  "
      ]
     },
     "execution_count": 47,
     "metadata": {},
     "output_type": "execute_result"
    }
   ],
   "source": [
    "hillary_trump_e_a[(hillary_trump_e_a.forTrump) & ~(hillary_trump_e_a.forHillary) \n",
    "                  & (hillary_trump_e_a.TRANSACTION_AMT_e_h>hillary_trump_e_a.TRANSACTION_AMT_e_t)]"
   ]
  },
  {
   "cell_type": "markdown",
   "metadata": {},
   "source": [
    "* We are ready to find the top 5 PACs which spent the greater amount of money for each of the two candidates"
   ]
  },
  {
   "cell_type": "code",
   "execution_count": 48,
   "metadata": {},
   "outputs": [
    {
     "data": {
      "text/html": [
       "<div>\n",
       "<style scoped>\n",
       "    .dataframe tbody tr th:only-of-type {\n",
       "        vertical-align: middle;\n",
       "    }\n",
       "\n",
       "    .dataframe tbody tr th {\n",
       "        vertical-align: top;\n",
       "    }\n",
       "\n",
       "    .dataframe thead th {\n",
       "        text-align: right;\n",
       "    }\n",
       "</style>\n",
       "<table border=\"1\" class=\"dataframe\">\n",
       "  <thead>\n",
       "    <tr style=\"text-align: right;\">\n",
       "      <th></th>\n",
       "      <th>index</th>\n",
       "      <th>CMTE_ID</th>\n",
       "      <th>TRANSACTION_AMT_e_h</th>\n",
       "      <th>TRANSACTION_AMT_a_h</th>\n",
       "      <th>forHillary</th>\n",
       "      <th>isPAC_h</th>\n",
       "      <th>TRANSACTION_AMT_e_t</th>\n",
       "      <th>TRANSACTION_AMT_a_t</th>\n",
       "      <th>forTrump</th>\n",
       "      <th>isPAC_t</th>\n",
       "    </tr>\n",
       "  </thead>\n",
       "  <tbody>\n",
       "    <tr>\n",
       "      <th>0</th>\n",
       "      <td>0</td>\n",
       "      <td>C00002089</td>\n",
       "      <td>150.0</td>\n",
       "      <td>0.0</td>\n",
       "      <td>True</td>\n",
       "      <td>True</td>\n",
       "      <td>0.0</td>\n",
       "      <td>0.0</td>\n",
       "      <td>False</td>\n",
       "      <td>False</td>\n",
       "    </tr>\n",
       "    <tr>\n",
       "      <th>1</th>\n",
       "      <td>1</td>\n",
       "      <td>C00002766</td>\n",
       "      <td>133175.0</td>\n",
       "      <td>0.0</td>\n",
       "      <td>True</td>\n",
       "      <td>True</td>\n",
       "      <td>0.0</td>\n",
       "      <td>0.0</td>\n",
       "      <td>False</td>\n",
       "      <td>False</td>\n",
       "    </tr>\n",
       "    <tr>\n",
       "      <th>2</th>\n",
       "      <td>2</td>\n",
       "      <td>C00003590</td>\n",
       "      <td>14939.0</td>\n",
       "      <td>0.0</td>\n",
       "      <td>True</td>\n",
       "      <td>True</td>\n",
       "      <td>0.0</td>\n",
       "      <td>0.0</td>\n",
       "      <td>False</td>\n",
       "      <td>False</td>\n",
       "    </tr>\n",
       "    <tr>\n",
       "      <th>3</th>\n",
       "      <td>3</td>\n",
       "      <td>C00003632</td>\n",
       "      <td>59417.0</td>\n",
       "      <td>0.0</td>\n",
       "      <td>True</td>\n",
       "      <td>True</td>\n",
       "      <td>0.0</td>\n",
       "      <td>0.0</td>\n",
       "      <td>False</td>\n",
       "      <td>False</td>\n",
       "    </tr>\n",
       "    <tr>\n",
       "      <th>4</th>\n",
       "      <td>4</td>\n",
       "      <td>C00004036</td>\n",
       "      <td>3126926.0</td>\n",
       "      <td>10.0</td>\n",
       "      <td>True</td>\n",
       "      <td>True</td>\n",
       "      <td>4580.0</td>\n",
       "      <td>1197388.0</td>\n",
       "      <td>False</td>\n",
       "      <td>True</td>\n",
       "    </tr>\n",
       "    <tr>\n",
       "      <th>...</th>\n",
       "      <td>...</td>\n",
       "      <td>...</td>\n",
       "      <td>...</td>\n",
       "      <td>...</td>\n",
       "      <td>...</td>\n",
       "      <td>...</td>\n",
       "      <td>...</td>\n",
       "      <td>...</td>\n",
       "      <td>...</td>\n",
       "      <td>...</td>\n",
       "    </tr>\n",
       "    <tr>\n",
       "      <th>345</th>\n",
       "      <td>345</td>\n",
       "      <td>C90016833</td>\n",
       "      <td>0.0</td>\n",
       "      <td>0.0</td>\n",
       "      <td>False</td>\n",
       "      <td>False</td>\n",
       "      <td>0.0</td>\n",
       "      <td>10802.0</td>\n",
       "      <td>False</td>\n",
       "      <td>False</td>\n",
       "    </tr>\n",
       "    <tr>\n",
       "      <th>346</th>\n",
       "      <td>346</td>\n",
       "      <td>C90016940</td>\n",
       "      <td>0.0</td>\n",
       "      <td>0.0</td>\n",
       "      <td>False</td>\n",
       "      <td>False</td>\n",
       "      <td>0.0</td>\n",
       "      <td>8145.0</td>\n",
       "      <td>False</td>\n",
       "      <td>False</td>\n",
       "    </tr>\n",
       "    <tr>\n",
       "      <th>347</th>\n",
       "      <td>347</td>\n",
       "      <td>C90016973</td>\n",
       "      <td>0.0</td>\n",
       "      <td>0.0</td>\n",
       "      <td>False</td>\n",
       "      <td>False</td>\n",
       "      <td>0.0</td>\n",
       "      <td>20609.0</td>\n",
       "      <td>False</td>\n",
       "      <td>False</td>\n",
       "    </tr>\n",
       "    <tr>\n",
       "      <th>348</th>\n",
       "      <td>348</td>\n",
       "      <td>C90017021</td>\n",
       "      <td>0.0</td>\n",
       "      <td>0.0</td>\n",
       "      <td>False</td>\n",
       "      <td>False</td>\n",
       "      <td>0.0</td>\n",
       "      <td>700000.0</td>\n",
       "      <td>False</td>\n",
       "      <td>False</td>\n",
       "    </tr>\n",
       "    <tr>\n",
       "      <th>349</th>\n",
       "      <td>349</td>\n",
       "      <td>C90017039</td>\n",
       "      <td>0.0</td>\n",
       "      <td>0.0</td>\n",
       "      <td>False</td>\n",
       "      <td>False</td>\n",
       "      <td>0.0</td>\n",
       "      <td>27791.0</td>\n",
       "      <td>False</td>\n",
       "      <td>False</td>\n",
       "    </tr>\n",
       "  </tbody>\n",
       "</table>\n",
       "<p>350 rows × 10 columns</p>\n",
       "</div>"
      ],
      "text/plain": [
       "     index    CMTE_ID  TRANSACTION_AMT_e_h  TRANSACTION_AMT_a_h  forHillary  \\\n",
       "0        0  C00002089                150.0                  0.0        True   \n",
       "1        1  C00002766             133175.0                  0.0        True   \n",
       "2        2  C00003590              14939.0                  0.0        True   \n",
       "3        3  C00003632              59417.0                  0.0        True   \n",
       "4        4  C00004036            3126926.0                 10.0        True   \n",
       "..     ...        ...                  ...                  ...         ...   \n",
       "345    345  C90016833                  0.0                  0.0       False   \n",
       "346    346  C90016940                  0.0                  0.0       False   \n",
       "347    347  C90016973                  0.0                  0.0       False   \n",
       "348    348  C90017021                  0.0                  0.0       False   \n",
       "349    349  C90017039                  0.0                  0.0       False   \n",
       "\n",
       "     isPAC_h  TRANSACTION_AMT_e_t  TRANSACTION_AMT_a_t  forTrump  isPAC_t  \n",
       "0       True                  0.0                  0.0     False    False  \n",
       "1       True                  0.0                  0.0     False    False  \n",
       "2       True                  0.0                  0.0     False    False  \n",
       "3       True                  0.0                  0.0     False    False  \n",
       "4       True               4580.0            1197388.0     False     True  \n",
       "..       ...                  ...                  ...       ...      ...  \n",
       "345    False                  0.0              10802.0     False    False  \n",
       "346    False                  0.0               8145.0     False    False  \n",
       "347    False                  0.0              20609.0     False    False  \n",
       "348    False                  0.0             700000.0     False    False  \n",
       "349    False                  0.0              27791.0     False    False  \n",
       "\n",
       "[350 rows x 10 columns]"
      ]
     },
     "execution_count": 48,
     "metadata": {},
     "output_type": "execute_result"
    }
   ],
   "source": [
    "hillary_trump = pd.merge(hillary_sum_e_a, \n",
    "               trump_sum_e_a, \n",
    "               on='CMTE_ID', \n",
    "               how='outer',\n",
    "               suffixes=('_h','_t')).reset_index()\n",
    "hillary_trump.forHillary.fillna(False, inplace=True)\n",
    "hillary_trump.forTrump.fillna(False, inplace=True)\n",
    "hillary_trump.isPAC_h.fillna(False, inplace=True)\n",
    "hillary_trump.isPAC_t.fillna(False, inplace=True)\n",
    "hillary_trump.fillna(0, inplace=True)\n",
    "hillary_trump"
   ]
  },
  {
   "cell_type": "code",
   "execution_count": 49,
   "metadata": {},
   "outputs": [],
   "source": [
    "hillary_trump['isPAC'] = np.where(hillary_trump.isPAC_h | hillary_trump.isPAC_t,True,False)\n",
    "hillary_trump.drop(['isPAC_h','isPAC_h'], axis = 1, inplace=True) "
   ]
  },
  {
   "cell_type": "code",
   "execution_count": 50,
   "metadata": {},
   "outputs": [],
   "source": [
    "hillary_trump = pd.merge(hillary_trump, \n",
    "               pacs[['CMTE_ID','CMTE_NM', 'TTL_RECEIPTS']], \n",
    "               on='CMTE_ID', \n",
    "               how='inner')"
   ]
  },
  {
   "cell_type": "code",
   "execution_count": 51,
   "metadata": {},
   "outputs": [
    {
     "data": {
      "text/html": [
       "<div>\n",
       "<style scoped>\n",
       "    .dataframe tbody tr th:only-of-type {\n",
       "        vertical-align: middle;\n",
       "    }\n",
       "\n",
       "    .dataframe tbody tr th {\n",
       "        vertical-align: top;\n",
       "    }\n",
       "\n",
       "    .dataframe thead th {\n",
       "        text-align: right;\n",
       "    }\n",
       "</style>\n",
       "<table border=\"1\" class=\"dataframe\">\n",
       "  <thead>\n",
       "    <tr style=\"text-align: right;\">\n",
       "      <th></th>\n",
       "      <th>Hillary's top 5 PACs</th>\n",
       "      <th>spent funds</th>\n",
       "    </tr>\n",
       "  </thead>\n",
       "  <tbody>\n",
       "    <tr>\n",
       "      <th>0</th>\n",
       "      <td>PRIORITIES USA ACTION</td>\n",
       "      <td>132535920.0</td>\n",
       "    </tr>\n",
       "    <tr>\n",
       "      <th>1</th>\n",
       "      <td>UNITED WE CAN</td>\n",
       "      <td>13499952.0</td>\n",
       "    </tr>\n",
       "    <tr>\n",
       "      <th>2</th>\n",
       "      <td>WOMEN VOTE!</td>\n",
       "      <td>11627748.0</td>\n",
       "    </tr>\n",
       "    <tr>\n",
       "      <th>3</th>\n",
       "      <td>LCV VICTORY FUND</td>\n",
       "      <td>8432699.0</td>\n",
       "    </tr>\n",
       "    <tr>\n",
       "      <th>4</th>\n",
       "      <td>FOR OUR FUTURE</td>\n",
       "      <td>7540260.0</td>\n",
       "    </tr>\n",
       "  </tbody>\n",
       "</table>\n",
       "</div>"
      ],
      "text/plain": [
       "    Hillary's top 5 PACs  spent funds\n",
       "0  PRIORITIES USA ACTION  132535920.0\n",
       "1          UNITED WE CAN   13499952.0\n",
       "2            WOMEN VOTE!   11627748.0\n",
       "3       LCV VICTORY FUND    8432699.0\n",
       "4         FOR OUR FUTURE    7540260.0"
      ]
     },
     "execution_count": 51,
     "metadata": {},
     "output_type": "execute_result"
    }
   ],
   "source": [
    "hillary_trump['fundsForH'] = hillary_trump[hillary_trump.isPAC & hillary_trump.forHillary & ~hillary_trump.forTrump]\\\n",
    ".apply(lambda x: x['TRANSACTION_AMT_e_h'] + x['TRANSACTION_AMT_a_t'], axis=1)\n",
    "\n",
    "hillary_trump.sort_values(by='fundsForH', ascending=False).head(5)[['CMTE_NM','fundsForH']]\\\n",
    ".rename(columns={'CMTE_NM':'Hillary\\'s top 5 PACs','fundsForH':'spent funds'}).reset_index(drop = True) "
   ]
  },
  {
   "cell_type": "code",
   "execution_count": 52,
   "metadata": {},
   "outputs": [
    {
     "data": {
      "text/html": [
       "<div>\n",
       "<style scoped>\n",
       "    .dataframe tbody tr th:only-of-type {\n",
       "        vertical-align: middle;\n",
       "    }\n",
       "\n",
       "    .dataframe tbody tr th {\n",
       "        vertical-align: top;\n",
       "    }\n",
       "\n",
       "    .dataframe thead th {\n",
       "        text-align: right;\n",
       "    }\n",
       "</style>\n",
       "<table border=\"1\" class=\"dataframe\">\n",
       "  <thead>\n",
       "    <tr style=\"text-align: right;\">\n",
       "      <th></th>\n",
       "      <th>Trump's top 5 PACs</th>\n",
       "      <th>spent funds</th>\n",
       "    </tr>\n",
       "  </thead>\n",
       "  <tbody>\n",
       "    <tr>\n",
       "      <th>0</th>\n",
       "      <td>FUTURE45</td>\n",
       "      <td>24219101.0</td>\n",
       "    </tr>\n",
       "    <tr>\n",
       "      <th>1</th>\n",
       "      <td>REBUILDING AMERICA NOW</td>\n",
       "      <td>21197098.0</td>\n",
       "    </tr>\n",
       "    <tr>\n",
       "      <th>2</th>\n",
       "      <td>NATIONAL RIFLE ASSOCIATION OF AMERICA POLITICA...</td>\n",
       "      <td>9315549.0</td>\n",
       "    </tr>\n",
       "    <tr>\n",
       "      <th>3</th>\n",
       "      <td>SAVE AMERICA FROM ITS GOVERNMENT</td>\n",
       "      <td>3415286.0</td>\n",
       "    </tr>\n",
       "    <tr>\n",
       "      <th>4</th>\n",
       "      <td>CITIZENS UNITED SUPER PAC LLC</td>\n",
       "      <td>1500853.0</td>\n",
       "    </tr>\n",
       "  </tbody>\n",
       "</table>\n",
       "</div>"
      ],
      "text/plain": [
       "                                  Trump's top 5 PACs  spent funds\n",
       "0                                           FUTURE45   24219101.0\n",
       "1                             REBUILDING AMERICA NOW   21197098.0\n",
       "2  NATIONAL RIFLE ASSOCIATION OF AMERICA POLITICA...    9315549.0\n",
       "3                   SAVE AMERICA FROM ITS GOVERNMENT    3415286.0\n",
       "4                      CITIZENS UNITED SUPER PAC LLC    1500853.0"
      ]
     },
     "execution_count": 52,
     "metadata": {},
     "output_type": "execute_result"
    }
   ],
   "source": [
    "hillary_trump['fundsForT'] = hillary_trump[hillary_trump.isPAC & hillary_trump.forTrump & ~hillary_trump.forHillary]\\\n",
    ".apply(lambda x: x['TRANSACTION_AMT_e_t'] + x['TRANSACTION_AMT_a_h'], axis=1)\n",
    "\n",
    "hillary_trump.sort_values(by='fundsForT', ascending=False).head(5)[['CMTE_NM','fundsForT']]\\\n",
    ".rename(columns={'CMTE_NM':'Trump\\'s top 5 PACs','fundsForT':'spent funds'}).reset_index(drop = True) "
   ]
  },
  {
   "cell_type": "markdown",
   "metadata": {},
   "source": [
    "* We are ready to find the top 5 PACs which raised the greater amount of money for each of the two candidates\n"
   ]
  },
  {
   "cell_type": "code",
   "execution_count": 53,
   "metadata": {},
   "outputs": [
    {
     "data": {
      "text/html": [
       "<div>\n",
       "<style scoped>\n",
       "    .dataframe tbody tr th:only-of-type {\n",
       "        vertical-align: middle;\n",
       "    }\n",
       "\n",
       "    .dataframe tbody tr th {\n",
       "        vertical-align: top;\n",
       "    }\n",
       "\n",
       "    .dataframe thead th {\n",
       "        text-align: right;\n",
       "    }\n",
       "</style>\n",
       "<table border=\"1\" class=\"dataframe\">\n",
       "  <thead>\n",
       "    <tr style=\"text-align: right;\">\n",
       "      <th></th>\n",
       "      <th>Hillary's top 5 PACs</th>\n",
       "      <th>raised funds</th>\n",
       "    </tr>\n",
       "  </thead>\n",
       "  <tbody>\n",
       "    <tr>\n",
       "      <th>0</th>\n",
       "      <td>PRIORITIES USA ACTION</td>\n",
       "      <td>1.920658e+08</td>\n",
       "    </tr>\n",
       "    <tr>\n",
       "      <th>1</th>\n",
       "      <td>NEXTGEN CLIMATE ACTION COMMITTEE</td>\n",
       "      <td>9.301024e+07</td>\n",
       "    </tr>\n",
       "    <tr>\n",
       "      <th>2</th>\n",
       "      <td>SENATE MAJORITY PAC</td>\n",
       "      <td>9.282108e+07</td>\n",
       "    </tr>\n",
       "    <tr>\n",
       "      <th>3</th>\n",
       "      <td>SEIU COPE (SERVICE EMPLOYEES INTERNATIONAL UNI...</td>\n",
       "      <td>5.026468e+07</td>\n",
       "    </tr>\n",
       "    <tr>\n",
       "      <th>4</th>\n",
       "      <td>FOR OUR FUTURE</td>\n",
       "      <td>4.894757e+07</td>\n",
       "    </tr>\n",
       "  </tbody>\n",
       "</table>\n",
       "</div>"
      ],
      "text/plain": [
       "                                Hillary's top 5 PACs  raised funds\n",
       "0                              PRIORITIES USA ACTION  1.920658e+08\n",
       "1                   NEXTGEN CLIMATE ACTION COMMITTEE  9.301024e+07\n",
       "2                                SENATE MAJORITY PAC  9.282108e+07\n",
       "3  SEIU COPE (SERVICE EMPLOYEES INTERNATIONAL UNI...  5.026468e+07\n",
       "4                                     FOR OUR FUTURE  4.894757e+07"
      ]
     },
     "execution_count": 53,
     "metadata": {},
     "output_type": "execute_result"
    }
   ],
   "source": [
    "hillary_trump[hillary_trump.isPAC & hillary_trump.forHillary & ~hillary_trump.forTrump]\\\n",
    ".sort_values(by='TTL_RECEIPTS', ascending=False)\\\n",
    ".head(5)[['CMTE_NM','TTL_RECEIPTS']]\\\n",
    ".rename(columns={'CMTE_NM':'Hillary\\'s top 5 PACs','TTL_RECEIPTS':'raised funds'}).reset_index(drop = True) "
   ]
  },
  {
   "cell_type": "code",
   "execution_count": 54,
   "metadata": {},
   "outputs": [
    {
     "data": {
      "text/html": [
       "<div>\n",
       "<style scoped>\n",
       "    .dataframe tbody tr th:only-of-type {\n",
       "        vertical-align: middle;\n",
       "    }\n",
       "\n",
       "    .dataframe tbody tr th {\n",
       "        vertical-align: top;\n",
       "    }\n",
       "\n",
       "    .dataframe thead th {\n",
       "        text-align: right;\n",
       "    }\n",
       "</style>\n",
       "<table border=\"1\" class=\"dataframe\">\n",
       "  <thead>\n",
       "    <tr style=\"text-align: right;\">\n",
       "      <th></th>\n",
       "      <th>Trump's top 5 PACs</th>\n",
       "      <th>raised funds</th>\n",
       "    </tr>\n",
       "  </thead>\n",
       "  <tbody>\n",
       "    <tr>\n",
       "      <th>0</th>\n",
       "      <td>FUTURE45</td>\n",
       "      <td>24996520.04</td>\n",
       "    </tr>\n",
       "    <tr>\n",
       "      <th>1</th>\n",
       "      <td>REBUILDING AMERICA NOW</td>\n",
       "      <td>23616516.94</td>\n",
       "    </tr>\n",
       "    <tr>\n",
       "      <th>2</th>\n",
       "      <td>NATIONAL RIFLE ASSOCIATION OF AMERICA POLITICA...</td>\n",
       "      <td>21591111.40</td>\n",
       "    </tr>\n",
       "    <tr>\n",
       "      <th>3</th>\n",
       "      <td>THE 2016 COMMITTEE</td>\n",
       "      <td>15020143.14</td>\n",
       "    </tr>\n",
       "    <tr>\n",
       "      <th>4</th>\n",
       "      <td>TEA PARTY PATRIOTS CITIZENS FUND</td>\n",
       "      <td>4330867.79</td>\n",
       "    </tr>\n",
       "  </tbody>\n",
       "</table>\n",
       "</div>"
      ],
      "text/plain": [
       "                                  Trump's top 5 PACs  raised funds\n",
       "0                                           FUTURE45   24996520.04\n",
       "1                             REBUILDING AMERICA NOW   23616516.94\n",
       "2  NATIONAL RIFLE ASSOCIATION OF AMERICA POLITICA...   21591111.40\n",
       "3                                 THE 2016 COMMITTEE   15020143.14\n",
       "4                   TEA PARTY PATRIOTS CITIZENS FUND    4330867.79"
      ]
     },
     "execution_count": 54,
     "metadata": {},
     "output_type": "execute_result"
    }
   ],
   "source": [
    "hillary_trump[hillary_trump.isPAC & hillary_trump.forTrump & ~hillary_trump.forHillary]\\\n",
    ".sort_values(by='TTL_RECEIPTS', ascending=False)\\\n",
    ".head(5)[['CMTE_NM','TTL_RECEIPTS']]\\\n",
    ".rename(columns={'CMTE_NM':'Trump\\'s top 5 PACs','TTL_RECEIPTS':'raised funds'}).reset_index(drop = True) "
   ]
  },
  {
   "cell_type": "markdown",
   "metadata": {},
   "source": [
    "2. Identify the top 10 individual donors (i.e., persons) for each of the two presidential candidates and the amount they spent. In order to do that, you should know that donations are not always to a fundraising committee that can be directly linked to a candidate, but they can be due to other entities such as PACs.\n"
   ]
  },
  {
   "cell_type": "markdown",
   "metadata": {},
   "source": [
    "#### Contributions by individuals \n",
    "* We will get information about Contributions by individuals from https://www.fec.gov/files/bulk-downloads/2016/indiv16.zip\n",
    "* We'll also need to read the header file separately, available from  https://www.fec.gov/files/bulk-downloads/data_dictionaries/indiv_header_file.csv"
   ]
  },
  {
   "cell_type": "code",
   "execution_count": 55,
   "metadata": {},
   "outputs": [
    {
     "data": {
      "text/plain": [
       "['CMTE_ID',\n",
       " 'AMNDT_IND',\n",
       " 'RPT_TP',\n",
       " 'TRANSACTION_PGI',\n",
       " 'IMAGE_NUM',\n",
       " 'TRANSACTION_TP',\n",
       " 'ENTITY_TP',\n",
       " 'NAME',\n",
       " 'CITY',\n",
       " 'STATE',\n",
       " 'ZIP_CODE',\n",
       " 'EMPLOYER',\n",
       " 'OCCUPATION',\n",
       " 'TRANSACTION_DT',\n",
       " 'TRANSACTION_AMT',\n",
       " 'OTHER_ID',\n",
       " 'TRAN_ID',\n",
       " 'FILE_NUM',\n",
       " 'MEMO_CD',\n",
       " 'MEMO_TEXT',\n",
       " 'SUB_ID']"
      ]
     },
     "execution_count": 55,
     "metadata": {},
     "output_type": "execute_result"
    }
   ],
   "source": [
    "indiv_df = pd.read_csv(\n",
    "    'https://www.fec.gov/files/bulk-downloads/data_dictionaries/indiv_header_file.csv')\n",
    "\n",
    "indiv_header = indiv_df.columns.tolist()\n",
    "indiv_header"
   ]
  },
  {
   "cell_type": "code",
   "execution_count": 56,
   "metadata": {},
   "outputs": [
    {
     "data": {
      "text/plain": [
       "{'CMTE_ID': str,\n",
       " 'AMNDT_IND': str,\n",
       " 'RPT_TP': str,\n",
       " 'TRANSACTION_PGI': str,\n",
       " 'IMAGE_NUM': str,\n",
       " 'TRANSACTION_TP': str,\n",
       " 'ENTITY_TP': str,\n",
       " 'NAME': str,\n",
       " 'CITY': str,\n",
       " 'STATE': str,\n",
       " 'ZIP_CODE': str,\n",
       " 'EMPLOYER': str,\n",
       " 'OCCUPATION': str,\n",
       " 'TRANSACTION_DT': str,\n",
       " 'TRANSACTION_AMT': float,\n",
       " 'OTHER_ID': str,\n",
       " 'TRAN_ID': str,\n",
       " 'FILE_NUM': str,\n",
       " 'MEMO_CD': str,\n",
       " 'MEMO_TEXT': str,\n",
       " 'SUB_ID': str}"
      ]
     },
     "execution_count": 56,
     "metadata": {},
     "output_type": "execute_result"
    }
   ],
   "source": [
    "data_types = { header: np.str for header in indiv_header }\n",
    "data_types['TRANSACTION_AMT'] = np.float\n",
    "data_types"
   ]
  },
  {
   "cell_type": "code",
   "execution_count": 57,
   "metadata": {},
   "outputs": [
    {
     "data": {
      "text/html": [
       "<div>\n",
       "<style scoped>\n",
       "    .dataframe tbody tr th:only-of-type {\n",
       "        vertical-align: middle;\n",
       "    }\n",
       "\n",
       "    .dataframe tbody tr th {\n",
       "        vertical-align: top;\n",
       "    }\n",
       "\n",
       "    .dataframe thead th {\n",
       "        text-align: right;\n",
       "    }\n",
       "</style>\n",
       "<table border=\"1\" class=\"dataframe\">\n",
       "  <thead>\n",
       "    <tr style=\"text-align: right;\">\n",
       "      <th></th>\n",
       "      <th>CMTE_ID</th>\n",
       "      <th>TRANSACTION_TP</th>\n",
       "      <th>ENTITY_TP</th>\n",
       "      <th>NAME</th>\n",
       "      <th>TRANSACTION_DT</th>\n",
       "      <th>TRANSACTION_AMT</th>\n",
       "    </tr>\n",
       "  </thead>\n",
       "  <tbody>\n",
       "    <tr>\n",
       "      <th>0</th>\n",
       "      <td>C00088591</td>\n",
       "      <td>15</td>\n",
       "      <td>IND</td>\n",
       "      <td>BURCH, MARY K.</td>\n",
       "      <td>02132015</td>\n",
       "      <td>500.0</td>\n",
       "    </tr>\n",
       "    <tr>\n",
       "      <th>1</th>\n",
       "      <td>C00088591</td>\n",
       "      <td>15</td>\n",
       "      <td>IND</td>\n",
       "      <td>KOUNTZ, DONALD E.</td>\n",
       "      <td>02132015</td>\n",
       "      <td>200.0</td>\n",
       "    </tr>\n",
       "    <tr>\n",
       "      <th>2</th>\n",
       "      <td>C00088591</td>\n",
       "      <td>15</td>\n",
       "      <td>IND</td>\n",
       "      <td>KOUNTZ, DONALD E.</td>\n",
       "      <td>02272015</td>\n",
       "      <td>200.0</td>\n",
       "    </tr>\n",
       "    <tr>\n",
       "      <th>3</th>\n",
       "      <td>C00088591</td>\n",
       "      <td>15</td>\n",
       "      <td>IND</td>\n",
       "      <td>DOSHI, NIMISH M.</td>\n",
       "      <td>02132015</td>\n",
       "      <td>200.0</td>\n",
       "    </tr>\n",
       "    <tr>\n",
       "      <th>4</th>\n",
       "      <td>C00088591</td>\n",
       "      <td>15</td>\n",
       "      <td>IND</td>\n",
       "      <td>DOSHI, NIMISH M.</td>\n",
       "      <td>02272015</td>\n",
       "      <td>200.0</td>\n",
       "    </tr>\n",
       "  </tbody>\n",
       "</table>\n",
       "</div>"
      ],
      "text/plain": [
       "     CMTE_ID TRANSACTION_TP ENTITY_TP               NAME TRANSACTION_DT  \\\n",
       "0  C00088591             15       IND     BURCH, MARY K.       02132015   \n",
       "1  C00088591             15       IND  KOUNTZ, DONALD E.       02132015   \n",
       "2  C00088591             15       IND  KOUNTZ, DONALD E.       02272015   \n",
       "3  C00088591             15       IND   DOSHI, NIMISH M.       02132015   \n",
       "4  C00088591             15       IND   DOSHI, NIMISH M.       02272015   \n",
       "\n",
       "   TRANSACTION_AMT  \n",
       "0            500.0  \n",
       "1            200.0  \n",
       "2            200.0  \n",
       "3            200.0  \n",
       "4            200.0  "
      ]
     },
     "execution_count": 57,
     "metadata": {},
     "output_type": "execute_result"
    }
   ],
   "source": [
    "indiv = pd.read_csv('indiv16/itcont.txt', \n",
    "                  sep=\"|\", \n",
    "                  index_col=False, \n",
    "                  names=indiv_header, \n",
    "                  dtype=data_types,\n",
    "                  usecols=['CMTE_ID','TRANSACTION_TP','NAME','TRANSACTION_DT','TRANSACTION_AMT','ENTITY_TP'],\n",
    "                  encoding='ISO-8859-1')\n",
    "indiv.head(5)"
   ]
  },
  {
   "cell_type": "code",
   "execution_count": 58,
   "metadata": {},
   "outputs": [],
   "source": [
    "indiv.TRANSACTION_DT = pd.to_datetime(indiv.TRANSACTION_DT, format='%d%m%Y',errors='coerce')"
   ]
  },
  {
   "cell_type": "code",
   "execution_count": 59,
   "metadata": {},
   "outputs": [],
   "source": [
    "indiv_hillary_trump = pd.merge(hillary_trump[['CMTE_ID','CMTE_NM','forHillary','forTrump','isPAC']], \n",
    "               indiv, \n",
    "               on='CMTE_ID', \n",
    "               how='inner').reset_index()"
   ]
  },
  {
   "cell_type": "markdown",
   "metadata": {},
   "source": [
    "* Hillary's top 10 individual donors:"
   ]
  },
  {
   "cell_type": "code",
   "execution_count": 60,
   "metadata": {},
   "outputs": [
    {
     "data": {
      "text/html": [
       "<div>\n",
       "<style scoped>\n",
       "    .dataframe tbody tr th:only-of-type {\n",
       "        vertical-align: middle;\n",
       "    }\n",
       "\n",
       "    .dataframe tbody tr th {\n",
       "        vertical-align: top;\n",
       "    }\n",
       "\n",
       "    .dataframe thead th {\n",
       "        text-align: right;\n",
       "    }\n",
       "</style>\n",
       "<table border=\"1\" class=\"dataframe\">\n",
       "  <thead>\n",
       "    <tr style=\"text-align: right;\">\n",
       "      <th></th>\n",
       "      <th>TRANSACTION_AMT</th>\n",
       "    </tr>\n",
       "    <tr>\n",
       "      <th>NAME</th>\n",
       "      <th></th>\n",
       "    </tr>\n",
       "  </thead>\n",
       "  <tbody>\n",
       "    <tr>\n",
       "      <th>STEYER, THOMAS F.</th>\n",
       "      <td>89500000.0</td>\n",
       "    </tr>\n",
       "    <tr>\n",
       "      <th>SUSSMAN, DONALD</th>\n",
       "      <td>24000000.0</td>\n",
       "    </tr>\n",
       "    <tr>\n",
       "      <th>EYCHANER, FRED</th>\n",
       "      <td>23000000.0</td>\n",
       "    </tr>\n",
       "    <tr>\n",
       "      <th>SOROS, GEORGE</th>\n",
       "      <td>15506693.0</td>\n",
       "    </tr>\n",
       "    <tr>\n",
       "      <th>MOSKOVITZ, DUSTIN</th>\n",
       "      <td>13500000.0</td>\n",
       "    </tr>\n",
       "    <tr>\n",
       "      <th>ASSOCIATION, NATIONAL EDUCATION</th>\n",
       "      <td>12175000.0</td>\n",
       "    </tr>\n",
       "    <tr>\n",
       "      <th>SIMONS, JAMES</th>\n",
       "      <td>11000680.0</td>\n",
       "    </tr>\n",
       "    <tr>\n",
       "      <th>PRITZKER, JAY ROBERT</th>\n",
       "      <td>9300848.0</td>\n",
       "    </tr>\n",
       "    <tr>\n",
       "      <th>ABRAHAM, DANIEL</th>\n",
       "      <td>9250000.0</td>\n",
       "    </tr>\n",
       "    <tr>\n",
       "      <th>SIMONS, JAMES H.</th>\n",
       "      <td>8500000.0</td>\n",
       "    </tr>\n",
       "  </tbody>\n",
       "</table>\n",
       "</div>"
      ],
      "text/plain": [
       "                                 TRANSACTION_AMT\n",
       "NAME                                            \n",
       "STEYER, THOMAS F.                     89500000.0\n",
       "SUSSMAN, DONALD                       24000000.0\n",
       "EYCHANER, FRED                        23000000.0\n",
       "SOROS, GEORGE                         15506693.0\n",
       "MOSKOVITZ, DUSTIN                     13500000.0\n",
       "ASSOCIATION, NATIONAL EDUCATION       12175000.0\n",
       "SIMONS, JAMES                         11000680.0\n",
       "PRITZKER, JAY ROBERT                   9300848.0\n",
       "ABRAHAM, DANIEL                        9250000.0\n",
       "SIMONS, JAMES H.                       8500000.0"
      ]
     },
     "execution_count": 60,
     "metadata": {},
     "output_type": "execute_result"
    }
   ],
   "source": [
    "indiv_hillary_trump[(indiv_hillary_trump.ENTITY_TP=='IND') & indiv_hillary_trump.isPAC & indiv_hillary_trump.forHillary & ~indiv_hillary_trump.forTrump]\\\n",
    ".groupby('NAME').sum()\\\n",
    ".sort_values(by='TRANSACTION_AMT', ascending=False).head(10)[['TRANSACTION_AMT']]"
   ]
  },
  {
   "cell_type": "markdown",
   "metadata": {},
   "source": [
    "* Trump's top 10 individual donors:"
   ]
  },
  {
   "cell_type": "code",
   "execution_count": 61,
   "metadata": {},
   "outputs": [
    {
     "data": {
      "text/html": [
       "<div>\n",
       "<style scoped>\n",
       "    .dataframe tbody tr th:only-of-type {\n",
       "        vertical-align: middle;\n",
       "    }\n",
       "\n",
       "    .dataframe tbody tr th {\n",
       "        vertical-align: top;\n",
       "    }\n",
       "\n",
       "    .dataframe thead th {\n",
       "        text-align: right;\n",
       "    }\n",
       "</style>\n",
       "<table border=\"1\" class=\"dataframe\">\n",
       "  <thead>\n",
       "    <tr style=\"text-align: right;\">\n",
       "      <th></th>\n",
       "      <th>TRANSACTION_AMT</th>\n",
       "    </tr>\n",
       "    <tr>\n",
       "      <th>NAME</th>\n",
       "      <th></th>\n",
       "    </tr>\n",
       "  </thead>\n",
       "  <tbody>\n",
       "    <tr>\n",
       "      <th>ADELSON, MIRIAM</th>\n",
       "      <td>10000000.0</td>\n",
       "    </tr>\n",
       "    <tr>\n",
       "      <th>ADELSON, SHELDON</th>\n",
       "      <td>10000000.0</td>\n",
       "    </tr>\n",
       "    <tr>\n",
       "      <th>MCMAHON, LINDA E.</th>\n",
       "      <td>7000000.0</td>\n",
       "    </tr>\n",
       "    <tr>\n",
       "      <th>MARCUS, BERNARD</th>\n",
       "      <td>5000000.0</td>\n",
       "    </tr>\n",
       "    <tr>\n",
       "      <th>PALMER, GEOFFREY H.</th>\n",
       "      <td>4000000.0</td>\n",
       "    </tr>\n",
       "    <tr>\n",
       "      <th>BEAL, DANIEL A.</th>\n",
       "      <td>3615764.0</td>\n",
       "    </tr>\n",
       "    <tr>\n",
       "      <th>CAMERON, RONALD M.</th>\n",
       "      <td>2005000.0</td>\n",
       "    </tr>\n",
       "    <tr>\n",
       "      <th>PALMER, GEOFFREY H</th>\n",
       "      <td>2000000.0</td>\n",
       "    </tr>\n",
       "    <tr>\n",
       "      <th>UIHLEIN, RICHARD E.</th>\n",
       "      <td>1490000.0</td>\n",
       "    </tr>\n",
       "    <tr>\n",
       "      <th>FEINBERG, STEPHEN</th>\n",
       "      <td>1475000.0</td>\n",
       "    </tr>\n",
       "  </tbody>\n",
       "</table>\n",
       "</div>"
      ],
      "text/plain": [
       "                     TRANSACTION_AMT\n",
       "NAME                                \n",
       "ADELSON, MIRIAM           10000000.0\n",
       "ADELSON, SHELDON          10000000.0\n",
       "MCMAHON, LINDA E.          7000000.0\n",
       "MARCUS, BERNARD            5000000.0\n",
       "PALMER, GEOFFREY H.        4000000.0\n",
       "BEAL, DANIEL A.            3615764.0\n",
       "CAMERON, RONALD M.         2005000.0\n",
       "PALMER, GEOFFREY H         2000000.0\n",
       "UIHLEIN, RICHARD E.        1490000.0\n",
       "FEINBERG, STEPHEN          1475000.0"
      ]
     },
     "execution_count": 61,
     "metadata": {},
     "output_type": "execute_result"
    }
   ],
   "source": [
    "indiv_hillary_trump[indiv_hillary_trump.isPAC & indiv_hillary_trump.forTrump & ~indiv_hillary_trump.forHillary]\\\n",
    ".groupby('NAME').sum()\\\n",
    ".sort_values(by='TRANSACTION_AMT', ascending=False).head(10)[['TRANSACTION_AMT']]"
   ]
  },
  {
   "cell_type": "markdown",
   "metadata": {},
   "source": [
    "3. Investigate the chronological evolution of the contributions made to and the expenditures made by the campaigns."
   ]
  },
  {
   "cell_type": "code",
   "execution_count": 62,
   "metadata": {},
   "outputs": [],
   "source": [
    "# useful functions\n",
    "def thousands(x, pos):\n",
    "    'The two args are the value and tick position'\n",
    "    return '$%1.1fk' % (x * 1e-3)\n",
    "\n",
    "def plot(x_pos, labels, colors,leg_labels,title,fig=(15, 10),width=0.4):\n",
    "    formatter = FuncFormatter(thousands)\n",
    "    \n",
    "    y_pos = np.arange(24)\n",
    "    fig, ax = plt.subplots(figsize=fig)\n",
    "\n",
    "    ax.xaxis.set_major_formatter(formatter)\n",
    "    plt.title(title)\n",
    "\n",
    "    if(len(x_pos)==1):\n",
    "        ax.barh(y_pos, x_pos[0], align='center',label=leg_labels[0],color=colors[0])\n",
    "        ax.set_yticks(y_pos)\n",
    "    elif (len(x_pos)==2):\n",
    "        ax.barh(y_pos, x_pos[0],width, color=colors[0], label=leg_labels[0])\n",
    "        ax.barh(y_pos + width, x_pos[1],width, color=colors[1], label=leg_labels[1])\n",
    "        ax.set_yticks(y_pos+ width/2)\n",
    "        \n",
    "    ax.set_yticklabels(labels)\n",
    "    plt.legend(loc='best')\n",
    "    plt.show()"
   ]
  },
  {
   "cell_type": "code",
   "execution_count": 63,
   "metadata": {},
   "outputs": [],
   "source": [
    "#create labels\n",
    "months = ['January', 'February', 'March', 'April', 'May', 'June', 'July',\\\n",
    "          'August', 'September', 'October', 'November', 'December']\n",
    "years = ['2015','2016']\n",
    "\n",
    "labels = list(itertools.product(years,months))\n",
    "labels = [ \"%s %s\" % x for x in labels]"
   ]
  },
  {
   "cell_type": "code",
   "execution_count": 64,
   "metadata": {},
   "outputs": [
    {
     "data": {
      "text/plain": [
       "DatetimeIndex(['2014-12-31', '2015-01-31', '2015-02-28', '2015-03-31',\n",
       "               '2015-04-30', '2015-05-31', '2015-06-30', '2015-07-31',\n",
       "               '2015-08-31', '2015-09-30', '2015-10-31', '2015-11-30',\n",
       "               '2015-12-31', '2016-01-31', '2016-02-29', '2016-03-31',\n",
       "               '2016-04-30', '2016-05-31', '2016-06-30', '2016-07-31',\n",
       "               '2016-08-31', '2016-09-30', '2016-10-31', '2016-11-30',\n",
       "               '2016-12-31'],\n",
       "              dtype='datetime64[ns]', freq='M')"
      ]
     },
     "execution_count": 64,
     "metadata": {},
     "output_type": "execute_result"
    }
   ],
   "source": [
    "bins_dt = pd.date_range(*(pd.to_datetime(['2014-12', '2016-12']) + pd.offsets.MonthEnd()), freq='M')\n",
    "bins_dt"
   ]
  },
  {
   "cell_type": "markdown",
   "metadata": {},
   "source": [
    "* As we can see there are some outliers (wrong dates)\n",
    "* We want dates in range [2015, 2016] Thus, we will delete outliers"
   ]
  },
  {
   "cell_type": "code",
   "execution_count": 65,
   "metadata": {},
   "outputs": [
    {
     "data": {
      "text/plain": [
       "Timestamp('2201-02-06 00:00:00')"
      ]
     },
     "execution_count": 65,
     "metadata": {},
     "output_type": "execute_result"
    }
   ],
   "source": [
    "max_contrib = indiv.loc[indiv['TRANSACTION_DT'].idxmax()]\n",
    "max_contrib.TRANSACTION_DT"
   ]
  },
  {
   "cell_type": "code",
   "execution_count": 66,
   "metadata": {},
   "outputs": [
    {
     "data": {
      "text/plain": [
       "Timestamp('2000-09-03 00:00:00')"
      ]
     },
     "execution_count": 66,
     "metadata": {},
     "output_type": "execute_result"
    }
   ],
   "source": [
    "min_contrib = indiv.loc[indiv['TRANSACTION_DT'].idxmin()]\n",
    "min_contrib.TRANSACTION_DT"
   ]
  },
  {
   "cell_type": "code",
   "execution_count": 67,
   "metadata": {},
   "outputs": [],
   "source": [
    "indiv_1516 = indiv[(indiv.TRANSACTION_DT>(pd.to_datetime('2014-12'))+pd.offsets.MonthEnd())\\\n",
    "                   & (indiv.TRANSACTION_DT<=(pd.to_datetime('2016-12'))+pd.offsets.MonthEnd())]"
   ]
  },
  {
   "cell_type": "code",
   "execution_count": 68,
   "metadata": {},
   "outputs": [
    {
     "data": {
      "text/plain": [
       "Timestamp('2016-12-12 00:00:00')"
      ]
     },
     "execution_count": 68,
     "metadata": {},
     "output_type": "execute_result"
    }
   ],
   "source": [
    "max_contrib = indiv_1516.loc[indiv_1516['TRANSACTION_DT'].idxmax()]\n",
    "max_contrib.TRANSACTION_DT"
   ]
  },
  {
   "cell_type": "code",
   "execution_count": 69,
   "metadata": {},
   "outputs": [
    {
     "data": {
      "text/plain": [
       "Timestamp('2015-01-01 00:00:00')"
      ]
     },
     "execution_count": 69,
     "metadata": {},
     "output_type": "execute_result"
    }
   ],
   "source": [
    "min_contrib = indiv_1516.loc[indiv_1516['TRANSACTION_DT'].idxmin()]\n",
    "min_contrib.TRANSACTION_DT"
   ]
  },
  {
   "cell_type": "markdown",
   "metadata": {},
   "source": [
    "* The chronological evolution of the contributions made to the campaigns per month"
   ]
  },
  {
   "cell_type": "code",
   "execution_count": 70,
   "metadata": {},
   "outputs": [
    {
     "data": {
      "image/png": "[encoded data removed]",
      "text/plain": [
       "<Figure size 1080x720 with 1 Axes>"
      ]
     },
     "metadata": {},
     "output_type": "display_data"
    }
   ],
   "source": [
    "bin_labels_indiv = pd.cut(indiv_1516['TRANSACTION_DT'], bins_dt)\n",
    "grouped_indiv = indiv_1516.groupby(bin_labels_indiv)\n",
    "bucket_sums_indiv = grouped_indiv['TRANSACTION_AMT'].sum().reset_index()\n",
    "plot([bucket_sums_indiv.TRANSACTION_AMT], labels, colors=['green'],\\\n",
    "     leg_labels=['Contributions made to the campaigns'],title='The chronological evolution of the contributions made to the campaigns per month')"
   ]
  },
  {
   "cell_type": "markdown",
   "metadata": {},
   "source": [
    "* Although, the 2016 United States presidential election held on Tuesday, November 8, 2016 (https://en.wikipedia.org/wiki/2016_United_States_presidential_election), all the imporant contributions had made to the campaings in 2015.\n",
    "* In other words,all the imporant contributions had made to the campaings almost 1 year before the election"
   ]
  },
  {
   "cell_type": "markdown",
   "metadata": {},
   "source": [
    "* Now we will do the same process but separately for each one of the two candidates"
   ]
  },
  {
   "cell_type": "code",
   "execution_count": 71,
   "metadata": {},
   "outputs": [],
   "source": [
    "hillary_to_camp = indiv_hillary_trump[indiv_hillary_trump.forHillary & ~indiv_hillary_trump.forTrump & (indiv_hillary_trump.TRANSACTION_DT>(pd.to_datetime('2014-12'))+pd.offsets.MonthEnd())\\\n",
    "                   & (indiv_hillary_trump.TRANSACTION_DT<=(pd.to_datetime('2016-12'))+pd.offsets.MonthEnd())]\n",
    "trump_to_camp = indiv_hillary_trump[~indiv_hillary_trump.forHillary & indiv_hillary_trump.forTrump & (indiv_hillary_trump.TRANSACTION_DT>(pd.to_datetime('2014-12'))+pd.offsets.MonthEnd())\\\n",
    "                   & (indiv_hillary_trump.TRANSACTION_DT<=(pd.to_datetime('2016-12'))+pd.offsets.MonthEnd())]"
   ]
  },
  {
   "cell_type": "code",
   "execution_count": 72,
   "metadata": {},
   "outputs": [
    {
     "data": {
      "image/png": "[encoded data removed]",
      "text/plain": [
       "<Figure size 1080x720 with 1 Axes>"
      ]
     },
     "metadata": {},
     "output_type": "display_data"
    }
   ],
   "source": [
    "bin_labels_indiv = pd.cut(hillary_to_camp['TRANSACTION_DT'], bins_dt)\n",
    "grouped_indiv = hillary_to_camp.groupby(bin_labels_indiv)\n",
    "hillary_bucket_sums_indiv = grouped_indiv['TRANSACTION_AMT'].sum().reset_index()\n",
    "plot([hillary_bucket_sums_indiv.TRANSACTION_AMT], labels, colors=['blue'],\\\n",
    "     leg_labels=['Contributions made to Hilton\\'s campaigns'],title='The chronological evolution of the contributions made to Hilton\\'s campaigns per month')"
   ]
  },
  {
   "cell_type": "code",
   "execution_count": 73,
   "metadata": {},
   "outputs": [
    {
     "data": {
      "image/png": "[encoded data removed]",
      "text/plain": [
       "<Figure size 1080x720 with 1 Axes>"
      ]
     },
     "metadata": {},
     "output_type": "display_data"
    }
   ],
   "source": [
    "bin_labels_indiv = pd.cut(trump_to_camp['TRANSACTION_DT'], bins_dt)\n",
    "grouped_indiv = trump_to_camp.groupby(bin_labels_indiv)\n",
    "trump_bucket_sums_indiv = grouped_indiv['TRANSACTION_AMT'].sum().reset_index()\n",
    "plot([trump_bucket_sums_indiv.TRANSACTION_AMT], labels, colors=['red'],\\\n",
    "     leg_labels=['Contributions made to Trump\\'s campaigns'],title='The chronological evolution of the contributions made to Trump\\'s campaigns per month')"
   ]
  },
  {
   "cell_type": "markdown",
   "metadata": {},
   "source": [
    "* One plot:"
   ]
  },
  {
   "cell_type": "code",
   "execution_count": 74,
   "metadata": {},
   "outputs": [
    {
     "data": {
      "image/png": "[encoded data removed]",
      "text/plain": [
       "<Figure size 1080x720 with 1 Axes>"
      ]
     },
     "metadata": {},
     "output_type": "display_data"
    }
   ],
   "source": [
    "plot([hillary_bucket_sums_indiv.TRANSACTION_AMT, trump_bucket_sums_indiv.TRANSACTION_AMT], labels, colors=['blue','red'],\\\n",
    "     leg_labels=['Hillary\\'s campaigns','Trump\\'s campaigns'],title='The chronological evolution of the contributions made to the campaigns per month')"
   ]
  },
  {
   "cell_type": "markdown",
   "metadata": {},
   "source": [
    "#### Operating expenditures\n",
    "* We will read operating expenditures from https://www.fec.gov/files/bulk-downloads/2016/oppexp16.zip\n",
    "* We'll also need to read the header file separately, available from https://www.fec.gov/files/bulk-downloads/data_dictionaries/oppexp_header_file.csv"
   ]
  },
  {
   "cell_type": "code",
   "execution_count": 75,
   "metadata": {},
   "outputs": [
    {
     "data": {
      "text/plain": [
       "['CMTE_ID',\n",
       " 'AMNDT_IND',\n",
       " 'RPT_YR',\n",
       " 'RPT_TP',\n",
       " 'IMAGE_NUM',\n",
       " 'LINE_NUM',\n",
       " 'FORM_TP_CD',\n",
       " 'SCHED_TP_CD',\n",
       " 'NAME',\n",
       " 'CITY',\n",
       " 'STATE',\n",
       " 'ZIP_CODE',\n",
       " 'TRANSACTION_DT',\n",
       " 'TRANSACTION_AMT',\n",
       " 'TRANSACTION_PGI',\n",
       " 'PURPOSE',\n",
       " 'CATEGORY',\n",
       " 'CATEGORY_DESC',\n",
       " 'MEMO_CD',\n",
       " 'MEMO_TEXT',\n",
       " 'ENTITY_TP',\n",
       " 'SUB_ID',\n",
       " 'FILE_NUM',\n",
       " 'TRAN_ID',\n",
       " 'BACK_REF_TRAN_ID']"
      ]
     },
     "execution_count": 75,
     "metadata": {},
     "output_type": "execute_result"
    }
   ],
   "source": [
    "oppexp_df = pd.read_csv(\n",
    "    'https://www.fec.gov/files/bulk-downloads/data_dictionaries/oppexp_header_file.csv')\n",
    "\n",
    "oppexp_header = oppexp_df.columns.tolist()\n",
    "oppexp_header"
   ]
  },
  {
   "cell_type": "code",
   "execution_count": 76,
   "metadata": {},
   "outputs": [
    {
     "data": {
      "text/plain": [
       "{'CMTE_ID': str,\n",
       " 'AMNDT_IND': str,\n",
       " 'RPT_YR': str,\n",
       " 'RPT_TP': str,\n",
       " 'IMAGE_NUM': str,\n",
       " 'LINE_NUM': str,\n",
       " 'FORM_TP_CD': str,\n",
       " 'SCHED_TP_CD': str,\n",
       " 'NAME': str,\n",
       " 'CITY': str,\n",
       " 'STATE': str,\n",
       " 'ZIP_CODE': str,\n",
       " 'TRANSACTION_DT': str,\n",
       " 'TRANSACTION_AMT': float,\n",
       " 'TRANSACTION_PGI': str,\n",
       " 'PURPOSE': str,\n",
       " 'CATEGORY': str,\n",
       " 'CATEGORY_DESC': str,\n",
       " 'MEMO_CD': str,\n",
       " 'MEMO_TEXT': str,\n",
       " 'ENTITY_TP': str,\n",
       " 'SUB_ID': str,\n",
       " 'FILE_NUM': str,\n",
       " 'TRAN_ID': str,\n",
       " 'BACK_REF_TRAN_ID': str}"
      ]
     },
     "execution_count": 76,
     "metadata": {},
     "output_type": "execute_result"
    }
   ],
   "source": [
    "data_types = { header: np.str for header in oppexp_header }\n",
    "data_types['TRANSACTION_AMT'] = np.float\n",
    "data_types"
   ]
  },
  {
   "cell_type": "code",
   "execution_count": 77,
   "metadata": {},
   "outputs": [
    {
     "data": {
      "text/html": [
       "<div>\n",
       "<style scoped>\n",
       "    .dataframe tbody tr th:only-of-type {\n",
       "        vertical-align: middle;\n",
       "    }\n",
       "\n",
       "    .dataframe tbody tr th {\n",
       "        vertical-align: top;\n",
       "    }\n",
       "\n",
       "    .dataframe thead th {\n",
       "        text-align: right;\n",
       "    }\n",
       "</style>\n",
       "<table border=\"1\" class=\"dataframe\">\n",
       "  <thead>\n",
       "    <tr style=\"text-align: right;\">\n",
       "      <th></th>\n",
       "      <th>CMTE_ID</th>\n",
       "      <th>NAME</th>\n",
       "      <th>STATE</th>\n",
       "      <th>TRANSACTION_DT</th>\n",
       "      <th>TRANSACTION_AMT</th>\n",
       "      <th>CATEGORY</th>\n",
       "      <th>CATEGORY_DESC</th>\n",
       "    </tr>\n",
       "  </thead>\n",
       "  <tbody>\n",
       "    <tr>\n",
       "      <th>0</th>\n",
       "      <td>C00415182</td>\n",
       "      <td>CHASE CARDMEMBER SERVICE</td>\n",
       "      <td>DE</td>\n",
       "      <td>02/21/2015</td>\n",
       "      <td>3301.24</td>\n",
       "      <td>001</td>\n",
       "      <td>Administrative/Salary/Overhead Expenses</td>\n",
       "    </tr>\n",
       "    <tr>\n",
       "      <th>1</th>\n",
       "      <td>C00415182</td>\n",
       "      <td>GOOGLE INC.</td>\n",
       "      <td>CA</td>\n",
       "      <td>01/21/2015</td>\n",
       "      <td>56.42</td>\n",
       "      <td>001</td>\n",
       "      <td>Administrative/Salary/Overhead Expenses</td>\n",
       "    </tr>\n",
       "    <tr>\n",
       "      <th>2</th>\n",
       "      <td>C00415182</td>\n",
       "      <td>LINKEDIN CORPORATION</td>\n",
       "      <td>CA</td>\n",
       "      <td>01/21/2015</td>\n",
       "      <td>49.95</td>\n",
       "      <td>001</td>\n",
       "      <td>Administrative/Salary/Overhead Expenses</td>\n",
       "    </tr>\n",
       "    <tr>\n",
       "      <th>3</th>\n",
       "      <td>C00415182</td>\n",
       "      <td>NATIONBUILDER</td>\n",
       "      <td>CA</td>\n",
       "      <td>01/21/2015</td>\n",
       "      <td>99.00</td>\n",
       "      <td>001</td>\n",
       "      <td>Administrative/Salary/Overhead Expenses</td>\n",
       "    </tr>\n",
       "    <tr>\n",
       "      <th>4</th>\n",
       "      <td>C00415182</td>\n",
       "      <td>NGP VAN, INC.</td>\n",
       "      <td>DC</td>\n",
       "      <td>01/21/2015</td>\n",
       "      <td>2000.00</td>\n",
       "      <td>001</td>\n",
       "      <td>Administrative/Salary/Overhead Expenses</td>\n",
       "    </tr>\n",
       "  </tbody>\n",
       "</table>\n",
       "</div>"
      ],
      "text/plain": [
       "     CMTE_ID                      NAME STATE TRANSACTION_DT  TRANSACTION_AMT  \\\n",
       "0  C00415182  CHASE CARDMEMBER SERVICE    DE     02/21/2015          3301.24   \n",
       "1  C00415182               GOOGLE INC.    CA     01/21/2015            56.42   \n",
       "2  C00415182      LINKEDIN CORPORATION    CA     01/21/2015            49.95   \n",
       "3  C00415182             NATIONBUILDER    CA     01/21/2015            99.00   \n",
       "4  C00415182             NGP VAN, INC.    DC     01/21/2015          2000.00   \n",
       "\n",
       "  CATEGORY                             CATEGORY_DESC  \n",
       "0      001  Administrative/Salary/Overhead Expenses   \n",
       "1      001  Administrative/Salary/Overhead Expenses   \n",
       "2      001  Administrative/Salary/Overhead Expenses   \n",
       "3      001  Administrative/Salary/Overhead Expenses   \n",
       "4      001  Administrative/Salary/Overhead Expenses   "
      ]
     },
     "execution_count": 77,
     "metadata": {},
     "output_type": "execute_result"
    }
   ],
   "source": [
    "oppexp = pd.read_csv('https://www.fec.gov/files/bulk-downloads/2016/oppexp16.zip', \n",
    "                  sep=\"|\", \n",
    "                  index_col=False, \n",
    "                  names=oppexp_header, \n",
    "                  dtype=data_types,\n",
    "                  usecols=['CMTE_ID','NAME','STATE','TRANSACTION_DT','TRANSACTION_AMT','CATEGORY','CATEGORY_DESC'],\n",
    "                  encoding='ISO-8859-1')\n",
    "oppexp.head(5)"
   ]
  },
  {
   "cell_type": "code",
   "execution_count": 78,
   "metadata": {},
   "outputs": [
    {
     "data": {
      "text/plain": [
       "CMTE_ID                    object\n",
       "NAME                       object\n",
       "STATE                      object\n",
       "TRANSACTION_DT     datetime64[ns]\n",
       "TRANSACTION_AMT           float64\n",
       "CATEGORY                   object\n",
       "CATEGORY_DESC              object\n",
       "dtype: object"
      ]
     },
     "execution_count": 78,
     "metadata": {},
     "output_type": "execute_result"
    }
   ],
   "source": [
    "oppexp.TRANSACTION_DT = pd.to_datetime(oppexp.TRANSACTION_DT, errors='coerce')\n",
    "oppexp.dtypes"
   ]
  },
  {
   "cell_type": "markdown",
   "metadata": {},
   "source": [
    "* As we can see there are some outliers (wrong dates)\n",
    "* We want dates in range [2015, 2016]"
   ]
  },
  {
   "cell_type": "code",
   "execution_count": 79,
   "metadata": {
    "scrolled": true
   },
   "outputs": [
    {
     "data": {
      "text/plain": [
       "Timestamp('2116-01-01 00:00:00')"
      ]
     },
     "execution_count": 79,
     "metadata": {},
     "output_type": "execute_result"
    }
   ],
   "source": [
    "max_oppexp = oppexp.loc[oppexp['TRANSACTION_DT'].idxmax()]\n",
    "max_oppexp.TRANSACTION_DT"
   ]
  },
  {
   "cell_type": "code",
   "execution_count": 80,
   "metadata": {},
   "outputs": [
    {
     "data": {
      "text/plain": [
       "Timestamp('2001-03-24 00:00:00')"
      ]
     },
     "execution_count": 80,
     "metadata": {},
     "output_type": "execute_result"
    }
   ],
   "source": [
    "min_oppexp = oppexp.loc[oppexp['TRANSACTION_DT'].idxmin()]\n",
    "min_oppexp.TRANSACTION_DT"
   ]
  },
  {
   "cell_type": "code",
   "execution_count": 81,
   "metadata": {},
   "outputs": [],
   "source": [
    "oppexp_1516 = oppexp[(oppexp.TRANSACTION_DT>(pd.to_datetime('2014/12'))+pd.offsets.MonthEnd()) & (oppexp.TRANSACTION_DT<=(pd.to_datetime('2016-12'))+pd.offsets.MonthEnd())]"
   ]
  },
  {
   "cell_type": "code",
   "execution_count": 82,
   "metadata": {},
   "outputs": [
    {
     "data": {
      "text/plain": [
       "Timestamp('2016-12-31 00:00:00')"
      ]
     },
     "execution_count": 82,
     "metadata": {},
     "output_type": "execute_result"
    }
   ],
   "source": [
    "max_oppexp = oppexp_1516.loc[oppexp_1516['TRANSACTION_DT'].idxmax()]\n",
    "max_oppexp.TRANSACTION_DT"
   ]
  },
  {
   "cell_type": "code",
   "execution_count": 83,
   "metadata": {},
   "outputs": [
    {
     "data": {
      "text/plain": [
       "Timestamp('2015-01-01 00:00:00')"
      ]
     },
     "execution_count": 83,
     "metadata": {},
     "output_type": "execute_result"
    }
   ],
   "source": [
    "min_oppexp = oppexp_1516.loc[oppexp_1516['TRANSACTION_DT'].idxmin()]\n",
    "min_oppexp.TRANSACTION_DT"
   ]
  },
  {
   "cell_type": "code",
   "execution_count": 84,
   "metadata": {},
   "outputs": [
    {
     "data": {
      "image/png": "[encoded data removed]",
      "text/plain": [
       "<Figure size 1080x720 with 1 Axes>"
      ]
     },
     "metadata": {},
     "output_type": "display_data"
    }
   ],
   "source": [
    "bin_labels_oppexp = pd.cut(oppexp_1516['TRANSACTION_DT'], bins_dt)\n",
    "grouped_oppexp = oppexp_1516.groupby(bin_labels_oppexp)\n",
    "bucket_sums_oppexp = grouped_oppexp['TRANSACTION_AMT'].sum().reset_index()\n",
    "plot([bucket_sums_oppexp.TRANSACTION_AMT], labels,colors=['green'],leg_labels=['Total expenditures'],title='The expenditures made by the campaigns')"
   ]
  },
  {
   "cell_type": "markdown",
   "metadata": {},
   "source": [
    "* On the other hand, the expenditures made by the campaigns was distributed\n",
    "* Also, the higher expenditures made by the campaigns in Octomber, one month before the election month"
   ]
  },
  {
   "cell_type": "markdown",
   "metadata": {},
   "source": [
    "* Now we will focus on the expenditures made by the Hillary's campaigns and then for Trump's ones"
   ]
  },
  {
   "cell_type": "code",
   "execution_count": 85,
   "metadata": {},
   "outputs": [],
   "source": [
    "h_oppexp_1516 = oppexp_1516[oppexp_1516.CMTE_ID.isin(hillary_to_camp['CMTE_ID'].unique().tolist())]    "
   ]
  },
  {
   "cell_type": "code",
   "execution_count": 86,
   "metadata": {},
   "outputs": [
    {
     "data": {
      "image/png": "[encoded data removed]",
      "text/plain": [
       "<Figure size 1080x720 with 1 Axes>"
      ]
     },
     "metadata": {},
     "output_type": "display_data"
    }
   ],
   "source": [
    "bin_labels_oppexp = pd.cut(h_oppexp_1516['TRANSACTION_DT'], bins_dt)\n",
    "grouped_oppexp = h_oppexp_1516.groupby(bin_labels_oppexp)\n",
    "h_bucket_sums_oppexp = grouped_oppexp['TRANSACTION_AMT'].sum().reset_index()\n",
    "plot([h_bucket_sums_oppexp.TRANSACTION_AMT], labels,colors=['blue'],leg_labels=['Hillary\\'s expenditures'],title='The expenditures made by the Hillary\\'s campaigns')"
   ]
  },
  {
   "cell_type": "code",
   "execution_count": 87,
   "metadata": {},
   "outputs": [],
   "source": [
    "t_oppexp_1516 = oppexp_1516[oppexp_1516.CMTE_ID.isin(trump_to_camp['CMTE_ID'].unique().tolist())]   "
   ]
  },
  {
   "cell_type": "code",
   "execution_count": 88,
   "metadata": {},
   "outputs": [
    {
     "data": {
      "image/png": "[encoded data removed]",
      "text/plain": [
       "<Figure size 1080x720 with 1 Axes>"
      ]
     },
     "metadata": {},
     "output_type": "display_data"
    }
   ],
   "source": [
    "bin_labels_oppexp = pd.cut(t_oppexp_1516['TRANSACTION_DT'], bins_dt)\n",
    "grouped_oppexp = t_oppexp_1516.groupby(bin_labels_oppexp)\n",
    "t_bucket_sums_oppexp = grouped_oppexp['TRANSACTION_AMT'].sum().reset_index()\n",
    "plot([t_bucket_sums_oppexp.TRANSACTION_AMT], labels,colors=['red'],leg_labels=['Trump\\'s expenditures'],title='The expenditures made by the Trump\\'s campaigns')"
   ]
  },
  {
   "cell_type": "code",
   "execution_count": 89,
   "metadata": {},
   "outputs": [
    {
     "data": {
      "image/png": "[encoded data removed]",
      "text/plain": [
       "<Figure size 1080x720 with 1 Axes>"
      ]
     },
     "metadata": {},
     "output_type": "display_data"
    }
   ],
   "source": [
    "plot([h_bucket_sums_oppexp.TRANSACTION_AMT,t_bucket_sums_oppexp.TRANSACTION_AMT], labels,colors=['blue','red'],\\\n",
    "     leg_labels=['Hillary\\'s expenditures','Trump\\'s expenditures'],title='The chronological evolution of the expenditures made by the campaigns for each candidate')"
   ]
  },
  {
   "cell_type": "markdown",
   "metadata": {},
   "source": [
    "* As we can see both contributions made to and the expenditures made by the campaigns for Hillary was more the contributions made to and the expenditures made by the campaigns for Trump\n",
    "* Hillary had more financial support than Trump"
   ]
  },
  {
   "cell_type": "code",
   "execution_count": 90,
   "metadata": {},
   "outputs": [
    {
     "data": {
      "image/png": "[encoded data removed]",
      "text/plain": [
       "<Figure size 1080x720 with 1 Axes>"
      ]
     },
     "metadata": {},
     "output_type": "display_data"
    }
   ],
   "source": [
    "plot([h_bucket_sums_oppexp.TRANSACTION_AMT,hillary_bucket_sums_indiv.TRANSACTION_AMT], labels,colors=['green','yellow'],\\\n",
    "     leg_labels=['Hillary\\'s expenditures','Hillary\\'s contributions'],title='The chronological evolution of the contributions made to and the expenditure made by Hillary\\'s campaigns')"
   ]
  },
  {
   "cell_type": "code",
   "execution_count": 91,
   "metadata": {},
   "outputs": [
    {
     "data": {
      "image/png": "[encoded data removed]",
      "text/plain": [
       "<Figure size 1080x720 with 1 Axes>"
      ]
     },
     "metadata": {},
     "output_type": "display_data"
    }
   ],
   "source": [
    "plot([t_bucket_sums_oppexp.TRANSACTION_AMT,trump_bucket_sums_indiv.TRANSACTION_AMT], labels,colors=['green','yellow'],\\\n",
    "     leg_labels=['Trump\\'s expenditures','Trump\\'s contributions'],title='The chronological evolution of the contributions made to and the expenditure made by Trump\\'s campaigns')"
   ]
  },
  {
   "cell_type": "markdown",
   "metadata": {},
   "source": [
    "4. Identify the biggest recipients of campaign expenditures."
   ]
  },
  {
   "cell_type": "markdown",
   "metadata": {},
   "source": [
    "* The top 10 recipients:"
   ]
  },
  {
   "cell_type": "code",
   "execution_count": 92,
   "metadata": {},
   "outputs": [
    {
     "data": {
      "text/html": [
       "<div>\n",
       "<style scoped>\n",
       "    .dataframe tbody tr th:only-of-type {\n",
       "        vertical-align: middle;\n",
       "    }\n",
       "\n",
       "    .dataframe tbody tr th {\n",
       "        vertical-align: top;\n",
       "    }\n",
       "\n",
       "    .dataframe thead th {\n",
       "        text-align: right;\n",
       "    }\n",
       "</style>\n",
       "<table border=\"1\" class=\"dataframe\">\n",
       "  <thead>\n",
       "    <tr style=\"text-align: right;\">\n",
       "      <th></th>\n",
       "      <th>NAME</th>\n",
       "      <th>TRANSACTION_AMT</th>\n",
       "    </tr>\n",
       "  </thead>\n",
       "  <tbody>\n",
       "    <tr>\n",
       "      <th>0</th>\n",
       "      <td>GMMB</td>\n",
       "      <td>3.230724e+08</td>\n",
       "    </tr>\n",
       "    <tr>\n",
       "      <th>1</th>\n",
       "      <td>AMERICAN EXPRESS</td>\n",
       "      <td>1.299160e+08</td>\n",
       "    </tr>\n",
       "    <tr>\n",
       "      <th>2</th>\n",
       "      <td>BULLY PULPIT INTERACTIVE LLC</td>\n",
       "      <td>1.235089e+08</td>\n",
       "    </tr>\n",
       "    <tr>\n",
       "      <th>3</th>\n",
       "      <td>GILES-PARSCALE</td>\n",
       "      <td>9.154091e+07</td>\n",
       "    </tr>\n",
       "    <tr>\n",
       "      <th>4</th>\n",
       "      <td>OLD TOWNE MEDIA INC</td>\n",
       "      <td>8.304847e+07</td>\n",
       "    </tr>\n",
       "    <tr>\n",
       "      <th>5</th>\n",
       "      <td>AMERICAN MEDIA &amp; ADVOCACY GROUP</td>\n",
       "      <td>7.473149e+07</td>\n",
       "    </tr>\n",
       "    <tr>\n",
       "      <th>6</th>\n",
       "      <td>STATWARE INC. AND OTHER FIRMS</td>\n",
       "      <td>5.000000e+07</td>\n",
       "    </tr>\n",
       "    <tr>\n",
       "      <th>7</th>\n",
       "      <td>SMART MEDIA GROUP LLC</td>\n",
       "      <td>4.064065e+07</td>\n",
       "    </tr>\n",
       "    <tr>\n",
       "      <th>8</th>\n",
       "      <td>ADP</td>\n",
       "      <td>4.026366e+07</td>\n",
       "    </tr>\n",
       "    <tr>\n",
       "      <th>9</th>\n",
       "      <td>COMMUNICATIONS CORPORATION OF AMERICA</td>\n",
       "      <td>3.958748e+07</td>\n",
       "    </tr>\n",
       "  </tbody>\n",
       "</table>\n",
       "</div>"
      ],
      "text/plain": [
       "                                    NAME  TRANSACTION_AMT\n",
       "0                                   GMMB     3.230724e+08\n",
       "1                       AMERICAN EXPRESS     1.299160e+08\n",
       "2           BULLY PULPIT INTERACTIVE LLC     1.235089e+08\n",
       "3                         GILES-PARSCALE     9.154091e+07\n",
       "4                    OLD TOWNE MEDIA INC     8.304847e+07\n",
       "5        AMERICAN MEDIA & ADVOCACY GROUP     7.473149e+07\n",
       "6          STATWARE INC. AND OTHER FIRMS     5.000000e+07\n",
       "7                  SMART MEDIA GROUP LLC     4.064065e+07\n",
       "8                                    ADP     4.026366e+07\n",
       "9  COMMUNICATIONS CORPORATION OF AMERICA     3.958748e+07"
      ]
     },
     "execution_count": 92,
     "metadata": {},
     "output_type": "execute_result"
    }
   ],
   "source": [
    "oppexp.groupby('NAME').sum()\\\n",
    "    .sort_values(by='TRANSACTION_AMT', ascending=False).head(10).reset_index()"
   ]
  },
  {
   "cell_type": "markdown",
   "metadata": {},
   "source": [
    "* GMMB, the first recipient, is a company that organize political campaing spots etc."
   ]
  },
  {
   "cell_type": "markdown",
   "metadata": {},
   "source": [
    "* In addition, there is a list of disbursement categories: https://www.fec.gov/campaign-finance-data/disbursement-category-code-descriptions/\n",
    "* We will investigate the purpose of those expenditures"
   ]
  },
  {
   "cell_type": "code",
   "execution_count": 93,
   "metadata": {},
   "outputs": [
    {
     "data": {
      "text/html": [
       "<div>\n",
       "<style scoped>\n",
       "    .dataframe tbody tr th:only-of-type {\n",
       "        vertical-align: middle;\n",
       "    }\n",
       "\n",
       "    .dataframe tbody tr th {\n",
       "        vertical-align: top;\n",
       "    }\n",
       "\n",
       "    .dataframe thead th {\n",
       "        text-align: right;\n",
       "    }\n",
       "</style>\n",
       "<table border=\"1\" class=\"dataframe\">\n",
       "  <thead>\n",
       "    <tr style=\"text-align: right;\">\n",
       "      <th></th>\n",
       "      <th>CATEGORY</th>\n",
       "      <th>CATEGORY_DESC</th>\n",
       "      <th>TRANSACTION_AMT</th>\n",
       "    </tr>\n",
       "  </thead>\n",
       "  <tbody>\n",
       "    <tr>\n",
       "      <th>0</th>\n",
       "      <td>001</td>\n",
       "      <td>Administrative/Salary/Overhead Expenses</td>\n",
       "      <td>4.604763e+08</td>\n",
       "    </tr>\n",
       "    <tr>\n",
       "      <th>1</th>\n",
       "      <td>004</td>\n",
       "      <td>Advertising Expenses</td>\n",
       "      <td>1.789798e+08</td>\n",
       "    </tr>\n",
       "    <tr>\n",
       "      <th>2</th>\n",
       "      <td>003</td>\n",
       "      <td>Solicitation and Fundraising Expenses</td>\n",
       "      <td>1.074945e+08</td>\n",
       "    </tr>\n",
       "    <tr>\n",
       "      <th>3</th>\n",
       "      <td>002</td>\n",
       "      <td>Travel Expenses</td>\n",
       "      <td>4.403165e+07</td>\n",
       "    </tr>\n",
       "    <tr>\n",
       "      <th>4</th>\n",
       "      <td>005</td>\n",
       "      <td>Polling Expenses</td>\n",
       "      <td>1.848578e+07</td>\n",
       "    </tr>\n",
       "    <tr>\n",
       "      <th>5</th>\n",
       "      <td>006</td>\n",
       "      <td>Campaign Materials</td>\n",
       "      <td>1.622941e+07</td>\n",
       "    </tr>\n",
       "    <tr>\n",
       "      <th>6</th>\n",
       "      <td>007</td>\n",
       "      <td>Campaign Event Expenses</td>\n",
       "      <td>1.144004e+07</td>\n",
       "    </tr>\n",
       "    <tr>\n",
       "      <th>7</th>\n",
       "      <td>011</td>\n",
       "      <td>Political Contributions</td>\n",
       "      <td>2.693207e+06</td>\n",
       "    </tr>\n",
       "    <tr>\n",
       "      <th>8</th>\n",
       "      <td>008</td>\n",
       "      <td>Transfers</td>\n",
       "      <td>1.756588e+06</td>\n",
       "    </tr>\n",
       "    <tr>\n",
       "      <th>9</th>\n",
       "      <td>012</td>\n",
       "      <td>Donations</td>\n",
       "      <td>1.684124e+06</td>\n",
       "    </tr>\n",
       "  </tbody>\n",
       "</table>\n",
       "</div>"
      ],
      "text/plain": [
       "  CATEGORY                             CATEGORY_DESC  TRANSACTION_AMT\n",
       "0      001  Administrative/Salary/Overhead Expenses      4.604763e+08\n",
       "1      004                     Advertising Expenses      1.789798e+08\n",
       "2      003    Solicitation and Fundraising Expenses      1.074945e+08\n",
       "3      002                           Travel Expenses     4.403165e+07\n",
       "4      005                          Polling Expenses     1.848578e+07\n",
       "5      006                        Campaign Materials     1.622941e+07\n",
       "6      007                   Campaign Event Expenses     1.144004e+07\n",
       "7      011                   Political Contributions     2.693207e+06\n",
       "8      008                                 Transfers     1.756588e+06\n",
       "9      012                                 Donations     1.684124e+06"
      ]
     },
     "execution_count": 93,
     "metadata": {},
     "output_type": "execute_result"
    }
   ],
   "source": [
    "cat_name = oppexp.groupby(['CATEGORY','CATEGORY_DESC']).sum()\\\n",
    "    .sort_values(by='TRANSACTION_AMT', ascending=False)\n",
    "cat_name.reset_index().head(10)"
   ]
  },
  {
   "cell_type": "code",
   "execution_count": 94,
   "metadata": {},
   "outputs": [
    {
     "data": {
      "text/html": [
       "<div>\n",
       "<style scoped>\n",
       "    .dataframe tbody tr th:only-of-type {\n",
       "        vertical-align: middle;\n",
       "    }\n",
       "\n",
       "    .dataframe tbody tr th {\n",
       "        vertical-align: top;\n",
       "    }\n",
       "\n",
       "    .dataframe thead th {\n",
       "        text-align: right;\n",
       "    }\n",
       "</style>\n",
       "<table border=\"1\" class=\"dataframe\">\n",
       "  <thead>\n",
       "    <tr style=\"text-align: right;\">\n",
       "      <th></th>\n",
       "      <th>CATEGORY</th>\n",
       "      <th>CATEGORY_DESC</th>\n",
       "      <th>NAME</th>\n",
       "      <th>TRANSACTION_AMT</th>\n",
       "    </tr>\n",
       "  </thead>\n",
       "  <tbody>\n",
       "    <tr>\n",
       "      <th>0</th>\n",
       "      <td>001</td>\n",
       "      <td>Administrative/Salary/Overhead Expenses</td>\n",
       "      <td>MENTZER MEDIA SERVICES, INC.</td>\n",
       "      <td>18916976.78</td>\n",
       "    </tr>\n",
       "    <tr>\n",
       "      <th>1</th>\n",
       "      <td>001</td>\n",
       "      <td>Administrative/Salary/Overhead Expenses</td>\n",
       "      <td>AMERICAN EXPRESS</td>\n",
       "      <td>9715248.10</td>\n",
       "    </tr>\n",
       "    <tr>\n",
       "      <th>2</th>\n",
       "      <td>001</td>\n",
       "      <td>Administrative/Salary/Overhead Expenses</td>\n",
       "      <td>CARROLL, JOHN S</td>\n",
       "      <td>8724173.99</td>\n",
       "    </tr>\n",
       "    <tr>\n",
       "      <th>3</th>\n",
       "      <td>001</td>\n",
       "      <td>Administrative/Salary/Overhead Expenses</td>\n",
       "      <td>AUTOMATIC DATA PROCESSING</td>\n",
       "      <td>7546455.06</td>\n",
       "    </tr>\n",
       "    <tr>\n",
       "      <th>4</th>\n",
       "      <td>004</td>\n",
       "      <td>Advertising Expenses</td>\n",
       "      <td>SKDKNICKERBOCKER LLC</td>\n",
       "      <td>6748399.67</td>\n",
       "    </tr>\n",
       "    <tr>\n",
       "      <th>5</th>\n",
       "      <td>004</td>\n",
       "      <td>Advertising Expenses</td>\n",
       "      <td>JAMESTOWN ASSOCIATES</td>\n",
       "      <td>6203117.47</td>\n",
       "    </tr>\n",
       "    <tr>\n",
       "      <th>6</th>\n",
       "      <td>004</td>\n",
       "      <td>Advertising Expenses</td>\n",
       "      <td>SMART MEDIA GROUP LLC</td>\n",
       "      <td>6132846.43</td>\n",
       "    </tr>\n",
       "    <tr>\n",
       "      <th>7</th>\n",
       "      <td>001</td>\n",
       "      <td>Administrative/Salary/Overhead Expenses</td>\n",
       "      <td>RED METRICS</td>\n",
       "      <td>6116230.10</td>\n",
       "    </tr>\n",
       "    <tr>\n",
       "      <th>8</th>\n",
       "      <td>001</td>\n",
       "      <td>Administrative/Salary/Overhead Expenses</td>\n",
       "      <td>PAYCHEX</td>\n",
       "      <td>6086155.40</td>\n",
       "    </tr>\n",
       "    <tr>\n",
       "      <th>9</th>\n",
       "      <td>004</td>\n",
       "      <td>Advertising Expenses</td>\n",
       "      <td>SCREEN STRATEGIES MEDIA</td>\n",
       "      <td>5471816.95</td>\n",
       "    </tr>\n",
       "  </tbody>\n",
       "</table>\n",
       "</div>"
      ],
      "text/plain": [
       "  CATEGORY                             CATEGORY_DESC  \\\n",
       "0      001  Administrative/Salary/Overhead Expenses    \n",
       "1      001  Administrative/Salary/Overhead Expenses    \n",
       "2      001  Administrative/Salary/Overhead Expenses    \n",
       "3      001  Administrative/Salary/Overhead Expenses    \n",
       "4      004                     Advertising Expenses    \n",
       "5      004                     Advertising Expenses    \n",
       "6      004                     Advertising Expenses    \n",
       "7      001  Administrative/Salary/Overhead Expenses    \n",
       "8      001  Administrative/Salary/Overhead Expenses    \n",
       "9      004                     Advertising Expenses    \n",
       "\n",
       "                           NAME  TRANSACTION_AMT  \n",
       "0  MENTZER MEDIA SERVICES, INC.      18916976.78  \n",
       "1              AMERICAN EXPRESS       9715248.10  \n",
       "2               CARROLL, JOHN S       8724173.99  \n",
       "3     AUTOMATIC DATA PROCESSING       7546455.06  \n",
       "4          SKDKNICKERBOCKER LLC       6748399.67  \n",
       "5          JAMESTOWN ASSOCIATES       6203117.47  \n",
       "6         SMART MEDIA GROUP LLC       6132846.43  \n",
       "7                   RED METRICS       6116230.10  \n",
       "8                       PAYCHEX       6086155.40  \n",
       "9       SCREEN STRATEGIES MEDIA       5471816.95  "
      ]
     },
     "execution_count": 94,
     "metadata": {},
     "output_type": "execute_result"
    }
   ],
   "source": [
    "cat_name = oppexp.groupby(['CATEGORY','CATEGORY_DESC','NAME']).sum()\\\n",
    "    .sort_values(by='TRANSACTION_AMT', ascending=False).reset_index()\n",
    "cat_name.head(10)"
   ]
  },
  {
   "cell_type": "code",
   "execution_count": 95,
   "metadata": {},
   "outputs": [],
   "source": [
    "h_oppexp = oppexp[oppexp.CMTE_ID.isin(hillary_to_camp['CMTE_ID'].unique().tolist())] \n",
    "t_oppexp = oppexp[oppexp.CMTE_ID.isin(trump_to_camp['CMTE_ID'].unique().tolist())] "
   ]
  },
  {
   "cell_type": "markdown",
   "metadata": {},
   "source": [
    "* The top 10 Hillary's recipients:"
   ]
  },
  {
   "cell_type": "code",
   "execution_count": 96,
   "metadata": {},
   "outputs": [
    {
     "data": {
      "text/html": [
       "<div>\n",
       "<style scoped>\n",
       "    .dataframe tbody tr th:only-of-type {\n",
       "        vertical-align: middle;\n",
       "    }\n",
       "\n",
       "    .dataframe tbody tr th {\n",
       "        vertical-align: top;\n",
       "    }\n",
       "\n",
       "    .dataframe thead th {\n",
       "        text-align: right;\n",
       "    }\n",
       "</style>\n",
       "<table border=\"1\" class=\"dataframe\">\n",
       "  <thead>\n",
       "    <tr style=\"text-align: right;\">\n",
       "      <th></th>\n",
       "      <th>NAME</th>\n",
       "      <th>TRANSACTION_AMT</th>\n",
       "    </tr>\n",
       "  </thead>\n",
       "  <tbody>\n",
       "    <tr>\n",
       "      <th>0</th>\n",
       "      <td>SEIU GENERAL FUND</td>\n",
       "      <td>7886324.02</td>\n",
       "    </tr>\n",
       "    <tr>\n",
       "      <th>1</th>\n",
       "      <td>BULLY PULPIT INTERACTIVE LLC</td>\n",
       "      <td>6838041.69</td>\n",
       "    </tr>\n",
       "    <tr>\n",
       "      <th>2</th>\n",
       "      <td>NEXTGEN CLIMATE ACTION</td>\n",
       "      <td>6457817.07</td>\n",
       "    </tr>\n",
       "    <tr>\n",
       "      <th>3</th>\n",
       "      <td>PRECISION NETWORK LLC</td>\n",
       "      <td>5783530.99</td>\n",
       "    </tr>\n",
       "    <tr>\n",
       "      <th>4</th>\n",
       "      <td>AFL-CIO COPE TREASURY</td>\n",
       "      <td>4299822.57</td>\n",
       "    </tr>\n",
       "    <tr>\n",
       "      <th>5</th>\n",
       "      <td>PAYROLL DATA PROCESSING</td>\n",
       "      <td>4205720.12</td>\n",
       "    </tr>\n",
       "    <tr>\n",
       "      <th>6</th>\n",
       "      <td>PROJECT NEW AMERICA</td>\n",
       "      <td>3284702.99</td>\n",
       "    </tr>\n",
       "    <tr>\n",
       "      <th>7</th>\n",
       "      <td>FOR OUR FUTURE ACTION FUND</td>\n",
       "      <td>3050817.27</td>\n",
       "    </tr>\n",
       "    <tr>\n",
       "      <th>8</th>\n",
       "      <td>AFT SOLIDARITY 527</td>\n",
       "      <td>2880628.31</td>\n",
       "    </tr>\n",
       "    <tr>\n",
       "      <th>9</th>\n",
       "      <td>GLOBAL STRATEGY GROUP, LLC</td>\n",
       "      <td>2631597.53</td>\n",
       "    </tr>\n",
       "  </tbody>\n",
       "</table>\n",
       "</div>"
      ],
      "text/plain": [
       "                           NAME  TRANSACTION_AMT\n",
       "0             SEIU GENERAL FUND       7886324.02\n",
       "1  BULLY PULPIT INTERACTIVE LLC       6838041.69\n",
       "2        NEXTGEN CLIMATE ACTION       6457817.07\n",
       "3         PRECISION NETWORK LLC       5783530.99\n",
       "4         AFL-CIO COPE TREASURY       4299822.57\n",
       "5       PAYROLL DATA PROCESSING       4205720.12\n",
       "6           PROJECT NEW AMERICA       3284702.99\n",
       "7    FOR OUR FUTURE ACTION FUND       3050817.27\n",
       "8            AFT SOLIDARITY 527       2880628.31\n",
       "9    GLOBAL STRATEGY GROUP, LLC       2631597.53"
      ]
     },
     "execution_count": 96,
     "metadata": {},
     "output_type": "execute_result"
    }
   ],
   "source": [
    "h_oppexp.groupby('NAME').sum()\\\n",
    "    .sort_values(by='TRANSACTION_AMT', ascending=False).head(10).reset_index()"
   ]
  },
  {
   "cell_type": "markdown",
   "metadata": {},
   "source": [
    "* The top 10 Trump's recipients:"
   ]
  },
  {
   "cell_type": "code",
   "execution_count": 97,
   "metadata": {},
   "outputs": [
    {
     "data": {
      "text/html": [
       "<div>\n",
       "<style scoped>\n",
       "    .dataframe tbody tr th:only-of-type {\n",
       "        vertical-align: middle;\n",
       "    }\n",
       "\n",
       "    .dataframe tbody tr th {\n",
       "        vertical-align: top;\n",
       "    }\n",
       "\n",
       "    .dataframe thead th {\n",
       "        text-align: right;\n",
       "    }\n",
       "</style>\n",
       "<table border=\"1\" class=\"dataframe\">\n",
       "  <thead>\n",
       "    <tr style=\"text-align: right;\">\n",
       "      <th></th>\n",
       "      <th>NAME</th>\n",
       "      <th>TRANSACTION_AMT</th>\n",
       "    </tr>\n",
       "  </thead>\n",
       "  <tbody>\n",
       "    <tr>\n",
       "      <th>0</th>\n",
       "      <td>ADP</td>\n",
       "      <td>1490546.56</td>\n",
       "    </tr>\n",
       "    <tr>\n",
       "      <th>1</th>\n",
       "      <td>DIRECT SUPPORT SERVICES INC</td>\n",
       "      <td>992564.17</td>\n",
       "    </tr>\n",
       "    <tr>\n",
       "      <th>2</th>\n",
       "      <td>NEW REPUBLICAN LLC</td>\n",
       "      <td>986984.06</td>\n",
       "    </tr>\n",
       "    <tr>\n",
       "      <th>3</th>\n",
       "      <td>RST MARKETING</td>\n",
       "      <td>671891.46</td>\n",
       "    </tr>\n",
       "    <tr>\n",
       "      <th>4</th>\n",
       "      <td>DIRECT ANSWER</td>\n",
       "      <td>604256.17</td>\n",
       "    </tr>\n",
       "    <tr>\n",
       "      <th>5</th>\n",
       "      <td>SAVANNA COMMUNICATIONS LLC</td>\n",
       "      <td>585696.00</td>\n",
       "    </tr>\n",
       "    <tr>\n",
       "      <th>6</th>\n",
       "      <td>CARTSOFT, LLC</td>\n",
       "      <td>525521.74</td>\n",
       "    </tr>\n",
       "    <tr>\n",
       "      <th>7</th>\n",
       "      <td>FACEBOOK, INC.</td>\n",
       "      <td>459835.08</td>\n",
       "    </tr>\n",
       "    <tr>\n",
       "      <th>8</th>\n",
       "      <td>TEA PARTY PATRIOTS</td>\n",
       "      <td>390476.55</td>\n",
       "    </tr>\n",
       "    <tr>\n",
       "      <th>9</th>\n",
       "      <td>ANTIETAM COMMUNICATIONS</td>\n",
       "      <td>366000.00</td>\n",
       "    </tr>\n",
       "  </tbody>\n",
       "</table>\n",
       "</div>"
      ],
      "text/plain": [
       "                          NAME  TRANSACTION_AMT\n",
       "0                          ADP       1490546.56\n",
       "1  DIRECT SUPPORT SERVICES INC        992564.17\n",
       "2           NEW REPUBLICAN LLC        986984.06\n",
       "3                RST MARKETING        671891.46\n",
       "4                DIRECT ANSWER        604256.17\n",
       "5   SAVANNA COMMUNICATIONS LLC        585696.00\n",
       "6                CARTSOFT, LLC        525521.74\n",
       "7               FACEBOOK, INC.        459835.08\n",
       "8           TEA PARTY PATRIOTS        390476.55\n",
       "9      ANTIETAM COMMUNICATIONS        366000.00"
      ]
     },
     "execution_count": 97,
     "metadata": {},
     "output_type": "execute_result"
    }
   ],
   "source": [
    "t_oppexp.groupby('NAME').sum()\\\n",
    "    .sort_values(by='TRANSACTION_AMT', ascending=False).head(10).reset_index()"
   ]
  },
  {
   "cell_type": "markdown",
   "metadata": {},
   "source": [
    "5. Examine the geographical distribution, at the state level, of campaign expenditures. For each state, calculate the expenditures per voter. This will require that you find a source with the number of registered voters per state. Examine the situation for swing states."
   ]
  },
  {
   "cell_type": "markdown",
   "metadata": {},
   "source": [
    "* We will find Swing States from Wikipedia (https://en.wikipedia.org/wiki/Swing_state#Determining_swing_states)"
   ]
  },
  {
   "cell_type": "code",
   "execution_count": 98,
   "metadata": {},
   "outputs": [],
   "source": [
    "import requests\n",
    "from bs4 import BeautifulSoup\n",
    "\n",
    "r = requests.get(\"https://en.wikipedia.org/wiki/Swing_state#Determining_swing_states\")\n",
    "\n",
    "html = r.content\n",
    "soup = BeautifulSoup(html, 'html.parser')"
   ]
  },
  {
   "cell_type": "code",
   "execution_count": 99,
   "metadata": {},
   "outputs": [],
   "source": [
    "tables = soup.find_all('table')\n",
    "\n",
    "data = []\n",
    "table_body = tables[0].find('tbody')\n",
    "rows = table_body.find_all('tr')\n",
    "for row in rows:\n",
    "    cols = row.find_all('td')\n",
    "    cols = [ele.text.strip() for ele in cols]\n",
    "    data.append([ele for ele in cols if ele])"
   ]
  },
  {
   "cell_type": "code",
   "execution_count": 100,
   "metadata": {},
   "outputs": [
    {
     "data": {
      "text/plain": [
       "['Maine',\n",
       " 'Nevada',\n",
       " 'Minnesota',\n",
       " 'New Hampshire',\n",
       " 'Michigan',\n",
       " 'Pennsylvania',\n",
       " 'Wisconsin',\n",
       " 'Florida',\n",
       " 'Arizona',\n",
       " 'North Carolina',\n",
       " 'Georgia',\n",
       " 'National']"
      ]
     },
     "execution_count": 100,
     "metadata": {},
     "output_type": "execute_result"
    }
   ],
   "source": [
    "swing_states = []\n",
    "for line in data:\n",
    "    if len(line)>0:\n",
    "        if(line[0][-1]==']'):\n",
    "            swing_states.append(line[-0][:-8])\n",
    "        else:\n",
    "            swing_states.append(line[0])\n",
    "swing_states"
   ]
  },
  {
   "cell_type": "markdown",
   "metadata": {},
   "source": [
    "* We will download the state postal codes from Infoplease (https://www.infoplease.com/us/postal-information/state-abbreviations-and-state-postal-codes), a free online encyclopedia(all of the information found on the site is gathered from trusted sources)"
   ]
  },
  {
   "cell_type": "code",
   "execution_count": 101,
   "metadata": {},
   "outputs": [],
   "source": [
    "r2 = requests.get(\"https://www.infoplease.com/us/postal-information/state-abbreviations-and-state-postal-codes\")\n",
    "\n",
    "html = r2.content\n",
    "soup2 = BeautifulSoup(html, 'html.parser')"
   ]
  },
  {
   "cell_type": "code",
   "execution_count": 102,
   "metadata": {},
   "outputs": [],
   "source": [
    "tables = soup2.find_all('table')\n",
    "\n",
    "data = []\n",
    "table_body = tables[0].find('tbody')\n",
    "rows = table_body.find_all('tr')\n",
    "for row in rows:\n",
    "    cols = row.find_all('td')\n",
    "    cols = [ele.text.strip() for ele in cols]\n",
    "    data.append([ele for ele in cols if ele])"
   ]
  },
  {
   "cell_type": "code",
   "execution_count": 103,
   "metadata": {},
   "outputs": [],
   "source": [
    "names = []\n",
    "postal_codes = []\n",
    "for line in data:\n",
    "    names.append(line[0])\n",
    "    postal_codes.append(line[2])\n",
    "data = {\"NAME\":names,\"STATE\":postal_codes}\n",
    "postal_codes_df = pd.DataFrame(data)"
   ]
  },
  {
   "cell_type": "code",
   "execution_count": 104,
   "metadata": {},
   "outputs": [
    {
     "data": {
      "text/plain": [
       "array(['Alabama', 'Alaska', 'Arizona', 'Arkansas', 'California',\n",
       "       'Colorado', 'Connecticut', 'Delaware', 'District of Columbia',\n",
       "       'Florida', 'Georgia', 'Hawaii', 'Idaho', 'Illinois', 'Indiana',\n",
       "       'Iowa', 'Kansas', 'Kentucky', 'Louisiana', 'Maine', 'Maryland',\n",
       "       'Massachusetts', 'Michigan', 'Minnesota', 'Mississippi',\n",
       "       'Missouri', 'Montana', 'Nebraska', 'Nevada', 'New Hampshire',\n",
       "       'New Jersey', 'New Mexico', 'New York', 'North Carolina',\n",
       "       'North Dakota', 'Ohio', 'Oklahoma', 'Oregon', 'Pennsylvania',\n",
       "       'Rhode Island', 'South Carolina', 'South Dakota', 'Tennessee',\n",
       "       'Texas', 'Utah', 'Vermont', 'Virginia', 'Washington',\n",
       "       'West Virginia', 'Wisconsin', 'Wyoming'], dtype=object)"
      ]
     },
     "execution_count": 104,
     "metadata": {},
     "output_type": "execute_result"
    }
   ],
   "source": [
    "postal_codes_df.NAME.unique()"
   ]
  },
  {
   "cell_type": "markdown",
   "metadata": {},
   "source": [
    "* We will include D.C (District of Columbia) \n",
    "* Although it is not a state, it is a federal district. (https://en.wikipedia.org/wiki/Washington,_D.C.)"
   ]
  },
  {
   "cell_type": "code",
   "execution_count": 105,
   "metadata": {},
   "outputs": [],
   "source": [
    "postal_codes_df = postal_codes_df[postal_codes_df.STATE!='DC']"
   ]
  },
  {
   "cell_type": "markdown",
   "metadata": {},
   "source": [
    "* We will download the registed voters per state from: https://www.eac.gov/research-and-data/datasets-codebooks-and-surveys?fbclid=IwAR0rJM3OCtBk60V-t0KBXKTLuR3UuFzoMDNj6I4jLiyIBIZm06qiw88KrAM\n",
    "(column's explanation: https://www.eac.gov/sites/default/files/eac_assets/1/6/EAVS_Codebook_2016.pdf?fbclid=IwAR3izslx8_FA-Dw8k2bSrMfpCcSDvES1q3tXrhAbksd0LwRUx_BD_Ksn7iI)"
   ]
  },
  {
   "cell_type": "code",
   "execution_count": 106,
   "metadata": {},
   "outputs": [],
   "source": [
    "data_types = {}\n",
    "data_types['State'] = np.str\n",
    "data_types['A1a'] = np.str\n",
    "data_types\n",
    "\n",
    "voters = pd.read_csv('https://www.eac.gov/sites/default/files/Research/EAVS_2016_Final_Data_for_Public_Release_v2.csv.zip', \n",
    "                  sep=\",\",\n",
    "                  header=0,\n",
    "                  usecols=['State','A1a'],\n",
    "                  dtype=data_types,\n",
    "                  encoding='ISO-8859-1')"
   ]
  },
  {
   "cell_type": "code",
   "execution_count": 107,
   "metadata": {},
   "outputs": [],
   "source": [
    "voters = voters[(voters.A1a!='-999999: Data Not Available') & (voters.A1a!='-888888: Not Applicable')]"
   ]
  },
  {
   "cell_type": "code",
   "execution_count": 108,
   "metadata": {},
   "outputs": [],
   "source": [
    "voters[\"A1a\"] = pd.to_numeric(voters[\"A1a\"])"
   ]
  },
  {
   "cell_type": "code",
   "execution_count": 109,
   "metadata": {},
   "outputs": [],
   "source": [
    "voters_pers_state = voters.groupby('State').sum().reset_index()\n",
    "voters_pers_state = voters_pers_state.rename(columns={'State': 'STATE','A1a':'VOTERS'})"
   ]
  },
  {
   "cell_type": "code",
   "execution_count": 110,
   "metadata": {},
   "outputs": [
    {
     "data": {
      "text/plain": [
       "(49, 4)"
      ]
     },
     "execution_count": 110,
     "metadata": {},
     "output_type": "execute_result"
    }
   ],
   "source": [
    "amt_per_state = oppexp[['STATE','TRANSACTION_AMT']].groupby(['STATE']).sum().reset_index()\n",
    "amt_per_state = pd.merge(amt_per_state,\n",
    "               postal_codes_df, \n",
    "               on='STATE', \n",
    "               how='inner')\n",
    "final_res = pd.merge(voters_pers_state,\n",
    "               amt_per_state, \n",
    "               on='STATE', \n",
    "               how='inner')\n",
    "final_res.shape"
   ]
  },
  {
   "cell_type": "markdown",
   "metadata": {},
   "source": [
    "* We lost information about 1 state, ND(North Dakota)\n",
    "* Although we don't know the registered voters of ND, we will continue to investigate"
   ]
  },
  {
   "cell_type": "code",
   "execution_count": 111,
   "metadata": {},
   "outputs": [
    {
     "data": {
      "text/plain": [
       "{'ND'}"
      ]
     },
     "execution_count": 111,
     "metadata": {},
     "output_type": "execute_result"
    }
   ],
   "source": [
    "set(postal_codes_df.STATE.tolist()) - set(voters_pers_state.STATE.tolist())"
   ]
  },
  {
   "cell_type": "markdown",
   "metadata": {},
   "source": [
    "* Converting numbers to range [0,255]"
   ]
  },
  {
   "cell_type": "code",
   "execution_count": 112,
   "metadata": {},
   "outputs": [
    {
     "name": "stdout",
     "output_type": "stream",
     "text": [
      "157.78400367694962\n",
      "3.343034624727429\n"
     ]
    }
   ],
   "source": [
    "final_res['perc'] = ((final_res.TRANSACTION_AMT/final_res.VOTERS))\n",
    "max_perc = final_res.perc.max()\n",
    "min_perc = final_res.perc.min()\n",
    "print(max_perc)\n",
    "print(min_perc)"
   ]
  },
  {
   "cell_type": "code",
   "execution_count": 113,
   "metadata": {},
   "outputs": [
    {
     "data": {
      "text/html": [
       "<div>\n",
       "<style scoped>\n",
       "    .dataframe tbody tr th:only-of-type {\n",
       "        vertical-align: middle;\n",
       "    }\n",
       "\n",
       "    .dataframe tbody tr th {\n",
       "        vertical-align: top;\n",
       "    }\n",
       "\n",
       "    .dataframe thead th {\n",
       "        text-align: right;\n",
       "    }\n",
       "</style>\n",
       "<table border=\"1\" class=\"dataframe\">\n",
       "  <thead>\n",
       "    <tr style=\"text-align: right;\">\n",
       "      <th></th>\n",
       "      <th>STATE</th>\n",
       "      <th>VOTERS</th>\n",
       "      <th>TRANSACTION_AMT</th>\n",
       "      <th>NAME</th>\n",
       "      <th>perc</th>\n",
       "    </tr>\n",
       "  </thead>\n",
       "  <tbody>\n",
       "    <tr>\n",
       "      <th>43</th>\n",
       "      <td>VA</td>\n",
       "      <td>5604106</td>\n",
       "      <td>8.842383e+08</td>\n",
       "      <td>Virginia</td>\n",
       "      <td>157.784004</td>\n",
       "    </tr>\n",
       "    <tr>\n",
       "      <th>19</th>\n",
       "      <td>MD</td>\n",
       "      <td>3900090</td>\n",
       "      <td>1.974728e+08</td>\n",
       "      <td>Maryland</td>\n",
       "      <td>50.632893</td>\n",
       "    </tr>\n",
       "    <tr>\n",
       "      <th>28</th>\n",
       "      <td>NH</td>\n",
       "      <td>988398</td>\n",
       "      <td>4.543498e+07</td>\n",
       "      <td>New Hampshire</td>\n",
       "      <td>45.968307</td>\n",
       "    </tr>\n",
       "    <tr>\n",
       "      <th>6</th>\n",
       "      <td>CT</td>\n",
       "      <td>2331684</td>\n",
       "      <td>7.728920e+07</td>\n",
       "      <td>Connecticut</td>\n",
       "      <td>33.147372</td>\n",
       "    </tr>\n",
       "    <tr>\n",
       "      <th>44</th>\n",
       "      <td>VT</td>\n",
       "      <td>472289</td>\n",
       "      <td>1.455240e+07</td>\n",
       "      <td>Vermont</td>\n",
       "      <td>30.812494</td>\n",
       "    </tr>\n",
       "    <tr>\n",
       "      <th>29</th>\n",
       "      <td>NJ</td>\n",
       "      <td>5751090</td>\n",
       "      <td>1.656847e+08</td>\n",
       "      <td>New Jersey</td>\n",
       "      <td>28.809266</td>\n",
       "    </tr>\n",
       "    <tr>\n",
       "      <th>37</th>\n",
       "      <td>RI</td>\n",
       "      <td>754065</td>\n",
       "      <td>1.921275e+07</td>\n",
       "      <td>Rhode Island</td>\n",
       "      <td>25.478902</td>\n",
       "    </tr>\n",
       "    <tr>\n",
       "      <th>10</th>\n",
       "      <td>HI</td>\n",
       "      <td>751483</td>\n",
       "      <td>1.802565e+07</td>\n",
       "      <td>Hawaii</td>\n",
       "      <td>23.986770</td>\n",
       "    </tr>\n",
       "    <tr>\n",
       "      <th>7</th>\n",
       "      <td>DE</td>\n",
       "      <td>675663</td>\n",
       "      <td>1.619528e+07</td>\n",
       "      <td>Delaware</td>\n",
       "      <td>23.969462</td>\n",
       "    </tr>\n",
       "    <tr>\n",
       "      <th>18</th>\n",
       "      <td>MA</td>\n",
       "      <td>4534974</td>\n",
       "      <td>1.043106e+08</td>\n",
       "      <td>Massachusetts</td>\n",
       "      <td>23.001362</td>\n",
       "    </tr>\n",
       "    <tr>\n",
       "      <th>15</th>\n",
       "      <td>KS</td>\n",
       "      <td>1785834</td>\n",
       "      <td>4.049566e+07</td>\n",
       "      <td>Kansas</td>\n",
       "      <td>22.676047</td>\n",
       "    </tr>\n",
       "    <tr>\n",
       "      <th>42</th>\n",
       "      <td>UT</td>\n",
       "      <td>1577069</td>\n",
       "      <td>3.510151e+07</td>\n",
       "      <td>Utah</td>\n",
       "      <td>22.257435</td>\n",
       "    </tr>\n",
       "    <tr>\n",
       "      <th>17</th>\n",
       "      <td>LA</td>\n",
       "      <td>3058741</td>\n",
       "      <td>6.360612e+07</td>\n",
       "      <td>Louisiana</td>\n",
       "      <td>20.794869</td>\n",
       "    </tr>\n",
       "    <tr>\n",
       "      <th>11</th>\n",
       "      <td>IA</td>\n",
       "      <td>2222380</td>\n",
       "      <td>4.548531e+07</td>\n",
       "      <td>Iowa</td>\n",
       "      <td>20.466938</td>\n",
       "    </tr>\n",
       "    <tr>\n",
       "      <th>36</th>\n",
       "      <td>PA</td>\n",
       "      <td>8722975</td>\n",
       "      <td>1.758335e+08</td>\n",
       "      <td>Pennsylvania</td>\n",
       "      <td>20.157515</td>\n",
       "    </tr>\n",
       "    <tr>\n",
       "      <th>41</th>\n",
       "      <td>TX</td>\n",
       "      <td>14382387</td>\n",
       "      <td>2.889364e+08</td>\n",
       "      <td>Texas</td>\n",
       "      <td>20.089600</td>\n",
       "    </tr>\n",
       "    <tr>\n",
       "      <th>13</th>\n",
       "      <td>IL</td>\n",
       "      <td>8843038</td>\n",
       "      <td>1.579381e+08</td>\n",
       "      <td>Illinois</td>\n",
       "      <td>17.860163</td>\n",
       "    </tr>\n",
       "    <tr>\n",
       "      <th>32</th>\n",
       "      <td>NY</td>\n",
       "      <td>16200892</td>\n",
       "      <td>2.792720e+08</td>\n",
       "      <td>New York</td>\n",
       "      <td>17.238064</td>\n",
       "    </tr>\n",
       "    <tr>\n",
       "      <th>33</th>\n",
       "      <td>OH</td>\n",
       "      <td>7861025</td>\n",
       "      <td>1.353793e+08</td>\n",
       "      <td>Ohio</td>\n",
       "      <td>17.221583</td>\n",
       "    </tr>\n",
       "    <tr>\n",
       "      <th>5</th>\n",
       "      <td>CO</td>\n",
       "      <td>3840303</td>\n",
       "      <td>6.305235e+07</td>\n",
       "      <td>Colorado</td>\n",
       "      <td>16.418589</td>\n",
       "    </tr>\n",
       "    <tr>\n",
       "      <th>22</th>\n",
       "      <td>MN</td>\n",
       "      <td>3473972</td>\n",
       "      <td>5.522351e+07</td>\n",
       "      <td>Minnesota</td>\n",
       "      <td>15.896362</td>\n",
       "    </tr>\n",
       "    <tr>\n",
       "      <th>2</th>\n",
       "      <td>AR</td>\n",
       "      <td>1765513</td>\n",
       "      <td>2.794843e+07</td>\n",
       "      <td>Arkansas</td>\n",
       "      <td>15.830203</td>\n",
       "    </tr>\n",
       "    <tr>\n",
       "      <th>48</th>\n",
       "      <td>WY</td>\n",
       "      <td>284203</td>\n",
       "      <td>4.313257e+06</td>\n",
       "      <td>Wyoming</td>\n",
       "      <td>15.176678</td>\n",
       "    </tr>\n",
       "    <tr>\n",
       "      <th>23</th>\n",
       "      <td>MO</td>\n",
       "      <td>4215860</td>\n",
       "      <td>6.076605e+07</td>\n",
       "      <td>Missouri</td>\n",
       "      <td>14.413678</td>\n",
       "    </tr>\n",
       "    <tr>\n",
       "      <th>0</th>\n",
       "      <td>AK</td>\n",
       "      <td>587303</td>\n",
       "      <td>8.051887e+06</td>\n",
       "      <td>Alaska</td>\n",
       "      <td>13.709937</td>\n",
       "    </tr>\n",
       "    <tr>\n",
       "      <th>31</th>\n",
       "      <td>NV</td>\n",
       "      <td>1678883</td>\n",
       "      <td>2.268879e+07</td>\n",
       "      <td>Nevada</td>\n",
       "      <td>13.514220</td>\n",
       "    </tr>\n",
       "    <tr>\n",
       "      <th>8</th>\n",
       "      <td>FL</td>\n",
       "      <td>13505571</td>\n",
       "      <td>1.762590e+08</td>\n",
       "      <td>Florida</td>\n",
       "      <td>13.050837</td>\n",
       "    </tr>\n",
       "    <tr>\n",
       "      <th>4</th>\n",
       "      <td>CA</td>\n",
       "      <td>24486638</td>\n",
       "      <td>3.069452e+08</td>\n",
       "      <td>California</td>\n",
       "      <td>12.535212</td>\n",
       "    </tr>\n",
       "    <tr>\n",
       "      <th>27</th>\n",
       "      <td>NE</td>\n",
       "      <td>1211101</td>\n",
       "      <td>1.477154e+07</td>\n",
       "      <td>Nebraska</td>\n",
       "      <td>12.196783</td>\n",
       "    </tr>\n",
       "    <tr>\n",
       "      <th>40</th>\n",
       "      <td>TN</td>\n",
       "      <td>4110318</td>\n",
       "      <td>4.757250e+07</td>\n",
       "      <td>Tennessee</td>\n",
       "      <td>11.573922</td>\n",
       "    </tr>\n",
       "    <tr>\n",
       "      <th>21</th>\n",
       "      <td>MI</td>\n",
       "      <td>7514055</td>\n",
       "      <td>7.977413e+07</td>\n",
       "      <td>Michigan</td>\n",
       "      <td>10.616655</td>\n",
       "    </tr>\n",
       "    <tr>\n",
       "      <th>45</th>\n",
       "      <td>WA</td>\n",
       "      <td>4872385</td>\n",
       "      <td>5.073845e+07</td>\n",
       "      <td>Washington</td>\n",
       "      <td>10.413473</td>\n",
       "    </tr>\n",
       "    <tr>\n",
       "      <th>39</th>\n",
       "      <td>SD</td>\n",
       "      <td>595322</td>\n",
       "      <td>6.196223e+06</td>\n",
       "      <td>South Dakota</td>\n",
       "      <td>10.408188</td>\n",
       "    </tr>\n",
       "    <tr>\n",
       "      <th>3</th>\n",
       "      <td>AZ</td>\n",
       "      <td>4080680</td>\n",
       "      <td>4.232699e+07</td>\n",
       "      <td>Arizona</td>\n",
       "      <td>10.372535</td>\n",
       "    </tr>\n",
       "    <tr>\n",
       "      <th>16</th>\n",
       "      <td>KY</td>\n",
       "      <td>3306120</td>\n",
       "      <td>3.112541e+07</td>\n",
       "      <td>Kentucky</td>\n",
       "      <td>9.414483</td>\n",
       "    </tr>\n",
       "    <tr>\n",
       "      <th>9</th>\n",
       "      <td>GA</td>\n",
       "      <td>6657621</td>\n",
       "      <td>6.237625e+07</td>\n",
       "      <td>Georgia</td>\n",
       "      <td>9.369150</td>\n",
       "    </tr>\n",
       "    <tr>\n",
       "      <th>46</th>\n",
       "      <td>WI</td>\n",
       "      <td>3768373</td>\n",
       "      <td>3.451004e+07</td>\n",
       "      <td>Wisconsin</td>\n",
       "      <td>9.157810</td>\n",
       "    </tr>\n",
       "    <tr>\n",
       "      <th>38</th>\n",
       "      <td>SC</td>\n",
       "      <td>3157027</td>\n",
       "      <td>2.597402e+07</td>\n",
       "      <td>South Carolina</td>\n",
       "      <td>8.227368</td>\n",
       "    </tr>\n",
       "    <tr>\n",
       "      <th>34</th>\n",
       "      <td>OK</td>\n",
       "      <td>2157450</td>\n",
       "      <td>1.689140e+07</td>\n",
       "      <td>Oklahoma</td>\n",
       "      <td>7.829335</td>\n",
       "    </tr>\n",
       "    <tr>\n",
       "      <th>24</th>\n",
       "      <td>MS</td>\n",
       "      <td>2072395</td>\n",
       "      <td>1.616473e+07</td>\n",
       "      <td>Mississippi</td>\n",
       "      <td>7.800024</td>\n",
       "    </tr>\n",
       "    <tr>\n",
       "      <th>20</th>\n",
       "      <td>ME</td>\n",
       "      <td>1065100</td>\n",
       "      <td>7.349950e+06</td>\n",
       "      <td>Maine</td>\n",
       "      <td>6.900714</td>\n",
       "    </tr>\n",
       "    <tr>\n",
       "      <th>12</th>\n",
       "      <td>ID</td>\n",
       "      <td>936529</td>\n",
       "      <td>6.016940e+06</td>\n",
       "      <td>Idaho</td>\n",
       "      <td>6.424724</td>\n",
       "    </tr>\n",
       "    <tr>\n",
       "      <th>1</th>\n",
       "      <td>AL</td>\n",
       "      <td>3333946</td>\n",
       "      <td>1.925326e+07</td>\n",
       "      <td>Alabama</td>\n",
       "      <td>5.774917</td>\n",
       "    </tr>\n",
       "    <tr>\n",
       "      <th>26</th>\n",
       "      <td>NC</td>\n",
       "      <td>6924469</td>\n",
       "      <td>3.698924e+07</td>\n",
       "      <td>North Carolina</td>\n",
       "      <td>5.341815</td>\n",
       "    </tr>\n",
       "    <tr>\n",
       "      <th>14</th>\n",
       "      <td>IN</td>\n",
       "      <td>4839038</td>\n",
       "      <td>2.269988e+07</td>\n",
       "      <td>Indiana</td>\n",
       "      <td>4.690990</td>\n",
       "    </tr>\n",
       "    <tr>\n",
       "      <th>25</th>\n",
       "      <td>MT</td>\n",
       "      <td>694370</td>\n",
       "      <td>3.223045e+06</td>\n",
       "      <td>Montana</td>\n",
       "      <td>4.641683</td>\n",
       "    </tr>\n",
       "    <tr>\n",
       "      <th>35</th>\n",
       "      <td>OR</td>\n",
       "      <td>2553810</td>\n",
       "      <td>1.137317e+07</td>\n",
       "      <td>Oregon</td>\n",
       "      <td>4.453411</td>\n",
       "    </tr>\n",
       "    <tr>\n",
       "      <th>30</th>\n",
       "      <td>NM</td>\n",
       "      <td>1289420</td>\n",
       "      <td>4.469866e+06</td>\n",
       "      <td>New Mexico</td>\n",
       "      <td>3.466571</td>\n",
       "    </tr>\n",
       "    <tr>\n",
       "      <th>47</th>\n",
       "      <td>WV</td>\n",
       "      <td>1254768</td>\n",
       "      <td>4.194733e+06</td>\n",
       "      <td>West Virginia</td>\n",
       "      <td>3.343035</td>\n",
       "    </tr>\n",
       "  </tbody>\n",
       "</table>\n",
       "</div>"
      ],
      "text/plain": [
       "   STATE    VOTERS  TRANSACTION_AMT            NAME        perc\n",
       "43    VA   5604106     8.842383e+08        Virginia  157.784004\n",
       "19    MD   3900090     1.974728e+08        Maryland   50.632893\n",
       "28    NH    988398     4.543498e+07   New Hampshire   45.968307\n",
       "6     CT   2331684     7.728920e+07     Connecticut   33.147372\n",
       "44    VT    472289     1.455240e+07         Vermont   30.812494\n",
       "29    NJ   5751090     1.656847e+08      New Jersey   28.809266\n",
       "37    RI    754065     1.921275e+07    Rhode Island   25.478902\n",
       "10    HI    751483     1.802565e+07          Hawaii   23.986770\n",
       "7     DE    675663     1.619528e+07        Delaware   23.969462\n",
       "18    MA   4534974     1.043106e+08   Massachusetts   23.001362\n",
       "15    KS   1785834     4.049566e+07          Kansas   22.676047\n",
       "42    UT   1577069     3.510151e+07            Utah   22.257435\n",
       "17    LA   3058741     6.360612e+07       Louisiana   20.794869\n",
       "11    IA   2222380     4.548531e+07            Iowa   20.466938\n",
       "36    PA   8722975     1.758335e+08    Pennsylvania   20.157515\n",
       "41    TX  14382387     2.889364e+08           Texas   20.089600\n",
       "13    IL   8843038     1.579381e+08        Illinois   17.860163\n",
       "32    NY  16200892     2.792720e+08        New York   17.238064\n",
       "33    OH   7861025     1.353793e+08            Ohio   17.221583\n",
       "5     CO   3840303     6.305235e+07        Colorado   16.418589\n",
       "22    MN   3473972     5.522351e+07       Minnesota   15.896362\n",
       "2     AR   1765513     2.794843e+07        Arkansas   15.830203\n",
       "48    WY    284203     4.313257e+06         Wyoming   15.176678\n",
       "23    MO   4215860     6.076605e+07        Missouri   14.413678\n",
       "0     AK    587303     8.051887e+06          Alaska   13.709937\n",
       "31    NV   1678883     2.268879e+07          Nevada   13.514220\n",
       "8     FL  13505571     1.762590e+08         Florida   13.050837\n",
       "4     CA  24486638     3.069452e+08      California   12.535212\n",
       "27    NE   1211101     1.477154e+07        Nebraska   12.196783\n",
       "40    TN   4110318     4.757250e+07       Tennessee   11.573922\n",
       "21    MI   7514055     7.977413e+07        Michigan   10.616655\n",
       "45    WA   4872385     5.073845e+07      Washington   10.413473\n",
       "39    SD    595322     6.196223e+06    South Dakota   10.408188\n",
       "3     AZ   4080680     4.232699e+07         Arizona   10.372535\n",
       "16    KY   3306120     3.112541e+07        Kentucky    9.414483\n",
       "9     GA   6657621     6.237625e+07         Georgia    9.369150\n",
       "46    WI   3768373     3.451004e+07       Wisconsin    9.157810\n",
       "38    SC   3157027     2.597402e+07  South Carolina    8.227368\n",
       "34    OK   2157450     1.689140e+07        Oklahoma    7.829335\n",
       "24    MS   2072395     1.616473e+07     Mississippi    7.800024\n",
       "20    ME   1065100     7.349950e+06           Maine    6.900714\n",
       "12    ID    936529     6.016940e+06           Idaho    6.424724\n",
       "1     AL   3333946     1.925326e+07         Alabama    5.774917\n",
       "26    NC   6924469     3.698924e+07  North Carolina    5.341815\n",
       "14    IN   4839038     2.269988e+07         Indiana    4.690990\n",
       "25    MT    694370     3.223045e+06         Montana    4.641683\n",
       "35    OR   2553810     1.137317e+07          Oregon    4.453411\n",
       "30    NM   1289420     4.469866e+06      New Mexico    3.466571\n",
       "47    WV   1254768     4.194733e+06   West Virginia    3.343035"
      ]
     },
     "execution_count": 113,
     "metadata": {},
     "output_type": "execute_result"
    }
   ],
   "source": [
    "final_res = final_res.sort_values(by='perc', ascending=False)\n",
    "final_res"
   ]
  },
  {
   "cell_type": "code",
   "execution_count": 114,
   "metadata": {},
   "outputs": [],
   "source": [
    "final_res['perc_255'] = ((final_res.perc-min_perc)/(max_perc-min_perc))*255\n",
    "final_res['color'] = final_res.apply(lambda row:'#%02x%02x%02x' % (255-int(row.perc_255),255-int(row.perc_255), 255), axis=1)"
   ]
  },
  {
   "cell_type": "code",
   "execution_count": 115,
   "metadata": {},
   "outputs": [
    {
     "data": {
      "image/png": "[encoded data removed]",
      "text/plain": [
       "<Figure size 1152x720 with 3 Axes>"
      ]
     },
     "metadata": {},
     "output_type": "display_data"
    }
   ],
   "source": [
    "import matplotlib.pyplot as plt\n",
    "from matplotlib.colorbar import ColorbarBase\n",
    "import cartopy.crs as ccrs\n",
    "import cartopy.io.shapereader as shpreader\n",
    "\n",
    "fig = plt.figure(figsize=(16, 10))\n",
    "\n",
    "projection=ccrs.LambertConformal()\n",
    "\n",
    "# to get the effect of having just the states without a map \"background\"\n",
    "# turn off the background patch and axes frame\n",
    "ax = fig.add_axes([0, 0, 1, 1], projection=projection, frameon=False)\n",
    "ax.patch.set_visible(False)\n",
    "\n",
    "# Hawaii\n",
    "axhi = fig.add_axes([0.25, .1, 0.15, 0.15], projection=projection)\n",
    "axhi.set_extent([-155, -165, 20, 15])\n",
    "axhi.patch.set_visible(False)\n",
    "# Alaska\n",
    "axak = fig.add_axes([0.1, 0.1, 0.2, 0.2], projection=projection)\n",
    "axak.set_extent([-185, -130, 70, 50])\n",
    "axak.patch.set_visible(False)\n",
    "\n",
    "ax.set_extent([-125, -66.5, 20, 50], ccrs.Geodetic())\n",
    "\n",
    "shapename = 'admin_1_states_provinces_lakes_shp'\n",
    "states_shp = shpreader.natural_earth(resolution='110m', category='cultural', name=shapename)\n",
    "\n",
    "cmap = plt.cm.bwr_r\n",
    "\n",
    "for state in shpreader.Reader(states_shp).records():\n",
    "    postal = state.attributes['postal']\n",
    "    facecolor = final_res[final_res['STATE'] == postal]['color'].values\n",
    "    if postal == 'AK':\n",
    "        axes = axak\n",
    "    elif postal == 'HI':\n",
    "        axes = axhi\n",
    "    else:\n",
    "        axes = ax\n",
    "    axes.add_geometries([state.geometry], \n",
    "                        ccrs.PlateCarree(),\n",
    "                        facecolor=facecolor,\n",
    "                        linewidth=1,\n",
    "                        edgecolor='white')"
   ]
  },
  {
   "cell_type": "code",
   "execution_count": 116,
   "metadata": {},
   "outputs": [
    {
     "data": {
      "text/plain": [
       "{'New Hampshire', 'Pennsylvania'}"
      ]
     },
     "execution_count": 116,
     "metadata": {},
     "output_type": "execute_result"
    }
   ],
   "source": [
    "set(final_res.head(20).NAME.tolist()).intersection(set(swing_states))"
   ]
  },
  {
   "cell_type": "code",
   "execution_count": 117,
   "metadata": {},
   "outputs": [
    {
     "data": {
      "text/html": [
       "<div>\n",
       "<style scoped>\n",
       "    .dataframe tbody tr th:only-of-type {\n",
       "        vertical-align: middle;\n",
       "    }\n",
       "\n",
       "    .dataframe tbody tr th {\n",
       "        vertical-align: top;\n",
       "    }\n",
       "\n",
       "    .dataframe thead th {\n",
       "        text-align: right;\n",
       "    }\n",
       "</style>\n",
       "<table border=\"1\" class=\"dataframe\">\n",
       "  <thead>\n",
       "    <tr style=\"text-align: right;\">\n",
       "      <th></th>\n",
       "      <th>STATE</th>\n",
       "      <th>VOTERS</th>\n",
       "      <th>TRANSACTION_AMT</th>\n",
       "      <th>NAME</th>\n",
       "      <th>perc</th>\n",
       "      <th>perc_255</th>\n",
       "      <th>color</th>\n",
       "    </tr>\n",
       "  </thead>\n",
       "  <tbody>\n",
       "    <tr>\n",
       "      <th>28</th>\n",
       "      <td>NH</td>\n",
       "      <td>988398</td>\n",
       "      <td>4.543498e+07</td>\n",
       "      <td>New Hampshire</td>\n",
       "      <td>45.968307</td>\n",
       "      <td>70.379281</td>\n",
       "      <td>#b9b9ff</td>\n",
       "    </tr>\n",
       "    <tr>\n",
       "      <th>36</th>\n",
       "      <td>PA</td>\n",
       "      <td>8722975</td>\n",
       "      <td>1.758335e+08</td>\n",
       "      <td>Pennsylvania</td>\n",
       "      <td>20.157515</td>\n",
       "      <td>27.762662</td>\n",
       "      <td>#e4e4ff</td>\n",
       "    </tr>\n",
       "    <tr>\n",
       "      <th>22</th>\n",
       "      <td>MN</td>\n",
       "      <td>3473972</td>\n",
       "      <td>5.522351e+07</td>\n",
       "      <td>Minnesota</td>\n",
       "      <td>15.896362</td>\n",
       "      <td>20.727003</td>\n",
       "      <td>#ebebff</td>\n",
       "    </tr>\n",
       "    <tr>\n",
       "      <th>31</th>\n",
       "      <td>NV</td>\n",
       "      <td>1678883</td>\n",
       "      <td>2.268879e+07</td>\n",
       "      <td>Nevada</td>\n",
       "      <td>13.514220</td>\n",
       "      <td>16.793810</td>\n",
       "      <td>#efefff</td>\n",
       "    </tr>\n",
       "    <tr>\n",
       "      <th>8</th>\n",
       "      <td>FL</td>\n",
       "      <td>13505571</td>\n",
       "      <td>1.762590e+08</td>\n",
       "      <td>Florida</td>\n",
       "      <td>13.050837</td>\n",
       "      <td>16.028710</td>\n",
       "      <td>#efefff</td>\n",
       "    </tr>\n",
       "    <tr>\n",
       "      <th>21</th>\n",
       "      <td>MI</td>\n",
       "      <td>7514055</td>\n",
       "      <td>7.977413e+07</td>\n",
       "      <td>Michigan</td>\n",
       "      <td>10.616655</td>\n",
       "      <td>12.009592</td>\n",
       "      <td>#f3f3ff</td>\n",
       "    </tr>\n",
       "    <tr>\n",
       "      <th>3</th>\n",
       "      <td>AZ</td>\n",
       "      <td>4080680</td>\n",
       "      <td>4.232699e+07</td>\n",
       "      <td>Arizona</td>\n",
       "      <td>10.372535</td>\n",
       "      <td>11.606522</td>\n",
       "      <td>#f4f4ff</td>\n",
       "    </tr>\n",
       "    <tr>\n",
       "      <th>9</th>\n",
       "      <td>GA</td>\n",
       "      <td>6657621</td>\n",
       "      <td>6.237625e+07</td>\n",
       "      <td>Georgia</td>\n",
       "      <td>9.369150</td>\n",
       "      <td>9.949818</td>\n",
       "      <td>#f6f6ff</td>\n",
       "    </tr>\n",
       "    <tr>\n",
       "      <th>46</th>\n",
       "      <td>WI</td>\n",
       "      <td>3768373</td>\n",
       "      <td>3.451004e+07</td>\n",
       "      <td>Wisconsin</td>\n",
       "      <td>9.157810</td>\n",
       "      <td>9.600870</td>\n",
       "      <td>#f6f6ff</td>\n",
       "    </tr>\n",
       "    <tr>\n",
       "      <th>20</th>\n",
       "      <td>ME</td>\n",
       "      <td>1065100</td>\n",
       "      <td>7.349950e+06</td>\n",
       "      <td>Maine</td>\n",
       "      <td>6.900714</td>\n",
       "      <td>5.874142</td>\n",
       "      <td>#fafaff</td>\n",
       "    </tr>\n",
       "    <tr>\n",
       "      <th>26</th>\n",
       "      <td>NC</td>\n",
       "      <td>6924469</td>\n",
       "      <td>3.698924e+07</td>\n",
       "      <td>North Carolina</td>\n",
       "      <td>5.341815</td>\n",
       "      <td>3.300220</td>\n",
       "      <td>#fcfcff</td>\n",
       "    </tr>\n",
       "  </tbody>\n",
       "</table>\n",
       "</div>"
      ],
      "text/plain": [
       "   STATE    VOTERS  TRANSACTION_AMT            NAME       perc   perc_255  \\\n",
       "28    NH    988398     4.543498e+07   New Hampshire  45.968307  70.379281   \n",
       "36    PA   8722975     1.758335e+08    Pennsylvania  20.157515  27.762662   \n",
       "22    MN   3473972     5.522351e+07       Minnesota  15.896362  20.727003   \n",
       "31    NV   1678883     2.268879e+07          Nevada  13.514220  16.793810   \n",
       "8     FL  13505571     1.762590e+08         Florida  13.050837  16.028710   \n",
       "21    MI   7514055     7.977413e+07        Michigan  10.616655  12.009592   \n",
       "3     AZ   4080680     4.232699e+07         Arizona  10.372535  11.606522   \n",
       "9     GA   6657621     6.237625e+07         Georgia   9.369150   9.949818   \n",
       "46    WI   3768373     3.451004e+07       Wisconsin   9.157810   9.600870   \n",
       "20    ME   1065100     7.349950e+06           Maine   6.900714   5.874142   \n",
       "26    NC   6924469     3.698924e+07  North Carolina   5.341815   3.300220   \n",
       "\n",
       "      color  \n",
       "28  #b9b9ff  \n",
       "36  #e4e4ff  \n",
       "22  #ebebff  \n",
       "31  #efefff  \n",
       "8   #efefff  \n",
       "21  #f3f3ff  \n",
       "3   #f4f4ff  \n",
       "9   #f6f6ff  \n",
       "46  #f6f6ff  \n",
       "20  #fafaff  \n",
       "26  #fcfcff  "
      ]
     },
     "execution_count": 117,
     "metadata": {},
     "output_type": "execute_result"
    }
   ],
   "source": [
    "final_res[final_res.NAME.isin(swing_states)]"
   ]
  },
  {
   "cell_type": "markdown",
   "metadata": {},
   "source": [
    "* According to the results, the expenditures per voter  don't influence by the swing states\n",
    "* We should extract the expenditures per elector, because the number of elector per state plays a significant role in election result\n",
    "* We will extract this information from Wikipedia (https://en.wikipedia.org/wiki/List_of_2016_United_States_presidential_electors)"
   ]
  },
  {
   "cell_type": "code",
   "execution_count": 118,
   "metadata": {},
   "outputs": [],
   "source": [
    "names = postal_codes_df.NAME.tolist()\n",
    "\n",
    "r3 = requests.get(\"https://en.wikipedia.org/wiki/List_of_2016_United_States_presidential_electors\")\n",
    "\n",
    "html = r3.content\n",
    "soup3 = BeautifulSoup(html, 'html.parser')\n",
    "h2s = soup3.find_all('h2')\n",
    "\n",
    "extracted_names = []\n",
    "electors = []\n",
    "for h2 in h2s:\n",
    "    if(h2.text[:-6] in names):\n",
    "        extracted_names.append(h2.text[:-6])\n",
    "        n = h2.find_next('p').text[10:].split()[0][:-1] \n",
    "        if(len(n)>3):\n",
    "            n=n[:-3]\n",
    "        electors.append(int(n))"
   ]
  },
  {
   "cell_type": "code",
   "execution_count": 119,
   "metadata": {},
   "outputs": [],
   "source": [
    "data = {\"NAME\":extracted_names,\"ELECTORS\":electors}\n",
    "names_and_electors = pd.DataFrame(data)"
   ]
  },
  {
   "cell_type": "code",
   "execution_count": 120,
   "metadata": {},
   "outputs": [],
   "source": [
    "final_res = pd.merge(final_res,\n",
    "               names_and_electors, \n",
    "               on='NAME', \n",
    "               how='inner')"
   ]
  },
  {
   "cell_type": "code",
   "execution_count": 121,
   "metadata": {},
   "outputs": [],
   "source": [
    "final_res['perc_per_elector'] = ((final_res.TRANSACTION_AMT/final_res.ELECTORS))"
   ]
  },
  {
   "cell_type": "code",
   "execution_count": 122,
   "metadata": {},
   "outputs": [],
   "source": [
    "final_res_20_sorted_by_perc = final_res.sort_values(by='perc_per_elector', ascending=False).head(20)"
   ]
  },
  {
   "cell_type": "code",
   "execution_count": 123,
   "metadata": {},
   "outputs": [],
   "source": [
    "top20_swings = set(final_res_20_sorted_by_perc.NAME.tolist()).intersection(set(swing_states))"
   ]
  },
  {
   "cell_type": "markdown",
   "metadata": {},
   "source": [
    "* Percentage of swing states:"
   ]
  },
  {
   "cell_type": "code",
   "execution_count": 124,
   "metadata": {},
   "outputs": [
    {
     "data": {
      "text/plain": [
       "0.3333333333333333"
      ]
     },
     "execution_count": 124,
     "metadata": {},
     "output_type": "execute_result"
    }
   ],
   "source": [
    "len(top20_swings) / len(swing_states)"
   ]
  },
  {
   "cell_type": "code",
   "execution_count": 125,
   "metadata": {},
   "outputs": [],
   "source": [
    "final_res_20_sorted_by_electors = final_res.sort_values(by='ELECTORS', ascending=False).head(20).reset_index()"
   ]
  },
  {
   "cell_type": "code",
   "execution_count": 126,
   "metadata": {},
   "outputs": [],
   "source": [
    "top20_swings = set(final_res_20_sorted_by_electors.NAME.tolist()).intersection(set(swing_states))"
   ]
  },
  {
   "cell_type": "markdown",
   "metadata": {},
   "source": [
    "* Percentage of swing states:"
   ]
  },
  {
   "cell_type": "code",
   "execution_count": 127,
   "metadata": {},
   "outputs": [
    {
     "data": {
      "text/plain": [
       "0.5833333333333334"
      ]
     },
     "execution_count": 127,
     "metadata": {},
     "output_type": "execute_result"
    }
   ],
   "source": [
    "len(top20_swings) / len(swing_states)"
   ]
  },
  {
   "cell_type": "code",
   "execution_count": 128,
   "metadata": {},
   "outputs": [
    {
     "data": {
      "text/html": [
       "<div>\n",
       "<style scoped>\n",
       "    .dataframe tbody tr th:only-of-type {\n",
       "        vertical-align: middle;\n",
       "    }\n",
       "\n",
       "    .dataframe tbody tr th {\n",
       "        vertical-align: top;\n",
       "    }\n",
       "\n",
       "    .dataframe thead th {\n",
       "        text-align: right;\n",
       "    }\n",
       "</style>\n",
       "<table border=\"1\" class=\"dataframe\">\n",
       "  <thead>\n",
       "    <tr style=\"text-align: right;\">\n",
       "      <th></th>\n",
       "      <th>index</th>\n",
       "      <th>STATE</th>\n",
       "      <th>VOTERS</th>\n",
       "      <th>TRANSACTION_AMT</th>\n",
       "      <th>NAME</th>\n",
       "      <th>perc</th>\n",
       "      <th>perc_255</th>\n",
       "      <th>color</th>\n",
       "      <th>ELECTORS</th>\n",
       "      <th>perc_per_elector</th>\n",
       "    </tr>\n",
       "  </thead>\n",
       "  <tbody>\n",
       "    <tr>\n",
       "      <th>2</th>\n",
       "      <td>26</td>\n",
       "      <td>FL</td>\n",
       "      <td>13505571</td>\n",
       "      <td>1.762590e+08</td>\n",
       "      <td>Florida</td>\n",
       "      <td>13.050837</td>\n",
       "      <td>16.028710</td>\n",
       "      <td>#efefff</td>\n",
       "      <td>29</td>\n",
       "      <td>6.077897e+06</td>\n",
       "    </tr>\n",
       "    <tr>\n",
       "      <th>4</th>\n",
       "      <td>14</td>\n",
       "      <td>PA</td>\n",
       "      <td>8722975</td>\n",
       "      <td>1.758335e+08</td>\n",
       "      <td>Pennsylvania</td>\n",
       "      <td>20.157515</td>\n",
       "      <td>27.762662</td>\n",
       "      <td>#e4e4ff</td>\n",
       "      <td>20</td>\n",
       "      <td>8.791675e+06</td>\n",
       "    </tr>\n",
       "    <tr>\n",
       "      <th>7</th>\n",
       "      <td>30</td>\n",
       "      <td>MI</td>\n",
       "      <td>7514055</td>\n",
       "      <td>7.977413e+07</td>\n",
       "      <td>Michigan</td>\n",
       "      <td>10.616655</td>\n",
       "      <td>12.009592</td>\n",
       "      <td>#f3f3ff</td>\n",
       "      <td>16</td>\n",
       "      <td>4.985883e+06</td>\n",
       "    </tr>\n",
       "    <tr>\n",
       "      <th>8</th>\n",
       "      <td>35</td>\n",
       "      <td>GA</td>\n",
       "      <td>6657621</td>\n",
       "      <td>6.237625e+07</td>\n",
       "      <td>Georgia</td>\n",
       "      <td>9.369150</td>\n",
       "      <td>9.949818</td>\n",
       "      <td>#f6f6ff</td>\n",
       "      <td>16</td>\n",
       "      <td>3.898516e+06</td>\n",
       "    </tr>\n",
       "    <tr>\n",
       "      <th>9</th>\n",
       "      <td>43</td>\n",
       "      <td>NC</td>\n",
       "      <td>6924469</td>\n",
       "      <td>3.698924e+07</td>\n",
       "      <td>North Carolina</td>\n",
       "      <td>5.341815</td>\n",
       "      <td>3.300220</td>\n",
       "      <td>#fcfcff</td>\n",
       "      <td>15</td>\n",
       "      <td>2.465949e+06</td>\n",
       "    </tr>\n",
       "    <tr>\n",
       "      <th>14</th>\n",
       "      <td>33</td>\n",
       "      <td>AZ</td>\n",
       "      <td>4080680</td>\n",
       "      <td>4.232699e+07</td>\n",
       "      <td>Arizona</td>\n",
       "      <td>10.372535</td>\n",
       "      <td>11.606522</td>\n",
       "      <td>#f4f4ff</td>\n",
       "      <td>11</td>\n",
       "      <td>3.847909e+06</td>\n",
       "    </tr>\n",
       "    <tr>\n",
       "      <th>17</th>\n",
       "      <td>20</td>\n",
       "      <td>MN</td>\n",
       "      <td>3473972</td>\n",
       "      <td>5.522351e+07</td>\n",
       "      <td>Minnesota</td>\n",
       "      <td>15.896362</td>\n",
       "      <td>20.727003</td>\n",
       "      <td>#ebebff</td>\n",
       "      <td>10</td>\n",
       "      <td>5.522351e+06</td>\n",
       "    </tr>\n",
       "  </tbody>\n",
       "</table>\n",
       "</div>"
      ],
      "text/plain": [
       "    index STATE    VOTERS  TRANSACTION_AMT            NAME       perc  \\\n",
       "2      26    FL  13505571     1.762590e+08         Florida  13.050837   \n",
       "4      14    PA   8722975     1.758335e+08    Pennsylvania  20.157515   \n",
       "7      30    MI   7514055     7.977413e+07        Michigan  10.616655   \n",
       "8      35    GA   6657621     6.237625e+07         Georgia   9.369150   \n",
       "9      43    NC   6924469     3.698924e+07  North Carolina   5.341815   \n",
       "14     33    AZ   4080680     4.232699e+07         Arizona  10.372535   \n",
       "17     20    MN   3473972     5.522351e+07       Minnesota  15.896362   \n",
       "\n",
       "     perc_255    color  ELECTORS  perc_per_elector  \n",
       "2   16.028710  #efefff        29      6.077897e+06  \n",
       "4   27.762662  #e4e4ff        20      8.791675e+06  \n",
       "7   12.009592  #f3f3ff        16      4.985883e+06  \n",
       "8    9.949818  #f6f6ff        16      3.898516e+06  \n",
       "9    3.300220  #fcfcff        15      2.465949e+06  \n",
       "14  11.606522  #f4f4ff        11      3.847909e+06  \n",
       "17  20.727003  #ebebff        10      5.522351e+06  "
      ]
     },
     "execution_count": 128,
     "metadata": {},
     "output_type": "execute_result"
    }
   ],
   "source": [
    "final_res_20_sorted_by_electors[final_res_20_sorted_by_electors.NAME.isin(swing_states)]"
   ]
  },
  {
   "cell_type": "markdown",
   "metadata": {},
   "source": [
    "* Ultimately, a more important factor is the number of electors per state"
   ]
  },
  {
   "cell_type": "markdown",
   "metadata": {},
   "source": [
    "* Now we will do the same for each candidate"
   ]
  },
  {
   "cell_type": "markdown",
   "metadata": {},
   "source": [
    "* For Hillary:"
   ]
  },
  {
   "cell_type": "code",
   "execution_count": 129,
   "metadata": {},
   "outputs": [],
   "source": [
    "h_amt_per_state = h_oppexp[['STATE','TRANSACTION_AMT']].groupby(['STATE']).sum().reset_index()\n",
    "h_amt_per_state = pd.merge(h_amt_per_state,\n",
    "               postal_codes_df, \n",
    "               on='STATE', \n",
    "               how='inner')\n",
    "h_final_res = pd.merge(voters_pers_state,\n",
    "               h_amt_per_state, \n",
    "               on='STATE', \n",
    "               how='inner')"
   ]
  },
  {
   "cell_type": "code",
   "execution_count": 130,
   "metadata": {},
   "outputs": [
    {
     "name": "stdout",
     "output_type": "stream",
     "text": [
      "2.7996594691612073\n",
      "0.00017321504828953941\n"
     ]
    }
   ],
   "source": [
    "h_final_res['perc'] = ((h_final_res.TRANSACTION_AMT/h_final_res.VOTERS))\n",
    "max_perc = h_final_res.perc.max()\n",
    "min_perc = h_final_res.perc.min()\n",
    "print(max_perc)\n",
    "print(min_perc)\n",
    "h_final_res = h_final_res.sort_values(by='perc', ascending=False)"
   ]
  },
  {
   "cell_type": "code",
   "execution_count": 131,
   "metadata": {},
   "outputs": [
    {
     "data": {
      "text/html": [
       "<div>\n",
       "<style scoped>\n",
       "    .dataframe tbody tr th:only-of-type {\n",
       "        vertical-align: middle;\n",
       "    }\n",
       "\n",
       "    .dataframe tbody tr th {\n",
       "        vertical-align: top;\n",
       "    }\n",
       "\n",
       "    .dataframe thead th {\n",
       "        text-align: right;\n",
       "    }\n",
       "</style>\n",
       "<table border=\"1\" class=\"dataframe\">\n",
       "  <thead>\n",
       "    <tr style=\"text-align: right;\">\n",
       "      <th></th>\n",
       "      <th>STATE</th>\n",
       "      <th>VOTERS</th>\n",
       "      <th>TRANSACTION_AMT</th>\n",
       "      <th>NAME</th>\n",
       "      <th>perc</th>\n",
       "    </tr>\n",
       "  </thead>\n",
       "  <tbody>\n",
       "    <tr>\n",
       "      <th>28</th>\n",
       "      <td>NH</td>\n",
       "      <td>988398</td>\n",
       "      <td>2767177.82</td>\n",
       "      <td>New Hampshire</td>\n",
       "      <td>2.799659</td>\n",
       "    </tr>\n",
       "    <tr>\n",
       "      <th>11</th>\n",
       "      <td>IA</td>\n",
       "      <td>2222380</td>\n",
       "      <td>4469416.35</td>\n",
       "      <td>Iowa</td>\n",
       "      <td>2.011095</td>\n",
       "    </tr>\n",
       "    <tr>\n",
       "      <th>5</th>\n",
       "      <td>CO</td>\n",
       "      <td>3840303</td>\n",
       "      <td>6003285.24</td>\n",
       "      <td>Colorado</td>\n",
       "      <td>1.563232</td>\n",
       "    </tr>\n",
       "    <tr>\n",
       "      <th>19</th>\n",
       "      <td>MD</td>\n",
       "      <td>3900090</td>\n",
       "      <td>5110629.06</td>\n",
       "      <td>Maryland</td>\n",
       "      <td>1.310387</td>\n",
       "    </tr>\n",
       "    <tr>\n",
       "      <th>32</th>\n",
       "      <td>NY</td>\n",
       "      <td>16200892</td>\n",
       "      <td>18226099.77</td>\n",
       "      <td>New York</td>\n",
       "      <td>1.125006</td>\n",
       "    </tr>\n",
       "    <tr>\n",
       "      <th>36</th>\n",
       "      <td>PA</td>\n",
       "      <td>8722975</td>\n",
       "      <td>7761331.74</td>\n",
       "      <td>Pennsylvania</td>\n",
       "      <td>0.889757</td>\n",
       "    </tr>\n",
       "    <tr>\n",
       "      <th>13</th>\n",
       "      <td>IL</td>\n",
       "      <td>8843038</td>\n",
       "      <td>6264073.76</td>\n",
       "      <td>Illinois</td>\n",
       "      <td>0.708362</td>\n",
       "    </tr>\n",
       "    <tr>\n",
       "      <th>33</th>\n",
       "      <td>OH</td>\n",
       "      <td>7861025</td>\n",
       "      <td>5200582.22</td>\n",
       "      <td>Ohio</td>\n",
       "      <td>0.661565</td>\n",
       "    </tr>\n",
       "    <tr>\n",
       "      <th>18</th>\n",
       "      <td>MA</td>\n",
       "      <td>4534974</td>\n",
       "      <td>2978532.68</td>\n",
       "      <td>Massachusetts</td>\n",
       "      <td>0.656792</td>\n",
       "    </tr>\n",
       "    <tr>\n",
       "      <th>4</th>\n",
       "      <td>CA</td>\n",
       "      <td>24486638</td>\n",
       "      <td>15920317.43</td>\n",
       "      <td>California</td>\n",
       "      <td>0.650163</td>\n",
       "    </tr>\n",
       "    <tr>\n",
       "      <th>43</th>\n",
       "      <td>VA</td>\n",
       "      <td>5604106</td>\n",
       "      <td>3610420.66</td>\n",
       "      <td>Virginia</td>\n",
       "      <td>0.644246</td>\n",
       "    </tr>\n",
       "    <tr>\n",
       "      <th>45</th>\n",
       "      <td>WA</td>\n",
       "      <td>4872385</td>\n",
       "      <td>3069065.36</td>\n",
       "      <td>Washington</td>\n",
       "      <td>0.629890</td>\n",
       "    </tr>\n",
       "    <tr>\n",
       "      <th>31</th>\n",
       "      <td>NV</td>\n",
       "      <td>1678883</td>\n",
       "      <td>956003.80</td>\n",
       "      <td>Nevada</td>\n",
       "      <td>0.569428</td>\n",
       "    </tr>\n",
       "    <tr>\n",
       "      <th>8</th>\n",
       "      <td>FL</td>\n",
       "      <td>13505571</td>\n",
       "      <td>6597439.60</td>\n",
       "      <td>Florida</td>\n",
       "      <td>0.488498</td>\n",
       "    </tr>\n",
       "    <tr>\n",
       "      <th>44</th>\n",
       "      <td>VT</td>\n",
       "      <td>472289</td>\n",
       "      <td>126021.89</td>\n",
       "      <td>Vermont</td>\n",
       "      <td>0.266832</td>\n",
       "    </tr>\n",
       "    <tr>\n",
       "      <th>2</th>\n",
       "      <td>AR</td>\n",
       "      <td>1765513</td>\n",
       "      <td>467067.72</td>\n",
       "      <td>Arkansas</td>\n",
       "      <td>0.264551</td>\n",
       "    </tr>\n",
       "    <tr>\n",
       "      <th>22</th>\n",
       "      <td>MN</td>\n",
       "      <td>3473972</td>\n",
       "      <td>792600.82</td>\n",
       "      <td>Minnesota</td>\n",
       "      <td>0.228154</td>\n",
       "    </tr>\n",
       "    <tr>\n",
       "      <th>29</th>\n",
       "      <td>NJ</td>\n",
       "      <td>5751090</td>\n",
       "      <td>1218254.17</td>\n",
       "      <td>New Jersey</td>\n",
       "      <td>0.211830</td>\n",
       "    </tr>\n",
       "    <tr>\n",
       "      <th>6</th>\n",
       "      <td>CT</td>\n",
       "      <td>2331684</td>\n",
       "      <td>458332.40</td>\n",
       "      <td>Connecticut</td>\n",
       "      <td>0.196567</td>\n",
       "    </tr>\n",
       "    <tr>\n",
       "      <th>46</th>\n",
       "      <td>WI</td>\n",
       "      <td>3768373</td>\n",
       "      <td>697393.81</td>\n",
       "      <td>Wisconsin</td>\n",
       "      <td>0.185065</td>\n",
       "    </tr>\n",
       "  </tbody>\n",
       "</table>\n",
       "</div>"
      ],
      "text/plain": [
       "   STATE    VOTERS  TRANSACTION_AMT           NAME      perc\n",
       "28    NH    988398       2767177.82  New Hampshire  2.799659\n",
       "11    IA   2222380       4469416.35           Iowa  2.011095\n",
       "5     CO   3840303       6003285.24       Colorado  1.563232\n",
       "19    MD   3900090       5110629.06       Maryland  1.310387\n",
       "32    NY  16200892      18226099.77       New York  1.125006\n",
       "36    PA   8722975       7761331.74   Pennsylvania  0.889757\n",
       "13    IL   8843038       6264073.76       Illinois  0.708362\n",
       "33    OH   7861025       5200582.22           Ohio  0.661565\n",
       "18    MA   4534974       2978532.68  Massachusetts  0.656792\n",
       "4     CA  24486638      15920317.43     California  0.650163\n",
       "43    VA   5604106       3610420.66       Virginia  0.644246\n",
       "45    WA   4872385       3069065.36     Washington  0.629890\n",
       "31    NV   1678883        956003.80         Nevada  0.569428\n",
       "8     FL  13505571       6597439.60        Florida  0.488498\n",
       "44    VT    472289        126021.89        Vermont  0.266832\n",
       "2     AR   1765513        467067.72       Arkansas  0.264551\n",
       "22    MN   3473972        792600.82      Minnesota  0.228154\n",
       "29    NJ   5751090       1218254.17     New Jersey  0.211830\n",
       "6     CT   2331684        458332.40    Connecticut  0.196567\n",
       "46    WI   3768373        697393.81      Wisconsin  0.185065"
      ]
     },
     "execution_count": 131,
     "metadata": {},
     "output_type": "execute_result"
    }
   ],
   "source": [
    "h_final_res.head(20)"
   ]
  },
  {
   "cell_type": "code",
   "execution_count": 132,
   "metadata": {},
   "outputs": [],
   "source": [
    "top20_swings = set(h_final_res.head(20).NAME.tolist()).intersection(set(swing_states))"
   ]
  },
  {
   "cell_type": "markdown",
   "metadata": {},
   "source": [
    "* Percentage of swing states:"
   ]
  },
  {
   "cell_type": "code",
   "execution_count": 133,
   "metadata": {},
   "outputs": [
    {
     "data": {
      "text/plain": [
       "0.5"
      ]
     },
     "execution_count": 133,
     "metadata": {},
     "output_type": "execute_result"
    }
   ],
   "source": [
    "len(top20_swings) / len(swing_states)"
   ]
  },
  {
   "cell_type": "markdown",
   "metadata": {},
   "source": [
    "* For Trump:"
   ]
  },
  {
   "cell_type": "code",
   "execution_count": 134,
   "metadata": {},
   "outputs": [],
   "source": [
    "t_amt_per_state = t_oppexp[['STATE','TRANSACTION_AMT']].groupby(['STATE']).sum().reset_index()\n",
    "t_amt_per_state = pd.merge(t_amt_per_state,\n",
    "               postal_codes_df, \n",
    "               on='STATE', \n",
    "               how='inner')\n",
    "t_final_res = pd.merge(voters_pers_state,\n",
    "               t_amt_per_state, \n",
    "               on='STATE', \n",
    "               how='inner')"
   ]
  },
  {
   "cell_type": "code",
   "execution_count": 135,
   "metadata": {},
   "outputs": [
    {
     "name": "stdout",
     "output_type": "stream",
     "text": [
      "1.6247933408111848\n",
      "0.0007793885720570318\n"
     ]
    }
   ],
   "source": [
    "t_final_res['perc'] = ((t_final_res.TRANSACTION_AMT/t_final_res.VOTERS))\n",
    "max_perc = t_final_res.perc.max()\n",
    "min_perc = t_final_res.perc.min()\n",
    "print(max_perc)\n",
    "print(min_perc)\n",
    "t_final_res = t_final_res.sort_values(by='perc', ascending=False)"
   ]
  },
  {
   "cell_type": "code",
   "execution_count": 136,
   "metadata": {},
   "outputs": [
    {
     "data": {
      "text/html": [
       "<div>\n",
       "<style scoped>\n",
       "    .dataframe tbody tr th:only-of-type {\n",
       "        vertical-align: middle;\n",
       "    }\n",
       "\n",
       "    .dataframe tbody tr th {\n",
       "        vertical-align: top;\n",
       "    }\n",
       "\n",
       "    .dataframe thead th {\n",
       "        text-align: right;\n",
       "    }\n",
       "</style>\n",
       "<table border=\"1\" class=\"dataframe\">\n",
       "  <thead>\n",
       "    <tr style=\"text-align: right;\">\n",
       "      <th></th>\n",
       "      <th>STATE</th>\n",
       "      <th>VOTERS</th>\n",
       "      <th>TRANSACTION_AMT</th>\n",
       "      <th>NAME</th>\n",
       "      <th>perc</th>\n",
       "    </tr>\n",
       "  </thead>\n",
       "  <tbody>\n",
       "    <tr>\n",
       "      <th>41</th>\n",
       "      <td>VA</td>\n",
       "      <td>5604106</td>\n",
       "      <td>9105514.11</td>\n",
       "      <td>Virginia</td>\n",
       "      <td>1.624793</td>\n",
       "    </tr>\n",
       "    <tr>\n",
       "      <th>18</th>\n",
       "      <td>MD</td>\n",
       "      <td>3900090</td>\n",
       "      <td>2528864.29</td>\n",
       "      <td>Maryland</td>\n",
       "      <td>0.648412</td>\n",
       "    </tr>\n",
       "    <tr>\n",
       "      <th>44</th>\n",
       "      <td>WV</td>\n",
       "      <td>1254768</td>\n",
       "      <td>620266.02</td>\n",
       "      <td>West Virginia</td>\n",
       "      <td>0.494327</td>\n",
       "    </tr>\n",
       "    <tr>\n",
       "      <th>35</th>\n",
       "      <td>RI</td>\n",
       "      <td>754065</td>\n",
       "      <td>348595.49</td>\n",
       "      <td>Rhode Island</td>\n",
       "      <td>0.462288</td>\n",
       "    </tr>\n",
       "    <tr>\n",
       "      <th>5</th>\n",
       "      <td>CT</td>\n",
       "      <td>2331684</td>\n",
       "      <td>549559.78</td>\n",
       "      <td>Connecticut</td>\n",
       "      <td>0.235692</td>\n",
       "    </tr>\n",
       "    <tr>\n",
       "      <th>14</th>\n",
       "      <td>KS</td>\n",
       "      <td>1785834</td>\n",
       "      <td>414523.79</td>\n",
       "      <td>Kansas</td>\n",
       "      <td>0.232118</td>\n",
       "    </tr>\n",
       "    <tr>\n",
       "      <th>8</th>\n",
       "      <td>GA</td>\n",
       "      <td>6657621</td>\n",
       "      <td>1521315.40</td>\n",
       "      <td>Georgia</td>\n",
       "      <td>0.228507</td>\n",
       "    </tr>\n",
       "    <tr>\n",
       "      <th>10</th>\n",
       "      <td>IA</td>\n",
       "      <td>2222380</td>\n",
       "      <td>412600.38</td>\n",
       "      <td>Iowa</td>\n",
       "      <td>0.185657</td>\n",
       "    </tr>\n",
       "    <tr>\n",
       "      <th>26</th>\n",
       "      <td>NH</td>\n",
       "      <td>988398</td>\n",
       "      <td>166383.00</td>\n",
       "      <td>New Hampshire</td>\n",
       "      <td>0.168336</td>\n",
       "    </tr>\n",
       "    <tr>\n",
       "      <th>33</th>\n",
       "      <td>OR</td>\n",
       "      <td>2553810</td>\n",
       "      <td>397058.34</td>\n",
       "      <td>Oregon</td>\n",
       "      <td>0.155477</td>\n",
       "    </tr>\n",
       "    <tr>\n",
       "      <th>1</th>\n",
       "      <td>AR</td>\n",
       "      <td>1765513</td>\n",
       "      <td>267046.98</td>\n",
       "      <td>Arkansas</td>\n",
       "      <td>0.151257</td>\n",
       "    </tr>\n",
       "    <tr>\n",
       "      <th>21</th>\n",
       "      <td>MN</td>\n",
       "      <td>3473972</td>\n",
       "      <td>510874.08</td>\n",
       "      <td>Minnesota</td>\n",
       "      <td>0.147058</td>\n",
       "    </tr>\n",
       "    <tr>\n",
       "      <th>37</th>\n",
       "      <td>SD</td>\n",
       "      <td>595322</td>\n",
       "      <td>80100.00</td>\n",
       "      <td>South Dakota</td>\n",
       "      <td>0.134549</td>\n",
       "    </tr>\n",
       "    <tr>\n",
       "      <th>29</th>\n",
       "      <td>NV</td>\n",
       "      <td>1678883</td>\n",
       "      <td>216324.49</td>\n",
       "      <td>Nevada</td>\n",
       "      <td>0.128850</td>\n",
       "    </tr>\n",
       "    <tr>\n",
       "      <th>2</th>\n",
       "      <td>AZ</td>\n",
       "      <td>4080680</td>\n",
       "      <td>423962.26</td>\n",
       "      <td>Arizona</td>\n",
       "      <td>0.103895</td>\n",
       "    </tr>\n",
       "    <tr>\n",
       "      <th>39</th>\n",
       "      <td>TX</td>\n",
       "      <td>14382387</td>\n",
       "      <td>1461979.51</td>\n",
       "      <td>Texas</td>\n",
       "      <td>0.101651</td>\n",
       "    </tr>\n",
       "    <tr>\n",
       "      <th>7</th>\n",
       "      <td>FL</td>\n",
       "      <td>13505571</td>\n",
       "      <td>1275381.27</td>\n",
       "      <td>Florida</td>\n",
       "      <td>0.094434</td>\n",
       "    </tr>\n",
       "    <tr>\n",
       "      <th>24</th>\n",
       "      <td>NC</td>\n",
       "      <td>6924469</td>\n",
       "      <td>502286.69</td>\n",
       "      <td>North Carolina</td>\n",
       "      <td>0.072538</td>\n",
       "    </tr>\n",
       "    <tr>\n",
       "      <th>38</th>\n",
       "      <td>TN</td>\n",
       "      <td>4110318</td>\n",
       "      <td>273275.67</td>\n",
       "      <td>Tennessee</td>\n",
       "      <td>0.066485</td>\n",
       "    </tr>\n",
       "    <tr>\n",
       "      <th>3</th>\n",
       "      <td>CA</td>\n",
       "      <td>24486638</td>\n",
       "      <td>1499940.69</td>\n",
       "      <td>California</td>\n",
       "      <td>0.061255</td>\n",
       "    </tr>\n",
       "  </tbody>\n",
       "</table>\n",
       "</div>"
      ],
      "text/plain": [
       "   STATE    VOTERS  TRANSACTION_AMT            NAME      perc\n",
       "41    VA   5604106       9105514.11        Virginia  1.624793\n",
       "18    MD   3900090       2528864.29        Maryland  0.648412\n",
       "44    WV   1254768        620266.02   West Virginia  0.494327\n",
       "35    RI    754065        348595.49    Rhode Island  0.462288\n",
       "5     CT   2331684        549559.78     Connecticut  0.235692\n",
       "14    KS   1785834        414523.79          Kansas  0.232118\n",
       "8     GA   6657621       1521315.40         Georgia  0.228507\n",
       "10    IA   2222380        412600.38            Iowa  0.185657\n",
       "26    NH    988398        166383.00   New Hampshire  0.168336\n",
       "33    OR   2553810        397058.34          Oregon  0.155477\n",
       "1     AR   1765513        267046.98        Arkansas  0.151257\n",
       "21    MN   3473972        510874.08       Minnesota  0.147058\n",
       "37    SD    595322         80100.00    South Dakota  0.134549\n",
       "29    NV   1678883        216324.49          Nevada  0.128850\n",
       "2     AZ   4080680        423962.26         Arizona  0.103895\n",
       "39    TX  14382387       1461979.51           Texas  0.101651\n",
       "7     FL  13505571       1275381.27         Florida  0.094434\n",
       "24    NC   6924469        502286.69  North Carolina  0.072538\n",
       "38    TN   4110318        273275.67       Tennessee  0.066485\n",
       "3     CA  24486638       1499940.69      California  0.061255"
      ]
     },
     "execution_count": 136,
     "metadata": {},
     "output_type": "execute_result"
    }
   ],
   "source": [
    "t_final_res.head(20)"
   ]
  },
  {
   "cell_type": "code",
   "execution_count": 137,
   "metadata": {},
   "outputs": [],
   "source": [
    "top20_swings = set(t_final_res.head(20).NAME.tolist()).intersection(set(swing_states))"
   ]
  },
  {
   "cell_type": "markdown",
   "metadata": {},
   "source": [
    "* Percentage of swing states:"
   ]
  },
  {
   "cell_type": "code",
   "execution_count": 138,
   "metadata": {},
   "outputs": [
    {
     "data": {
      "text/plain": [
       "0.5833333333333334"
      ]
     },
     "execution_count": 138,
     "metadata": {},
     "output_type": "execute_result"
    }
   ],
   "source": [
    "len(top20_swings) / len(swing_states)"
   ]
  },
  {
   "cell_type": "markdown",
   "metadata": {},
   "source": [
    "* After data separation, it is obvious that campaings place emphasis on swing states"
   ]
  }
 ],
 "metadata": {
  "kernelspec": {
   "display_name": "Python 3",
   "language": "python",
   "name": "python3"
  },
  "language_info": {
   "codemirror_mode": {
    "name": "ipython",
    "version": 3
   },
   "file_extension": ".py",
   "mimetype": "text/x-python",
   "name": "python",
   "nbconvert_exporter": "python",
   "pygments_lexer": "ipython3",
   "version": "3.8.3"
  }
 },
 "nbformat": 4,
 "nbformat_minor": 4
}
